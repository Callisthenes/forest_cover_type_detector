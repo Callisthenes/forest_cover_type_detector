{
 "cells": [
  {
   "cell_type": "markdown",
   "metadata": {},
   "source": [
    "<img src=\"ml2_group_assignment.png\" width=\"800\"/>"
   ]
  },
  {
   "cell_type": "markdown",
   "metadata": {},
   "source": [
    "# <font color=green> Introduction </font>\n",
    "\n",
    "The assignment is focused on solving the Forest Cover Type Prediction: https://www.kaggle.com/c/forest-cover-type-prediction/overview. This task proposes a classification problem: predict the forest cover type (the predominant kind of tree cover) from strictly cartographic variables (as opposed to remotely sensed data).\n",
    "\n",
    "The study area includes four wilderness areas located in the Roosevelt National Forest of northern Colorado. Each observation is a 30m x 30m patch. You are asked to predict an integer classification for the forest cover type. The seven types are:\n",
    "\n",
    "1. Spruce/Fir\n",
    "2. Lodgepole Pine\n",
    "3. Ponderosa Pine\n",
    "4. Cottonwood/Willow\n",
    "5. Aspen\n",
    "6. Douglas-fir\n",
    "7. Krummholz\n",
    "\n",
    "The training set (15120 observations) contains both features and the Cover_Type. The test set contains only the features. \n",
    "\n",
    "**You must predict the Cover_Type for every row in the test set (565892 observations).**"
   ]
  },
  {
   "cell_type": "markdown",
   "metadata": {},
   "source": [
    "<img src=\"tree_types.png\" width=\"800\"/>"
   ]
  },
  {
   "cell_type": "markdown",
   "metadata": {},
   "source": [
    "# <font color=green> Table of contents </font>\n",
    "\n",
    "* Data Analysis\n",
    "* Exploratory Data Analysis\n",
    "* Feature Engineering & Selection\n",
    "* Compare Several Machine Learning Models\n",
    "* Perform Hyperparameter Tuning on the Best Model\n",
    "* Interpret Model Results\n",
    "* Evaluate the Best Model with Test Data (replying the initiating question)\n",
    "* Summary & Conclusions\n",
    "\n",
    "# Sections \n",
    "* [Libaries used](#0)\n",
    "* [1. Import Data](#1)\n",
    "  * [1.1.Original Data & Standardization](#1.1)\n",
    "  * [1.2.All features & Standardization](#1.2)  \n",
    "  * [1.3.Features selected & Standardization](#1.3)   \n",
    "* [2. Rerun the model on selected Features](#2)  \n",
    "  * [2.1.Correlation Heatmap](#2.1)\n",
    "      * [2.1.1 Removing correlated features](#2.1.1)\n",
    "* [3. Exploratory Data Analysis](#3)\n",
    "  * [3.1 Analysis of the Dataset using EDA](#3.1)\n",
    "  * [3.2 D'Agostino and Pearson's Test](#3.2)  \n",
    "  * [3.3 Checking Variable Completeness ](#3.3)\n",
    "  * [3.4 Correlation Matrix ](#3.4)  \n",
    "  * [3.5 Paired density, scatterplot matrix and 3D Graphics ](#3.5)   \n",
    "  * [3.6 Categorial EDA ](#3.6) \n",
    "      * [3.6.1 Categorial Bar Diagrams](#3.6.1)  \n",
    "      * [3.6.2.Violinplot with Dependent Variable](#3.6.2)  \n",
    "      * [3.6.3.Treemap for categorial Data](#3.6.3) \n",
    "* [4. Baseline Model](#4)\n",
    "  * [4.0 Prepare Data and Standardization](#4.0)\n",
    "  * [4.1 Random Forest](#4.1) \n",
    "  * [4.2 Gradient Boosting](#4.2)  \n",
    "  * [4.3 Decision Trees](#4.3)\n",
    "  * [4.4 K-Nearest Neighbors (KNN)](#4.4)  \n",
    "  * [4.5 Logistic Regression](#4.5) \n",
    "  * [4.6 Naive Bayes](#4.6) \n"
   ]
  },
  {
   "cell_type": "markdown",
   "metadata": {},
   "source": [
    "<img src=\"roosevelt-national-forest.jpeg\" width=1200 height=800 align=\"center\">"
   ]
  },
  {
   "cell_type": "markdown",
   "metadata": {},
   "source": [
    "<a id='0'></a>\n",
    "# <font color=green> Libraries used </font>"
   ]
  },
  {
   "cell_type": "code",
   "execution_count": 1,
   "metadata": {},
   "outputs": [
    {
     "name": "stdout",
     "output_type": "stream",
     "text": [
      "Requirement already satisfied: squarify in /opt/anaconda3/lib/python3.9/site-packages (0.4.3)\r\n"
     ]
    }
   ],
   "source": [
    "!pip install squarify"
   ]
  },
  {
   "cell_type": "code",
   "execution_count": 2,
   "metadata": {},
   "outputs": [
    {
     "data": {
      "text/html": [
       "        <script type=\"text/javascript\">\n",
       "        window.PlotlyConfig = {MathJaxConfig: 'local'};\n",
       "        if (window.MathJax) {MathJax.Hub.Config({SVG: {font: \"STIX-Web\"}});}\n",
       "        if (typeof require !== 'undefined') {\n",
       "        require.undef(\"plotly\");\n",
       "        requirejs.config({\n",
       "            paths: {\n",
       "                'plotly': ['https://cdn.plot.ly/plotly-2.9.0.min']\n",
       "            }\n",
       "        });\n",
       "        require(['plotly'], function(Plotly) {\n",
       "            window._Plotly = Plotly;\n",
       "        });\n",
       "        }\n",
       "        </script>\n",
       "        "
      ]
     },
     "metadata": {},
     "output_type": "display_data"
    }
   ],
   "source": [
    "import pandas as pd\n",
    "import numpy as np\n",
    "import seaborn as sns  # Graphing\n",
    "import matplotlib.pyplot as plt\n",
    "import squarify #treemap\n",
    "from sklearn.metrics import accuracy_score, confusion_matrix, classification_report,plot_confusion_matrix\n",
    "from sklearn.model_selection import cross_val_score\n",
    "from sklearn.model_selection import train_test_split\n",
    "#from yellowbrick.classifier import ROCAUC\n",
    "import warnings\n",
    "from sklearn.ensemble import RandomForestClassifier\n",
    "from sklearn.ensemble import VotingClassifier \n",
    "from sklearn.tree import DecisionTreeClassifier\n",
    "warnings.simplefilter(action='ignore', category=FutureWarning)\n",
    "from sklearn.metrics import confusion_matrix\n",
    "from sklearn.metrics import accuracy_score\n",
    "from sklearn.metrics import f1_score\n",
    "from sklearn.model_selection import GridSearchCV\n",
    "from yellowbrick.classifier import ROCAUC\n",
    "from sklearn.linear_model import LogisticRegression\n",
    "from sklearn.svm import SVC\n",
    "from sklearn.metrics import classification_report\n",
    "\n",
    "import numpy as np # linear algebra\n",
    "import pandas as pd # data processing, CSV file I/O (e.g. pd.read_csv)\n",
    "\n",
    "import plotly.offline as py\n",
    "py.init_notebook_mode(connected=True)\n",
    "import plotly.graph_objs as go\n",
    "import plotly.tools as tls\n",
    "import seaborn as sns\n",
    "import matplotlib.image as mpimg\n",
    "import matplotlib.pyplot as plt\n",
    "import matplotlib\n",
    "%matplotlib inline\n",
    "from sklearn import metrics\n",
    "\n",
    "\n",
    "# Import the 3 dimensionality reduction methods\n",
    "from sklearn.manifold import TSNE\n",
    "from sklearn.decomposition import PCA\n",
    "from sklearn.discriminant_analysis import LinearDiscriminantAnalysis as LDA\n",
    "import matplotlib.pyplot as plt\n",
    "from sklearn.model_selection import train_test_split, learning_curve, ShuffleSplit\n",
    "from sklearn.ensemble import RandomForestClassifier,ExtraTreesClassifier, GradientBoostingClassifier"
   ]
  },
  {
   "cell_type": "markdown",
   "metadata": {},
   "source": [
    "<a id='1'></a>\n",
    "#  <font color=darkgreen>1.Import the Data </font>\n",
    "<a id='1.1'></a>\n",
    "###  <font color=green>1.1. Original Data </font>\n",
    "Let’s load the previous data and results from previous notebook 2"
   ]
  },
  {
   "cell_type": "code",
   "execution_count": 3,
   "metadata": {},
   "outputs": [],
   "source": [
    "data_train = pd.read_csv(\"train.csv\")"
   ]
  },
  {
   "cell_type": "markdown",
   "metadata": {},
   "source": [
    "Let's keep the original dataset for later comparisons and make a copy for the FE process"
   ]
  },
  {
   "cell_type": "code",
   "execution_count": 4,
   "metadata": {},
   "outputs": [],
   "source": [
    "df_original = data_train.copy()"
   ]
  },
  {
   "cell_type": "code",
   "execution_count": 5,
   "metadata": {},
   "outputs": [
    {
     "data": {
      "text/html": [
       "<div>\n",
       "<style scoped>\n",
       "    .dataframe tbody tr th:only-of-type {\n",
       "        vertical-align: middle;\n",
       "    }\n",
       "\n",
       "    .dataframe tbody tr th {\n",
       "        vertical-align: top;\n",
       "    }\n",
       "\n",
       "    .dataframe thead th {\n",
       "        text-align: right;\n",
       "    }\n",
       "</style>\n",
       "<table border=\"1\" class=\"dataframe\">\n",
       "  <thead>\n",
       "    <tr style=\"text-align: right;\">\n",
       "      <th></th>\n",
       "      <th>Id</th>\n",
       "      <th>Elevation</th>\n",
       "      <th>Aspect</th>\n",
       "      <th>Slope</th>\n",
       "      <th>Horizontal_Distance_To_Hydrology</th>\n",
       "      <th>Vertical_Distance_To_Hydrology</th>\n",
       "      <th>Horizontal_Distance_To_Roadways</th>\n",
       "      <th>Hillshade_9am</th>\n",
       "      <th>Hillshade_Noon</th>\n",
       "      <th>Hillshade_3pm</th>\n",
       "      <th>...</th>\n",
       "      <th>Soil_Type32</th>\n",
       "      <th>Soil_Type33</th>\n",
       "      <th>Soil_Type34</th>\n",
       "      <th>Soil_Type35</th>\n",
       "      <th>Soil_Type36</th>\n",
       "      <th>Soil_Type37</th>\n",
       "      <th>Soil_Type38</th>\n",
       "      <th>Soil_Type39</th>\n",
       "      <th>Soil_Type40</th>\n",
       "      <th>Cover_Type</th>\n",
       "    </tr>\n",
       "  </thead>\n",
       "  <tbody>\n",
       "    <tr>\n",
       "      <th>15115</th>\n",
       "      <td>15116</td>\n",
       "      <td>2607</td>\n",
       "      <td>243</td>\n",
       "      <td>23</td>\n",
       "      <td>258</td>\n",
       "      <td>7</td>\n",
       "      <td>660</td>\n",
       "      <td>170</td>\n",
       "      <td>251</td>\n",
       "      <td>214</td>\n",
       "      <td>...</td>\n",
       "      <td>0</td>\n",
       "      <td>0</td>\n",
       "      <td>0</td>\n",
       "      <td>0</td>\n",
       "      <td>0</td>\n",
       "      <td>0</td>\n",
       "      <td>0</td>\n",
       "      <td>0</td>\n",
       "      <td>0</td>\n",
       "      <td>3</td>\n",
       "    </tr>\n",
       "    <tr>\n",
       "      <th>15116</th>\n",
       "      <td>15117</td>\n",
       "      <td>2603</td>\n",
       "      <td>121</td>\n",
       "      <td>19</td>\n",
       "      <td>633</td>\n",
       "      <td>195</td>\n",
       "      <td>618</td>\n",
       "      <td>249</td>\n",
       "      <td>221</td>\n",
       "      <td>91</td>\n",
       "      <td>...</td>\n",
       "      <td>0</td>\n",
       "      <td>0</td>\n",
       "      <td>0</td>\n",
       "      <td>0</td>\n",
       "      <td>0</td>\n",
       "      <td>0</td>\n",
       "      <td>0</td>\n",
       "      <td>0</td>\n",
       "      <td>0</td>\n",
       "      <td>3</td>\n",
       "    </tr>\n",
       "    <tr>\n",
       "      <th>15117</th>\n",
       "      <td>15118</td>\n",
       "      <td>2492</td>\n",
       "      <td>134</td>\n",
       "      <td>25</td>\n",
       "      <td>365</td>\n",
       "      <td>117</td>\n",
       "      <td>335</td>\n",
       "      <td>250</td>\n",
       "      <td>220</td>\n",
       "      <td>83</td>\n",
       "      <td>...</td>\n",
       "      <td>0</td>\n",
       "      <td>0</td>\n",
       "      <td>0</td>\n",
       "      <td>0</td>\n",
       "      <td>0</td>\n",
       "      <td>0</td>\n",
       "      <td>0</td>\n",
       "      <td>0</td>\n",
       "      <td>0</td>\n",
       "      <td>3</td>\n",
       "    </tr>\n",
       "    <tr>\n",
       "      <th>15118</th>\n",
       "      <td>15119</td>\n",
       "      <td>2487</td>\n",
       "      <td>167</td>\n",
       "      <td>28</td>\n",
       "      <td>218</td>\n",
       "      <td>101</td>\n",
       "      <td>242</td>\n",
       "      <td>229</td>\n",
       "      <td>237</td>\n",
       "      <td>119</td>\n",
       "      <td>...</td>\n",
       "      <td>0</td>\n",
       "      <td>0</td>\n",
       "      <td>0</td>\n",
       "      <td>0</td>\n",
       "      <td>0</td>\n",
       "      <td>0</td>\n",
       "      <td>0</td>\n",
       "      <td>0</td>\n",
       "      <td>0</td>\n",
       "      <td>3</td>\n",
       "    </tr>\n",
       "    <tr>\n",
       "      <th>15119</th>\n",
       "      <td>15120</td>\n",
       "      <td>2475</td>\n",
       "      <td>197</td>\n",
       "      <td>34</td>\n",
       "      <td>319</td>\n",
       "      <td>78</td>\n",
       "      <td>270</td>\n",
       "      <td>189</td>\n",
       "      <td>244</td>\n",
       "      <td>164</td>\n",
       "      <td>...</td>\n",
       "      <td>0</td>\n",
       "      <td>0</td>\n",
       "      <td>0</td>\n",
       "      <td>0</td>\n",
       "      <td>0</td>\n",
       "      <td>0</td>\n",
       "      <td>0</td>\n",
       "      <td>0</td>\n",
       "      <td>0</td>\n",
       "      <td>3</td>\n",
       "    </tr>\n",
       "  </tbody>\n",
       "</table>\n",
       "<p>5 rows × 56 columns</p>\n",
       "</div>"
      ],
      "text/plain": [
       "          Id  Elevation  Aspect  Slope  Horizontal_Distance_To_Hydrology  \\\n",
       "15115  15116       2607     243     23                               258   \n",
       "15116  15117       2603     121     19                               633   \n",
       "15117  15118       2492     134     25                               365   \n",
       "15118  15119       2487     167     28                               218   \n",
       "15119  15120       2475     197     34                               319   \n",
       "\n",
       "       Vertical_Distance_To_Hydrology  Horizontal_Distance_To_Roadways  \\\n",
       "15115                               7                              660   \n",
       "15116                             195                              618   \n",
       "15117                             117                              335   \n",
       "15118                             101                              242   \n",
       "15119                              78                              270   \n",
       "\n",
       "       Hillshade_9am  Hillshade_Noon  Hillshade_3pm  ...  Soil_Type32  \\\n",
       "15115            170             251            214  ...            0   \n",
       "15116            249             221             91  ...            0   \n",
       "15117            250             220             83  ...            0   \n",
       "15118            229             237            119  ...            0   \n",
       "15119            189             244            164  ...            0   \n",
       "\n",
       "       Soil_Type33  Soil_Type34  Soil_Type35  Soil_Type36  Soil_Type37  \\\n",
       "15115            0            0            0            0            0   \n",
       "15116            0            0            0            0            0   \n",
       "15117            0            0            0            0            0   \n",
       "15118            0            0            0            0            0   \n",
       "15119            0            0            0            0            0   \n",
       "\n",
       "       Soil_Type38  Soil_Type39  Soil_Type40  Cover_Type  \n",
       "15115            0            0            0           3  \n",
       "15116            0            0            0           3  \n",
       "15117            0            0            0           3  \n",
       "15118            0            0            0           3  \n",
       "15119            0            0            0           3  \n",
       "\n",
       "[5 rows x 56 columns]"
      ]
     },
     "execution_count": 5,
     "metadata": {},
     "output_type": "execute_result"
    }
   ],
   "source": [
    "data_train.tail()"
   ]
  },
  {
   "cell_type": "code",
   "execution_count": 6,
   "metadata": {},
   "outputs": [],
   "source": [
    "data_test = pd.read_csv(\"test.csv\")\n",
    "pd.set_option('display.max_columns', None)"
   ]
  },
  {
   "cell_type": "code",
   "execution_count": 7,
   "metadata": {},
   "outputs": [
    {
     "data": {
      "text/plain": [
       "(565892, 55)"
      ]
     },
     "execution_count": 7,
     "metadata": {},
     "output_type": "execute_result"
    }
   ],
   "source": [
    "data_test.shape"
   ]
  },
  {
   "cell_type": "code",
   "execution_count": 8,
   "metadata": {},
   "outputs": [],
   "source": [
    "column_list = data_train.columns\n",
    "num  = [column for column in column_list if 'Soil' not in column and 'Wilderness_Area' not in  column and 'Aspect_North' not in  column and 'Climate' not in  column and 'Family' not in  column and 'Type' not in  column and 'complex' not in  column and 'Aspect_East' not in  column and 'Aspect_South' not in  column and 'Aspect_West' not in  column ]\n",
    "cat= [column for column in column_list if column not in num]"
   ]
  },
  {
   "cell_type": "code",
   "execution_count": 9,
   "metadata": {},
   "outputs": [],
   "source": [
    "from sklearn.compose import make_column_transformer\n",
    "#from sklearn.preprocessing import MinMaxScaler\n",
    "#scaler = MinMaxScaler()\n",
    "from sklearn.preprocessing import StandardScaler\n",
    "scaler = StandardScaler()"
   ]
  },
  {
   "cell_type": "raw",
   "metadata": {},
   "source": [
    "X = data_train.drop(['Cover_Type'], axis=1)\n",
    "y = data_train['Cover_Type']\n",
    "column_list = X.columns\n",
    "\n",
    "X_train, X_val, y_train, y_val = train_test_split(X, y, test_size=0.20, random_state=37,stratify=y)\n",
    "print(\"The shape of validation data:{} and {} \".format(X_val.shape,y_val.shape))\n",
    "print(\"The shape of training data:{} and {} \".format(X_train.shape,y_train.shape))"
   ]
  },
  {
   "cell_type": "markdown",
   "metadata": {},
   "source": [
    "<a id='1.2'></a>\n",
    "## <font color=green> 1.2.All features & Standardization  <font>\n",
    " \n",
    "Due to excel import, it transforms a new column unnamed"
   ]
  },
  {
   "cell_type": "raw",
   "metadata": {},
   "source": [
    "import pandas as pd\n",
    "all_feat_df = pd.read_csv(\"all_features_data_train.csv\")\n",
    "all_feat_df = all_feat_df[all_feat_df.columns.drop(list(all_feat_df.filter(regex='Unnamed:')))]\n",
    "pd.set_option('display.max_columns', None)\n",
    "all_feat_df.head()"
   ]
  },
  {
   "cell_type": "raw",
   "metadata": {},
   "source": [
    "all_feat_df.shape"
   ]
  },
  {
   "cell_type": "markdown",
   "metadata": {},
   "source": [
    "From 55 features, we engineered a total of 165 additional ones"
   ]
  },
  {
   "cell_type": "markdown",
   "metadata": {},
   "source": [
    "For scaling we need to exclude the dummy variables "
   ]
  },
  {
   "cell_type": "raw",
   "metadata": {},
   "source": [
    "column_list = all_feat_df.columns\n",
    "numerical  = [column for column in column_list if 'Soil' not in column and 'Wilderness_Area' not in  column and 'Aspect_North' not in  column and 'Climate' not in  column and 'Family' not in  column and 'Type' not in  column and 'complex' not in  column and 'Aspect_East' not in  column and 'Aspect_South' not in  column and 'Aspect_West' not in  column ]\n",
    "categorial= [column for column in column_list if column not in numerical]"
   ]
  },
  {
   "cell_type": "raw",
   "metadata": {},
   "source": [
    "X_all = all_feat_df.drop(['Cover_Type'], axis=1)\n",
    "y_all = all_feat_df['Cover_Type']\n",
    "column_list = X_all.columns\n",
    "\n",
    "X_train_all, X_val_all, y_train_all, y_val_all = train_test_split(X_all, y_all, test_size=0.20, random_state=37,stratify=y_all)\n",
    "print(\"The shape of validation data:{} and {} \".format(X_val_all.shape,y_val_all.shape))\n",
    "print(\"The shape of training data:{} and {} \".format(X_train_all.shape,y_train_all.shape))"
   ]
  },
  {
   "cell_type": "markdown",
   "metadata": {},
   "source": [
    "<a id='1.3'></a>\n",
    "##  <font color=orange>1.3. Selected Model after feature selection & Standardization </font>\n"
   ]
  },
  {
   "cell_type": "markdown",
   "metadata": {},
   "source": [
    "Selected features from the feature selection are transferred to cvs and used for further analysis. "
   ]
  },
  {
   "cell_type": "code",
   "execution_count": 10,
   "metadata": {},
   "outputs": [],
   "source": [
    "import pandas as pd\n",
    "X_selected1 = pd.read_csv(\"X_selected.csv\")\n",
    "y_selected1 = pd.read_csv(\"y_selected.csv\")"
   ]
  },
  {
   "cell_type": "code",
   "execution_count": 11,
   "metadata": {},
   "outputs": [],
   "source": [
    "X_selected1 = X_selected1[X_selected1.columns.drop(list(X_selected1.filter(regex='Unnamed:')))]\n",
    "y_selected1 = y_selected1[y_selected1.columns.drop(list(y_selected1.filter(regex='Unnamed:')))]"
   ]
  },
  {
   "cell_type": "code",
   "execution_count": 12,
   "metadata": {},
   "outputs": [
    {
     "name": "stdout",
     "output_type": "stream",
     "text": [
      "(15120, 21)\n",
      "(15120, 1)\n"
     ]
    }
   ],
   "source": [
    "print(X_selected1.shape)\n",
    "print(y_selected1.shape)\n",
    "\n",
    "if X_selected1.shape[0] != y_selected1.shape[0]:\n",
    "  print(\"X and y rows are mismatched, check dataset again\")"
   ]
  },
  {
   "cell_type": "markdown",
   "metadata": {},
   "source": [
    "We need to filter out the dummy variables for the normalization "
   ]
  },
  {
   "cell_type": "code",
   "execution_count": 13,
   "metadata": {},
   "outputs": [],
   "source": [
    "column_list = X_selected1.columns\n",
    "scale_numerical  = [column for column in column_list if 'Soil' not in column and 'Wilderness_Area' not in  column and 'Aspect_North' not in  column and 'Climate' not in  column and 'Family' not in  column and 'Type' not in  column and 'complex' not in  column and 'Aspect_East' not in  column and 'Aspect_South' not in  column and 'Aspect_West' not in  column ]\n",
    "scale_categorial= [column for column in column_list if column not in scale_numerical ]"
   ]
  },
  {
   "cell_type": "code",
   "execution_count": 14,
   "metadata": {},
   "outputs": [],
   "source": [
    "from sklearn.compose import make_column_transformer\n",
    "#from sklearn.preprocessing import MinMaxScaler\n",
    "#scaler = MinMaxScaler()\n",
    "from sklearn.preprocessing import StandardScaler\n",
    "scaler = StandardScaler()"
   ]
  },
  {
   "cell_type": "markdown",
   "metadata": {},
   "source": [
    "Splitting the data into train and validation test "
   ]
  },
  {
   "cell_type": "code",
   "execution_count": 15,
   "metadata": {},
   "outputs": [
    {
     "name": "stdout",
     "output_type": "stream",
     "text": [
      "The shape of validation data:(3024, 21) and (3024, 1) \n",
      "The shape of training data:(12096, 21) and (12096, 1) \n"
     ]
    }
   ],
   "source": [
    "column_list = X_selected1.columns\n",
    "\n",
    "X_train_new, X_val_new, y_train_new, y_val_new = train_test_split(X_selected1, y_selected1, test_size=0.20, random_state=42,stratify=y_selected1)\n",
    "print(\"The shape of validation data:{} and {} \".format(X_val_new.shape,y_val_new.shape))\n",
    "print(\"The shape of training data:{} and {} \".format(X_train_new.shape,y_train_new.shape))"
   ]
  },
  {
   "cell_type": "markdown",
   "metadata": {},
   "source": [
    "## <font color=red> Delete Trial after testing  <font>"
   ]
  },
  {
   "cell_type": "code",
   "execution_count": 16,
   "metadata": {},
   "outputs": [],
   "source": [
    "X_train_new[scale_numerical] = scaler.fit_transform(X_train_new[scale_numerical])\n",
    "X_val_new[scale_numerical] = scaler.fit_transform(X_val_new[scale_numerical])"
   ]
  },
  {
   "cell_type": "code",
   "execution_count": 17,
   "metadata": {},
   "outputs": [],
   "source": [
    "y_train_new = y_train_new.values.ravel()\n",
    "y_val_new = y_val_new.values.ravel()"
   ]
  },
  {
   "cell_type": "code",
   "execution_count": 18,
   "metadata": {},
   "outputs": [
    {
     "data": {
      "text/html": [
       "<div>\n",
       "<style scoped>\n",
       "    .dataframe tbody tr th:only-of-type {\n",
       "        vertical-align: middle;\n",
       "    }\n",
       "\n",
       "    .dataframe tbody tr th {\n",
       "        vertical-align: top;\n",
       "    }\n",
       "\n",
       "    .dataframe thead th {\n",
       "        text-align: right;\n",
       "    }\n",
       "</style>\n",
       "<table border=\"1\" class=\"dataframe\">\n",
       "  <thead>\n",
       "    <tr style=\"text-align: right;\">\n",
       "      <th></th>\n",
       "      <th>Wilderness_Area4</th>\n",
       "      <th>Subalpine_Climate</th>\n",
       "      <th>binned_elevation</th>\n",
       "      <th>Wilderness_Area3</th>\n",
       "      <th>Wilderness_Area1</th>\n",
       "      <th>Montane_Climate</th>\n",
       "      <th>Lower_Montane_Climate</th>\n",
       "      <th>Elevation_x_Horizontal_Distance_To_Roadways</th>\n",
       "      <th>Elevation_x_Hillshade_Noon</th>\n",
       "      <th>Alpine_Climate</th>\n",
       "      <th>Type_Rubbly</th>\n",
       "      <th>Sqr_Horizontal_Distance_To_Roadways</th>\n",
       "      <th>Road-Hydro</th>\n",
       "      <th>Road-Fire</th>\n",
       "      <th>Horizontal_Distance_To_Roadways_x_Horizontal_Distance_To_Fire_Points</th>\n",
       "      <th>Horizontal_Distance_To_Roadways^2</th>\n",
       "      <th>Elevation_x_Horizontal_Distance_To_Hydrology</th>\n",
       "      <th>Elevation_x_Hillshade_9am</th>\n",
       "      <th>Ele-hydro</th>\n",
       "      <th>Ele+road</th>\n",
       "      <th>Ele+hydro</th>\n",
       "    </tr>\n",
       "  </thead>\n",
       "  <tbody>\n",
       "    <tr>\n",
       "      <th>14128</th>\n",
       "      <td>0</td>\n",
       "      <td>0</td>\n",
       "      <td>0.417240</td>\n",
       "      <td>1</td>\n",
       "      <td>0</td>\n",
       "      <td>1</td>\n",
       "      <td>0</td>\n",
       "      <td>0.142972</td>\n",
       "      <td>0.528666</td>\n",
       "      <td>0</td>\n",
       "      <td>1</td>\n",
       "      <td>0.351539</td>\n",
       "      <td>0.042565</td>\n",
       "      <td>0.212880</td>\n",
       "      <td>-0.355958</td>\n",
       "      <td>-0.140185</td>\n",
       "      <td>0.658113</td>\n",
       "      <td>1.004978</td>\n",
       "      <td>0.111500</td>\n",
       "      <td>0.250449</td>\n",
       "      <td>0.633135</td>\n",
       "    </tr>\n",
       "    <tr>\n",
       "      <th>4425</th>\n",
       "      <td>0</td>\n",
       "      <td>1</td>\n",
       "      <td>0.297695</td>\n",
       "      <td>1</td>\n",
       "      <td>0</td>\n",
       "      <td>0</td>\n",
       "      <td>0</td>\n",
       "      <td>-0.058976</td>\n",
       "      <td>0.629495</td>\n",
       "      <td>0</td>\n",
       "      <td>0</td>\n",
       "      <td>0.152898</td>\n",
       "      <td>0.064245</td>\n",
       "      <td>-0.771282</td>\n",
       "      <td>-0.183207</td>\n",
       "      <td>-0.272236</td>\n",
       "      <td>-0.590804</td>\n",
       "      <td>-0.192954</td>\n",
       "      <td>0.667097</td>\n",
       "      <td>0.043864</td>\n",
       "      <td>-0.032767</td>\n",
       "    </tr>\n",
       "    <tr>\n",
       "      <th>909</th>\n",
       "      <td>0</td>\n",
       "      <td>1</td>\n",
       "      <td>0.417240</td>\n",
       "      <td>0</td>\n",
       "      <td>1</td>\n",
       "      <td>0</td>\n",
       "      <td>0</td>\n",
       "      <td>2.249098</td>\n",
       "      <td>0.794554</td>\n",
       "      <td>0</td>\n",
       "      <td>0</td>\n",
       "      <td>2.135379</td>\n",
       "      <td>2.603135</td>\n",
       "      <td>2.715176</td>\n",
       "      <td>1.160432</td>\n",
       "      <td>2.994824</td>\n",
       "      <td>-0.039622</td>\n",
       "      <td>0.087140</td>\n",
       "      <td>0.492332</td>\n",
       "      <td>2.205827</td>\n",
       "      <td>0.310386</td>\n",
       "    </tr>\n",
       "    <tr>\n",
       "      <th>5123</th>\n",
       "      <td>0</td>\n",
       "      <td>0</td>\n",
       "      <td>0.178151</td>\n",
       "      <td>1</td>\n",
       "      <td>0</td>\n",
       "      <td>1</td>\n",
       "      <td>0</td>\n",
       "      <td>0.304061</td>\n",
       "      <td>0.476117</td>\n",
       "      <td>0</td>\n",
       "      <td>1</td>\n",
       "      <td>0.585066</td>\n",
       "      <td>0.493975</td>\n",
       "      <td>0.193889</td>\n",
       "      <td>-0.136072</td>\n",
       "      <td>0.054393</td>\n",
       "      <td>-0.471462</td>\n",
       "      <td>0.782187</td>\n",
       "      <td>0.479290</td>\n",
       "      <td>0.382763</td>\n",
       "      <td>-0.055025</td>\n",
       "    </tr>\n",
       "    <tr>\n",
       "      <th>10901</th>\n",
       "      <td>0</td>\n",
       "      <td>0</td>\n",
       "      <td>-0.419572</td>\n",
       "      <td>1</td>\n",
       "      <td>0</td>\n",
       "      <td>1</td>\n",
       "      <td>0</td>\n",
       "      <td>0.019453</td>\n",
       "      <td>-0.343713</td>\n",
       "      <td>0</td>\n",
       "      <td>1</td>\n",
       "      <td>0.408937</td>\n",
       "      <td>0.370863</td>\n",
       "      <td>0.649665</td>\n",
       "      <td>-0.473838</td>\n",
       "      <td>-0.096535</td>\n",
       "      <td>-0.858030</td>\n",
       "      <td>-0.863736</td>\n",
       "      <td>0.014988</td>\n",
       "      <td>0.060091</td>\n",
       "      <td>-0.719072</td>\n",
       "    </tr>\n",
       "  </tbody>\n",
       "</table>\n",
       "</div>"
      ],
      "text/plain": [
       "       Wilderness_Area4  Subalpine_Climate  binned_elevation  \\\n",
       "14128                 0                  0          0.417240   \n",
       "4425                  0                  1          0.297695   \n",
       "909                   0                  1          0.417240   \n",
       "5123                  0                  0          0.178151   \n",
       "10901                 0                  0         -0.419572   \n",
       "\n",
       "       Wilderness_Area3  Wilderness_Area1  Montane_Climate  \\\n",
       "14128                 1                 0                1   \n",
       "4425                  1                 0                0   \n",
       "909                   0                 1                0   \n",
       "5123                  1                 0                1   \n",
       "10901                 1                 0                1   \n",
       "\n",
       "       Lower_Montane_Climate  Elevation_x_Horizontal_Distance_To_Roadways  \\\n",
       "14128                      0                                     0.142972   \n",
       "4425                       0                                    -0.058976   \n",
       "909                        0                                     2.249098   \n",
       "5123                       0                                     0.304061   \n",
       "10901                      0                                     0.019453   \n",
       "\n",
       "       Elevation_x_Hillshade_Noon  Alpine_Climate  Type_Rubbly  \\\n",
       "14128                    0.528666               0            1   \n",
       "4425                     0.629495               0            0   \n",
       "909                      0.794554               0            0   \n",
       "5123                     0.476117               0            1   \n",
       "10901                   -0.343713               0            1   \n",
       "\n",
       "       Sqr_Horizontal_Distance_To_Roadways  Road-Hydro  Road-Fire  \\\n",
       "14128                             0.351539    0.042565   0.212880   \n",
       "4425                              0.152898    0.064245  -0.771282   \n",
       "909                               2.135379    2.603135   2.715176   \n",
       "5123                              0.585066    0.493975   0.193889   \n",
       "10901                             0.408937    0.370863   0.649665   \n",
       "\n",
       "       Horizontal_Distance_To_Roadways_x_Horizontal_Distance_To_Fire_Points  \\\n",
       "14128                                          -0.355958                      \n",
       "4425                                           -0.183207                      \n",
       "909                                             1.160432                      \n",
       "5123                                           -0.136072                      \n",
       "10901                                          -0.473838                      \n",
       "\n",
       "       Horizontal_Distance_To_Roadways^2  \\\n",
       "14128                          -0.140185   \n",
       "4425                           -0.272236   \n",
       "909                             2.994824   \n",
       "5123                            0.054393   \n",
       "10901                          -0.096535   \n",
       "\n",
       "       Elevation_x_Horizontal_Distance_To_Hydrology  \\\n",
       "14128                                      0.658113   \n",
       "4425                                      -0.590804   \n",
       "909                                       -0.039622   \n",
       "5123                                      -0.471462   \n",
       "10901                                     -0.858030   \n",
       "\n",
       "       Elevation_x_Hillshade_9am  Ele-hydro  Ele+road  Ele+hydro  \n",
       "14128                   1.004978   0.111500  0.250449   0.633135  \n",
       "4425                   -0.192954   0.667097  0.043864  -0.032767  \n",
       "909                     0.087140   0.492332  2.205827   0.310386  \n",
       "5123                    0.782187   0.479290  0.382763  -0.055025  \n",
       "10901                  -0.863736   0.014988  0.060091  -0.719072  "
      ]
     },
     "execution_count": 18,
     "metadata": {},
     "output_type": "execute_result"
    }
   ],
   "source": [
    "X_train_new.head()"
   ]
  },
  {
   "cell_type": "code",
   "execution_count": 19,
   "metadata": {},
   "outputs": [],
   "source": [
    "#test a different dataframe\n",
    "X_trial = pd.read_csv(\"X_trial.csv\")\n",
    "y_trial = pd.read_csv(\"y_trial.csv\")"
   ]
  },
  {
   "cell_type": "code",
   "execution_count": 20,
   "metadata": {},
   "outputs": [],
   "source": [
    "column_list = X_trial.columns\n",
    "scale_numerical  = [column for column in column_list if 'Soil' not in column and 'Wilderness_Area' not in  column and 'Aspect_North' not in  column and 'Climate' not in  column and 'Family' not in  column and 'Type' not in  column and 'complex' not in  column and 'Aspect_East' not in  column and 'Aspect_South' not in  column and 'Aspect_West' not in  column ]\n",
    "scale_categorial= [column for column in column_list if column not in scale_numerical ]"
   ]
  },
  {
   "cell_type": "code",
   "execution_count": 21,
   "metadata": {},
   "outputs": [],
   "source": [
    "X_trial = X_trial[X_trial.columns.drop(list(X_trial.filter(regex='Unnamed:')))]\n",
    "y_trial = y_trial[y_trial.columns.drop(list(y_trial.filter(regex='Unnamed:')))]"
   ]
  },
  {
   "cell_type": "code",
   "execution_count": 22,
   "metadata": {},
   "outputs": [
    {
     "name": "stdout",
     "output_type": "stream",
     "text": [
      "The shape of validation data:(15120, 16) and (3024,) \n",
      "The shape of training data:(12096, 21) and (12096,) \n"
     ]
    }
   ],
   "source": [
    "\n",
    "X_train_newt, X_val_newt, y_train_newt, y_val_newt = train_test_split(X_trial, y_trial, test_size=0.20, random_state=42,stratify=y_selected1)\n",
    "print(\"The shape of validation data:{} and {} \".format(X_trial.shape,y_val_new.shape))\n",
    "print(\"The shape of training data:{} and {} \".format(X_train_new.shape,y_train_new.shape))"
   ]
  },
  {
   "cell_type": "code",
   "execution_count": null,
   "metadata": {},
   "outputs": [],
   "source": []
  },
  {
   "cell_type": "markdown",
   "metadata": {},
   "source": [
    "Running the correlation matrix, many of these features are correlated. I create another dataframe for only relevant features"
   ]
  },
  {
   "cell_type": "raw",
   "metadata": {},
   "source": [
    "X_train_new_10 = X_train_new[[\"Wilderness_Area1\",\"Subalpine_Climate\",\"Wilderness_Area3\",\"Family_Moran\",\"Elevation\", \"Soil_Type3\", \"Soil_Type12\", \"Rock_outcrop_complex\", \"Lower_Montane_Climate\", 'Family_Catamount']]"
   ]
  },
  {
   "cell_type": "markdown",
   "metadata": {},
   "source": [
    "I create a subsplit with a dataframe containing only these features instead, based on the split made above"
   ]
  },
  {
   "cell_type": "raw",
   "metadata": {},
   "source": [
    "X_train_new_10"
   ]
  },
  {
   "cell_type": "markdown",
   "metadata": {},
   "source": [
    "<a id='2'></a>\n",
    "# <font color=darkgreen> 2.Re-run models with the new selected features  <font>\n",
    "Some classes such as SDG classifier , Random Forest classifier and naive Bayes classifier can handle mutliple classes naively. Others like logistic regression or Support Vector Machine classifier are stricly binary classifier. However there are various strategies to perform multiclass classification with multiple binary classifiers. "
   ]
  },
  {
   "cell_type": "code",
   "execution_count": 23,
   "metadata": {},
   "outputs": [],
   "source": [
    "# Create a dataFrame to compare performance of Classifier Models in the End\n",
    "classifiers_compare = pd.DataFrame(columns =['Algorithm','Mean CV Score'])"
   ]
  },
  {
   "cell_type": "markdown",
   "metadata": {},
   "source": [
    "<a id='2.1'></a>\n",
    "## <font color=green> 2.Correlation Heatmap  <font>\n",
    "Checking Correlation among features"
   ]
  },
  {
   "cell_type": "code",
   "execution_count": 24,
   "metadata": {
    "scrolled": false
   },
   "outputs": [
    {
     "data": {
      "image/png": "[encoded data removed]",
      "text/plain": [
       "<Figure size 3600x1440 with 2 Axes>"
      ]
     },
     "metadata": {
      "needs_background": "light"
     },
     "output_type": "display_data"
    }
   ],
   "source": [
    "#Heatmap - Checking for autocorrelation among variables \n",
    "matrix = X_selected1.corr()\n",
    "mask = np.zeros_like(matrix)\n",
    "mask[np.triu_indices_from(mask)] = True\n",
    "fig, ax = plt.subplots(figsize=(50,20))\n",
    "heatmap = sns.heatmap(matrix, center=0, fmt=\".3f\", square=True, annot=True, linewidth=1.3, mask = mask,vmax=0.9);\n",
    "plt.show()"
   ]
  },
  {
   "cell_type": "markdown",
   "metadata": {},
   "source": [
    "<a id='2.1.1'></a>\n",
    "## <font color=green> 2.Removing autocorrelation <font>"
   ]
  },
  {
   "cell_type": "markdown",
   "metadata": {},
   "source": [
    "Some of these features are heavily correlated one another, before running the models like Logistic Regression, where mutlicorrelaty is an issue, we should ensure, only relevant features are considered, taking a threshold of 0.7 these are:\n",
    "\n",
    "- Wilderness Area 1 \n",
    "- Subalpine Climate (synthetic)\n",
    "- Wilderness Area 3\n",
    "- Elevation\n",
    "- Family Moran (synthetic)\n",
    "- Soil Type 3\n",
    "- Soil Type 12\n",
    "- Rock outcrop complex (synthetic)\n",
    "- Lower Montane Climate (synthetic)\n",
    "- Family Catamount (synthetic)\n",
    "\n",
    "TOTAL: 11 features"
   ]
  },
  {
   "cell_type": "code",
   "execution_count": 25,
   "metadata": {},
   "outputs": [],
   "source": [
    "def remove_collinear_features(x, threshold):\n",
    "    '''\n",
    "    Objective:\n",
    "        Remove collinear features in a dataframe with a correlation coefficient\n",
    "        greater than the threshold. Removing collinear features can help a model \n",
    "        to generalize and improves the interpretability of the model.\n",
    "\n",
    "    Inputs: \n",
    "        x: features dataframe\n",
    "        threshold: features with correlations greater than this value are removed\n",
    "\n",
    "    Output: \n",
    "        dataframe that contains only the non-highly-collinear features\n",
    "    '''\n",
    "\n",
    "    # Calculate the correlation matrix\n",
    "    corr_matrix = x.corr()\n",
    "    iters = range(len(corr_matrix.columns) - 1)\n",
    "    drop_cols = []\n",
    "\n",
    "    # Iterate through the correlation matrix and compare correlations\n",
    "    for i in iters:\n",
    "        for j in range(i+1):\n",
    "            item = corr_matrix.iloc[j:(j+1), (i+1):(i+2)]\n",
    "            col = item.columns\n",
    "            row = item.index\n",
    "            val = abs(item.values)\n",
    "\n",
    "            # If correlation exceeds the threshold\n",
    "            if val >= threshold:\n",
    "                # Print the correlated features and the correlation value\n",
    "                #print(col.values[0], \"|\", row.values[0], \"|\", round(val[0][0], 2))\n",
    "                drop_cols.append(col.values[0])\n",
    "\n",
    "    # Drop one of each pair of correlated columns\n",
    "    drops = set(drop_cols)\n",
    "    x = x.drop(columns=drops)\n",
    "    print('Removed Columns {}'.format(drops))\n",
    "    return x"
   ]
  },
  {
   "cell_type": "markdown",
   "metadata": {},
   "source": [
    "Remocing Collinearity Features for logistic Regression. "
   ]
  },
  {
   "cell_type": "code",
   "execution_count": 26,
   "metadata": {},
   "outputs": [
    {
     "name": "stdout",
     "output_type": "stream",
     "text": [
      "Removed Columns {'Ele-hydro', 'Sqr_Horizontal_Distance_To_Roadways', 'Ele+road', 'Road-Hydro', 'Horizontal_Distance_To_Roadways_x_Horizontal_Distance_To_Fire_Points', 'Elevation_x_Hillshade_9am', 'Horizontal_Distance_To_Roadways^2', 'Type_Rubbly', 'binned_elevation', 'Elevation_x_Horizontal_Distance_To_Roadways', 'Elevation_x_Hillshade_Noon', 'Ele+hydro'}\n"
     ]
    }
   ],
   "source": [
    "df_logist = remove_collinear_features(X_selected1, 0.6)"
   ]
  },
  {
   "cell_type": "code",
   "execution_count": 27,
   "metadata": {},
   "outputs": [
    {
     "name": "stdout",
     "output_type": "stream",
     "text": [
      "The shape of validation data:(3024, 21) and (3024,) \n",
      "The shape of training data:(12096, 21) and (12096,) \n"
     ]
    }
   ],
   "source": [
    "X_train_log, X_val_log, y_train_log, y_val_log = train_test_split(df_logist, y_selected1, test_size=0.20, random_state=42,stratify=y_selected1)\n",
    "print(\"The shape of validation data:{} and {} \".format(X_val_new.shape,y_val_new.shape))\n",
    "print(\"The shape of training data:{} and {} \".format(X_train_new.shape,y_train_new.shape))"
   ]
  },
  {
   "cell_type": "raw",
   "metadata": {},
   "source": [
    "#Heatmap - Checking for autocorrelation among variables \n",
    "matrix = X_train_new_10.corr()\n",
    "mask = np.zeros_like(matrix)\n",
    "mask[np.triu_indices_from(mask)] = True\n",
    "fig, ax = plt.subplots(figsize=(50,20))\n",
    "heatmap = sns.heatmap(matrix, center=0, fmt=\".3f\", square=True, annot=True, linewidth=1.3, mask = mask,vmax=0.9);\n",
    "plt.show()"
   ]
  },
  {
   "cell_type": "code",
   "execution_count": null,
   "metadata": {},
   "outputs": [],
   "source": []
  },
  {
   "cell_type": "markdown",
   "metadata": {},
   "source": [
    "Done with correlation, time to fit the model"
   ]
  },
  {
   "cell_type": "code",
   "execution_count": 28,
   "metadata": {},
   "outputs": [],
   "source": [
    "def plot_ROC_curve(model, X_train,y_train, X_val, y_val):\n",
    "\n",
    "    # Creating visualization with the readable labels\n",
    "    visualizer = ROCAUC(model, encoder={1: 'Spruce/Fir', \n",
    "                                        2: 'Lodgepole Pine', \n",
    "                                        3: 'Ponderosa Pine',\n",
    "                                       4: 'Cottonwood/Willow',\n",
    "                                       5: 'Aspen',\n",
    "                                       6: 'Douglas-fir',\n",
    "                                       7: 'Krummholz'})\n",
    "\n",
    "                                        \n",
    "    # Fitting to the training data first then scoring with the test data                                    \n",
    "    visualizer.fit(X_train,y_train)\n",
    "    visualizer.score(X_val, y_val)\n",
    "    visualizer.show()\n",
    "    \n",
    "    return visualizer"
   ]
  },
  {
   "cell_type": "markdown",
   "metadata": {},
   "source": [
    "## <font color=green> 7.1. Decision Trees  <font>"
   ]
  },
  {
   "cell_type": "raw",
   "metadata": {
    "scrolled": true
   },
   "source": [
    "X_train_new_10.head()\n"
   ]
  },
  {
   "cell_type": "raw",
   "metadata": {},
   "source": [
    "!pip install pydotplus\n",
    "!pip install xgboost\n",
    "!pip install dtreeviz"
   ]
  },
  {
   "cell_type": "raw",
   "metadata": {},
   "source": [
    "pip install dtreeviz"
   ]
  },
  {
   "cell_type": "code",
   "execution_count": 29,
   "metadata": {},
   "outputs": [],
   "source": [
    "from sklearn.tree import DecisionTreeClassifier\n",
    "from sklearn.tree import DecisionTreeRegressor\n",
    "from io import StringIO\n",
    "from sklearn.tree import export_graphviz\n",
    "import pydotplus\n",
    "import xgboost\n",
    "from scipy.stats import uniform, randint\n",
    "from sklearn.model_selection import RandomizedSearchCV\n",
    "from dtreeviz.trees import *\n",
    "from sklearn.model_selection import GridSearchCV\n"
   ]
  },
  {
   "cell_type": "code",
   "execution_count": 30,
   "metadata": {},
   "outputs": [],
   "source": [
    "def plot_tree(tree, feature_names):\n",
    "    dot_data = StringIO()\n",
    "    export_graphviz(tree, out_file=dot_data, feature_names=feature_names, filled=True, rounded=True,special_characters=True)\n",
    "    graph = pydotplus.graph_from_dot_data(dot_data.getvalue())  \n",
    "    return Image(graph.create_png())\n"
   ]
  },
  {
   "cell_type": "markdown",
   "metadata": {},
   "source": [
    "### <font color=green> 7.1.1. Single Tree <font>"
   ]
  },
  {
   "cell_type": "markdown",
   "metadata": {},
   "source": [
    "### 7.1.1.1 No hyperparameters"
   ]
  },
  {
   "cell_type": "code",
   "execution_count": 31,
   "metadata": {},
   "outputs": [
    {
     "name": "stdout",
     "output_type": "stream",
     "text": [
      "MSE = 1.8235\n"
     ]
    }
   ],
   "source": [
    "single_tree = DecisionTreeClassifier(random_state=18)\n",
    "model_tree = single_tree.fit(X_train_new, y_train_new)\n",
    "print(\"MSE = {0:.4f}\".format(-np.mean(cross_val_score(single_tree, X_train_new, y_train_new, scoring='neg_mean_squared_error'))))"
   ]
  },
  {
   "cell_type": "code",
   "execution_count": 32,
   "metadata": {},
   "outputs": [
    {
     "data": {
      "image/png": "[encoded data removed]",
      "text/plain": [
       "<Figure size 5760x2880 with 1 Axes>"
      ]
     },
     "metadata": {
      "needs_background": "light"
     },
     "output_type": "display_data"
    }
   ],
   "source": [
    "plt.figure(figsize=(80,40))\n",
    "plt.bar(X_train_new.columns, single_tree.feature_importances_)\n",
    "plt.title('Feature Importance', fontsize=100);"
   ]
  },
  {
   "cell_type": "code",
   "execution_count": 33,
   "metadata": {},
   "outputs": [],
   "source": [
    "### 7.1.1.2 Hyperparameters A. Pruning the tree"
   ]
  },
  {
   "cell_type": "code",
   "execution_count": 34,
   "metadata": {},
   "outputs": [
    {
     "name": "stdout",
     "output_type": "stream",
     "text": [
      "Fitting 5 folds for each of 29 candidates, totalling 145 fits\n"
     ]
    },
    {
     "data": {
      "text/html": [
       "<style>#sk-container-id-1 {color: black;background-color: white;}#sk-container-id-1 pre{padding: 0;}#sk-container-id-1 div.sk-toggleable {background-color: white;}#sk-container-id-1 label.sk-toggleable__label {cursor: pointer;display: block;width: 100%;margin-bottom: 0;padding: 0.3em;box-sizing: border-box;text-align: center;}#sk-container-id-1 label.sk-toggleable__label-arrow:before {content: \"▸\";float: left;margin-right: 0.25em;color: #696969;}#sk-container-id-1 label.sk-toggleable__label-arrow:hover:before {color: black;}#sk-container-id-1 div.sk-estimator:hover label.sk-toggleable__label-arrow:before {color: black;}#sk-container-id-1 div.sk-toggleable__content {max-height: 0;max-width: 0;overflow: hidden;text-align: left;background-color: #f0f8ff;}#sk-container-id-1 div.sk-toggleable__content pre {margin: 0.2em;color: black;border-radius: 0.25em;background-color: #f0f8ff;}#sk-container-id-1 input.sk-toggleable__control:checked~div.sk-toggleable__content {max-height: 200px;max-width: 100%;overflow: auto;}#sk-container-id-1 input.sk-toggleable__control:checked~label.sk-toggleable__label-arrow:before {content: \"▾\";}#sk-container-id-1 div.sk-estimator input.sk-toggleable__control:checked~label.sk-toggleable__label {background-color: #d4ebff;}#sk-container-id-1 div.sk-label input.sk-toggleable__control:checked~label.sk-toggleable__label {background-color: #d4ebff;}#sk-container-id-1 input.sk-hidden--visually {border: 0;clip: rect(1px 1px 1px 1px);clip: rect(1px, 1px, 1px, 1px);height: 1px;margin: -1px;overflow: hidden;padding: 0;position: absolute;width: 1px;}#sk-container-id-1 div.sk-estimator {font-family: monospace;background-color: #f0f8ff;border: 1px dotted black;border-radius: 0.25em;box-sizing: border-box;margin-bottom: 0.5em;}#sk-container-id-1 div.sk-estimator:hover {background-color: #d4ebff;}#sk-container-id-1 div.sk-parallel-item::after {content: \"\";width: 100%;border-bottom: 1px solid gray;flex-grow: 1;}#sk-container-id-1 div.sk-label:hover label.sk-toggleable__label {background-color: #d4ebff;}#sk-container-id-1 div.sk-serial::before {content: \"\";position: absolute;border-left: 1px solid gray;box-sizing: border-box;top: 0;bottom: 0;left: 50%;z-index: 0;}#sk-container-id-1 div.sk-serial {display: flex;flex-direction: column;align-items: center;background-color: white;padding-right: 0.2em;padding-left: 0.2em;position: relative;}#sk-container-id-1 div.sk-item {position: relative;z-index: 1;}#sk-container-id-1 div.sk-parallel {display: flex;align-items: stretch;justify-content: center;background-color: white;position: relative;}#sk-container-id-1 div.sk-item::before, #sk-container-id-1 div.sk-parallel-item::before {content: \"\";position: absolute;border-left: 1px solid gray;box-sizing: border-box;top: 0;bottom: 0;left: 50%;z-index: -1;}#sk-container-id-1 div.sk-parallel-item {display: flex;flex-direction: column;z-index: 1;position: relative;background-color: white;}#sk-container-id-1 div.sk-parallel-item:first-child::after {align-self: flex-end;width: 50%;}#sk-container-id-1 div.sk-parallel-item:last-child::after {align-self: flex-start;width: 50%;}#sk-container-id-1 div.sk-parallel-item:only-child::after {width: 0;}#sk-container-id-1 div.sk-dashed-wrapped {border: 1px dashed gray;margin: 0 0.4em 0.5em 0.4em;box-sizing: border-box;padding-bottom: 0.4em;background-color: white;}#sk-container-id-1 div.sk-label label {font-family: monospace;font-weight: bold;display: inline-block;line-height: 1.2em;}#sk-container-id-1 div.sk-label-container {text-align: center;}#sk-container-id-1 div.sk-container {/* jupyter's `normalize.less` sets `[hidden] { display: none; }` but bootstrap.min.css set `[hidden] { display: none !important; }` so we also need the `!important` here to be able to override the default hidden behavior on the sphinx rendered scikit-learn.org. See: https://github.com/scikit-learn/scikit-learn/issues/21755 */display: inline-block !important;position: relative;}#sk-container-id-1 div.sk-text-repr-fallback {display: none;}</style><div id=\"sk-container-id-1\" class=\"sk-top-container\"><div class=\"sk-text-repr-fallback\"><pre>GridSearchCV(cv=5, estimator=DecisionTreeClassifier(random_state=18), n_jobs=-1,\n",
       "             param_grid={&#x27;max_depth&#x27;: range(1, 30)},\n",
       "             scoring=&#x27;neg_mean_squared_error&#x27;, verbose=1)</pre><b>In a Jupyter environment, please rerun this cell to show the HTML representation or trust the notebook. <br />On GitHub, the HTML representation is unable to render, please try loading this page with nbviewer.org.</b></div><div class=\"sk-container\" hidden><div class=\"sk-item sk-dashed-wrapped\"><div class=\"sk-label-container\"><div class=\"sk-label sk-toggleable\"><input class=\"sk-toggleable__control sk-hidden--visually\" id=\"sk-estimator-id-1\" type=\"checkbox\" ><label for=\"sk-estimator-id-1\" class=\"sk-toggleable__label sk-toggleable__label-arrow\">GridSearchCV</label><div class=\"sk-toggleable__content\"><pre>GridSearchCV(cv=5, estimator=DecisionTreeClassifier(random_state=18), n_jobs=-1,\n",
       "             param_grid={&#x27;max_depth&#x27;: range(1, 30)},\n",
       "             scoring=&#x27;neg_mean_squared_error&#x27;, verbose=1)</pre></div></div></div><div class=\"sk-parallel\"><div class=\"sk-parallel-item\"><div class=\"sk-item\"><div class=\"sk-label-container\"><div class=\"sk-label sk-toggleable\"><input class=\"sk-toggleable__control sk-hidden--visually\" id=\"sk-estimator-id-2\" type=\"checkbox\" ><label for=\"sk-estimator-id-2\" class=\"sk-toggleable__label sk-toggleable__label-arrow\">estimator: DecisionTreeClassifier</label><div class=\"sk-toggleable__content\"><pre>DecisionTreeClassifier(random_state=18)</pre></div></div></div><div class=\"sk-serial\"><div class=\"sk-item\"><div class=\"sk-estimator sk-toggleable\"><input class=\"sk-toggleable__control sk-hidden--visually\" id=\"sk-estimator-id-3\" type=\"checkbox\" ><label for=\"sk-estimator-id-3\" class=\"sk-toggleable__label sk-toggleable__label-arrow\">DecisionTreeClassifier</label><div class=\"sk-toggleable__content\"><pre>DecisionTreeClassifier(random_state=18)</pre></div></div></div></div></div></div></div></div></div></div>"
      ],
      "text/plain": [
       "GridSearchCV(cv=5, estimator=DecisionTreeClassifier(random_state=18), n_jobs=-1,\n",
       "             param_grid={'max_depth': range(1, 30)},\n",
       "             scoring='neg_mean_squared_error', verbose=1)"
      ]
     },
     "execution_count": 34,
     "metadata": {},
     "output_type": "execute_result"
    }
   ],
   "source": [
    "from sklearn.model_selection import GridSearchCV\n",
    "param_grid = {'max_depth': range(1,30)}\n",
    "\n",
    "single_tree_a = GridSearchCV(single_tree,\n",
    "                            param_grid,\n",
    "                            scoring='neg_mean_squared_error',\n",
    "                            cv=5, n_jobs=-1, verbose=1)\n",
    "\n",
    "single_tree_a.fit(X_train_new, y_train_new)"
   ]
  },
  {
   "cell_type": "code",
   "execution_count": 35,
   "metadata": {},
   "outputs": [
    {
     "name": "stdout",
     "output_type": "stream",
     "text": [
      "Best parameters set found on development set:\n",
      "\n",
      "{'max_depth': 15}\n",
      "\n",
      "Grid scores on development set:\n",
      "\n",
      "MSE = 9.614 (+/-0.095) for {'max_depth': 1}\n",
      "MSE = 5.152 (+/-0.290) for {'max_depth': 2}\n",
      "MSE = 3.482 (+/-0.258) for {'max_depth': 3}\n",
      "MSE = 2.952 (+/-0.162) for {'max_depth': 4}\n",
      "MSE = 2.834 (+/-0.161) for {'max_depth': 5}\n",
      "MSE = 2.656 (+/-0.209) for {'max_depth': 6}\n",
      "MSE = 2.407 (+/-0.223) for {'max_depth': 7}\n",
      "MSE = 2.272 (+/-0.316) for {'max_depth': 8}\n",
      "MSE = 2.111 (+/-0.165) for {'max_depth': 9}\n",
      "MSE = 1.986 (+/-0.164) for {'max_depth': 10}\n",
      "MSE = 1.896 (+/-0.154) for {'max_depth': 11}\n",
      "MSE = 1.863 (+/-0.181) for {'max_depth': 12}\n",
      "MSE = 1.841 (+/-0.201) for {'max_depth': 13}\n",
      "MSE = 1.840 (+/-0.110) for {'max_depth': 14}\n",
      "MSE = 1.809 (+/-0.155) for {'max_depth': 15}\n",
      "MSE = 1.815 (+/-0.124) for {'max_depth': 16}\n",
      "MSE = 1.867 (+/-0.132) for {'max_depth': 17}\n",
      "MSE = 1.823 (+/-0.230) for {'max_depth': 18}\n",
      "MSE = 1.831 (+/-0.160) for {'max_depth': 19}\n",
      "MSE = 1.856 (+/-0.160) for {'max_depth': 20}\n",
      "MSE = 1.820 (+/-0.233) for {'max_depth': 21}\n",
      "MSE = 1.849 (+/-0.171) for {'max_depth': 22}\n",
      "MSE = 1.825 (+/-0.269) for {'max_depth': 23}\n",
      "MSE = 1.862 (+/-0.219) for {'max_depth': 24}\n",
      "MSE = 1.841 (+/-0.173) for {'max_depth': 25}\n",
      "MSE = 1.820 (+/-0.171) for {'max_depth': 26}\n",
      "MSE = 1.846 (+/-0.204) for {'max_depth': 27}\n",
      "MSE = 1.823 (+/-0.170) for {'max_depth': 28}\n",
      "MSE = 1.823 (+/-0.170) for {'max_depth': 29}\n"
     ]
    }
   ],
   "source": [
    "print(\"Best parameters set found on development set:\")\n",
    "print()\n",
    "print(single_tree_a.best_params_)\n",
    "print()\n",
    "print(\"Grid scores on development set:\")\n",
    "print()\n",
    "means = single_tree_a.cv_results_['mean_test_score']\n",
    "stds = single_tree_a.cv_results_['std_test_score']\n",
    "for mean, std, params in zip(means, stds, single_tree_a.cv_results_['params']):\n",
    "    print(\"MSE = %0.3f (+/-%0.03f) for %r\" % (-mean, std * 2, params))"
   ]
  },
  {
   "cell_type": "code",
   "execution_count": 36,
   "metadata": {},
   "outputs": [
    {
     "data": {
      "image/png": "[encoded data removed]",
      "text/plain": [
       "<Figure size 720x720 with 1 Axes>"
      ]
     },
     "metadata": {
      "needs_background": "light"
     },
     "output_type": "display_data"
    }
   ],
   "source": [
    "plt.figure(figsize=(10,10))\n",
    "plt.errorbar(range(1,30,1), [-m for m in means], yerr=stds, fmt='-o')\n",
    "plt.title('MSE for different Depths', fontsize=20)\n",
    "plt.xlabel(\"Depth\", fontsize=16)\n",
    "plt.ylabel(\"MSE\", fontsize=16);"
   ]
  },
  {
   "cell_type": "code",
   "execution_count": 37,
   "metadata": {},
   "outputs": [
    {
     "name": "stdout",
     "output_type": "stream",
     "text": [
      "MSE = 1.8151\n"
     ]
    }
   ],
   "source": [
    "single_tree_d16 = DecisionTreeClassifier(random_state=18, max_depth=16)\n",
    "\n",
    "print(\"MSE = {0:.4f}\".format(-np.mean(cross_val_score(single_tree_d16, X_train_new, y_train_new, scoring='neg_mean_squared_error'))))"
   ]
  },
  {
   "cell_type": "code",
   "execution_count": 38,
   "metadata": {},
   "outputs": [],
   "source": [
    "### 7.1.1.3 Bagging"
   ]
  },
  {
   "cell_type": "code",
   "execution_count": 39,
   "metadata": {},
   "outputs": [
    {
     "name": "stdout",
     "output_type": "stream",
     "text": [
      "MSE = 1.0059\n"
     ]
    }
   ],
   "source": [
    "from sklearn.ensemble import RandomForestRegressor\n",
    "\n",
    "tree_bagging = RandomForestRegressor(random_state=42, n_jobs=-1, max_features=len(X_train_new.columns))\n",
    "print(\"MSE = {0:.4f}\".format(-np.mean(cross_val_score(tree_bagging, X_train_new, y_train_new, scoring='neg_mean_squared_error'))))"
   ]
  },
  {
   "cell_type": "code",
   "execution_count": 40,
   "metadata": {},
   "outputs": [
    {
     "data": {
      "image/png": "[encoded data removed]",
      "text/plain": [
       "<Figure size 7200x4320 with 1 Axes>"
      ]
     },
     "metadata": {
      "needs_background": "light"
     },
     "output_type": "display_data"
    }
   ],
   "source": [
    "plt.figure(figsize=(100,60))\n",
    "tree_bagging.fit(X_train_new,y_train_new)\n",
    "plt.bar(X_train_new.columns, tree_bagging.feature_importances_)\n",
    "plt.title('Feature Importance', fontsize=100);"
   ]
  },
  {
   "cell_type": "code",
   "execution_count": 41,
   "metadata": {},
   "outputs": [
    {
     "name": "stdout",
     "output_type": "stream",
     "text": [
      "MSE = 0.9747\n"
     ]
    }
   ],
   "source": [
    "random_forest = RandomForestRegressor(random_state=42, max_features='sqrt')\n",
    "print(\"MSE = {0:.4f}\".format(-np.mean(cross_val_score(random_forest, X_train_new, y_train_new, scoring='neg_mean_squared_error'))))"
   ]
  },
  {
   "cell_type": "markdown",
   "metadata": {},
   "source": [
    "# Single Tree (Classifier)"
   ]
  },
  {
   "cell_type": "code",
   "execution_count": 42,
   "metadata": {},
   "outputs": [],
   "source": [
    "from sklearn.tree import DecisionTreeClassifier"
   ]
  },
  {
   "cell_type": "code",
   "execution_count": 43,
   "metadata": {},
   "outputs": [
    {
     "name": "stdout",
     "output_type": "stream",
     "text": [
      "Accuracy = 0.7770\n"
     ]
    }
   ],
   "source": [
    "tree_classifier = DecisionTreeClassifier(random_state=42)\n",
    "print(\"Accuracy = {0:.4f}\".format(np.mean(cross_val_score(tree_classifier, X_train_new, y_train_new))))"
   ]
  },
  {
   "cell_type": "markdown",
   "metadata": {},
   "source": [
    "## Cross-Validation for optimal size"
   ]
  },
  {
   "cell_type": "code",
   "execution_count": 44,
   "metadata": {},
   "outputs": [
    {
     "name": "stdout",
     "output_type": "stream",
     "text": [
      "Fitting 5 folds for each of 29 candidates, totalling 145 fits\n",
      "Best parameters set found on development set:\n",
      "\n",
      "{'max_depth': 14}\n",
      "\n",
      "Grid scores on development set:\n",
      "\n",
      "Accuracy = 0.286 (+/0.001) for {'max_depth': 1}\n",
      "Accuracy = 0.458 (+/0.011) for {'max_depth': 2}\n",
      "Accuracy = 0.617 (+/0.013) for {'max_depth': 3}\n",
      "Accuracy = 0.668 (+/0.017) for {'max_depth': 4}\n",
      "Accuracy = 0.686 (+/0.021) for {'max_depth': 5}\n",
      "Accuracy = 0.704 (+/0.017) for {'max_depth': 6}\n",
      "Accuracy = 0.724 (+/0.022) for {'max_depth': 7}\n",
      "Accuracy = 0.744 (+/0.020) for {'max_depth': 8}\n",
      "Accuracy = 0.755 (+/0.015) for {'max_depth': 9}\n",
      "Accuracy = 0.766 (+/0.008) for {'max_depth': 10}\n",
      "Accuracy = 0.775 (+/0.020) for {'max_depth': 11}\n",
      "Accuracy = 0.777 (+/0.018) for {'max_depth': 12}\n",
      "Accuracy = 0.778 (+/0.016) for {'max_depth': 13}\n",
      "Accuracy = 0.781 (+/0.018) for {'max_depth': 14}\n",
      "Accuracy = 0.781 (+/0.013) for {'max_depth': 15}\n",
      "Accuracy = 0.778 (+/0.011) for {'max_depth': 16}\n",
      "Accuracy = 0.779 (+/0.016) for {'max_depth': 17}\n",
      "Accuracy = 0.779 (+/0.012) for {'max_depth': 18}\n",
      "Accuracy = 0.780 (+/0.012) for {'max_depth': 19}\n",
      "Accuracy = 0.780 (+/0.009) for {'max_depth': 20}\n",
      "Accuracy = 0.778 (+/0.016) for {'max_depth': 21}\n",
      "Accuracy = 0.777 (+/0.018) for {'max_depth': 22}\n",
      "Accuracy = 0.778 (+/0.018) for {'max_depth': 23}\n",
      "Accuracy = 0.776 (+/0.019) for {'max_depth': 24}\n",
      "Accuracy = 0.778 (+/0.018) for {'max_depth': 25}\n",
      "Accuracy = 0.777 (+/0.013) for {'max_depth': 26}\n",
      "Accuracy = 0.778 (+/0.018) for {'max_depth': 27}\n",
      "Accuracy = 0.777 (+/0.015) for {'max_depth': 28}\n",
      "Accuracy = 0.777 (+/0.015) for {'max_depth': 29}\n"
     ]
    }
   ],
   "source": [
    "param_grid = {'max_depth': range(1,30)}\n",
    "\n",
    "tree_classifier_pruned_cv = GridSearchCV(tree_classifier, \n",
    "                   param_grid,\n",
    "                   scoring='accuracy',\n",
    "                   cv=5 , n_jobs=-1, verbose=1)\n",
    "\n",
    "tree_classifier_pruned_cv.fit(X_train_new,y_train_new)\n",
    "print(\"Best parameters set found on development set:\")\n",
    "print()\n",
    "print(tree_classifier_pruned_cv.best_params_)\n",
    "print()\n",
    "print(\"Grid scores on development set:\")\n",
    "print()\n",
    "means = tree_classifier_pruned_cv.cv_results_['mean_test_score']\n",
    "stds = tree_classifier_pruned_cv.cv_results_['std_test_score']\n",
    "for mean, std, params in zip(means, stds, tree_classifier_pruned_cv.cv_results_['params']):\n",
    "    print(\"Accuracy = %0.3f (+/%0.03f) for %r\" % (mean, std * 2, params))"
   ]
  },
  {
   "cell_type": "markdown",
   "metadata": {},
   "source": [
    "Best Accuracy with depth 24 --> 0.779"
   ]
  },
  {
   "cell_type": "code",
   "execution_count": 45,
   "metadata": {},
   "outputs": [
    {
     "name": "stdout",
     "output_type": "stream",
     "text": [
      "Accuracy = 0.7765\n"
     ]
    }
   ],
   "source": [
    "tree_classifier_pruned = DecisionTreeClassifier(random_state=42, max_depth=24)\n",
    "print(\"Accuracy = {0:.4f}\".format(np.mean(cross_val_score(tree_classifier_pruned, X_train_new, y_train_new))))"
   ]
  },
  {
   "cell_type": "markdown",
   "metadata": {},
   "source": [
    "## XGBoost"
   ]
  },
  {
   "cell_type": "code",
   "execution_count": 46,
   "metadata": {},
   "outputs": [],
   "source": [
    "#!pip install xgboost"
   ]
  },
  {
   "cell_type": "code",
   "execution_count": 47,
   "metadata": {},
   "outputs": [],
   "source": [
    "import xgboost as xgb\n",
    "from xgboost import XGBClassifier\n",
    "\n",
    "#import warnings\n",
    "#warnings.filterwarnings('ignore')"
   ]
  },
  {
   "cell_type": "code",
   "execution_count": 48,
   "metadata": {},
   "outputs": [],
   "source": [
    "from sklearn.preprocessing import LabelEncoder\n",
    "le = LabelEncoder()\n",
    "y_train1 = le.fit_transform(y_train_new)\n",
    "y_val1 = le.fit_transform(y_val_new)"
   ]
  },
  {
   "cell_type": "code",
   "execution_count": 49,
   "metadata": {},
   "outputs": [],
   "source": [
    "## First run, hyperparameters"
   ]
  },
  {
   "cell_type": "code",
   "execution_count": 50,
   "metadata": {},
   "outputs": [
    {
     "name": "stdout",
     "output_type": "stream",
     "text": [
      "Accuracy = 0.7302\n"
     ]
    }
   ],
   "source": [
    "xgboost = xgb.XGBClassifier(learning_rate=0.1, gamma=5, alpha=1, max_depth=2, verbosity=0, random_state=42, n_jobs=-1)\n",
    "print(\"Accuracy = {0:.4f}\".format(np.mean(cross_val_score(xgboost, X_train_new, y_train1))))"
   ]
  },
  {
   "cell_type": "markdown",
   "metadata": {},
   "source": [
    "Best model"
   ]
  },
  {
   "cell_type": "code",
   "execution_count": 51,
   "metadata": {},
   "outputs": [
    {
     "name": "stdout",
     "output_type": "stream",
     "text": [
      "Accuracy = 0.8584\n"
     ]
    }
   ],
   "source": [
    "xgboost2 = xgb.XGBClassifier (missing=np.nan, max_depth=10, n_estimators=350, learning_rate=0.03, nthread=4, subsample=0.95, colsample_bytree=0.85, seed=42)\n",
    "print(\"Accuracy = {0:.4f}\".format(np.mean(cross_val_score(xgboost2, X_train_new, y_train1))))"
   ]
  },
  {
   "cell_type": "code",
   "execution_count": 52,
   "metadata": {
    "scrolled": true
   },
   "outputs": [
    {
     "name": "stdout",
     "output_type": "stream",
     "text": [
      "[0]\tvalidation_0-merror:0.23082\n"
     ]
    },
    {
     "name": "stderr",
     "output_type": "stream",
     "text": [
      "/Users/stephaniegessler/opt/anaconda3/lib/python3.9/site-packages/xgboost/sklearn.py:793: UserWarning:\n",
      "\n",
      "`eval_metric` in `fit` method is deprecated for better compatibility with scikit-learn, use `eval_metric` in constructor or`set_params` instead.\n",
      "\n",
      "/Users/stephaniegessler/opt/anaconda3/lib/python3.9/site-packages/xgboost/sklearn.py:793: UserWarning:\n",
      "\n",
      "`early_stopping_rounds` in `fit` method is deprecated for better compatibility with scikit-learn, use `early_stopping_rounds` in constructor or`set_params` instead.\n",
      "\n"
     ]
    },
    {
     "name": "stdout",
     "output_type": "stream",
     "text": [
      "[1]\tvalidation_0-merror:0.21462\n",
      "[2]\tvalidation_0-merror:0.20403\n",
      "[3]\tvalidation_0-merror:0.20073\n",
      "[4]\tvalidation_0-merror:0.20337\n",
      "[5]\tvalidation_0-merror:0.20007\n",
      "[6]\tvalidation_0-merror:0.20073\n",
      "[7]\tvalidation_0-merror:0.20238\n",
      "[8]\tvalidation_0-merror:0.19940\n",
      "[9]\tvalidation_0-merror:0.19775\n",
      "[10]\tvalidation_0-merror:0.19974\n",
      "[11]\tvalidation_0-merror:0.19874\n",
      "[12]\tvalidation_0-merror:0.19577\n",
      "[13]\tvalidation_0-merror:0.19511\n",
      "[14]\tvalidation_0-merror:0.19643\n",
      "[15]\tvalidation_0-merror:0.19775\n",
      "[16]\tvalidation_0-merror:0.19709\n",
      "[17]\tvalidation_0-merror:0.19610\n",
      "[18]\tvalidation_0-merror:0.19544\n",
      "[19]\tvalidation_0-merror:0.19444\n",
      "[20]\tvalidation_0-merror:0.19444\n",
      "[21]\tvalidation_0-merror:0.19411\n",
      "[22]\tvalidation_0-merror:0.19411\n",
      "[23]\tvalidation_0-merror:0.19411\n",
      "[24]\tvalidation_0-merror:0.19511\n",
      "[25]\tvalidation_0-merror:0.19544\n",
      "[26]\tvalidation_0-merror:0.19610\n",
      "[27]\tvalidation_0-merror:0.19478\n",
      "[28]\tvalidation_0-merror:0.19345\n",
      "[29]\tvalidation_0-merror:0.19411\n",
      "[30]\tvalidation_0-merror:0.19213\n",
      "[31]\tvalidation_0-merror:0.19213\n",
      "[32]\tvalidation_0-merror:0.19312\n",
      "[33]\tvalidation_0-merror:0.19312\n",
      "[34]\tvalidation_0-merror:0.19246\n",
      "[35]\tvalidation_0-merror:0.19147\n",
      "[36]\tvalidation_0-merror:0.19048\n",
      "[37]\tvalidation_0-merror:0.19048\n",
      "[38]\tvalidation_0-merror:0.19081\n",
      "[39]\tvalidation_0-merror:0.18981\n",
      "[40]\tvalidation_0-merror:0.18981\n",
      "[41]\tvalidation_0-merror:0.18948\n",
      "[42]\tvalidation_0-merror:0.18849\n",
      "[43]\tvalidation_0-merror:0.18816\n",
      "[44]\tvalidation_0-merror:0.18849\n",
      "[45]\tvalidation_0-merror:0.18750\n",
      "[46]\tvalidation_0-merror:0.18750\n",
      "[47]\tvalidation_0-merror:0.18783\n",
      "[48]\tvalidation_0-merror:0.18783\n",
      "[49]\tvalidation_0-merror:0.18783\n",
      "[50]\tvalidation_0-merror:0.18618\n",
      "[51]\tvalidation_0-merror:0.18519\n",
      "[52]\tvalidation_0-merror:0.18485\n",
      "[53]\tvalidation_0-merror:0.18452\n",
      "[54]\tvalidation_0-merror:0.18552\n",
      "[55]\tvalidation_0-merror:0.18552\n",
      "[56]\tvalidation_0-merror:0.18452\n",
      "[57]\tvalidation_0-merror:0.18254\n",
      "[58]\tvalidation_0-merror:0.18287\n",
      "[59]\tvalidation_0-merror:0.18221\n",
      "[60]\tvalidation_0-merror:0.18122\n",
      "[61]\tvalidation_0-merror:0.18188\n",
      "[62]\tvalidation_0-merror:0.18155\n",
      "[63]\tvalidation_0-merror:0.18089\n",
      "[64]\tvalidation_0-merror:0.18056\n",
      "[65]\tvalidation_0-merror:0.17923\n",
      "[66]\tvalidation_0-merror:0.17890\n",
      "[67]\tvalidation_0-merror:0.17923\n",
      "[68]\tvalidation_0-merror:0.17791\n",
      "[69]\tvalidation_0-merror:0.17824\n",
      "[70]\tvalidation_0-merror:0.17692\n",
      "[71]\tvalidation_0-merror:0.17725\n",
      "[72]\tvalidation_0-merror:0.17626\n",
      "[73]\tvalidation_0-merror:0.17560\n",
      "[74]\tvalidation_0-merror:0.17560\n",
      "[75]\tvalidation_0-merror:0.17560\n",
      "[76]\tvalidation_0-merror:0.17526\n",
      "[77]\tvalidation_0-merror:0.17493\n",
      "[78]\tvalidation_0-merror:0.17593\n",
      "[79]\tvalidation_0-merror:0.17560\n",
      "[80]\tvalidation_0-merror:0.17526\n",
      "[81]\tvalidation_0-merror:0.17560\n",
      "[82]\tvalidation_0-merror:0.17560\n",
      "[83]\tvalidation_0-merror:0.17526\n",
      "[84]\tvalidation_0-merror:0.17560\n",
      "[85]\tvalidation_0-merror:0.17493\n",
      "[86]\tvalidation_0-merror:0.17427\n",
      "[87]\tvalidation_0-merror:0.17295\n",
      "[88]\tvalidation_0-merror:0.17361\n",
      "[89]\tvalidation_0-merror:0.17328\n",
      "[90]\tvalidation_0-merror:0.17328\n",
      "[91]\tvalidation_0-merror:0.17427\n",
      "[92]\tvalidation_0-merror:0.17295\n",
      "[93]\tvalidation_0-merror:0.17328\n",
      "[94]\tvalidation_0-merror:0.17394\n",
      "[95]\tvalidation_0-merror:0.17361\n",
      "[96]\tvalidation_0-merror:0.17229\n",
      "[97]\tvalidation_0-merror:0.17229\n",
      "[98]\tvalidation_0-merror:0.17262\n",
      "[99]\tvalidation_0-merror:0.17328\n",
      "[100]\tvalidation_0-merror:0.17361\n",
      "[101]\tvalidation_0-merror:0.17328\n",
      "[102]\tvalidation_0-merror:0.17229\n",
      "[103]\tvalidation_0-merror:0.17229\n",
      "[104]\tvalidation_0-merror:0.17163\n",
      "[105]\tvalidation_0-merror:0.17097\n",
      "[106]\tvalidation_0-merror:0.17097\n",
      "[107]\tvalidation_0-merror:0.16964\n",
      "[108]\tvalidation_0-merror:0.16865\n",
      "[109]\tvalidation_0-merror:0.16898\n",
      "[110]\tvalidation_0-merror:0.16964\n",
      "[111]\tvalidation_0-merror:0.16964\n",
      "[112]\tvalidation_0-merror:0.16997\n",
      "[113]\tvalidation_0-merror:0.16964\n",
      "[114]\tvalidation_0-merror:0.16931\n",
      "[115]\tvalidation_0-merror:0.16898\n",
      "[116]\tvalidation_0-merror:0.16898\n",
      "[117]\tvalidation_0-merror:0.16898\n",
      "[118]\tvalidation_0-merror:0.16865\n",
      "[119]\tvalidation_0-merror:0.16898\n",
      "[120]\tvalidation_0-merror:0.16898\n",
      "[121]\tvalidation_0-merror:0.16832\n",
      "[122]\tvalidation_0-merror:0.16799\n",
      "[123]\tvalidation_0-merror:0.16799\n",
      "[124]\tvalidation_0-merror:0.16700\n",
      "[125]\tvalidation_0-merror:0.16634\n",
      "[126]\tvalidation_0-merror:0.16634\n",
      "[127]\tvalidation_0-merror:0.16634\n",
      "[128]\tvalidation_0-merror:0.16601\n",
      "[129]\tvalidation_0-merror:0.16634\n",
      "[130]\tvalidation_0-merror:0.16601\n",
      "[131]\tvalidation_0-merror:0.16601\n",
      "[132]\tvalidation_0-merror:0.16601\n",
      "[133]\tvalidation_0-merror:0.16601\n",
      "[134]\tvalidation_0-merror:0.16634\n",
      "[135]\tvalidation_0-merror:0.16567\n",
      "[136]\tvalidation_0-merror:0.16567\n",
      "[137]\tvalidation_0-merror:0.16567\n",
      "[138]\tvalidation_0-merror:0.16601\n",
      "[139]\tvalidation_0-merror:0.16601\n",
      "[140]\tvalidation_0-merror:0.16634\n",
      "[141]\tvalidation_0-merror:0.16601\n",
      "[142]\tvalidation_0-merror:0.16601\n",
      "[143]\tvalidation_0-merror:0.16634\n",
      "[144]\tvalidation_0-merror:0.16601\n",
      "[145]\tvalidation_0-merror:0.16534\n",
      "[146]\tvalidation_0-merror:0.16534\n",
      "[147]\tvalidation_0-merror:0.16534\n",
      "[148]\tvalidation_0-merror:0.16567\n",
      "[149]\tvalidation_0-merror:0.16534\n",
      "[150]\tvalidation_0-merror:0.16534\n",
      "[151]\tvalidation_0-merror:0.16501\n",
      "[152]\tvalidation_0-merror:0.16501\n",
      "[153]\tvalidation_0-merror:0.16534\n",
      "[154]\tvalidation_0-merror:0.16534\n",
      "[155]\tvalidation_0-merror:0.16501\n",
      "[156]\tvalidation_0-merror:0.16402\n",
      "[157]\tvalidation_0-merror:0.16303\n",
      "[158]\tvalidation_0-merror:0.16336\n",
      "[159]\tvalidation_0-merror:0.16303\n",
      "[160]\tvalidation_0-merror:0.16303\n",
      "[161]\tvalidation_0-merror:0.16336\n",
      "[162]\tvalidation_0-merror:0.16270\n",
      "[163]\tvalidation_0-merror:0.16303\n",
      "[164]\tvalidation_0-merror:0.16336\n",
      "[165]\tvalidation_0-merror:0.16435\n",
      "[166]\tvalidation_0-merror:0.16336\n",
      "[167]\tvalidation_0-merror:0.16303\n",
      "[168]\tvalidation_0-merror:0.16369\n",
      "[169]\tvalidation_0-merror:0.16204\n",
      "[170]\tvalidation_0-merror:0.16237\n",
      "[171]\tvalidation_0-merror:0.16171\n",
      "[172]\tvalidation_0-merror:0.16204\n",
      "[173]\tvalidation_0-merror:0.16171\n",
      "[174]\tvalidation_0-merror:0.16171\n",
      "[175]\tvalidation_0-merror:0.16204\n",
      "[176]\tvalidation_0-merror:0.16204\n",
      "[177]\tvalidation_0-merror:0.16204\n",
      "[178]\tvalidation_0-merror:0.16171\n",
      "[179]\tvalidation_0-merror:0.16071\n",
      "[180]\tvalidation_0-merror:0.16038\n",
      "[181]\tvalidation_0-merror:0.15972\n",
      "[182]\tvalidation_0-merror:0.16005\n",
      "[183]\tvalidation_0-merror:0.16005\n",
      "[184]\tvalidation_0-merror:0.16005\n",
      "[185]\tvalidation_0-merror:0.16005\n",
      "[186]\tvalidation_0-merror:0.15972\n",
      "[187]\tvalidation_0-merror:0.16038\n",
      "[188]\tvalidation_0-merror:0.16038\n",
      "[189]\tvalidation_0-merror:0.16005\n",
      "[190]\tvalidation_0-merror:0.16038\n",
      "[191]\tvalidation_0-merror:0.16005\n",
      "[192]\tvalidation_0-merror:0.16038\n",
      "[193]\tvalidation_0-merror:0.15972\n",
      "[194]\tvalidation_0-merror:0.15939\n",
      "[195]\tvalidation_0-merror:0.15873\n",
      "[196]\tvalidation_0-merror:0.15939\n",
      "[197]\tvalidation_0-merror:0.15906\n",
      "[198]\tvalidation_0-merror:0.15840\n",
      "[199]\tvalidation_0-merror:0.15807\n",
      "[200]\tvalidation_0-merror:0.15873\n",
      "[201]\tvalidation_0-merror:0.15906\n",
      "[202]\tvalidation_0-merror:0.15906\n",
      "[203]\tvalidation_0-merror:0.16005\n",
      "[204]\tvalidation_0-merror:0.15972\n",
      "[205]\tvalidation_0-merror:0.15972\n",
      "[206]\tvalidation_0-merror:0.15972\n",
      "[207]\tvalidation_0-merror:0.15939\n",
      "[208]\tvalidation_0-merror:0.15939\n",
      "[209]\tvalidation_0-merror:0.15906\n",
      "[210]\tvalidation_0-merror:0.15873\n",
      "[211]\tvalidation_0-merror:0.15906\n",
      "[212]\tvalidation_0-merror:0.15906\n",
      "[213]\tvalidation_0-merror:0.15906\n",
      "[214]\tvalidation_0-merror:0.15906\n",
      "[215]\tvalidation_0-merror:0.15972\n",
      "[216]\tvalidation_0-merror:0.15939\n",
      "[217]\tvalidation_0-merror:0.15939\n",
      "[218]\tvalidation_0-merror:0.15972\n",
      "[219]\tvalidation_0-merror:0.15906\n",
      "[220]\tvalidation_0-merror:0.15972\n",
      "[221]\tvalidation_0-merror:0.15939\n",
      "[222]\tvalidation_0-merror:0.15906\n",
      "[223]\tvalidation_0-merror:0.15906\n",
      "[224]\tvalidation_0-merror:0.15906\n",
      "[225]\tvalidation_0-merror:0.15939\n",
      "[226]\tvalidation_0-merror:0.15939\n",
      "[227]\tvalidation_0-merror:0.15972\n",
      "[228]\tvalidation_0-merror:0.15972\n",
      "[229]\tvalidation_0-merror:0.15906\n",
      "[230]\tvalidation_0-merror:0.15939\n",
      "[231]\tvalidation_0-merror:0.15939\n",
      "[232]\tvalidation_0-merror:0.15906\n",
      "[233]\tvalidation_0-merror:0.15906\n",
      "[234]\tvalidation_0-merror:0.15906\n",
      "[235]\tvalidation_0-merror:0.15873\n",
      "[236]\tvalidation_0-merror:0.15873\n",
      "[237]\tvalidation_0-merror:0.15807\n",
      "[238]\tvalidation_0-merror:0.15840\n",
      "[239]\tvalidation_0-merror:0.15873\n",
      "accuracy:84.19%\n"
     ]
    }
   ],
   "source": [
    "# fitting\n",
    "xgboost2.fit(X_train_new, y_train1, early_stopping_rounds=40, eval_metric=\"merror\", eval_set=[(X_val_new, y_val1)])\n",
    "pred = xgboost2.predict(X_val_new)\n",
    "\n",
    "accuracy = accuracy_score(y_val1, pred);\n",
    "print ('accuracy:%0.2f%%'%(accuracy*100))"
   ]
  },
  {
   "cell_type": "code",
   "execution_count": 53,
   "metadata": {},
   "outputs": [],
   "source": [
    "#pip install hyperopt"
   ]
  },
  {
   "cell_type": "code",
   "execution_count": 54,
   "metadata": {},
   "outputs": [],
   "source": [
    "# import packages for hyperparameters tuning\n",
    "from hyperopt import STATUS_OK, Trials, fmin, hp, tpe"
   ]
  },
  {
   "cell_type": "code",
   "execution_count": 55,
   "metadata": {},
   "outputs": [],
   "source": [
    "space={'max_depth': hp.quniform(\"max_depth\", 3, 18, 1),\n",
    "        'gamma': hp.uniform ('gamma', 1,9),\n",
    "        'reg_alpha' : hp.quniform('reg_alpha', 40,180,1),\n",
    "        'reg_lambda' : hp.uniform('reg_lambda', 0,1),\n",
    "        'colsample_bytree' : hp.uniform('colsample_bytree', 0.5,1),\n",
    "        'min_child_weight' : hp.quniform('min_child_weight', 0, 10, 1),\n",
    "        'n_estimators': hp.randint('n_estimators', 1, 1001),# uniform discrete random distribution\n",
    "       'learning_rate': hp.quniform('learning_rate', 0.03,0.05 ), # gaussian distribution\n",
    "        'seed': 0\n",
    "    }\n"
   ]
  },
  {
   "cell_type": "raw",
   "metadata": {},
   "source": [
    "def objective(space):\n",
    "    clf=xgb.XGBClassifier(\n",
    "                    n_estimators =space['n_estimators'], max_depth = int(space['max_depth']), gamma = space['gamma'],\n",
    "                    reg_alpha = int(space['reg_alpha']),min_child_weight=int(space['min_child_weight']),\n",
    "                    colsample_bytree=int(space['colsample_bytree']),learning_rate=space['learning_rate'])\n",
    "    \n",
    "    evaluation = [( X_train_new, y_train1), ( X_val_new, y_val1)]\n",
    "    \n",
    "    clf.fit(X_train_new, y_train1,\n",
    "            eval_set=evaluation, eval_metric=\"auc\",\n",
    "            early_stopping_rounds=10,verbose=False)\n",
    "    \n",
    "\n",
    "    pred = clf.predict(X_val_new)\n",
    "    accuracy = accuracy_score(y_val1, pred>0.5)\n",
    "    print (\"SCORE:\", accuracy)\n",
    "    return {'loss': -accuracy, 'status': STATUS_OK }"
   ]
  },
  {
   "cell_type": "raw",
   "metadata": {},
   "source": [
    "trials = Trials()\n",
    "\n",
    "best_hyperparams = fmin(fn = objective,\n",
    "                        space = space,\n",
    "                        algo = tpe.suggest,\n",
    "                        max_evals = 100,\n",
    "                        trials = trials)"
   ]
  },
  {
   "cell_type": "raw",
   "metadata": {},
   "source": [
    "print(\"The best hyperparameters are : \",\"\\n\")\n",
    "print(best_hyperparams)"
   ]
  },
  {
   "cell_type": "raw",
   "metadata": {},
   "source": [
    "xgboost2 = XGBClassifier (missing=np.nan,colsample_bytree =0.6713231315450269 , max_depth=11,gamma = 1.806380965266915,min_child_weight= 2,reg_alpha= 44.0,reg_lambda= 0.3180026, n_estimators=300,  nthread=4, subsample=0.95, seed=0)\n",
    "print(\"Accuracy = {0:.4f}\".format(np.mean(cross_val_score(xgboost2, X_train_new, y_train1))))"
   ]
  },
  {
   "cell_type": "raw",
   "metadata": {},
   "source": [
    "# fitting\n",
    "xgboost2.fit(X_train_new, y_train1, early_stopping_rounds=40, eval_metric=\"merror\", eval_set=[(X_val_new, y_val1)])\n",
    "pred = xgboost2.predict(X_val_new)\n",
    "\n",
    "accuracy = accuracy_score(y_val1, pred);\n",
    "print ('accuracy:%0.2f%%'%(accuracy*100))"
   ]
  },
  {
   "cell_type": "raw",
   "metadata": {},
   "source": [
    "#XGBOOST2\n",
    "\n",
    "# fit the model with the training data\n",
    "xgboost2.fit(X_train_new,y_train1)\n",
    "\n",
    "# predict the target on the train dataset\n",
    "predict_train = xgboost2.predict(X_train_new)\n",
    "print('\\nTarget on train data',predict_train) \n",
    "\n",
    "# Accuracy Score on train dataset\n",
    "accuracy_train = accuracy_score(y_train1,predict_train)\n",
    "print('\\naccuracy_score on train dataset : ', accuracy_train)\n",
    "\n",
    "# predict the target on the test dataset\n",
    "predict_test = xgboost2.predict(X_val_new)\n",
    "print('\\nTarget on test data',predict_test) \n",
    "\n",
    "# Accuracy Score on test dataset\n",
    "accuracy_test = accuracy_score(y_val_new,predict_test)\n",
    "print('\\nAccuracy on test dataset : ', accuracy_test)"
   ]
  },
  {
   "cell_type": "raw",
   "metadata": {},
   "source": [
    "y_pred= xgboost2.predict(X_val_new)\n",
    "y_pred = [x+1 for x in y_pred]"
   ]
  },
  {
   "cell_type": "code",
   "execution_count": null,
   "metadata": {},
   "outputs": [],
   "source": []
  },
  {
   "cell_type": "code",
   "execution_count": null,
   "metadata": {},
   "outputs": [],
   "source": []
  },
  {
   "cell_type": "markdown",
   "metadata": {},
   "source": [
    "from scipy.stats import uniform, randint\n",
    "from sklearn.model_selection import RandomizedSearchCV\n",
    "\n",
    "params = {\n",
    "    \"colsample_bytree\": uniform(0.7, 0.3),\n",
    "    \"gamma\": uniform(0, 0.5),\n",
    "    \"learning_rate\": uniform(0.03, 0.3), # default 0.1 \n",
    "    \"max_depth\": randint(2, 6), # default 3\n",
    "    \"n_estimators\": randint(100, 150), # default 100\n",
    "    \"subsample\": uniform(0.6, 0.4)\n",
    "}\n",
    "\n",
    "search = RandomizedSearchCV(xgboost, param_distributions=params, random_state=42, n_iter=200, cv=5, verbose=1, n_jobs=-1, return_train_score=True)\n",
    "search.fit(X_train_new, y_train1)"
   ]
  },
  {
   "cell_type": "raw",
   "metadata": {},
   "source": [
    "#XGBOOST\n",
    "\n",
    "# fit the model with the training data\n",
    "xgboost.fit(X_train_new,y_train1)\n",
    "\n",
    "# predict the target on the train dataset\n",
    "predict_train = xgboost.predict(X_train_new)\n",
    "print('\\nTarget on train data',predict_train) \n",
    "\n",
    "# Accuracy Score on train dataset\n",
    "accuracy_train = accuracy_score(y_train1,predict_train)\n",
    "print('\\naccuracy_score on train dataset : ', accuracy_train)\n",
    "\n",
    "# predict the target on the test dataset\n",
    "predict_test = xgboost.predict(X_val_new)\n",
    "print('\\nTarget on test data',predict_test) \n",
    "\n",
    "# Accuracy Score on test dataset\n",
    "accuracy_test = accuracy_score(y_val_new,predict_test)\n",
    "print('\\nAccuracy on test dataset : ', accuracy_test)"
   ]
  },
  {
   "cell_type": "raw",
   "metadata": {},
   "source": [
    "#XGBOOST\n",
    "\n",
    "# fit the model with the training data\n",
    "xgboost.fit(X_train_new,y_train1)\n",
    "\n",
    "# predict the target on the train dataset\n",
    "predict_train = search.predict(X_train_new)\n",
    "print('\\nTarget on train data',predict_train) \n",
    "\n",
    "# Accuracy Score on train dataset\n",
    "accuracy_train = accuracy_score(y_train1,predict_train)\n",
    "print('\\naccuracy_score on train dataset : ', accuracy_train)\n",
    "\n",
    "# predict the target on the test dataset\n",
    "predict_test = search.predict(X_val_new)\n",
    "print('\\nTarget on test data',predict_test) \n",
    "\n",
    "# Accuracy Score on test dataset\n",
    "accuracy_test = accuracy_score(y_val_new,predict_test)\n",
    "print('\\nAccuracy on test dataset : ', accuracy_test)"
   ]
  },
  {
   "cell_type": "raw",
   "metadata": {},
   "source": [
    "from scipy.stats import uniform, randint\n",
    "from sklearn.model_selection import RandomizedSearchCV\n",
    "\n",
    "params = {\n",
    "    \"colsample_bytree\": uniform(0.7, 0.3),\n",
    "    \"gamma\": uniform(0, 0.5),\n",
    "    \"learning_rate\": uniform(0.03, 0.3), # default 0.1 \n",
    "    \"max_depth\": randint(2, 6), # default 3\n",
    "    \"n_estimators\": randint(100, 150), # default 100\n",
    "    \"subsample\": uniform(0.6, 0.4)\n",
    "}\n",
    "\n",
    "search = RandomizedSearchCV(xgboost, param_distributions=params, random_state=42, n_iter=200, cv=5, verbose=1, n_jobs=1, return_train_score=True)\n",
    "search.fit(X_train_new, y_train1)"
   ]
  },
  {
   "cell_type": "markdown",
   "metadata": {},
   "source": [
    "# Extra Tree Classifier"
   ]
  },
  {
   "cell_type": "code",
   "execution_count": null,
   "metadata": {},
   "outputs": [],
   "source": []
  },
  {
   "cell_type": "code",
   "execution_count": 56,
   "metadata": {},
   "outputs": [
    {
     "name": "stderr",
     "output_type": "stream",
     "text": [
      "/Users/stephaniegessler/opt/anaconda3/lib/python3.9/site-packages/sklearn/model_selection/_search.py:306: UserWarning:\n",
      "\n",
      "The total space of parameters 2 is smaller than n_iter=10. Running 2 iterations. For exhaustive searches, use GridSearchCV.\n",
      "\n"
     ]
    },
    {
     "name": "stdout",
     "output_type": "stream",
     "text": [
      "The best score:  0.8672\n",
      "The best parameter:  {'n_estimators': 113, 'criterion': 'gini'}\n"
     ]
    },
    {
     "data": {
      "text/html": [
       "<style>#sk-container-id-2 {color: black;background-color: white;}#sk-container-id-2 pre{padding: 0;}#sk-container-id-2 div.sk-toggleable {background-color: white;}#sk-container-id-2 label.sk-toggleable__label {cursor: pointer;display: block;width: 100%;margin-bottom: 0;padding: 0.3em;box-sizing: border-box;text-align: center;}#sk-container-id-2 label.sk-toggleable__label-arrow:before {content: \"▸\";float: left;margin-right: 0.25em;color: #696969;}#sk-container-id-2 label.sk-toggleable__label-arrow:hover:before {color: black;}#sk-container-id-2 div.sk-estimator:hover label.sk-toggleable__label-arrow:before {color: black;}#sk-container-id-2 div.sk-toggleable__content {max-height: 0;max-width: 0;overflow: hidden;text-align: left;background-color: #f0f8ff;}#sk-container-id-2 div.sk-toggleable__content pre {margin: 0.2em;color: black;border-radius: 0.25em;background-color: #f0f8ff;}#sk-container-id-2 input.sk-toggleable__control:checked~div.sk-toggleable__content {max-height: 200px;max-width: 100%;overflow: auto;}#sk-container-id-2 input.sk-toggleable__control:checked~label.sk-toggleable__label-arrow:before {content: \"▾\";}#sk-container-id-2 div.sk-estimator input.sk-toggleable__control:checked~label.sk-toggleable__label {background-color: #d4ebff;}#sk-container-id-2 div.sk-label input.sk-toggleable__control:checked~label.sk-toggleable__label {background-color: #d4ebff;}#sk-container-id-2 input.sk-hidden--visually {border: 0;clip: rect(1px 1px 1px 1px);clip: rect(1px, 1px, 1px, 1px);height: 1px;margin: -1px;overflow: hidden;padding: 0;position: absolute;width: 1px;}#sk-container-id-2 div.sk-estimator {font-family: monospace;background-color: #f0f8ff;border: 1px dotted black;border-radius: 0.25em;box-sizing: border-box;margin-bottom: 0.5em;}#sk-container-id-2 div.sk-estimator:hover {background-color: #d4ebff;}#sk-container-id-2 div.sk-parallel-item::after {content: \"\";width: 100%;border-bottom: 1px solid gray;flex-grow: 1;}#sk-container-id-2 div.sk-label:hover label.sk-toggleable__label {background-color: #d4ebff;}#sk-container-id-2 div.sk-serial::before {content: \"\";position: absolute;border-left: 1px solid gray;box-sizing: border-box;top: 0;bottom: 0;left: 50%;z-index: 0;}#sk-container-id-2 div.sk-serial {display: flex;flex-direction: column;align-items: center;background-color: white;padding-right: 0.2em;padding-left: 0.2em;position: relative;}#sk-container-id-2 div.sk-item {position: relative;z-index: 1;}#sk-container-id-2 div.sk-parallel {display: flex;align-items: stretch;justify-content: center;background-color: white;position: relative;}#sk-container-id-2 div.sk-item::before, #sk-container-id-2 div.sk-parallel-item::before {content: \"\";position: absolute;border-left: 1px solid gray;box-sizing: border-box;top: 0;bottom: 0;left: 50%;z-index: -1;}#sk-container-id-2 div.sk-parallel-item {display: flex;flex-direction: column;z-index: 1;position: relative;background-color: white;}#sk-container-id-2 div.sk-parallel-item:first-child::after {align-self: flex-end;width: 50%;}#sk-container-id-2 div.sk-parallel-item:last-child::after {align-self: flex-start;width: 50%;}#sk-container-id-2 div.sk-parallel-item:only-child::after {width: 0;}#sk-container-id-2 div.sk-dashed-wrapped {border: 1px dashed gray;margin: 0 0.4em 0.5em 0.4em;box-sizing: border-box;padding-bottom: 0.4em;background-color: white;}#sk-container-id-2 div.sk-label label {font-family: monospace;font-weight: bold;display: inline-block;line-height: 1.2em;}#sk-container-id-2 div.sk-label-container {text-align: center;}#sk-container-id-2 div.sk-container {/* jupyter's `normalize.less` sets `[hidden] { display: none; }` but bootstrap.min.css set `[hidden] { display: none !important; }` so we also need the `!important` here to be able to override the default hidden behavior on the sphinx rendered scikit-learn.org. See: https://github.com/scikit-learn/scikit-learn/issues/21755 */display: inline-block !important;position: relative;}#sk-container-id-2 div.sk-text-repr-fallback {display: none;}</style><div id=\"sk-container-id-2\" class=\"sk-top-container\"><div class=\"sk-text-repr-fallback\"><pre>ExtraTreesClassifier(n_estimators=113, random_state=0)</pre><b>In a Jupyter environment, please rerun this cell to show the HTML representation or trust the notebook. <br />On GitHub, the HTML representation is unable to render, please try loading this page with nbviewer.org.</b></div><div class=\"sk-container\" hidden><div class=\"sk-item\"><div class=\"sk-estimator sk-toggleable\"><input class=\"sk-toggleable__control sk-hidden--visually\" id=\"sk-estimator-id-4\" type=\"checkbox\" checked><label for=\"sk-estimator-id-4\" class=\"sk-toggleable__label sk-toggleable__label-arrow\">ExtraTreesClassifier</label><div class=\"sk-toggleable__content\"><pre>ExtraTreesClassifier(n_estimators=113, random_state=0)</pre></div></div></div></div></div>"
      ],
      "text/plain": [
       "ExtraTreesClassifier(n_estimators=113, random_state=0)"
      ]
     },
     "execution_count": 56,
     "metadata": {},
     "output_type": "execute_result"
    }
   ],
   "source": [
    "# Build a forest and compute the feature importances\n",
    "#n_estimators = list(range(50, 250,5))\n",
    "n_estimators = [113]\n",
    "criterion=['gini','entropy']\n",
    "#min_samples_leaf = list(range(5, 25))\n",
    "#min_samples_split = list(range(5, 25))\n",
    "#max_depth = list(range(8, 50))\n",
    "max_depth = [22]\n",
    "# create a parameter grid: map the parameter names to the values that should be searched\n",
    "param_grid = dict(n_estimators=n_estimators, criterion=criterion)\n",
    "\n",
    "forest = ExtraTreesClassifier(random_state=0)\n",
    "grid_etc = RandomizedSearchCV(forest, param_grid, cv=5, scoring=\"accuracy\" ,return_train_score=False)\n",
    "grid_etc.fit(X_train_new, y_train_new)\n",
    "print(\"The best score: \",grid_etc.best_score_.round(4))\n",
    "#Parameter setting that gave the best results on the hold out data.\n",
    "print(\"The best parameter: \",grid_etc.best_params_)\n",
    "grid_etc.best_estimator_"
   ]
  },
  {
   "cell_type": "code",
   "execution_count": 58,
   "metadata": {},
   "outputs": [
    {
     "name": "stdout",
     "output_type": "stream",
     "text": [
      "The accuracy score of the ExtraTreesClassifier with the selected features:  0.87\n"
     ]
    }
   ],
   "source": [
    "#Find Feature importance\n",
    "etc_selected = ExtraTreesClassifier(n_estimators=grid_etc.best_params_['n_estimators'],\n",
    "                            criterion=grid_etc.best_params_['criterion'],random_state=0)\n",
    "etc_selected.fit(X_train_new, y_train_new)\n",
    "etc_sel_acc = etc_selected.score(X_val_new,y_val_new)\n",
    "print(\"The accuracy score of the ExtraTreesClassifier with the selected features: \",round(etc_sel_acc,2))"
   ]
  },
  {
   "cell_type": "code",
   "execution_count": 59,
   "metadata": {},
   "outputs": [
    {
     "name": "stdout",
     "output_type": "stream",
     "text": [
      "Accuracy = 0.8672\n"
     ]
    }
   ],
   "source": [
    "print(\"Accuracy = {0:.4f}\".format(np.mean(cross_val_score(etc_selected, X_train_new, y_train_new))))"
   ]
  },
  {
   "cell_type": "code",
   "execution_count": 60,
   "metadata": {},
   "outputs": [
    {
     "name": "stderr",
     "output_type": "stream",
     "text": [
      "/Users/stephaniegessler/opt/anaconda3/lib/python3.9/site-packages/sklearn/model_selection/_search.py:306: UserWarning:\n",
      "\n",
      "The total space of parameters 99 is smaller than n_iter=150. Running 99 iterations. For exhaustive searches, use GridSearchCV.\n",
      "\n"
     ]
    },
    {
     "name": "stdout",
     "output_type": "stream",
     "text": [
      "Fitting 5 folds for each of 99 candidates, totalling 495 fits\n"
     ]
    },
    {
     "data": {
      "text/html": [
       "<style>#sk-container-id-3 {color: black;background-color: white;}#sk-container-id-3 pre{padding: 0;}#sk-container-id-3 div.sk-toggleable {background-color: white;}#sk-container-id-3 label.sk-toggleable__label {cursor: pointer;display: block;width: 100%;margin-bottom: 0;padding: 0.3em;box-sizing: border-box;text-align: center;}#sk-container-id-3 label.sk-toggleable__label-arrow:before {content: \"▸\";float: left;margin-right: 0.25em;color: #696969;}#sk-container-id-3 label.sk-toggleable__label-arrow:hover:before {color: black;}#sk-container-id-3 div.sk-estimator:hover label.sk-toggleable__label-arrow:before {color: black;}#sk-container-id-3 div.sk-toggleable__content {max-height: 0;max-width: 0;overflow: hidden;text-align: left;background-color: #f0f8ff;}#sk-container-id-3 div.sk-toggleable__content pre {margin: 0.2em;color: black;border-radius: 0.25em;background-color: #f0f8ff;}#sk-container-id-3 input.sk-toggleable__control:checked~div.sk-toggleable__content {max-height: 200px;max-width: 100%;overflow: auto;}#sk-container-id-3 input.sk-toggleable__control:checked~label.sk-toggleable__label-arrow:before {content: \"▾\";}#sk-container-id-3 div.sk-estimator input.sk-toggleable__control:checked~label.sk-toggleable__label {background-color: #d4ebff;}#sk-container-id-3 div.sk-label input.sk-toggleable__control:checked~label.sk-toggleable__label {background-color: #d4ebff;}#sk-container-id-3 input.sk-hidden--visually {border: 0;clip: rect(1px 1px 1px 1px);clip: rect(1px, 1px, 1px, 1px);height: 1px;margin: -1px;overflow: hidden;padding: 0;position: absolute;width: 1px;}#sk-container-id-3 div.sk-estimator {font-family: monospace;background-color: #f0f8ff;border: 1px dotted black;border-radius: 0.25em;box-sizing: border-box;margin-bottom: 0.5em;}#sk-container-id-3 div.sk-estimator:hover {background-color: #d4ebff;}#sk-container-id-3 div.sk-parallel-item::after {content: \"\";width: 100%;border-bottom: 1px solid gray;flex-grow: 1;}#sk-container-id-3 div.sk-label:hover label.sk-toggleable__label {background-color: #d4ebff;}#sk-container-id-3 div.sk-serial::before {content: \"\";position: absolute;border-left: 1px solid gray;box-sizing: border-box;top: 0;bottom: 0;left: 50%;z-index: 0;}#sk-container-id-3 div.sk-serial {display: flex;flex-direction: column;align-items: center;background-color: white;padding-right: 0.2em;padding-left: 0.2em;position: relative;}#sk-container-id-3 div.sk-item {position: relative;z-index: 1;}#sk-container-id-3 div.sk-parallel {display: flex;align-items: stretch;justify-content: center;background-color: white;position: relative;}#sk-container-id-3 div.sk-item::before, #sk-container-id-3 div.sk-parallel-item::before {content: \"\";position: absolute;border-left: 1px solid gray;box-sizing: border-box;top: 0;bottom: 0;left: 50%;z-index: -1;}#sk-container-id-3 div.sk-parallel-item {display: flex;flex-direction: column;z-index: 1;position: relative;background-color: white;}#sk-container-id-3 div.sk-parallel-item:first-child::after {align-self: flex-end;width: 50%;}#sk-container-id-3 div.sk-parallel-item:last-child::after {align-self: flex-start;width: 50%;}#sk-container-id-3 div.sk-parallel-item:only-child::after {width: 0;}#sk-container-id-3 div.sk-dashed-wrapped {border: 1px dashed gray;margin: 0 0.4em 0.5em 0.4em;box-sizing: border-box;padding-bottom: 0.4em;background-color: white;}#sk-container-id-3 div.sk-label label {font-family: monospace;font-weight: bold;display: inline-block;line-height: 1.2em;}#sk-container-id-3 div.sk-label-container {text-align: center;}#sk-container-id-3 div.sk-container {/* jupyter's `normalize.less` sets `[hidden] { display: none; }` but bootstrap.min.css set `[hidden] { display: none !important; }` so we also need the `!important` here to be able to override the default hidden behavior on the sphinx rendered scikit-learn.org. See: https://github.com/scikit-learn/scikit-learn/issues/21755 */display: inline-block !important;position: relative;}#sk-container-id-3 div.sk-text-repr-fallback {display: none;}</style><div id=\"sk-container-id-3\" class=\"sk-top-container\"><div class=\"sk-text-repr-fallback\"><pre>RandomizedSearchCV(cv=5, estimator=ExtraTreesClassifier(random_state=0),\n",
       "                   n_iter=150, n_jobs=-1,\n",
       "                   param_distributions={&#x27;max_depth&#x27;: [22],\n",
       "                                        &#x27;min_samples_leaf&#x27;: [1, 2, 3, 4, 5, 6,\n",
       "                                                             7, 8, 9, 10, 11,\n",
       "                                                             12, 13, 14, 15, 16,\n",
       "                                                             17, 18, 19, 20, 21,\n",
       "                                                             22, 23, 24, 25, 26,\n",
       "                                                             27, 28, 29, 30, ...],\n",
       "                                        &#x27;n_estimators&#x27;: [113]},\n",
       "                   random_state=37, return_train_score=True, verbose=1)</pre><b>In a Jupyter environment, please rerun this cell to show the HTML representation or trust the notebook. <br />On GitHub, the HTML representation is unable to render, please try loading this page with nbviewer.org.</b></div><div class=\"sk-container\" hidden><div class=\"sk-item sk-dashed-wrapped\"><div class=\"sk-label-container\"><div class=\"sk-label sk-toggleable\"><input class=\"sk-toggleable__control sk-hidden--visually\" id=\"sk-estimator-id-5\" type=\"checkbox\" ><label for=\"sk-estimator-id-5\" class=\"sk-toggleable__label sk-toggleable__label-arrow\">RandomizedSearchCV</label><div class=\"sk-toggleable__content\"><pre>RandomizedSearchCV(cv=5, estimator=ExtraTreesClassifier(random_state=0),\n",
       "                   n_iter=150, n_jobs=-1,\n",
       "                   param_distributions={&#x27;max_depth&#x27;: [22],\n",
       "                                        &#x27;min_samples_leaf&#x27;: [1, 2, 3, 4, 5, 6,\n",
       "                                                             7, 8, 9, 10, 11,\n",
       "                                                             12, 13, 14, 15, 16,\n",
       "                                                             17, 18, 19, 20, 21,\n",
       "                                                             22, 23, 24, 25, 26,\n",
       "                                                             27, 28, 29, 30, ...],\n",
       "                                        &#x27;n_estimators&#x27;: [113]},\n",
       "                   random_state=37, return_train_score=True, verbose=1)</pre></div></div></div><div class=\"sk-parallel\"><div class=\"sk-parallel-item\"><div class=\"sk-item\"><div class=\"sk-label-container\"><div class=\"sk-label sk-toggleable\"><input class=\"sk-toggleable__control sk-hidden--visually\" id=\"sk-estimator-id-6\" type=\"checkbox\" ><label for=\"sk-estimator-id-6\" class=\"sk-toggleable__label sk-toggleable__label-arrow\">estimator: ExtraTreesClassifier</label><div class=\"sk-toggleable__content\"><pre>ExtraTreesClassifier(random_state=0)</pre></div></div></div><div class=\"sk-serial\"><div class=\"sk-item\"><div class=\"sk-estimator sk-toggleable\"><input class=\"sk-toggleable__control sk-hidden--visually\" id=\"sk-estimator-id-7\" type=\"checkbox\" ><label for=\"sk-estimator-id-7\" class=\"sk-toggleable__label sk-toggleable__label-arrow\">ExtraTreesClassifier</label><div class=\"sk-toggleable__content\"><pre>ExtraTreesClassifier(random_state=0)</pre></div></div></div></div></div></div></div></div></div></div>"
      ],
      "text/plain": [
       "RandomizedSearchCV(cv=5, estimator=ExtraTreesClassifier(random_state=0),\n",
       "                   n_iter=150, n_jobs=-1,\n",
       "                   param_distributions={'max_depth': [22],\n",
       "                                        'min_samples_leaf': [1, 2, 3, 4, 5, 6,\n",
       "                                                             7, 8, 9, 10, 11,\n",
       "                                                             12, 13, 14, 15, 16,\n",
       "                                                             17, 18, 19, 20, 21,\n",
       "                                                             22, 23, 24, 25, 26,\n",
       "                                                             27, 28, 29, 30, ...],\n",
       "                                        'n_estimators': [113]},\n",
       "                   random_state=37, return_train_score=True, verbose=1)"
      ]
     },
     "execution_count": 60,
     "metadata": {},
     "output_type": "execute_result"
    }
   ],
   "source": [
    "from scipy.stats import uniform, randint\n",
    "from sklearn.model_selection import RandomizedSearchCV\n",
    " \n",
    "params = {\n",
    "    \"n_estimators\": [113], # best outcome of previous runs\n",
    "    \"max_depth\": [22],     # best outcome of previous runs\n",
    "    \"min_samples_leaf\": list(range(1, 100)),\n",
    "}\n",
    " \n",
    "forest_hyper = RandomizedSearchCV(forest, param_distributions=params, random_state=37, n_iter=150, cv=5, verbose=1, n_jobs=-1, return_train_score=True)\n",
    "forest_hyper.fit(X_train_new, y_train_new)"
   ]
  },
  {
   "cell_type": "code",
   "execution_count": 61,
   "metadata": {
    "scrolled": true
   },
   "outputs": [
    {
     "name": "stdout",
     "output_type": "stream",
     "text": [
      "Best parameters set found on development set:\n",
      "\n",
      "{'n_estimators': 113, 'min_samples_leaf': 1, 'max_depth': 22}\n",
      "\n",
      "Grid scores on development set:\n",
      "\n",
      "Accuracy = 0.864 (+/0.004) for {'n_estimators': 113, 'min_samples_leaf': 1, 'max_depth': 22}\n",
      "Accuracy = 0.849 (+/0.006) for {'n_estimators': 113, 'min_samples_leaf': 2, 'max_depth': 22}\n",
      "Accuracy = 0.833 (+/0.010) for {'n_estimators': 113, 'min_samples_leaf': 3, 'max_depth': 22}\n",
      "Accuracy = 0.823 (+/0.006) for {'n_estimators': 113, 'min_samples_leaf': 4, 'max_depth': 22}\n",
      "Accuracy = 0.814 (+/0.006) for {'n_estimators': 113, 'min_samples_leaf': 5, 'max_depth': 22}\n",
      "Accuracy = 0.804 (+/0.010) for {'n_estimators': 113, 'min_samples_leaf': 6, 'max_depth': 22}\n",
      "Accuracy = 0.796 (+/0.007) for {'n_estimators': 113, 'min_samples_leaf': 7, 'max_depth': 22}\n",
      "Accuracy = 0.791 (+/0.005) for {'n_estimators': 113, 'min_samples_leaf': 8, 'max_depth': 22}\n",
      "Accuracy = 0.785 (+/0.008) for {'n_estimators': 113, 'min_samples_leaf': 9, 'max_depth': 22}\n",
      "Accuracy = 0.780 (+/0.009) for {'n_estimators': 113, 'min_samples_leaf': 10, 'max_depth': 22}\n",
      "Accuracy = 0.775 (+/0.012) for {'n_estimators': 113, 'min_samples_leaf': 11, 'max_depth': 22}\n",
      "Accuracy = 0.772 (+/0.009) for {'n_estimators': 113, 'min_samples_leaf': 12, 'max_depth': 22}\n",
      "Accuracy = 0.767 (+/0.008) for {'n_estimators': 113, 'min_samples_leaf': 13, 'max_depth': 22}\n",
      "Accuracy = 0.761 (+/0.004) for {'n_estimators': 113, 'min_samples_leaf': 14, 'max_depth': 22}\n",
      "Accuracy = 0.758 (+/0.005) for {'n_estimators': 113, 'min_samples_leaf': 15, 'max_depth': 22}\n",
      "Accuracy = 0.755 (+/0.007) for {'n_estimators': 113, 'min_samples_leaf': 16, 'max_depth': 22}\n",
      "Accuracy = 0.752 (+/0.007) for {'n_estimators': 113, 'min_samples_leaf': 17, 'max_depth': 22}\n",
      "Accuracy = 0.748 (+/0.015) for {'n_estimators': 113, 'min_samples_leaf': 18, 'max_depth': 22}\n",
      "Accuracy = 0.747 (+/0.009) for {'n_estimators': 113, 'min_samples_leaf': 19, 'max_depth': 22}\n",
      "Accuracy = 0.741 (+/0.009) for {'n_estimators': 113, 'min_samples_leaf': 20, 'max_depth': 22}\n",
      "Accuracy = 0.741 (+/0.010) for {'n_estimators': 113, 'min_samples_leaf': 21, 'max_depth': 22}\n",
      "Accuracy = 0.736 (+/0.007) for {'n_estimators': 113, 'min_samples_leaf': 22, 'max_depth': 22}\n",
      "Accuracy = 0.734 (+/0.008) for {'n_estimators': 113, 'min_samples_leaf': 23, 'max_depth': 22}\n",
      "Accuracy = 0.733 (+/0.008) for {'n_estimators': 113, 'min_samples_leaf': 24, 'max_depth': 22}\n",
      "Accuracy = 0.730 (+/0.008) for {'n_estimators': 113, 'min_samples_leaf': 25, 'max_depth': 22}\n",
      "Accuracy = 0.727 (+/0.004) for {'n_estimators': 113, 'min_samples_leaf': 26, 'max_depth': 22}\n",
      "Accuracy = 0.727 (+/0.009) for {'n_estimators': 113, 'min_samples_leaf': 27, 'max_depth': 22}\n",
      "Accuracy = 0.727 (+/0.005) for {'n_estimators': 113, 'min_samples_leaf': 28, 'max_depth': 22}\n",
      "Accuracy = 0.726 (+/0.010) for {'n_estimators': 113, 'min_samples_leaf': 29, 'max_depth': 22}\n",
      "Accuracy = 0.722 (+/0.008) for {'n_estimators': 113, 'min_samples_leaf': 30, 'max_depth': 22}\n",
      "Accuracy = 0.720 (+/0.012) for {'n_estimators': 113, 'min_samples_leaf': 31, 'max_depth': 22}\n",
      "Accuracy = 0.718 (+/0.014) for {'n_estimators': 113, 'min_samples_leaf': 32, 'max_depth': 22}\n",
      "Accuracy = 0.720 (+/0.007) for {'n_estimators': 113, 'min_samples_leaf': 33, 'max_depth': 22}\n",
      "Accuracy = 0.717 (+/0.008) for {'n_estimators': 113, 'min_samples_leaf': 34, 'max_depth': 22}\n",
      "Accuracy = 0.714 (+/0.013) for {'n_estimators': 113, 'min_samples_leaf': 35, 'max_depth': 22}\n",
      "Accuracy = 0.714 (+/0.009) for {'n_estimators': 113, 'min_samples_leaf': 36, 'max_depth': 22}\n",
      "Accuracy = 0.713 (+/0.009) for {'n_estimators': 113, 'min_samples_leaf': 37, 'max_depth': 22}\n",
      "Accuracy = 0.710 (+/0.007) for {'n_estimators': 113, 'min_samples_leaf': 38, 'max_depth': 22}\n",
      "Accuracy = 0.713 (+/0.010) for {'n_estimators': 113, 'min_samples_leaf': 39, 'max_depth': 22}\n",
      "Accuracy = 0.712 (+/0.008) for {'n_estimators': 113, 'min_samples_leaf': 40, 'max_depth': 22}\n",
      "Accuracy = 0.709 (+/0.008) for {'n_estimators': 113, 'min_samples_leaf': 41, 'max_depth': 22}\n",
      "Accuracy = 0.710 (+/0.012) for {'n_estimators': 113, 'min_samples_leaf': 42, 'max_depth': 22}\n",
      "Accuracy = 0.707 (+/0.015) for {'n_estimators': 113, 'min_samples_leaf': 43, 'max_depth': 22}\n",
      "Accuracy = 0.707 (+/0.012) for {'n_estimators': 113, 'min_samples_leaf': 44, 'max_depth': 22}\n",
      "Accuracy = 0.706 (+/0.011) for {'n_estimators': 113, 'min_samples_leaf': 45, 'max_depth': 22}\n",
      "Accuracy = 0.704 (+/0.012) for {'n_estimators': 113, 'min_samples_leaf': 46, 'max_depth': 22}\n",
      "Accuracy = 0.703 (+/0.011) for {'n_estimators': 113, 'min_samples_leaf': 47, 'max_depth': 22}\n",
      "Accuracy = 0.703 (+/0.013) for {'n_estimators': 113, 'min_samples_leaf': 48, 'max_depth': 22}\n",
      "Accuracy = 0.701 (+/0.014) for {'n_estimators': 113, 'min_samples_leaf': 49, 'max_depth': 22}\n",
      "Accuracy = 0.699 (+/0.010) for {'n_estimators': 113, 'min_samples_leaf': 50, 'max_depth': 22}\n",
      "Accuracy = 0.700 (+/0.012) for {'n_estimators': 113, 'min_samples_leaf': 51, 'max_depth': 22}\n",
      "Accuracy = 0.700 (+/0.013) for {'n_estimators': 113, 'min_samples_leaf': 52, 'max_depth': 22}\n",
      "Accuracy = 0.701 (+/0.012) for {'n_estimators': 113, 'min_samples_leaf': 53, 'max_depth': 22}\n",
      "Accuracy = 0.699 (+/0.012) for {'n_estimators': 113, 'min_samples_leaf': 54, 'max_depth': 22}\n",
      "Accuracy = 0.699 (+/0.015) for {'n_estimators': 113, 'min_samples_leaf': 55, 'max_depth': 22}\n",
      "Accuracy = 0.698 (+/0.010) for {'n_estimators': 113, 'min_samples_leaf': 56, 'max_depth': 22}\n",
      "Accuracy = 0.699 (+/0.013) for {'n_estimators': 113, 'min_samples_leaf': 57, 'max_depth': 22}\n",
      "Accuracy = 0.696 (+/0.016) for {'n_estimators': 113, 'min_samples_leaf': 58, 'max_depth': 22}\n",
      "Accuracy = 0.696 (+/0.019) for {'n_estimators': 113, 'min_samples_leaf': 59, 'max_depth': 22}\n",
      "Accuracy = 0.694 (+/0.019) for {'n_estimators': 113, 'min_samples_leaf': 60, 'max_depth': 22}\n",
      "Accuracy = 0.693 (+/0.012) for {'n_estimators': 113, 'min_samples_leaf': 61, 'max_depth': 22}\n",
      "Accuracy = 0.693 (+/0.018) for {'n_estimators': 113, 'min_samples_leaf': 62, 'max_depth': 22}\n",
      "Accuracy = 0.693 (+/0.016) for {'n_estimators': 113, 'min_samples_leaf': 63, 'max_depth': 22}\n",
      "Accuracy = 0.694 (+/0.011) for {'n_estimators': 113, 'min_samples_leaf': 64, 'max_depth': 22}\n",
      "Accuracy = 0.694 (+/0.015) for {'n_estimators': 113, 'min_samples_leaf': 65, 'max_depth': 22}\n",
      "Accuracy = 0.690 (+/0.013) for {'n_estimators': 113, 'min_samples_leaf': 66, 'max_depth': 22}\n",
      "Accuracy = 0.690 (+/0.018) for {'n_estimators': 113, 'min_samples_leaf': 67, 'max_depth': 22}\n",
      "Accuracy = 0.691 (+/0.018) for {'n_estimators': 113, 'min_samples_leaf': 68, 'max_depth': 22}\n",
      "Accuracy = 0.690 (+/0.017) for {'n_estimators': 113, 'min_samples_leaf': 69, 'max_depth': 22}\n",
      "Accuracy = 0.690 (+/0.015) for {'n_estimators': 113, 'min_samples_leaf': 70, 'max_depth': 22}\n",
      "Accuracy = 0.688 (+/0.015) for {'n_estimators': 113, 'min_samples_leaf': 71, 'max_depth': 22}\n",
      "Accuracy = 0.689 (+/0.017) for {'n_estimators': 113, 'min_samples_leaf': 72, 'max_depth': 22}\n",
      "Accuracy = 0.687 (+/0.016) for {'n_estimators': 113, 'min_samples_leaf': 73, 'max_depth': 22}\n",
      "Accuracy = 0.687 (+/0.013) for {'n_estimators': 113, 'min_samples_leaf': 74, 'max_depth': 22}\n",
      "Accuracy = 0.686 (+/0.017) for {'n_estimators': 113, 'min_samples_leaf': 75, 'max_depth': 22}\n",
      "Accuracy = 0.685 (+/0.015) for {'n_estimators': 113, 'min_samples_leaf': 76, 'max_depth': 22}\n",
      "Accuracy = 0.684 (+/0.014) for {'n_estimators': 113, 'min_samples_leaf': 77, 'max_depth': 22}\n",
      "Accuracy = 0.683 (+/0.017) for {'n_estimators': 113, 'min_samples_leaf': 78, 'max_depth': 22}\n",
      "Accuracy = 0.682 (+/0.017) for {'n_estimators': 113, 'min_samples_leaf': 79, 'max_depth': 22}\n",
      "Accuracy = 0.681 (+/0.015) for {'n_estimators': 113, 'min_samples_leaf': 80, 'max_depth': 22}\n",
      "Accuracy = 0.681 (+/0.014) for {'n_estimators': 113, 'min_samples_leaf': 81, 'max_depth': 22}\n",
      "Accuracy = 0.682 (+/0.012) for {'n_estimators': 113, 'min_samples_leaf': 82, 'max_depth': 22}\n",
      "Accuracy = 0.681 (+/0.016) for {'n_estimators': 113, 'min_samples_leaf': 83, 'max_depth': 22}\n",
      "Accuracy = 0.681 (+/0.019) for {'n_estimators': 113, 'min_samples_leaf': 84, 'max_depth': 22}\n",
      "Accuracy = 0.678 (+/0.018) for {'n_estimators': 113, 'min_samples_leaf': 85, 'max_depth': 22}\n",
      "Accuracy = 0.678 (+/0.020) for {'n_estimators': 113, 'min_samples_leaf': 86, 'max_depth': 22}\n",
      "Accuracy = 0.679 (+/0.022) for {'n_estimators': 113, 'min_samples_leaf': 87, 'max_depth': 22}\n",
      "Accuracy = 0.679 (+/0.021) for {'n_estimators': 113, 'min_samples_leaf': 88, 'max_depth': 22}\n",
      "Accuracy = 0.679 (+/0.019) for {'n_estimators': 113, 'min_samples_leaf': 89, 'max_depth': 22}\n",
      "Accuracy = 0.675 (+/0.020) for {'n_estimators': 113, 'min_samples_leaf': 90, 'max_depth': 22}\n",
      "Accuracy = 0.674 (+/0.019) for {'n_estimators': 113, 'min_samples_leaf': 91, 'max_depth': 22}\n",
      "Accuracy = 0.676 (+/0.021) for {'n_estimators': 113, 'min_samples_leaf': 92, 'max_depth': 22}\n",
      "Accuracy = 0.676 (+/0.019) for {'n_estimators': 113, 'min_samples_leaf': 93, 'max_depth': 22}\n",
      "Accuracy = 0.674 (+/0.018) for {'n_estimators': 113, 'min_samples_leaf': 94, 'max_depth': 22}\n",
      "Accuracy = 0.673 (+/0.015) for {'n_estimators': 113, 'min_samples_leaf': 95, 'max_depth': 22}\n",
      "Accuracy = 0.673 (+/0.016) for {'n_estimators': 113, 'min_samples_leaf': 96, 'max_depth': 22}\n",
      "Accuracy = 0.672 (+/0.014) for {'n_estimators': 113, 'min_samples_leaf': 97, 'max_depth': 22}\n",
      "Accuracy = 0.671 (+/0.014) for {'n_estimators': 113, 'min_samples_leaf': 98, 'max_depth': 22}\n",
      "Accuracy = 0.670 (+/0.010) for {'n_estimators': 113, 'min_samples_leaf': 99, 'max_depth': 22}\n"
     ]
    }
   ],
   "source": [
    "print(\"Best parameters set found on development set:\")\n",
    "print()\n",
    "print(forest_hyper.best_params_)\n",
    "print()\n",
    "print(\"Grid scores on development set:\")\n",
    "print()\n",
    "means = forest_hyper.cv_results_['mean_test_score']\n",
    "stds = forest_hyper.cv_results_['std_test_score']\n",
    "for mean, std, params in zip(means, stds, forest_hyper.cv_results_['params']):\n",
    "    print(\"Accuracy = %0.3f (+/%0.03f) for %r\" % (mean, std * 2, params))"
   ]
  },
  {
   "cell_type": "code",
   "execution_count": 62,
   "metadata": {},
   "outputs": [
    {
     "name": "stdout",
     "output_type": "stream",
     "text": [
      "Fitting 5 folds for each of 42 candidates, totalling 210 fits\n"
     ]
    },
    {
     "name": "stderr",
     "output_type": "stream",
     "text": [
      "/Users/stephaniegessler/opt/anaconda3/lib/python3.9/site-packages/sklearn/model_selection/_search.py:306: UserWarning:\n",
      "\n",
      "The total space of parameters 42 is smaller than n_iter=150. Running 42 iterations. For exhaustive searches, use GridSearchCV.\n",
      "\n"
     ]
    },
    {
     "data": {
      "text/html": [
       "<style>#sk-container-id-4 {color: black;background-color: white;}#sk-container-id-4 pre{padding: 0;}#sk-container-id-4 div.sk-toggleable {background-color: white;}#sk-container-id-4 label.sk-toggleable__label {cursor: pointer;display: block;width: 100%;margin-bottom: 0;padding: 0.3em;box-sizing: border-box;text-align: center;}#sk-container-id-4 label.sk-toggleable__label-arrow:before {content: \"▸\";float: left;margin-right: 0.25em;color: #696969;}#sk-container-id-4 label.sk-toggleable__label-arrow:hover:before {color: black;}#sk-container-id-4 div.sk-estimator:hover label.sk-toggleable__label-arrow:before {color: black;}#sk-container-id-4 div.sk-toggleable__content {max-height: 0;max-width: 0;overflow: hidden;text-align: left;background-color: #f0f8ff;}#sk-container-id-4 div.sk-toggleable__content pre {margin: 0.2em;color: black;border-radius: 0.25em;background-color: #f0f8ff;}#sk-container-id-4 input.sk-toggleable__control:checked~div.sk-toggleable__content {max-height: 200px;max-width: 100%;overflow: auto;}#sk-container-id-4 input.sk-toggleable__control:checked~label.sk-toggleable__label-arrow:before {content: \"▾\";}#sk-container-id-4 div.sk-estimator input.sk-toggleable__control:checked~label.sk-toggleable__label {background-color: #d4ebff;}#sk-container-id-4 div.sk-label input.sk-toggleable__control:checked~label.sk-toggleable__label {background-color: #d4ebff;}#sk-container-id-4 input.sk-hidden--visually {border: 0;clip: rect(1px 1px 1px 1px);clip: rect(1px, 1px, 1px, 1px);height: 1px;margin: -1px;overflow: hidden;padding: 0;position: absolute;width: 1px;}#sk-container-id-4 div.sk-estimator {font-family: monospace;background-color: #f0f8ff;border: 1px dotted black;border-radius: 0.25em;box-sizing: border-box;margin-bottom: 0.5em;}#sk-container-id-4 div.sk-estimator:hover {background-color: #d4ebff;}#sk-container-id-4 div.sk-parallel-item::after {content: \"\";width: 100%;border-bottom: 1px solid gray;flex-grow: 1;}#sk-container-id-4 div.sk-label:hover label.sk-toggleable__label {background-color: #d4ebff;}#sk-container-id-4 div.sk-serial::before {content: \"\";position: absolute;border-left: 1px solid gray;box-sizing: border-box;top: 0;bottom: 0;left: 50%;z-index: 0;}#sk-container-id-4 div.sk-serial {display: flex;flex-direction: column;align-items: center;background-color: white;padding-right: 0.2em;padding-left: 0.2em;position: relative;}#sk-container-id-4 div.sk-item {position: relative;z-index: 1;}#sk-container-id-4 div.sk-parallel {display: flex;align-items: stretch;justify-content: center;background-color: white;position: relative;}#sk-container-id-4 div.sk-item::before, #sk-container-id-4 div.sk-parallel-item::before {content: \"\";position: absolute;border-left: 1px solid gray;box-sizing: border-box;top: 0;bottom: 0;left: 50%;z-index: -1;}#sk-container-id-4 div.sk-parallel-item {display: flex;flex-direction: column;z-index: 1;position: relative;background-color: white;}#sk-container-id-4 div.sk-parallel-item:first-child::after {align-self: flex-end;width: 50%;}#sk-container-id-4 div.sk-parallel-item:last-child::after {align-self: flex-start;width: 50%;}#sk-container-id-4 div.sk-parallel-item:only-child::after {width: 0;}#sk-container-id-4 div.sk-dashed-wrapped {border: 1px dashed gray;margin: 0 0.4em 0.5em 0.4em;box-sizing: border-box;padding-bottom: 0.4em;background-color: white;}#sk-container-id-4 div.sk-label label {font-family: monospace;font-weight: bold;display: inline-block;line-height: 1.2em;}#sk-container-id-4 div.sk-label-container {text-align: center;}#sk-container-id-4 div.sk-container {/* jupyter's `normalize.less` sets `[hidden] { display: none; }` but bootstrap.min.css set `[hidden] { display: none !important; }` so we also need the `!important` here to be able to override the default hidden behavior on the sphinx rendered scikit-learn.org. See: https://github.com/scikit-learn/scikit-learn/issues/21755 */display: inline-block !important;position: relative;}#sk-container-id-4 div.sk-text-repr-fallback {display: none;}</style><div id=\"sk-container-id-4\" class=\"sk-top-container\"><div class=\"sk-text-repr-fallback\"><pre>RandomizedSearchCV(cv=5, estimator=ExtraTreesClassifier(random_state=0),\n",
       "                   n_iter=150, n_jobs=-1,\n",
       "                   param_distributions={&#x27;max_depth&#x27;: [8, 9, 10, 11, 12, 13, 14,\n",
       "                                                      15, 16, 17, 18, 19, 20,\n",
       "                                                      21, 22, 23, 24, 25, 26,\n",
       "                                                      27, 28, 29, 30, 31, 32,\n",
       "                                                      33, 34, 35, 36, 37, ...]},\n",
       "                   random_state=37, return_train_score=True, verbose=1)</pre><b>In a Jupyter environment, please rerun this cell to show the HTML representation or trust the notebook. <br />On GitHub, the HTML representation is unable to render, please try loading this page with nbviewer.org.</b></div><div class=\"sk-container\" hidden><div class=\"sk-item sk-dashed-wrapped\"><div class=\"sk-label-container\"><div class=\"sk-label sk-toggleable\"><input class=\"sk-toggleable__control sk-hidden--visually\" id=\"sk-estimator-id-8\" type=\"checkbox\" ><label for=\"sk-estimator-id-8\" class=\"sk-toggleable__label sk-toggleable__label-arrow\">RandomizedSearchCV</label><div class=\"sk-toggleable__content\"><pre>RandomizedSearchCV(cv=5, estimator=ExtraTreesClassifier(random_state=0),\n",
       "                   n_iter=150, n_jobs=-1,\n",
       "                   param_distributions={&#x27;max_depth&#x27;: [8, 9, 10, 11, 12, 13, 14,\n",
       "                                                      15, 16, 17, 18, 19, 20,\n",
       "                                                      21, 22, 23, 24, 25, 26,\n",
       "                                                      27, 28, 29, 30, 31, 32,\n",
       "                                                      33, 34, 35, 36, 37, ...]},\n",
       "                   random_state=37, return_train_score=True, verbose=1)</pre></div></div></div><div class=\"sk-parallel\"><div class=\"sk-parallel-item\"><div class=\"sk-item\"><div class=\"sk-label-container\"><div class=\"sk-label sk-toggleable\"><input class=\"sk-toggleable__control sk-hidden--visually\" id=\"sk-estimator-id-9\" type=\"checkbox\" ><label for=\"sk-estimator-id-9\" class=\"sk-toggleable__label sk-toggleable__label-arrow\">estimator: ExtraTreesClassifier</label><div class=\"sk-toggleable__content\"><pre>ExtraTreesClassifier(random_state=0)</pre></div></div></div><div class=\"sk-serial\"><div class=\"sk-item\"><div class=\"sk-estimator sk-toggleable\"><input class=\"sk-toggleable__control sk-hidden--visually\" id=\"sk-estimator-id-10\" type=\"checkbox\" ><label for=\"sk-estimator-id-10\" class=\"sk-toggleable__label sk-toggleable__label-arrow\">ExtraTreesClassifier</label><div class=\"sk-toggleable__content\"><pre>ExtraTreesClassifier(random_state=0)</pre></div></div></div></div></div></div></div></div></div></div>"
      ],
      "text/plain": [
       "RandomizedSearchCV(cv=5, estimator=ExtraTreesClassifier(random_state=0),\n",
       "                   n_iter=150, n_jobs=-1,\n",
       "                   param_distributions={'max_depth': [8, 9, 10, 11, 12, 13, 14,\n",
       "                                                      15, 16, 17, 18, 19, 20,\n",
       "                                                      21, 22, 23, 24, 25, 26,\n",
       "                                                      27, 28, 29, 30, 31, 32,\n",
       "                                                      33, 34, 35, 36, 37, ...]},\n",
       "                   random_state=37, return_train_score=True, verbose=1)"
      ]
     },
     "execution_count": 62,
     "metadata": {},
     "output_type": "execute_result"
    }
   ],
   "source": [
    "from scipy.stats import uniform, randint\n",
    "from sklearn.model_selection import RandomizedSearchCV\n",
    " \n",
    "params = {\n",
    "    \"max_depth\": list(range(8, 50)),\n",
    "}\n",
    " \n",
    "forest_hyper = RandomizedSearchCV(forest, param_distributions=params, random_state=37, n_iter=150, cv=5, verbose=1, n_jobs=-1, return_train_score=True)\n",
    "forest_hyper.fit(X_train_new, y_train_new)"
   ]
  },
  {
   "cell_type": "code",
   "execution_count": 63,
   "metadata": {},
   "outputs": [
    {
     "name": "stdout",
     "output_type": "stream",
     "text": [
      "Best parameters set found on development set:\n",
      "\n",
      "{'max_depth': 28}\n",
      "\n",
      "Grid scores on development set:\n",
      "\n",
      "Accuracy = 0.728 (+/0.011) for {'max_depth': 8}\n",
      "Accuracy = 0.752 (+/0.011) for {'max_depth': 9}\n",
      "Accuracy = 0.774 (+/0.006) for {'max_depth': 10}\n",
      "Accuracy = 0.797 (+/0.010) for {'max_depth': 11}\n",
      "Accuracy = 0.814 (+/0.005) for {'max_depth': 12}\n",
      "Accuracy = 0.827 (+/0.007) for {'max_depth': 13}\n",
      "Accuracy = 0.840 (+/0.005) for {'max_depth': 14}\n",
      "Accuracy = 0.846 (+/0.008) for {'max_depth': 15}\n",
      "Accuracy = 0.853 (+/0.008) for {'max_depth': 16}\n",
      "Accuracy = 0.856 (+/0.006) for {'max_depth': 17}\n",
      "Accuracy = 0.860 (+/0.004) for {'max_depth': 18}\n",
      "Accuracy = 0.862 (+/0.004) for {'max_depth': 19}\n",
      "Accuracy = 0.863 (+/0.002) for {'max_depth': 20}\n",
      "Accuracy = 0.863 (+/0.005) for {'max_depth': 21}\n",
      "Accuracy = 0.863 (+/0.004) for {'max_depth': 22}\n",
      "Accuracy = 0.865 (+/0.001) for {'max_depth': 23}\n",
      "Accuracy = 0.866 (+/0.004) for {'max_depth': 24}\n",
      "Accuracy = 0.865 (+/0.003) for {'max_depth': 25}\n",
      "Accuracy = 0.866 (+/0.005) for {'max_depth': 26}\n",
      "Accuracy = 0.865 (+/0.001) for {'max_depth': 27}\n",
      "Accuracy = 0.866 (+/0.005) for {'max_depth': 28}\n",
      "Accuracy = 0.865 (+/0.008) for {'max_depth': 29}\n",
      "Accuracy = 0.866 (+/0.004) for {'max_depth': 30}\n",
      "Accuracy = 0.865 (+/0.004) for {'max_depth': 31}\n",
      "Accuracy = 0.865 (+/0.004) for {'max_depth': 32}\n",
      "Accuracy = 0.866 (+/0.001) for {'max_depth': 33}\n",
      "Accuracy = 0.865 (+/0.002) for {'max_depth': 34}\n",
      "Accuracy = 0.866 (+/0.002) for {'max_depth': 35}\n",
      "Accuracy = 0.866 (+/0.003) for {'max_depth': 36}\n",
      "Accuracy = 0.866 (+/0.003) for {'max_depth': 37}\n",
      "Accuracy = 0.866 (+/0.003) for {'max_depth': 38}\n",
      "Accuracy = 0.866 (+/0.003) for {'max_depth': 39}\n",
      "Accuracy = 0.866 (+/0.003) for {'max_depth': 40}\n",
      "Accuracy = 0.866 (+/0.003) for {'max_depth': 41}\n",
      "Accuracy = 0.866 (+/0.003) for {'max_depth': 42}\n",
      "Accuracy = 0.866 (+/0.003) for {'max_depth': 43}\n",
      "Accuracy = 0.866 (+/0.003) for {'max_depth': 44}\n",
      "Accuracy = 0.866 (+/0.003) for {'max_depth': 45}\n",
      "Accuracy = 0.866 (+/0.003) for {'max_depth': 46}\n",
      "Accuracy = 0.866 (+/0.003) for {'max_depth': 47}\n",
      "Accuracy = 0.866 (+/0.003) for {'max_depth': 48}\n",
      "Accuracy = 0.866 (+/0.003) for {'max_depth': 49}\n"
     ]
    }
   ],
   "source": [
    "print(\"Best parameters set found on development set:\")\n",
    "print()\n",
    "print(forest_hyper.best_params_)\n",
    "print()\n",
    "print(\"Grid scores on development set:\")\n",
    "print()\n",
    "means = forest_hyper.cv_results_['mean_test_score']\n",
    "stds = forest_hyper.cv_results_['std_test_score']\n",
    "for mean, std, params in zip(means, stds, forest_hyper.cv_results_['params']):\n",
    "    print(\"Accuracy = %0.3f (+/%0.03f) for %r\" % (mean, std * 2, params))"
   ]
  },
  {
   "cell_type": "code",
   "execution_count": 64,
   "metadata": {},
   "outputs": [],
   "source": [
    "tree = DecisionTreeClassifier(random_state=18)\n",
    "model_tree = tree.fit(X_train_new, y_train_new)"
   ]
  },
  {
   "cell_type": "code",
   "execution_count": 65,
   "metadata": {},
   "outputs": [],
   "source": [
    "y_pred_tr = tree.predict(X_train_new)\n",
    "y_pred_ts = tree.predict(X_val_new)"
   ]
  },
  {
   "cell_type": "code",
   "execution_count": 66,
   "metadata": {},
   "outputs": [
    {
     "name": "stdout",
     "output_type": "stream",
     "text": [
      "Training Results:\n",
      "\n",
      "              precision    recall  f1-score   support\n",
      "\n",
      "           1       1.00      1.00      1.00      1728\n",
      "           2       1.00      1.00      1.00      1728\n",
      "           3       1.00      1.00      1.00      1728\n",
      "           4       1.00      1.00      1.00      1728\n",
      "           5       1.00      1.00      1.00      1728\n",
      "           6       1.00      1.00      1.00      1728\n",
      "           7       1.00      1.00      1.00      1728\n",
      "\n",
      "    accuracy                           1.00     12096\n",
      "   macro avg       1.00      1.00      1.00     12096\n",
      "weighted avg       1.00      1.00      1.00     12096\n",
      "\n",
      "\n",
      "Testing Results:\n",
      "\n",
      "              precision    recall  f1-score   support\n",
      "\n",
      "           1       0.64      0.64      0.64       432\n",
      "           2       0.56      0.57      0.56       432\n",
      "           3       0.72      0.66      0.69       432\n",
      "           4       0.91      0.92      0.91       432\n",
      "           5       0.85      0.79      0.82       432\n",
      "           6       0.69      0.76      0.73       432\n",
      "           7       0.91      0.91      0.91       432\n",
      "\n",
      "    accuracy                           0.75      3024\n",
      "   macro avg       0.75      0.75      0.75      3024\n",
      "weighted avg       0.75      0.75      0.75      3024\n",
      "\n"
     ]
    }
   ],
   "source": [
    "print(\"Training Results:\\n\")\n",
    "print(classification_report(y_train_new, y_pred_tr))\n",
    "print(\"\\nTesting Results:\\n\")\n",
    "print(classification_report(y_val_new, y_pred_ts))"
   ]
  },
  {
   "cell_type": "code",
   "execution_count": null,
   "metadata": {},
   "outputs": [],
   "source": [
    "y_val_new"
   ]
  },
  {
   "cell_type": "code",
   "execution_count": null,
   "metadata": {},
   "outputs": [],
   "source": [
    "plot_ROC_curve(model_tree, X_train_new.values,y_train_new, X_val_new.values, y_val_new)"
   ]
  },
  {
   "cell_type": "markdown",
   "metadata": {},
   "source": [
    "Random Forest"
   ]
  },
  {
   "cell_type": "code",
   "execution_count": 67,
   "metadata": {},
   "outputs": [],
   "source": [
    "from sklearn.model_selection import train_test_split\n",
    "from sklearn.ensemble import RandomForestClassifier"
   ]
  },
  {
   "cell_type": "code",
   "execution_count": 68,
   "metadata": {},
   "outputs": [],
   "source": [
    "forest = RandomForestClassifier(n_estimators=20)\n",
    "model_forest = forest.fit(X_train_new,y_train_new)"
   ]
  },
  {
   "cell_type": "code",
   "execution_count": 69,
   "metadata": {},
   "outputs": [
    {
     "data": {
      "text/plain": [
       "0.8442460317460317"
      ]
     },
     "execution_count": 69,
     "metadata": {},
     "output_type": "execute_result"
    }
   ],
   "source": [
    "forest.score(X_val_new,y_val_new)"
   ]
  },
  {
   "cell_type": "code",
   "execution_count": 70,
   "metadata": {},
   "outputs": [],
   "source": [
    "# Make predictions for the test set\n",
    "y_pred_test_forest = forest.predict(X_val_new)"
   ]
  },
  {
   "cell_type": "code",
   "execution_count": 71,
   "metadata": {},
   "outputs": [
    {
     "data": {
      "image/png": "[encoded data removed]",
      "text/plain": [
       "<Figure size 1152x504 with 2 Axes>"
      ]
     },
     "metadata": {
      "needs_background": "light"
     },
     "output_type": "display_data"
    }
   ],
   "source": [
    "# Get and reshape confusion matrix data\n",
    "matrix = confusion_matrix(y_val_new, y_pred_test_forest)\n",
    "matrix = matrix.astype('float') / matrix.sum(axis=1)[:, np.newaxis]\n",
    "\n",
    "# Build the plot\n",
    "plt.figure(figsize=(16,7))\n",
    "sns.set(font_scale=1.4)\n",
    "sns.heatmap(matrix, annot=True, annot_kws={'size':10},\n",
    "            cmap=plt.cm.Greens, linewidths=0.2)\n",
    "\n",
    "# Add labels to the plot\n",
    "class_names = ['Spruce/Fir', 'Lodgepole Pine', 'Ponderosa Pine', \n",
    "               'Cottonwood/Willow', 'Aspen', 'Douglas-fir',    \n",
    "               'Krummholz']\n",
    "tick_marks = np.arange(len(class_names))\n",
    "tick_marks2 = tick_marks + 0.5\n",
    "plt.xticks(tick_marks, class_names, rotation=25)\n",
    "plt.yticks(tick_marks2, class_names, rotation=0)\n",
    "plt.xlabel('Predicted label')\n",
    "plt.ylabel('True label')\n",
    "plt.title('Confusion Matrix for Random Forest Model')\n",
    "plt.show()"
   ]
  },
  {
   "cell_type": "code",
   "execution_count": 72,
   "metadata": {},
   "outputs": [
    {
     "name": "stdout",
     "output_type": "stream",
     "text": [
      "              precision    recall  f1-score   support\n",
      "\n",
      "           1       0.75      0.76      0.76       432\n",
      "           2       0.76      0.62      0.68       432\n",
      "           3       0.81      0.83      0.82       432\n",
      "           4       0.92      0.97      0.94       432\n",
      "           5       0.88      0.94      0.91       432\n",
      "           6       0.84      0.84      0.84       432\n",
      "           7       0.93      0.96      0.95       432\n",
      "\n",
      "    accuracy                           0.84      3024\n",
      "   macro avg       0.84      0.84      0.84      3024\n",
      "weighted avg       0.84      0.84      0.84      3024\n",
      "\n"
     ]
    }
   ],
   "source": [
    "print(classification_report(y_val_new, y_pred_test_forest))"
   ]
  },
  {
   "cell_type": "code",
   "execution_count": 73,
   "metadata": {},
   "outputs": [
    {
     "name": "stdout",
     "output_type": "stream",
     "text": [
      "Accuracy = 0.8466\n"
     ]
    }
   ],
   "source": [
    "forest = RandomForestClassifier(n_estimators=20, random_state=37)\n",
    "print(\"Accuracy = {0:.4f}\".format(np.mean(cross_val_score(forest, X_train_new, y_train_new))))"
   ]
  },
  {
   "cell_type": "markdown",
   "metadata": {},
   "source": [
    "### <font color=green> 7.1.2. Bagging <font>"
   ]
  },
  {
   "cell_type": "code",
   "execution_count": 74,
   "metadata": {},
   "outputs": [
    {
     "name": "stdout",
     "output_type": "stream",
     "text": [
      "Accuracy = 0.7095\n"
     ]
    }
   ],
   "source": [
    "from sklearn.ensemble import BaggingClassifier\n",
    "\n",
    "bag_clf = BaggingClassifier(DecisionTreeClassifier(), n_estimators=500, max_samples=100, \n",
    "                               bootstrap=True, n_jobs = 1)\n",
    "bag_clf.fit(X_train_new, y_train_new)\n",
    "y_pred = bag_clf.predict(X_val_new)\n",
    "print(\"Accuracy = {0:.4f}\".format(np.mean(cross_val_score(bag_clf, X_train_new, y_train_new))))"
   ]
  },
  {
   "cell_type": "code",
   "execution_count": 75,
   "metadata": {},
   "outputs": [
    {
     "name": "stdout",
     "output_type": "stream",
     "text": [
      "Accuracy = 0.7770\n"
     ]
    }
   ],
   "source": [
    "\n",
    "X = X_train_new\n",
    "y = y_train_new\n",
    "tree_1 = DecisionTreeClassifier(random_state=42)\n",
    "print(\"Accuracy = {0:.4f}\".format(np.mean(cross_val_score(tree_1, X, y))))"
   ]
  },
  {
   "cell_type": "markdown",
   "metadata": {},
   "source": [
    "Get a low accuracy with correlated features, I try below with a different split set (taking out correlated features)"
   ]
  },
  {
   "cell_type": "raw",
   "metadata": {},
   "source": [
    "X = X_train_new_10\n",
    "y = y_train_new\n",
    "tree_2 = DecisionTreeClassifier(random_state=42)\n",
    "print(\"Accuracy = {0:.4f}\".format(np.mean(cross_val_score(tree_1, X, y))))"
   ]
  },
  {
   "cell_type": "markdown",
   "metadata": {},
   "source": [
    "An even worse accuracy... Let's see how the tree looks like"
   ]
  },
  {
   "cell_type": "raw",
   "metadata": {},
   "source": [
    "plot_tree(tree_1.fit(X,y), X.columns)"
   ]
  },
  {
   "cell_type": "markdown",
   "metadata": {},
   "source": [
    "### <font color=green> 7.1.3. XGBoost <font>"
   ]
  },
  {
   "cell_type": "code",
   "execution_count": null,
   "metadata": {},
   "outputs": [],
   "source": []
  },
  {
   "cell_type": "code",
   "execution_count": null,
   "metadata": {},
   "outputs": [],
   "source": []
  },
  {
   "cell_type": "code",
   "execution_count": null,
   "metadata": {},
   "outputs": [],
   "source": []
  },
  {
   "cell_type": "markdown",
   "metadata": {},
   "source": [
    "## <font color=green> 7.1. Random Forest   <font>"
   ]
  },
  {
   "cell_type": "markdown",
   "metadata": {},
   "source": [
    "## <font color=green> 7.1. XGB Boost  <font>"
   ]
  },
  {
   "cell_type": "markdown",
   "metadata": {},
   "source": [
    "## <font color=green> 7.1. KNN  <font>\n",
    "KNN is better on smaller dataset, however we will evaluate the performance of this model "
   ]
  },
  {
   "cell_type": "code",
   "execution_count": 77,
   "metadata": {},
   "outputs": [],
   "source": [
    "from sklearn.neighbors import KNeighborsClassifier"
   ]
  },
  {
   "cell_type": "markdown",
   "metadata": {},
   "source": [
    "To find out the best value for k we will use a for loop, and with the range from 1 to 200 range (1,200,10). I reduced the range to 10 but will use iterations of 1. And it gives me the best K = 1. "
   ]
  },
  {
   "cell_type": "code",
   "execution_count": 78,
   "metadata": {},
   "outputs": [],
   "source": [
    "k_neighbors_list = range (1,100,1)\n",
    "\n",
    "results_list = []\n",
    "\n",
    "for k in k_neighbors_list:\n",
    "    clf = KNeighborsClassifier(n_neighbors=k, p=1) # using manhattan_distance \n",
    "    clf.fit(X_train_new, y_train_new)\n",
    "    y_pred_test = clf.predict(X_val_new)\n",
    "    acc_k = accuracy_score(y_val_new, y_pred_test)\n",
    "    \n",
    "    results_list.append({\n",
    "        \"k\": k,\n",
    "        \"acc\": acc_k\n",
    "    })\n",
    "    \n",
    "results = pd.DataFrame(results_list)"
   ]
  },
  {
   "cell_type": "markdown",
   "metadata": {},
   "source": [
    "p = 1 (Manhatten Distance), the best k = 8 with accuracy= 0.759259\n",
    "p = 2 (Euclidean Distance), the best k = 1 with accuracy = 0.761905"
   ]
  },
  {
   "cell_type": "markdown",
   "metadata": {},
   "source": [
    "Checking the best value for K and accuracy "
   ]
  },
  {
   "cell_type": "code",
   "execution_count": 79,
   "metadata": {},
   "outputs": [
    {
     "data": {
      "text/html": [
       "<div>\n",
       "<style scoped>\n",
       "    .dataframe tbody tr th:only-of-type {\n",
       "        vertical-align: middle;\n",
       "    }\n",
       "\n",
       "    .dataframe tbody tr th {\n",
       "        vertical-align: top;\n",
       "    }\n",
       "\n",
       "    .dataframe thead th {\n",
       "        text-align: right;\n",
       "    }\n",
       "</style>\n",
       "<table border=\"1\" class=\"dataframe\">\n",
       "  <thead>\n",
       "    <tr style=\"text-align: right;\">\n",
       "      <th></th>\n",
       "      <th>k</th>\n",
       "      <th>acc</th>\n",
       "    </tr>\n",
       "  </thead>\n",
       "  <tbody>\n",
       "    <tr>\n",
       "      <th>0</th>\n",
       "      <td>1</td>\n",
       "      <td>0.866402</td>\n",
       "    </tr>\n",
       "    <tr>\n",
       "      <th>2</th>\n",
       "      <td>3</td>\n",
       "      <td>0.849206</td>\n",
       "    </tr>\n",
       "    <tr>\n",
       "      <th>4</th>\n",
       "      <td>5</td>\n",
       "      <td>0.848545</td>\n",
       "    </tr>\n",
       "    <tr>\n",
       "      <th>3</th>\n",
       "      <td>4</td>\n",
       "      <td>0.846892</td>\n",
       "    </tr>\n",
       "    <tr>\n",
       "      <th>1</th>\n",
       "      <td>2</td>\n",
       "      <td>0.842593</td>\n",
       "    </tr>\n",
       "    <tr>\n",
       "      <th>...</th>\n",
       "      <td>...</td>\n",
       "      <td>...</td>\n",
       "    </tr>\n",
       "    <tr>\n",
       "      <th>95</th>\n",
       "      <td>96</td>\n",
       "      <td>0.730489</td>\n",
       "    </tr>\n",
       "    <tr>\n",
       "      <th>96</th>\n",
       "      <td>97</td>\n",
       "      <td>0.729828</td>\n",
       "    </tr>\n",
       "    <tr>\n",
       "      <th>92</th>\n",
       "      <td>93</td>\n",
       "      <td>0.729497</td>\n",
       "    </tr>\n",
       "    <tr>\n",
       "      <th>98</th>\n",
       "      <td>99</td>\n",
       "      <td>0.729167</td>\n",
       "    </tr>\n",
       "    <tr>\n",
       "      <th>97</th>\n",
       "      <td>98</td>\n",
       "      <td>0.728175</td>\n",
       "    </tr>\n",
       "  </tbody>\n",
       "</table>\n",
       "<p>99 rows × 2 columns</p>\n",
       "</div>"
      ],
      "text/plain": [
       "     k       acc\n",
       "0    1  0.866402\n",
       "2    3  0.849206\n",
       "4    5  0.848545\n",
       "3    4  0.846892\n",
       "1    2  0.842593\n",
       "..  ..       ...\n",
       "95  96  0.730489\n",
       "96  97  0.729828\n",
       "92  93  0.729497\n",
       "98  99  0.729167\n",
       "97  98  0.728175\n",
       "\n",
       "[99 rows x 2 columns]"
      ]
     },
     "execution_count": 79,
     "metadata": {},
     "output_type": "execute_result"
    }
   ],
   "source": [
    "test = results.sort_values('acc', ascending = False) \n",
    "test"
   ]
  },
  {
   "cell_type": "code",
   "execution_count": 80,
   "metadata": {},
   "outputs": [
    {
     "data": {
      "text/plain": [
       "Text(0, 0.5, 'Testing Accuracy')"
      ]
     },
     "execution_count": 80,
     "metadata": {},
     "output_type": "execute_result"
    },
    {
     "data": {
      "image/png": "[encoded data removed]",
      "text/plain": [
       "<Figure size 432x288 with 1 Axes>"
      ]
     },
     "metadata": {},
     "output_type": "display_data"
    }
   ],
   "source": [
    "plt.plot(results['k'],results['acc'])\n",
    "plt.xlabel('Valie for k for KNN')\n",
    "plt.ylabel('Testing Accuracy')"
   ]
  },
  {
   "cell_type": "code",
   "execution_count": 81,
   "metadata": {},
   "outputs": [],
   "source": [
    "k_neighbors_list = range (1,40,1)\n",
    "\n",
    "K_scores = []\n",
    "\n",
    "for k in k_neighbors_list:\n",
    "    # Run KNeighborsClassifier with k neighbours \n",
    "    knn = KNeighborsClassifier(n_neighbors=k, p=1) # using manhattan_distance \n",
    "    # Obtain Cross_val_score for KneighborsClassifier with k neighbors \n",
    "    scores = cross_val_score(knn,X_train_new, y_train_new, cv= 5, scoring= \"accuracy\")\n",
    "    # Append mean of scores for K neighbors to k_scores list \n",
    "    K_scores.append({\n",
    "        \"k\": k,\n",
    "        \"acc\": scores.mean\n",
    "    })\n",
    "    \n",
    "results = pd.DataFrame(K_scores)"
   ]
  },
  {
   "cell_type": "code",
   "execution_count": 82,
   "metadata": {},
   "outputs": [],
   "source": [
    "#test = results.sort_values(K_scores, ascending = False) \n",
    "#test"
   ]
  },
  {
   "cell_type": "markdown",
   "metadata": {},
   "source": [
    "Using Grridsearch and cross validation we will adapt the model. <br>\n",
    "We first create a KNN classifier instance and then prepare a range of values of hyperparameter K from 1 to 31 that will be used by GridSearchCV to find the best value of K.\n",
    "\n",
    "Furthermore, we set our cross-validation batch sizes cv = 5 and set scoring metrics as accuracy as our preference."
   ]
  },
  {
   "cell_type": "code",
   "execution_count": 83,
   "metadata": {},
   "outputs": [],
   "source": [
    "cross_valid_scores = {}\n",
    "parameters = {\n",
    "    \"n_neighbors\": list(range(1,20,1)),\n",
    "    \"leaf_size\":list(range(1,100,20)),\n",
    "    \"metric\":[\"euclidean\",\"manhattan\"]    \n",
    "}\n",
    "\n",
    "model_KNN = KNeighborsClassifier()\n",
    "\n",
    "model_KNN = GridSearchCV(\n",
    "    model_KNN,\n",
    "    parameters,\n",
    "    cv=5,\n",
    "    scoring = \"accuracy\"\n",
    "\n",
    ")\n",
    "KNN_results = model_KNN.fit(X_train_new, y_train_new)"
   ]
  },
  {
   "cell_type": "code",
   "execution_count": 84,
   "metadata": {},
   "outputs": [
    {
     "data": {
      "text/plain": [
       "{'leaf_size': 1, 'metric': 'manhattan', 'n_neighbors': 1}"
      ]
     },
     "execution_count": 84,
     "metadata": {},
     "output_type": "execute_result"
    }
   ],
   "source": [
    "KNN_results.best_score_\n",
    "KNN_results.best_estimator_\n",
    "KNN_results.best_params_"
   ]
  },
  {
   "cell_type": "code",
   "execution_count": 85,
   "metadata": {},
   "outputs": [
    {
     "name": "stdout",
     "output_type": "stream",
     "text": [
      "Accuracy for our training dataset with tuning is : 85.41%\n"
     ]
    }
   ],
   "source": [
    "accuracy = KNN_results.best_score_ *100\n",
    "print(\"Accuracy for our training dataset with tuning is : {:.2f}%\".format(accuracy) )"
   ]
  },
  {
   "cell_type": "code",
   "execution_count": null,
   "metadata": {},
   "outputs": [],
   "source": []
  },
  {
   "cell_type": "markdown",
   "metadata": {},
   "source": [
    "Using the best model to calculate the mean cross validation score to compare the model later with each other"
   ]
  },
  {
   "cell_type": "code",
   "execution_count": 86,
   "metadata": {},
   "outputs": [],
   "source": [
    "knn = KNeighborsClassifier(n_neighbors=1,leaf_size=1,metric='euclidean')\n",
    "\n",
    "scores = cross_val_score(knn, X_train_new, y_train_new, cv = 10, scoring = \"accuracy\")"
   ]
  },
  {
   "cell_type": "code",
   "execution_count": 87,
   "metadata": {},
   "outputs": [
    {
     "name": "stdout",
     "output_type": "stream",
     "text": [
      "Accuracy = 0.8664\n",
      "\n",
      "Classification Report\n",
      "              precision    recall  f1-score   support\n",
      "\n",
      "           1       0.75      0.80      0.77       402\n",
      "           2       0.65      0.76      0.70       367\n",
      "           3       0.84      0.88      0.86       410\n",
      "           4       0.99      0.94      0.96       456\n",
      "           5       0.98      0.87      0.92       489\n",
      "           6       0.89      0.86      0.87       448\n",
      "           7       0.98      0.94      0.96       452\n",
      "\n",
      "    accuracy                           0.87      3024\n",
      "   macro avg       0.87      0.86      0.86      3024\n",
      "weighted avg       0.88      0.87      0.87      3024\n",
      "\n"
     ]
    }
   ],
   "source": [
    "print(\"Accuracy = {0:.4f}\\n\".format(accuracy_score(model_KNN.predict(X_val_new), y_val_new)))\n",
    "print(\"Classification Report\")\n",
    "print(classification_report(model_KNN.predict(X_val_new), y_val_new))"
   ]
  },
  {
   "cell_type": "code",
   "execution_count": 88,
   "metadata": {},
   "outputs": [
    {
     "data": {
      "text/plain": [
       "<sklearn.metrics._plot.confusion_matrix.ConfusionMatrixDisplay at 0x7fead6586580>"
      ]
     },
     "execution_count": 88,
     "metadata": {},
     "output_type": "execute_result"
    },
    {
     "data": {
      "image/png": "[encoded data removed]",
      "text/plain": [
       "<Figure size 432x288 with 2 Axes>"
      ]
     },
     "metadata": {},
     "output_type": "display_data"
    }
   ],
   "source": [
    "plot_confusion_matrix(model_KNN,X_val_new, y_val_new,cmap=plt.cm.Blues,values_format='d' )"
   ]
  },
  {
   "cell_type": "code",
   "execution_count": 89,
   "metadata": {},
   "outputs": [],
   "source": [
    "classifiers_compare = classifiers_compare.append({'Algorithm': \"KNN\", 'Mean CV Score':(scores.mean())},ignore_index=True)"
   ]
  },
  {
   "cell_type": "markdown",
   "metadata": {},
   "source": [
    "kNN is simple to use and can return very accurate and meaningful results. It also has a tendency to be computationally expensive, so it may not be your best choice for larger datasets. "
   ]
  },
  {
   "cell_type": "markdown",
   "metadata": {},
   "source": [
    "## <font color=green> 7.1. SVM  <font>\n",
    "The multiclass problem is broken down to multiple binary classification cases, which is also called one-vs-one. In scikit-learn one-vs-one is not default and needs to be selected explicitly (as can be seen further down in the code). One-vs-rest is set as default. It basically divides the data points in class x and rest. Consecutively a certain class is distinguished from all other classes.  The penalty term C is set to 1 for all classifiers. For the multiclass classification, the type one-versus-one is specified, as can be seen in decision_function_shape=’ovo’"
   ]
  },
  {
   "cell_type": "code",
   "execution_count": 90,
   "metadata": {},
   "outputs": [
    {
     "name": "stdout",
     "output_type": "stream",
     "text": [
      "SVM Accuracy = 0.7908\n"
     ]
    }
   ],
   "source": [
    "from sklearn import svm\n",
    "from sklearn.multiclass import OneVsRestClassifier\n",
    "ovr_clf = OneVsRestClassifier(svm.SVC(C=10,kernel='rbf'))\n",
    "ovr_clf.fit(X_train_new, y_train_new)\n",
    "print(\"SVM Accuracy = {:.4f}\".format(np.mean(cross_val_score(ovr_clf, X_train_new, y_train_new))))"
   ]
  },
  {
   "cell_type": "markdown",
   "metadata": {},
   "source": [
    "The Model output is not very good, lets fine tune the SVM parameters to further improve the model performance. \n",
    "_C_ is the balance between margin violations (low C) or better generalization of the models. _Gamma_ acts like a regularization hyperparamter. If the model is overfitting it is advisable to redeuce it.If it is underfitting you should increase it. The best Kernel to use if the dataset is large is _Gaussoan RBF kernel_. Since we already used Polynominal in our dataset we will disregard this option. "
   ]
  },
  {
   "cell_type": "code",
   "execution_count": 91,
   "metadata": {},
   "outputs": [
    {
     "name": "stderr",
     "output_type": "stream",
     "text": [
      "/Users/stephaniegessler/opt/anaconda3/lib/python3.9/site-packages/joblib/externals/loky/process_executor.py:702: UserWarning:\n",
      "\n",
      "A worker stopped while some jobs were given to the executor. This can be caused by a too short worker timeout or by a memory leak.\n",
      "\n"
     ]
    },
    {
     "name": "stdout",
     "output_type": "stream",
     "text": [
      "0.7500826446280991\n",
      "{'estimator__C': 100, 'estimator__gamma': 0.01}\n"
     ]
    }
   ],
   "source": [
    "from sklearn.multiclass import OneVsRestClassifier\n",
    "from sklearn.svm import SVC\n",
    "from sklearn.metrics import f1_score\n",
    "\n",
    "\n",
    "model_to_set = OneVsRestClassifier(SVC(kernel=\"rbf\"))\n",
    "\n",
    "parameters = {\n",
    "    \"estimator__C\": [1,10,100],\n",
    "    \"estimator__gamma\":[0.01,0.0001,0.00001],\n",
    "}\n",
    "\n",
    "estimator = GridSearchCV(model_to_set, param_grid=parameters, cv=5, n_jobs=-1)\n",
    "\n",
    "estimator.fit(X_train_new, y_train_new)\n",
    "\n",
    "print(estimator.best_score_)\n",
    "print (estimator.best_params_)"
   ]
  },
  {
   "cell_type": "code",
   "execution_count": 92,
   "metadata": {},
   "outputs": [
    {
     "name": "stdout",
     "output_type": "stream",
     "text": [
      "The best parameters are {'estimator__C': 100, 'estimator__gamma': 0.01} with a score of 0.75\n"
     ]
    },
    {
     "name": "stderr",
     "output_type": "stream",
     "text": [
      "/var/folders/ks/5bc1x9p158vgc4774v7r2tq40000gn/T/ipykernel_5728/3024039189.py:14: MatplotlibDeprecationWarning:\n",
      "\n",
      "Auto-removal of grids by pcolor() and pcolormesh() is deprecated since 3.5 and will be removed two minor releases later; please call grid(False) first.\n",
      "\n"
     ]
    },
    {
     "data": {
      "image/png": "[encoded data removed]",
      "text/plain": [
       "<Figure size 360x360 with 2 Axes>"
      ]
     },
     "metadata": {},
     "output_type": "display_data"
    }
   ],
   "source": [
    "print(\"The best parameters are %s with a score of %0.2f\"\n",
    "      % (estimator.best_params_, estimator.best_score_))\n",
    "\n",
    "\n",
    "scores = estimator.cv_results_['mean_test_score'].reshape(len(parameters['estimator__C']), len(parameters['estimator__gamma']))\n",
    "\n",
    "# Draw heatmap of the validation accuracy as a function of gamma and C\n",
    "\n",
    "plt.figure(figsize=(5, 5))\n",
    "plt.subplots_adjust(left=.2, right=0.95, bottom=0.15, top=0.95)\n",
    "plt.imshow(scores, interpolation='nearest', cmap=plt.cm.Blues)\n",
    "plt.xlabel('gamma')\n",
    "plt.ylabel('C')\n",
    "plt.colorbar()\n",
    "plt.xticks(np.arange(len(parameters['estimator__gamma'])), parameters['estimator__gamma'], rotation=45)\n",
    "plt.yticks(np.arange(len(parameters['estimator__C'])), parameters['estimator__C'])\n",
    "plt.title('Validation accuracy')\n",
    "plt.show()"
   ]
  },
  {
   "cell_type": "code",
   "execution_count": 93,
   "metadata": {},
   "outputs": [
    {
     "name": "stdout",
     "output_type": "stream",
     "text": [
      "Training set score for SVM: 0.765956\n",
      "Testing  set score for SVM: 0.749669\n"
     ]
    }
   ],
   "source": [
    "final_model = estimator.best_estimator_\n",
    "Y_pred = final_model.predict(X_val_new)\n",
    "print(\"Training set score for SVM: %f\" % final_model.score(X_train_new , y_train_new))\n",
    "print(\"Testing  set score for SVM: %f\" % final_model.score(X_val_new  , y_val_new ))"
   ]
  },
  {
   "cell_type": "code",
   "execution_count": 94,
   "metadata": {},
   "outputs": [],
   "source": [
    "scores = cross_val_score(final_model, X_train_new, y_train_new, cv = 10, scoring = \"accuracy\")"
   ]
  },
  {
   "cell_type": "code",
   "execution_count": 95,
   "metadata": {},
   "outputs": [
    {
     "name": "stdout",
     "output_type": "stream",
     "text": [
      "              precision    recall  f1-score   support\n",
      "\n",
      "           1       0.75      0.67      0.71       483\n",
      "           2       0.40      0.73      0.51       237\n",
      "           3       0.61      0.70      0.65       378\n",
      "           4       0.95      0.82      0.88       501\n",
      "           5       0.89      0.74      0.81       524\n",
      "           6       0.71      0.68      0.69       450\n",
      "           7       0.93      0.89      0.91       451\n",
      "\n",
      "    accuracy                           0.75      3024\n",
      "   macro avg       0.75      0.75      0.74      3024\n",
      "weighted avg       0.78      0.75      0.76      3024\n",
      "\n"
     ]
    }
   ],
   "source": [
    "print(classification_report(final_model.predict(X_val_new), y_val_new))"
   ]
  },
  {
   "cell_type": "code",
   "execution_count": 96,
   "metadata": {},
   "outputs": [
    {
     "data": {
      "text/plain": [
       "<sklearn.metrics._plot.confusion_matrix.ConfusionMatrixDisplay at 0x7feac652a6d0>"
      ]
     },
     "execution_count": 96,
     "metadata": {},
     "output_type": "execute_result"
    },
    {
     "data": {
      "image/png": "[encoded data removed]",
      "text/plain": [
       "<Figure size 432x288 with 2 Axes>"
      ]
     },
     "metadata": {},
     "output_type": "display_data"
    }
   ],
   "source": [
    "plot_confusion_matrix(final_model,X_val_new, y_val_new,cmap=plt.cm.Blues,values_format='d' )"
   ]
  },
  {
   "cell_type": "code",
   "execution_count": 97,
   "metadata": {},
   "outputs": [],
   "source": [
    "classifiers_compare = classifiers_compare.append({'Algorithm': \"SVM\", 'Mean CV Score':(scores.mean())},ignore_index=True)"
   ]
  },
  {
   "cell_type": "markdown",
   "metadata": {},
   "source": [
    "## <font color=green> 7.1. Naive Bayes  <font>"
   ]
  },
  {
   "cell_type": "markdown",
   "metadata": {},
   "source": [
    "Since we have a classification problem with multiple discrete values we use the multinominal Naive Bayes method"
   ]
  },
  {
   "cell_type": "raw",
   "metadata": {},
   "source": [
    "#Import Gaussian Naive Bayes model\n",
    "from sklearn.naive_bayes import MultinomialNB\n",
    "#Import scikit-learn metrics module for accuracy calculation\n",
    "from sklearn import metrics\n",
    "\n",
    "#Create a Gaussian Classifier\n",
    "mnb = MultinomialNB()\n",
    "\n",
    "# Train the model using the training sets\n",
    "mnb.fit(X_train_new,y_train_new)\n",
    "\n",
    "#Predict Output\n",
    "y_pred= mnb.predict(X_val_new)\n",
    "scores = cross_val_score(mnb,X_train_new,y_train_new,cv = 5, scoring = \"accuracy\")\n",
    "# Model Accuracy, how often is the classifier correct?\n",
    "print(\"Mean Accuracy:\",scores.mean())\n",
    "print(\"Accuracy:\",metrics.accuracy_score(y_val_new, y_pred))\n",
    "\n",
    "classifiers_compare = classifiers_compare.append({'Algorithm': \"Naive Bayes\", 'Mean CV Score':(scores.mean())},ignore_index=True)"
   ]
  },
  {
   "cell_type": "markdown",
   "metadata": {},
   "source": [
    "## <font color=green> 6.6. Logistic Regression <font>"
   ]
  },
  {
   "cell_type": "code",
   "execution_count": 98,
   "metadata": {},
   "outputs": [
    {
     "data": {
      "text/plain": [
       "(15120, 9)"
      ]
     },
     "execution_count": 98,
     "metadata": {},
     "output_type": "execute_result"
    }
   ],
   "source": [
    "df_logist.shape"
   ]
  },
  {
   "cell_type": "code",
   "execution_count": 99,
   "metadata": {},
   "outputs": [
    {
     "data": {
      "text/plain": [
       "(12096,)"
      ]
     },
     "execution_count": 99,
     "metadata": {},
     "output_type": "execute_result"
    }
   ],
   "source": [
    "y_train_new.shape"
   ]
  },
  {
   "cell_type": "code",
   "execution_count": 100,
   "metadata": {},
   "outputs": [],
   "source": [
    "y_train_log = y_train_log.values.ravel()\n",
    "y_val_log = y_val_log.values.ravel()"
   ]
  },
  {
   "cell_type": "code",
   "execution_count": null,
   "metadata": {},
   "outputs": [
    {
     "name": "stderr",
     "output_type": "stream",
     "text": [
      "/Users/stephaniegessler/opt/anaconda3/lib/python3.9/site-packages/sklearn/linear_model/_sag.py:350: ConvergenceWarning:\n",
      "\n",
      "The max_iter was reached which means the coef_ did not converge\n",
      "\n",
      "/Users/stephaniegessler/opt/anaconda3/lib/python3.9/site-packages/sklearn/linear_model/_sag.py:350: ConvergenceWarning:\n",
      "\n",
      "The max_iter was reached which means the coef_ did not converge\n",
      "\n",
      "/Users/stephaniegessler/opt/anaconda3/lib/python3.9/site-packages/sklearn/linear_model/_sag.py:350: ConvergenceWarning:\n",
      "\n",
      "The max_iter was reached which means the coef_ did not converge\n",
      "\n",
      "/Users/stephaniegessler/opt/anaconda3/lib/python3.9/site-packages/sklearn/linear_model/_sag.py:350: ConvergenceWarning:\n",
      "\n",
      "The max_iter was reached which means the coef_ did not converge\n",
      "\n"
     ]
    }
   ],
   "source": [
    "#Run Logistic Regression with only the New PCA reduced dataset provided & L1 Regularization\n",
    "C_range=[0.001,0.01,0.02,0.05,0.06,0.08,1,2,3,5,10]\n",
    "scores_logreg=[]\n",
    "for c in C_range:\n",
    "    #Saga is good for larger Datasets \n",
    "    logreg = LogisticRegression(C=c, penalty ='l1', solver='saga', multi_class='multinomial',max_iter=5000)\n",
    "    logreg.fit(X_train_log, y_train_log)\n",
    "    y_pred = logreg.predict(X_val_log)\n",
    "    scores_logreg.append(metrics.accuracy_score(y_val_log,y_pred))\n",
    "\n",
    "    \n",
    "#Plot Logistic Regression with only the data provided\n",
    "plt.plot(C_range,scores_logreg)\n",
    "plt.xlabel(\"Values of Regularization Parameter\")\n",
    "plt.ylabel(\"Testing accuracy with Feature Engineering\")\n",
    "max(scores_logreg)"
   ]
  },
  {
   "cell_type": "markdown",
   "metadata": {},
   "source": [
    "## <font color=green> 6.6. Ensemble methods<font>\n",
    "### <font color=green> 6.6. Voting Classifier<font>\n",
    "    \n",
    "A very simple way to create an even better classifier is to aggregate the predictions of each classifier and predict the class that gets the most votes "
   ]
  },
  {
   "cell_type": "code",
   "execution_count": null,
   "metadata": {},
   "outputs": [],
   "source": [
    "log_clf = LogisticRegression(solver ='lbfgs', multi_class ='multinomial', max_iter = 2000)\n",
    "rnd_clf = RandomForestClassifier()\n",
    "svm_clf = SVC(gamma ='auto', probability = True)\n",
    "dtc_clf = DecisionTreeClassifier()\n",
    "\n",
    "estimator = []\n",
    "estimator.append(('LR', log_clf))\n",
    "estimator.append(('RF', rnd_clf))\n",
    "estimator.append(('SVC', svm_clf))\n",
    "estimator.append(('DTC', dtc_clf))\n",
    "  \n",
    "# Voting Classifier with hard voting\n",
    "vot_hard = VotingClassifier(estimators = estimator, voting ='soft')\n",
    "vot_hard.fit(X_train_new, y_train_new)\n",
    "y_pred = vot_hard.predict(X_val_new)\n",
    "\n",
    "for clf in (log_clf,rnd_clf,dtc_clf, vot_hard):\n",
    "    clf.fit(X_train_new, y_train_new)\n",
    "    y_pred = clf.predict(X_val_new)\n",
    "    print(clf.__class__.__name__, accuracy_score(y_val_new,y_pred))\n",
    "  "
   ]
  },
  {
   "cell_type": "code",
   "execution_count": null,
   "metadata": {},
   "outputs": [],
   "source": []
  },
  {
   "cell_type": "code",
   "execution_count": null,
   "metadata": {},
   "outputs": [],
   "source": [
    "classifiers_compare"
   ]
  },
  {
   "cell_type": "markdown",
   "metadata": {},
   "source": [
    "## <font color=green> 6.6. Ensemble methods<font>"
   ]
  },
  {
   "cell_type": "code",
   "execution_count": null,
   "metadata": {},
   "outputs": [],
   "source": []
  },
  {
   "cell_type": "code",
   "execution_count": null,
   "metadata": {},
   "outputs": [],
   "source": []
  },
  {
   "cell_type": "markdown",
   "metadata": {},
   "source": [
    "## <font color=purple> 6.6. Dimensionality reduction with PCA <font>"
   ]
  },
  {
   "cell_type": "markdown",
   "metadata": {},
   "source": [
    "Principal component analysis (PCA) as the transformation of any high number of variables into a smaller number of uncorrelated variables called principal components (PCs), developed to capture as much of the data’s variance as possible. Principle components capture most of the variance of the data. The first principle components hold the most variance in the data, Each subsequent PCS is orthogonal to the last and has a lesser variance. In this way, given a set of x correlated variables over y samples, you achieve a set of uncorrelated PCS over the same y samples. We are running it on the dataset where we have all seleted features and will use PCA to identify the most important features. For the visualization part we are using https://plotly.com/python/pca-visualization/. "
   ]
  },
  {
   "cell_type": "markdown",
   "metadata": {},
   "source": [
    "Using the first 2 principle components show that the data with 2 PCAs is very well deferiantiated. We are using all features to test it against the initial selected features from the previous models. "
   ]
  },
  {
   "cell_type": "code",
   "execution_count": null,
   "metadata": {},
   "outputs": [],
   "source": [
    "import numpy as np # linear algebra\n",
    "import pandas as pd # data processing, CSV file I/O (e.g. pd.read_csv)\n",
    "\n",
    "import plotly.offline as py\n",
    "py.init_notebook_mode(connected=True)\n",
    "import plotly.graph_objs as go\n",
    "import plotly.tools as tls\n",
    "import seaborn as sns\n",
    "import matplotlib.image as mpimg\n",
    "import matplotlib.pyplot as plt\n",
    "import matplotlib\n",
    "%matplotlib inline\n",
    "from sklearn import metrics\n",
    "\n",
    "\n",
    "# Import the 3 dimensionality reduction methods\n",
    "from sklearn.manifold import TSNE\n",
    "from sklearn.decomposition import PCA\n",
    "from sklearn.discriminant_analysis import LinearDiscriminantAnalysis as LDA\n",
    "\n",
    "import matplotlib.pyplot as plt\n",
    "from sklearn.model_selection import train_test_split, learning_curve, ShuffleSplit"
   ]
  },
  {
   "cell_type": "markdown",
   "metadata": {},
   "source": [
    "With only two PCA you can nicely see how well the data is differentiated among the different Cover Types. "
   ]
  },
  {
   "cell_type": "raw",
   "metadata": {},
   "source": [
    "#Using a 2D Diagram for the two PCAs \n",
    "import plotly.express as px\n",
    "from sklearn.decomposition import PCA\n",
    "\n",
    "\n",
    "pca = PCA(n_components=2)\n",
    "#using the normalised dataset \n",
    "components = pca.fit_transform(X_train_new)\n",
    "\n",
    "fig = px.scatter(components, x=0, y=1, color=y_train)\n",
    "fig.show()"
   ]
  },
  {
   "cell_type": "code",
   "execution_count": null,
   "metadata": {
    "scrolled": true
   },
   "outputs": [],
   "source": [
    "# First we will observe with a 3D Diagram the first three PCAs\n",
    "from sklearn.decomposition import PCA\n",
    "import plotly.express as px\n",
    "\n",
    "pca = PCA(n_components=3)\n",
    "components = pca.fit_transform(X_train_new)\n",
    "\n",
    "total_var = pca.explained_variance_ratio_.sum() * 100\n",
    "\n",
    "fig = px.scatter_3d(\n",
    "    components, x=0, y=1, z=2, color=y_train_new,\n",
    "    title=f'Total Explained Variance: {total_var:.2f}%',\n",
    "    labels={'0': 'PC 1', '1': 'PC 2', '2': 'PC 3'}\n",
    ")\n",
    "fig.show()"
   ]
  },
  {
   "cell_type": "code",
   "execution_count": null,
   "metadata": {},
   "outputs": [],
   "source": [
    "# Run PCA that holds 95% of all variance of the data \n",
    "from sklearn.decomposition import PCA\n",
    "pca = PCA()\n",
    "x_fit = pca.fit(X_train_new)\n",
    "cumsum = np.cumsum(pca.explained_variance_ratio_)\n",
    "d=np.argmax(cumsum>=0.98)+1"
   ]
  },
  {
   "cell_type": "markdown",
   "metadata": {},
   "source": [
    "Looking at the two first PCA to see if these can explain the dataset.You can set the components to the ratio of variance you wish to preserve"
   ]
  },
  {
   "cell_type": "code",
   "execution_count": null,
   "metadata": {},
   "outputs": [],
   "source": [
    "plt.figure(figsize=(10,10))\n",
    "plt.xticks(fontsize=12)\n",
    "plt.yticks(fontsize=12)\n",
    "plt.title(\"Variance explained for each Principal Component\", fontsize=20)\n",
    "plt.plot(pca.explained_variance_ratio_, 'o-')\n",
    "plt.xlabel(\"Principal Components\", fontsize=16)\n",
    "plt.ylabel(\"% of Variance\", fontsize=16);"
   ]
  },
  {
   "cell_type": "code",
   "execution_count": null,
   "metadata": {},
   "outputs": [],
   "source": [
    "exp_var_cumul = np.cumsum(pca.explained_variance_ratio_)\n",
    "\n",
    "px.area(\n",
    "    x=range(1, exp_var_cumul.shape[0] + 1),\n",
    "    y=exp_var_cumul,\n",
    "    labels={\"x\": \"# of Principle Components\", \"y\": \"Cumulative Explained Variance\"})"
   ]
  },
  {
   "cell_type": "markdown",
   "metadata": {},
   "source": [
    "It is a bar chart where the height of each bar is the percentage of variance explained by the associated PC. "
   ]
  },
  {
   "cell_type": "code",
   "execution_count": null,
   "metadata": {},
   "outputs": [],
   "source": [
    "var = pca.explained_variance_[0:10] #percentage of variance explained\n",
    "labels = ['PC1','PC2','PC3','PC4','PC5','PC6','PC7','PC8','PC9','PC10']\n",
    "\n",
    "plt.figure(figsize=(10,7))\n",
    "plt.bar(labels,var,color=['purple'])\n",
    "plt.xlabel('Pricipal Component')\n",
    "plt.ylabel('Proportion of Variance Explained')"
   ]
  },
  {
   "cell_type": "markdown",
   "metadata": {},
   "source": [
    "On top of that, we can also look at the combinations of variables that created each principal component with pca. We could use a heat map to showcase the correlation betweem the PCAs between each other. "
   ]
  },
  {
   "cell_type": "code",
   "execution_count": null,
   "metadata": {},
   "outputs": [],
   "source": [
    "#Heatmap PCA\n",
    "fig, ax = plt.subplots(figsize=(40,20)) \n",
    "col_name = ['x' + str(idx) for idx in range(0, X_train_new.shape[1])]\n",
    "\n",
    "_ = sns.heatmap(pca.components_**2,\n",
    "                 yticklabels=[\"PCA\"+str(x) for x in range(1,pca.n_components_+1)],\n",
    "                 xticklabels=list(col_name),\n",
    "                 annot=True,\n",
    "                 fmt='.1f',\n",
    "                 square=True,\n",
    "                 linewidths=0.05,\n",
    "                 cbar_kws={\"orientation\": \"horizontal\"})"
   ]
  },
  {
   "cell_type": "code",
   "execution_count": null,
   "metadata": {},
   "outputs": [],
   "source": [
    "pca_ratio = pca.explained_variance_ratio_\n",
    "pca_ratio_tranposed = list(map(list, zip(*[pca_ratio])))\n",
    "df = pd.DataFrame(data = np.array(pca_ratio_tranposed), columns = ['PCA Variance Explained'])\n",
    "df['PCA Variance Explained Cumulative'] = df['PCA Variance Explained'].cumsum()\n",
    "df.index += 1\n",
    "df"
   ]
  },
  {
   "cell_type": "markdown",
   "metadata": {},
   "source": [
    "Looks Like most variance (99.1%) is explained once we reach 12 principal components, so let’s create training and validation data sets using the first 12 principal components"
   ]
  },
  {
   "cell_type": "code",
   "execution_count": null,
   "metadata": {},
   "outputs": [],
   "source": [
    "pca_mod = PCA(n_components=12)\n",
    "PCA_X_train_final_selected = pca_mod.fit_transform(X_train_new)\n",
    "PCA_X_val_final_selected = pca_mod.fit_transform(X_val_new)\n",
    "print(\"Size of the dimensionality reduced training dataset\", PCA_X_train_final_selected.shape)\n",
    "print(\"Size of the dimensionality reduced training dataset\", PCA_X_val_final_selected.shape)"
   ]
  },
  {
   "cell_type": "code",
   "execution_count": null,
   "metadata": {},
   "outputs": [],
   "source": [
    "PCA_X_train_final_selected[0]"
   ]
  },
  {
   "cell_type": "markdown",
   "metadata": {},
   "source": [
    "Check which most important features were selected using PCA. "
   ]
  },
  {
   "cell_type": "code",
   "execution_count": null,
   "metadata": {},
   "outputs": [],
   "source": [
    "from sklearn.decomposition import PCA\n",
    "import pandas as pd\n",
    "import numpy as np\n",
    "pca_mod = PCA(n_components=12)\n",
    "\n",
    "model = pca_mod.fit(X_train_new)\n",
    "X_pc = model.transform(X_train_new) \n",
    "\n",
    "# number of components\n",
    "n_pcs= model.components_.shape[0]\n",
    "\n",
    "# get the index of the most important feature on EACH component\n",
    "# LIST COMPREHENSION HERE\n",
    "most_important = [np.abs(model.components_[i]).argmax() for i in range(n_pcs)]\n",
    "\n",
    "# get the names\n",
    "most_important_names = [X_train_new.columns[most_important[i]] for i in range(n_pcs)]\n",
    "\n",
    "# LIST COMPREHENSION HERE AGAIN\n",
    "dic = {'PC{}'.format(i): most_important_names[i] for i in range(n_pcs)}\n",
    "\n",
    "# build the dataframe\n",
    "df = pd.DataFrame(dic.items())"
   ]
  },
  {
   "cell_type": "code",
   "execution_count": null,
   "metadata": {},
   "outputs": [],
   "source": [
    "df"
   ]
  },
  {
   "cell_type": "markdown",
   "metadata": {},
   "source": [
    "# Everything Together\n",
    "\n",
    "Let's use the pipeline to wrap everything together and to find the best configuration for the different hyper-parameters\n",
    "\n"
   ]
  },
  {
   "cell_type": "code",
   "execution_count": null,
   "metadata": {},
   "outputs": [],
   "source": [
    "from sklearn.pipeline import Pipeline\n",
    "from sklearn.model_selection import GridSearchCV\n",
    "from sklearn.discriminant_analysis import LinearDiscriminantAnalysis\n",
    "\n",
    "pipeline = Pipeline(steps=[('scaler', StandardScaler()), ('pca', PCA()), ('LDA', LinearDiscriminantAnalysis())]) # Pipeline the entire process: Scale the data -> PCA -> LDA Classifier\n",
    "\n",
    "n_components = list(range(1,19)) # We will try different numbers of principal components\n",
    "\n",
    "#Parameters of pipelines can be set using ‘__’ separated parameter names:\n",
    "param_grid = {\"pca__n_components\":n_components}\n",
    "\n",
    "estimator = GridSearchCV(pipeline, param_grid, cv=5) # Create a grid search to try all the possible number of PCs\n",
    "estimator.fit(X_train_new, y_train_new);"
   ]
  },
  {
   "cell_type": "code",
   "execution_count": null,
   "metadata": {},
   "outputs": [],
   "source": [
    "# Get Test Scores Mean and std for each grid search\n",
    "scores_mean = estimator.cv_results_['mean_test_score']\n",
    "scores_mean = np.array(scores_mean)\n",
    "\n",
    "scores_sd = estimator.cv_results_['std_test_score']\n",
    "scores_sd = np.array(scores_sd)\n",
    "\n",
    "# Plot Grid search scores\n",
    "plt.figure(figsize=(10,10))\n",
    "plt.plot(n_components, scores_mean, '-o')\n",
    "\n",
    "plt.title(\"Grid Search Scores\", fontsize=20, fontweight='bold')\n",
    "plt.xlabel(\"Number of Principal Components\", fontsize=16)\n",
    "plt.ylabel('CV Average Score', fontsize=16)\n",
    "plt.grid('on')"
   ]
  },
  {
   "cell_type": "markdown",
   "metadata": {},
   "source": [
    "As can be seen in the graph, the optimal number of PCs to select will 12 as this gives us the optimal CV score. The optimum is 12 and increasing the number of features does not add much value. "
   ]
  },
  {
   "cell_type": "markdown",
   "metadata": {},
   "source": [
    "Source codes: https://www.kaggle.com/code/maniyar2jaimin/interactive-plotly-guide-to-pca-lda-t-sne, https://github.com/dasaditi/machineLearning/blob/master/forestCover/ForestCover.ipynb"
   ]
  },
  {
   "cell_type": "markdown",
   "metadata": {},
   "source": [
    "## <font color=purple> Random Forest with PCA<font>"
   ]
  },
  {
   "cell_type": "code",
   "execution_count": null,
   "metadata": {},
   "outputs": [],
   "source": [
    "from sklearn.model_selection import RandomizedSearchCV"
   ]
  },
  {
   "cell_type": "markdown",
   "metadata": {},
   "source": [
    "Fine tuning the model and checking the performance of the PCA method"
   ]
  },
  {
   "cell_type": "code",
   "execution_count": null,
   "metadata": {},
   "outputs": [],
   "source": [
    "n_estimators = list(range(50, 250,5))\n",
    "criterion=['gini','entropy']\n",
    "# create a parameter grid: map the parameter names to the values that should be searched\n",
    "param_grid_rf = dict(n_estimators=n_estimators,criterion=criterion)\n",
    "\n",
    "# instantiate and fit the grid\n",
    "rf = RandomForestClassifier()\n",
    "grid_rf = RandomizedSearchCV(rf, param_grid_rf, cv=5, scoring='accuracy' ,return_train_score=False)\n",
    "\n",
    "grid_rf.fit(PCA_X_train_final_selected, y_train_new)"
   ]
  },
  {
   "cell_type": "code",
   "execution_count": null,
   "metadata": {},
   "outputs": [],
   "source": [
    "#Mean cross-validated score of the best_estimator\n",
    "print(\"The best score: \",grid_rf.best_score_.round(4))\n",
    "#Parameter setting that gave the best results on the hold out data.\n",
    "print(\"The best parameter: \",grid_rf.best_params_)"
   ]
  },
  {
   "cell_type": "code",
   "execution_count": null,
   "metadata": {},
   "outputs": [],
   "source": [
    "rf_final = RandomForestClassifier(criterion=grid_rf.best_params_['criterion'],\n",
    "                            n_estimators=grid_rf.best_params_['n_estimators'])\n",
    "rf_final.fit(PCA_X_train_final_selected,y_train_new)\n",
    "rf_score=rf_final.score(PCA_X_val_final_selected,y_val_new)\n",
    "\n",
    "print(\"The accuracy score of the RandomForest with reduced feature set: \",round(rf_score,2))"
   ]
  },
  {
   "cell_type": "markdown",
   "metadata": {},
   "source": [
    "With cross validation you can see it overfits the train data und the result of the validation data is lower"
   ]
  },
  {
   "cell_type": "code",
   "execution_count": null,
   "metadata": {},
   "outputs": [],
   "source": [
    "print(\"Accuracy = {0:.4f}\".format(np.mean(cross_val_score(rf_final, PCA_X_val_final_selected, y_val_new))))"
   ]
  },
  {
   "cell_type": "markdown",
   "metadata": {},
   "source": [
    "As you can see the model is overitting on the Training Set and has a lower score on the cross validation score."
   ]
  },
  {
   "cell_type": "code",
   "execution_count": null,
   "metadata": {},
   "outputs": [],
   "source": [
    "#the plot learning curve from sklearn works only if you add the definition of sklearn \n",
    "\n",
    "\n",
    "def plot_learning_curve(estimator, title, X, y, ylim=None, cv=None,\n",
    "                        n_jobs=1, train_sizes=np.linspace(.1, 1.0, 5)):\n",
    "\n",
    "    plt.figure()\n",
    "    plt.title(title)\n",
    "    if ylim is not None:\n",
    "        plt.ylim(*ylim)\n",
    "    plt.xlabel(\"Training examples\")\n",
    "    plt.ylabel(\"Score\")\n",
    "    train_sizes, train_scores, test_scores = learning_curve(\n",
    "        estimator, X, y, cv=cv, n_jobs=n_jobs, train_sizes=train_sizes)\n",
    "    train_scores_mean = np.mean(train_scores, axis=1)\n",
    "    train_scores_std = np.std(train_scores, axis=1)\n",
    "    test_scores_mean = np.mean(test_scores, axis=1)\n",
    "    test_scores_std = np.std(test_scores, axis=1)\n",
    "    plt.grid()\n",
    "\n",
    "    plt.fill_between(train_sizes, train_scores_mean - train_scores_std,\n",
    "                     train_scores_mean + train_scores_std, alpha=0.1,\n",
    "                     color=\"r\")\n",
    "    plt.fill_between(train_sizes, test_scores_mean - test_scores_std,\n",
    "                     test_scores_mean + test_scores_std, alpha=0.1, \n",
    "                     color=\"g\")\n",
    "    plt.plot(train_sizes, train_scores_mean, 'o-', color=\"r\",\n",
    "             label=\"Training score\")\n",
    "    plt.plot(train_sizes, test_scores_mean, 'o-', color=\"g\",\n",
    "             label=\"Cross-validation score\")\n",
    "\n",
    "    plt.legend(loc=\"best\")\n",
    "    return plt"
   ]
  },
  {
   "cell_type": "code",
   "execution_count": null,
   "metadata": {},
   "outputs": [],
   "source": [
    "\n",
    "cv = ShuffleSplit(n_splits=500, test_size=0.2, random_state=0)\n",
    "title = \"Learning Curves (Random Forest with PCA reduced dataset)\"\n",
    "plot_learning_curve(rf_final, title, PCA_X_train_final_selected, y_train_new, ylim=None, cv=cv,\n",
    "                        n_jobs=-1, train_sizes=np.linspace(.1, 1.0, 5))\n",
    "\n",
    "plt.show()\n"
   ]
  },
  {
   "cell_type": "markdown",
   "metadata": {},
   "source": [
    "# <font color=purple> AdaBoost with PCA reduced Dataset<font>"
   ]
  },
  {
   "cell_type": "code",
   "execution_count": null,
   "metadata": {},
   "outputs": [],
   "source": [
    "from sklearn.tree import DecisionTreeClassifier\n",
    "from sklearn.ensemble import AdaBoostClassifier\n",
    "\n",
    "abc = AdaBoostClassifier(base_estimator=DecisionTreeClassifier(),algorithm='SAMME')\n",
    "\n",
    "parameters = {'base_estimator__max_depth':[i for i in range(2,6,2)],\n",
    "              'base_estimator__min_samples_leaf':[1,5],\n",
    "              'n_estimators':[250,500,750],\n",
    "              'learning_rate':[0.01,0.1]}\n",
    "\n",
    "grid_ada_PCA = GridSearchCV(abc, parameters,verbose=1,scoring='neg_mean_squared_error',n_jobs=-1,cv=3)\n",
    "grid_ada_PCA.fit(PCA_X_train_final_selected, y_train_new)\n"
   ]
  },
  {
   "cell_type": "code",
   "execution_count": null,
   "metadata": {},
   "outputs": [],
   "source": [
    "#Estimator that was chosen by the search, i.e. estimator which gave highest score \n",
    "grid_ada_PCA.best_estimator_"
   ]
  },
  {
   "cell_type": "code",
   "execution_count": null,
   "metadata": {},
   "outputs": [],
   "source": [
    "#Mean cross-validated score of the best_estimator\n",
    "print(\"The best score: \",grid_ada_PCA.best_score_.round(4))\n",
    "#Parameter setting that gave the best results on the hold out data.\n",
    "print(\"The best parameter: \",grid_ada_PCA.best_params_)\n"
   ]
  },
  {
   "cell_type": "code",
   "execution_count": null,
   "metadata": {},
   "outputs": [],
   "source": [
    "ada_final_PCA = AdaBoostClassifier(DecisionTreeClassifier(max_depth=4,min_samples_leaf=1),\n",
    "                            learning_rate=grid_ada_PCA.best_params_['learning_rate'],\n",
    "                         n_estimators=grid_ada_PCA.best_params_['n_estimators'])\n",
    "\n",
    "ada_final_PCA.fit(PCA_X_train_final_selected,y_train_new)\n",
    "ada_acc_sel =ada_final_PCA.score(PCA_X_val_final_selected,y_val_new)\n",
    "print(\"The accuracy score of the AdaBoostClassifier with PCA reduced feature set: \",round(ada_acc_sel,2))\n"
   ]
  },
  {
   "cell_type": "markdown",
   "metadata": {},
   "source": [
    "## <font color=purple> XBoost Classifier<font>"
   ]
  },
  {
   "cell_type": "code",
   "execution_count": null,
   "metadata": {},
   "outputs": [],
   "source": [
    "from sklearn.preprocessing import LabelEncoder\n",
    "le = LabelEncoder()\n",
    "y_train_PCA = le.fit_transform(y_train_new)\n",
    "y_val_PCA = le.fit_transform(y_val_new)"
   ]
  },
  {
   "cell_type": "code",
   "execution_count": null,
   "metadata": {},
   "outputs": [],
   "source": [
    "def xgb_grid_search(X,y,nfolds):\n",
    "    #create a dictionary of all values we want to test\n",
    "    param_grid = { 'max_depth': [10] , 'min_child_weight':[4,5,6] ,'learning_rate': [0.05,0.1,0.5] ,'n_estimators': [20,50,100] }\n",
    "    # decision tree model\n",
    "    xgb_model=XGBClassifier()\n",
    "    #use gridsearch to test all values\n",
    "    xgb_gscv = GridSearchCV(xgb_model, param_grid, cv=nfolds)\n",
    "    #fit model to data\n",
    "    xgb_gscv.fit(X, y)\n",
    "    print(xgb_gscv.best_params_)\n",
    "    print(xgb_gscv.best_estimator_)\n",
    "    print(xgb_gscv.best_score_)"
   ]
  },
  {
   "cell_type": "code",
   "execution_count": null,
   "metadata": {},
   "outputs": [],
   "source": [
    "xgb_model_search(PCA_X_train_final_selected,y_train_PCA,3)"
   ]
  },
  {
   "cell_type": "code",
   "execution_count": null,
   "metadata": {},
   "outputs": [],
   "source": [
    "xgb_model=XGBClassifier(max_depth=10,min_child_weight =5, n_estimators=100,learning_rate=0.5)\n",
    "xgb = xgb_model.fit(PCA_X_train_final_selected,y_train_PCA)"
   ]
  },
  {
   "cell_type": "code",
   "execution_count": null,
   "metadata": {},
   "outputs": [],
   "source": [
    "xgb_acc_sel =xgb.score(PCA_X_val_final_selected,y_val_PCA)\n",
    "print(\"The accuracy score of the XGBoost with PCA reduced feature set: \",round(xgb_acc_sel,2))\n",
    "\n"
   ]
  },
  {
   "cell_type": "markdown",
   "metadata": {},
   "source": [
    "## <font color=purple> Logistic Regression with PCA<font>"
   ]
  },
  {
   "cell_type": "code",
   "execution_count": null,
   "metadata": {},
   "outputs": [],
   "source": [
    "#Run Logistic Regression with only the New PCA reduced dataset provided & L1 Regularization\n",
    "C_range=[0.001,0.01,0.02,0.05,0.06,0.08,1,2,3,5,10]\n",
    "scores_logreg=[]\n",
    "for c in C_range:\n",
    "    #Saga is good for larger Datasets \n",
    "    logreg = LogisticRegression(C=c, penalty ='l1', solver='saga', multi_class='multinomial',max_iter=5000)\n",
    "    logreg.fit(PCA_X_train_final_selected, y_train_new)\n",
    "    y_pred = logreg.predict(PCA_X_val_final_selected)\n",
    "    scores_logreg.append(metrics.accuracy_score(y_val_new,y_pred))\n",
    "\n",
    "    \n",
    "#Plot Logistic Regression with only the data provided\n",
    "plt.plot(C_range,scores_logreg)\n",
    "plt.xlabel(\"Values of Regularization Parameter\")\n",
    "plt.ylabel(\"Testing accuracy with Feature Engineering\")\n",
    "max(scores_logreg)"
   ]
  },
  {
   "cell_type": "code",
   "execution_count": null,
   "metadata": {},
   "outputs": [],
   "source": [
    "cv = ShuffleSplit(n_splits=100, test_size=0.2, random_state=0)\n",
    "title = \"Learning Curves Logistic Regression with PCA reduced dataset)\"\n",
    "plot_learning_curve(logreg, title, PCA_X_train_final_selected, y_train_new, ylim=None, cv=cv,\n",
    "                        n_jobs=None, train_sizes=np.linspace(.1, 1.0, 5))"
   ]
  },
  {
   "cell_type": "markdown",
   "metadata": {},
   "source": [
    "## <font color=purple> Extra Trees Classifier with PCA<font>"
   ]
  },
  {
   "cell_type": "code",
   "execution_count": null,
   "metadata": {},
   "outputs": [],
   "source": [
    "# Build a forest and compute the feature importances\n",
    "n_estimators = list(range(50, 250,5))\n",
    "criterion=['gini','entropy']\n",
    "#min_samples_leaf = list(range(5, 25))\n",
    "#min_samples_split = list(range(5, 25))\n",
    "#max_depth = list(range(8, 50))\n",
    "# create a parameter grid: map the parameter names to the values that should be searched\n",
    "param_grid = dict(n_estimators=n_estimators, criterion=criterion)\n",
    "\n",
    "forest = ExtraTreesClassifier(random_state=0)\n",
    "grid_etc = RandomizedSearchCV(forest, param_grid, cv=5, scoring=\"accuracy\" ,return_train_score=False)\n",
    "grid_etc.fit(PCA_X_train_final_selected, y_train_new)\n",
    "print(\"The best score: \",grid_etc.best_score_.round(4))\n",
    "#Parameter setting that gave the best results on the hold out data.\n",
    "print(\"The best parameter: \",grid_etc.best_params_)\n",
    "grid_etc.best_estimator_"
   ]
  },
  {
   "cell_type": "code",
   "execution_count": null,
   "metadata": {},
   "outputs": [],
   "source": [
    " #Find Feature importance\n",
    "etc_selected = ExtraTreesClassifier(n_estimators=grid_etc_selected.best_params_['n_estimators'],\n",
    "                            criterion=grid_etc_selected.best_params_['criterion'],random_state=0)\n",
    "etc_selected.fit(PCA_X_train_final_selected, y_train_new)\n",
    "etc_sel_acc = etc_selected.score(PCA_X_val_final_selected, y_val_new)\n",
    "print(\"The accuracy score of the ExtraTreesClassifier with the selected features: \",round(etc_sel_acc,2))"
   ]
  },
  {
   "cell_type": "markdown",
   "metadata": {},
   "source": [
    "# Ensemble models on PCA"
   ]
  },
  {
   "cell_type": "code",
   "execution_count": null,
   "metadata": {},
   "outputs": [],
   "source": [
    "def make_nn_classifier():\n",
    "    model = Sequential()\n",
    "    model.add(Dense(30, input_dim=46, activation='relu'))\n",
    "    model.add(Dense(35, input_dim=30, activation='relu'))\n",
    "    model.add(Dense(20, input_dim=35, activation='relu'))\n",
    "    model.add(Dense(7, input_dim=20, activation='softmax'))\n",
    "    ## Cost function & Objective (and solver)\n",
    "    sgd = optimizers.SGD(lr=0.01)\n",
    "    model.compile(optimizer=sgd, loss='categorical_crossentropy', metrics=['accuracy'])\n",
    "    return model"
   ]
  },
  {
   "cell_type": "code",
   "execution_count": null,
   "metadata": {},
   "outputs": [],
   "source": [
    "#Ensembling Logistic Regression, Random Forest, Ada Boost and Extra Trees Classifier\n",
    "\n",
    "logreg_ensemble = LogisticRegression(C=100, solver='lbfgs', multi_class='multinomial',max_iter=3000)\n",
    "rf_ensemble = RandomForestClassifier(n_estimators=grid_rf.best_params_['n_estimators'],\n",
    "                            criterion=grid_rf.best_params_['criterion'],random_state=0)\n",
    "ada_ensemble = AdaBoostClassifier(DecisionTreeClassifier(max_depth=6),\n",
    "                            learning_rate=grid_ada_PCA.best_params_['learning_rate'],\n",
    "                             n_estimators=grid_ada_PCA.best_params_['n_estimators'])\n",
    "voting_ensemble = VotingClassifier(estimators=[('lr', logreg_ensemble), ('rf', rf_ensemble),\n",
    "                                              ('ada', ada_ensemble)],voting='soft')\n",
    "\n",
    "voting_ensemble.fit(PCA_X_train_final_selected,y_train_PCA)\n",
    "y_pred_ensemble = voting_ensemble.predict(PCA_X_val_final_selected)\n",
    "print(\"Accuracy achieved by ensembling\",metrics.accuracy_score(y_val_PCA,y_pred_ensemble))"
   ]
  },
  {
   "cell_type": "code",
   "execution_count": null,
   "metadata": {},
   "outputs": [],
   "source": []
  },
  {
   "cell_type": "code",
   "execution_count": null,
   "metadata": {},
   "outputs": [],
   "source": []
  },
  {
   "cell_type": "code",
   "execution_count": null,
   "metadata": {},
   "outputs": [],
   "source": []
  },
  {
   "cell_type": "code",
   "execution_count": null,
   "metadata": {},
   "outputs": [],
   "source": []
  },
  {
   "cell_type": "markdown",
   "metadata": {},
   "source": [
    "# 2. Linear Discriminant Analysis (LDA)"
   ]
  },
  {
   "cell_type": "markdown",
   "metadata": {},
   "source": [
    "LDA, much like PCA is also a linear transformation method commonly used in dimensionality reduction tasks. However unlike the latter which is an unsupervised learning algorithm, LDA falls into the class of supervised learning methods. As such the goal of LDA is that with available information about class labels, LDA will seek to maximise the separation between the different classes by computing the component axes (linear discriminants ) which does this."
   ]
  },
  {
   "cell_type": "code",
   "execution_count": null,
   "metadata": {},
   "outputs": [],
   "source": [
    "lda = LDA(n_components=5)\n",
    "# Taking in as second argument the Target as labels\n",
    "X_LDA_2D = lda.fit_transform(X_train_new, y_train_new )"
   ]
  },
  {
   "cell_type": "code",
   "execution_count": null,
   "metadata": {},
   "outputs": [],
   "source": [
    "from sklearn.discriminant_analysis import LinearDiscriminantAnalysis\n",
    "# Create a classifier: a Fisher's LDA classifier\n",
    "lda = LinearDiscriminantAnalysis(n_components=2)\n",
    "\n",
    "# Train lda on the first half of the digits\n",
    "X_LDA_2D = lda.fit_transform(X_train_new, y_train_new,)"
   ]
  },
  {
   "cell_type": "code",
   "execution_count": null,
   "metadata": {},
   "outputs": [],
   "source": [
    "# To produce an interactive chart \n",
    "traceLDA = go.Scatter(\n",
    "    x = X_LDA_2D[:,0],\n",
    "    y = X_LDA_2D[:,1],\n",
    "    name = '',\n",
    "    mode = 'markers',\n",
    "#     text = Target.unique(),\n",
    "    showlegend = True,\n",
    "    marker = dict(\n",
    "        size = 8,\n",
    "        color = y_train_new,\n",
    "        colorscale ='Jet',\n",
    "        showscale = False,\n",
    "        line = dict(\n",
    "            width = 2,\n",
    "            color = 'rgb(255, 255, 255)'\n",
    "        ),\n",
    "        opacity = 0.8\n",
    "    )\n",
    ")\n",
    "data = [traceLDA]\n",
    "\n",
    "layout = dict(title = 'LDA (Linear Discriminant Analysis)',\n",
    "              hovermode= 'closest',\n",
    "              yaxis = dict(zeroline = False),\n",
    "              xaxis = dict(zeroline = False),\n",
    "              showlegend= True\n",
    "             )\n",
    "\n",
    "fig = dict(data=data, layout=layout)\n",
    "py.iplot(fig, filename='styled-scatter')"
   ]
  },
  {
   "cell_type": "code",
   "execution_count": null,
   "metadata": {},
   "outputs": [],
   "source": []
  },
  {
   "cell_type": "markdown",
   "metadata": {},
   "source": [
    "# For submission "
   ]
  },
  {
   "cell_type": "markdown",
   "metadata": {},
   "source": [
    "pred=forest.predict(data_test.drop(labels=['Id','Wilderness','Soil'], axis=1))\n",
    " \n",
    " \n",
    " \n",
    "submission=pd.DataFrame(data=pred,columns=['Cover_Type'])\n",
    "submission\n",
    " \n",
    " \n",
    " \n",
    "submission['Id']=data_test['Id']\n",
    "submission"
   ]
  }
 ],
 "metadata": {
  "kernelspec": {
   "display_name": "Python 3 (ipykernel)",
   "language": "python",
   "name": "python3"
  },
  "language_info": {
   "codemirror_mode": {
    "name": "ipython",
    "version": 3
   },
   "file_extension": ".py",
   "mimetype": "text/x-python",
   "name": "python",
   "nbconvert_exporter": "python",
   "pygments_lexer": "ipython3",
   "version": "3.9.12"
  }
 },
 "nbformat": 4,
 "nbformat_minor": 2
}
