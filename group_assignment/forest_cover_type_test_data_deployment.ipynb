{
 "cells": [
  {
   "cell_type": "markdown",
   "metadata": {},
   "source": [
    "<img src=\"ml2_group_assignment.png\" width=\"800\"/>"
   ]
  },
  {
   "cell_type": "markdown",
   "metadata": {},
   "source": [
    "<a id='0'></a>\n",
    "# <font color=green> Libraries used </font>"
   ]
  },
  {
   "cell_type": "code",
   "execution_count": 1,
   "metadata": {},
   "outputs": [],
   "source": [
    "#!pip install squarify\n",
    "#!pip install htmltabletomd"
   ]
  },
  {
   "cell_type": "code",
   "execution_count": 2,
   "metadata": {},
   "outputs": [],
   "source": [
    "import pandas as pd\n",
    "import numpy as np\n",
    "import math \n",
    "import seaborn as sns  # Graphing\n",
    "import matplotlib.pyplot as plt\n",
    "import squarify #treemap\n",
    "import matplotlib.pyplot as plt\n",
    "import warnings\n",
    "import plotly.graph_objects as go\n",
    "import xgboost as xgb\n",
    "import scipy.stats as stats\n",
    "import htmltabletomd"
   ]
  },
  {
   "cell_type": "code",
   "execution_count": 3,
   "metadata": {},
   "outputs": [],
   "source": [
    "from sklearn.preprocessing import StandardScaler\n",
    "from sklearn.preprocessing import LabelEncoder\n",
    "from sklearn.preprocessing import PolynomialFeatures\n",
    "from sklearn.preprocessing import KBinsDiscretizer\n",
    "\n",
    "\n",
    "from sklearn.ensemble import RandomForestClassifier\n",
    "from sklearn.ensemble import ExtraTreesClassifier\n",
    "from sklearn.ensemble import RandomForestRegressor\n",
    "\n",
    "\n",
    "from sklearn.metrics import accuracy_score, confusion_matrix, classification_report\n",
    "from sklearn.linear_model import LogisticRegression\n",
    "\n",
    "from sklearn import datasets\n",
    "from sklearn import linear_model\n",
    "\n",
    "\n",
    "\n",
    "from sklearn.model_selection import cross_val_score\n",
    "from sklearn.model_selection import train_test_split\n",
    "\n",
    "\n",
    "from sklearn.feature_selection import SelectFromModel\n",
    "from sklearn.feature_selection import RFE\n",
    "from sklearn.feature_selection import SelectKBest, chi2\n",
    "from sklearn.feature_selection import f_classif\n",
    "\n",
    "from scipy.stats import norm\n",
    "\n",
    "\n",
    "from yellowbrick.target import FeatureCorrelation\n",
    "from yellowbrick.classifier import ROCAUC\n",
    "\n",
    "\n",
    "from plotly.subplots import make_subplots\n",
    "\n",
    "from itertools import combinations\n",
    "\n",
    "from numpy import percentile\n",
    "\n",
    "warnings.simplefilter(action='ignore', category=FutureWarning)"
   ]
  },
  {
   "cell_type": "markdown",
   "metadata": {},
   "source": [
    "<a id='0'></a>\n",
    "##  <font color=green>1.Import the Data </font>\n",
    "\n",
    "Let’s load the test data and create a data frame"
   ]
  },
  {
   "cell_type": "code",
   "execution_count": 6,
   "metadata": {},
   "outputs": [],
   "source": [
    "data_test = pd.read_csv(\"test.csv\")"
   ]
  },
  {
   "cell_type": "code",
   "execution_count": 7,
   "metadata": {},
   "outputs": [
    {
     "data": {
      "text/html": [
       "<div>\n",
       "<style scoped>\n",
       "    .dataframe tbody tr th:only-of-type {\n",
       "        vertical-align: middle;\n",
       "    }\n",
       "\n",
       "    .dataframe tbody tr th {\n",
       "        vertical-align: top;\n",
       "    }\n",
       "\n",
       "    .dataframe thead th {\n",
       "        text-align: right;\n",
       "    }\n",
       "</style>\n",
       "<table border=\"1\" class=\"dataframe\">\n",
       "  <thead>\n",
       "    <tr style=\"text-align: right;\">\n",
       "      <th></th>\n",
       "      <th>Id</th>\n",
       "      <th>Elevation</th>\n",
       "      <th>Aspect</th>\n",
       "      <th>Slope</th>\n",
       "      <th>Horizontal_Distance_To_Hydrology</th>\n",
       "      <th>Vertical_Distance_To_Hydrology</th>\n",
       "      <th>Horizontal_Distance_To_Roadways</th>\n",
       "      <th>Hillshade_9am</th>\n",
       "      <th>Hillshade_Noon</th>\n",
       "      <th>Hillshade_3pm</th>\n",
       "      <th>...</th>\n",
       "      <th>Soil_Type31</th>\n",
       "      <th>Soil_Type32</th>\n",
       "      <th>Soil_Type33</th>\n",
       "      <th>Soil_Type34</th>\n",
       "      <th>Soil_Type35</th>\n",
       "      <th>Soil_Type36</th>\n",
       "      <th>Soil_Type37</th>\n",
       "      <th>Soil_Type38</th>\n",
       "      <th>Soil_Type39</th>\n",
       "      <th>Soil_Type40</th>\n",
       "    </tr>\n",
       "  </thead>\n",
       "  <tbody>\n",
       "    <tr>\n",
       "      <th>count</th>\n",
       "      <td>565892.000000</td>\n",
       "      <td>565892.000000</td>\n",
       "      <td>565892.000000</td>\n",
       "      <td>565892.000000</td>\n",
       "      <td>565892.000000</td>\n",
       "      <td>565892.000000</td>\n",
       "      <td>565892.000000</td>\n",
       "      <td>565892.000000</td>\n",
       "      <td>565892.000000</td>\n",
       "      <td>565892.000000</td>\n",
       "      <td>...</td>\n",
       "      <td>565892.000000</td>\n",
       "      <td>565892.000000</td>\n",
       "      <td>565892.000000</td>\n",
       "      <td>565892.000000</td>\n",
       "      <td>565892.000000</td>\n",
       "      <td>565892.000000</td>\n",
       "      <td>565892.000000</td>\n",
       "      <td>565892.000000</td>\n",
       "      <td>565892.000000</td>\n",
       "      <td>565892.000000</td>\n",
       "    </tr>\n",
       "    <tr>\n",
       "      <th>mean</th>\n",
       "      <td>298066.500000</td>\n",
       "      <td>2964.977407</td>\n",
       "      <td>155.629558</td>\n",
       "      <td>14.039635</td>\n",
       "      <td>270.556622</td>\n",
       "      <td>46.294408</td>\n",
       "      <td>2367.143116</td>\n",
       "      <td>212.131133</td>\n",
       "      <td>223.435026</td>\n",
       "      <td>142.726951</td>\n",
       "      <td>...</td>\n",
       "      <td>0.044768</td>\n",
       "      <td>0.091588</td>\n",
       "      <td>0.078704</td>\n",
       "      <td>0.002808</td>\n",
       "      <td>0.003161</td>\n",
       "      <td>0.000193</td>\n",
       "      <td>0.000467</td>\n",
       "      <td>0.026233</td>\n",
       "      <td>0.023236</td>\n",
       "      <td>0.014651</td>\n",
       "    </tr>\n",
       "    <tr>\n",
       "      <th>std</th>\n",
       "      <td>163359.093603</td>\n",
       "      <td>273.157030</td>\n",
       "      <td>111.962120</td>\n",
       "      <td>7.450155</td>\n",
       "      <td>212.500153</td>\n",
       "      <td>58.209469</td>\n",
       "      <td>1561.482002</td>\n",
       "      <td>26.661063</td>\n",
       "      <td>19.668053</td>\n",
       "      <td>38.030094</td>\n",
       "      <td>...</td>\n",
       "      <td>0.206795</td>\n",
       "      <td>0.288444</td>\n",
       "      <td>0.269277</td>\n",
       "      <td>0.052916</td>\n",
       "      <td>0.056137</td>\n",
       "      <td>0.013877</td>\n",
       "      <td>0.021594</td>\n",
       "      <td>0.159827</td>\n",
       "      <td>0.150652</td>\n",
       "      <td>0.120152</td>\n",
       "    </tr>\n",
       "    <tr>\n",
       "      <th>min</th>\n",
       "      <td>15121.000000</td>\n",
       "      <td>1859.000000</td>\n",
       "      <td>0.000000</td>\n",
       "      <td>0.000000</td>\n",
       "      <td>0.000000</td>\n",
       "      <td>-173.000000</td>\n",
       "      <td>0.000000</td>\n",
       "      <td>0.000000</td>\n",
       "      <td>0.000000</td>\n",
       "      <td>0.000000</td>\n",
       "      <td>...</td>\n",
       "      <td>0.000000</td>\n",
       "      <td>0.000000</td>\n",
       "      <td>0.000000</td>\n",
       "      <td>0.000000</td>\n",
       "      <td>0.000000</td>\n",
       "      <td>0.000000</td>\n",
       "      <td>0.000000</td>\n",
       "      <td>0.000000</td>\n",
       "      <td>0.000000</td>\n",
       "      <td>0.000000</td>\n",
       "    </tr>\n",
       "    <tr>\n",
       "      <th>25%</th>\n",
       "      <td>156593.750000</td>\n",
       "      <td>2818.000000</td>\n",
       "      <td>58.000000</td>\n",
       "      <td>9.000000</td>\n",
       "      <td>108.000000</td>\n",
       "      <td>7.000000</td>\n",
       "      <td>1116.000000</td>\n",
       "      <td>198.000000</td>\n",
       "      <td>213.000000</td>\n",
       "      <td>119.000000</td>\n",
       "      <td>...</td>\n",
       "      <td>0.000000</td>\n",
       "      <td>0.000000</td>\n",
       "      <td>0.000000</td>\n",
       "      <td>0.000000</td>\n",
       "      <td>0.000000</td>\n",
       "      <td>0.000000</td>\n",
       "      <td>0.000000</td>\n",
       "      <td>0.000000</td>\n",
       "      <td>0.000000</td>\n",
       "      <td>0.000000</td>\n",
       "    </tr>\n",
       "    <tr>\n",
       "      <th>50%</th>\n",
       "      <td>298066.500000</td>\n",
       "      <td>2999.000000</td>\n",
       "      <td>127.000000</td>\n",
       "      <td>13.000000</td>\n",
       "      <td>228.000000</td>\n",
       "      <td>29.000000</td>\n",
       "      <td>2018.000000</td>\n",
       "      <td>218.000000</td>\n",
       "      <td>226.000000</td>\n",
       "      <td>143.000000</td>\n",
       "      <td>...</td>\n",
       "      <td>0.000000</td>\n",
       "      <td>0.000000</td>\n",
       "      <td>0.000000</td>\n",
       "      <td>0.000000</td>\n",
       "      <td>0.000000</td>\n",
       "      <td>0.000000</td>\n",
       "      <td>0.000000</td>\n",
       "      <td>0.000000</td>\n",
       "      <td>0.000000</td>\n",
       "      <td>0.000000</td>\n",
       "    </tr>\n",
       "    <tr>\n",
       "      <th>75%</th>\n",
       "      <td>439539.250000</td>\n",
       "      <td>3164.000000</td>\n",
       "      <td>260.000000</td>\n",
       "      <td>18.000000</td>\n",
       "      <td>390.000000</td>\n",
       "      <td>69.000000</td>\n",
       "      <td>3349.000000</td>\n",
       "      <td>231.000000</td>\n",
       "      <td>237.000000</td>\n",
       "      <td>168.000000</td>\n",
       "      <td>...</td>\n",
       "      <td>0.000000</td>\n",
       "      <td>0.000000</td>\n",
       "      <td>0.000000</td>\n",
       "      <td>0.000000</td>\n",
       "      <td>0.000000</td>\n",
       "      <td>0.000000</td>\n",
       "      <td>0.000000</td>\n",
       "      <td>0.000000</td>\n",
       "      <td>0.000000</td>\n",
       "      <td>0.000000</td>\n",
       "    </tr>\n",
       "    <tr>\n",
       "      <th>max</th>\n",
       "      <td>581012.000000</td>\n",
       "      <td>3858.000000</td>\n",
       "      <td>360.000000</td>\n",
       "      <td>66.000000</td>\n",
       "      <td>1397.000000</td>\n",
       "      <td>601.000000</td>\n",
       "      <td>7117.000000</td>\n",
       "      <td>254.000000</td>\n",
       "      <td>254.000000</td>\n",
       "      <td>254.000000</td>\n",
       "      <td>...</td>\n",
       "      <td>1.000000</td>\n",
       "      <td>1.000000</td>\n",
       "      <td>1.000000</td>\n",
       "      <td>1.000000</td>\n",
       "      <td>1.000000</td>\n",
       "      <td>1.000000</td>\n",
       "      <td>1.000000</td>\n",
       "      <td>1.000000</td>\n",
       "      <td>1.000000</td>\n",
       "      <td>1.000000</td>\n",
       "    </tr>\n",
       "  </tbody>\n",
       "</table>\n",
       "<p>8 rows × 55 columns</p>\n",
       "</div>"
      ],
      "text/plain": [
       "                  Id      Elevation         Aspect          Slope  \\\n",
       "count  565892.000000  565892.000000  565892.000000  565892.000000   \n",
       "mean   298066.500000    2964.977407     155.629558      14.039635   \n",
       "std    163359.093603     273.157030     111.962120       7.450155   \n",
       "min     15121.000000    1859.000000       0.000000       0.000000   \n",
       "25%    156593.750000    2818.000000      58.000000       9.000000   \n",
       "50%    298066.500000    2999.000000     127.000000      13.000000   \n",
       "75%    439539.250000    3164.000000     260.000000      18.000000   \n",
       "max    581012.000000    3858.000000     360.000000      66.000000   \n",
       "\n",
       "       Horizontal_Distance_To_Hydrology  Vertical_Distance_To_Hydrology  \\\n",
       "count                     565892.000000                   565892.000000   \n",
       "mean                         270.556622                       46.294408   \n",
       "std                          212.500153                       58.209469   \n",
       "min                            0.000000                     -173.000000   \n",
       "25%                          108.000000                        7.000000   \n",
       "50%                          228.000000                       29.000000   \n",
       "75%                          390.000000                       69.000000   \n",
       "max                         1397.000000                      601.000000   \n",
       "\n",
       "       Horizontal_Distance_To_Roadways  Hillshade_9am  Hillshade_Noon  \\\n",
       "count                    565892.000000  565892.000000   565892.000000   \n",
       "mean                       2367.143116     212.131133      223.435026   \n",
       "std                        1561.482002      26.661063       19.668053   \n",
       "min                           0.000000       0.000000        0.000000   \n",
       "25%                        1116.000000     198.000000      213.000000   \n",
       "50%                        2018.000000     218.000000      226.000000   \n",
       "75%                        3349.000000     231.000000      237.000000   \n",
       "max                        7117.000000     254.000000      254.000000   \n",
       "\n",
       "       Hillshade_3pm  ...    Soil_Type31    Soil_Type32    Soil_Type33  \\\n",
       "count  565892.000000  ...  565892.000000  565892.000000  565892.000000   \n",
       "mean      142.726951  ...       0.044768       0.091588       0.078704   \n",
       "std        38.030094  ...       0.206795       0.288444       0.269277   \n",
       "min         0.000000  ...       0.000000       0.000000       0.000000   \n",
       "25%       119.000000  ...       0.000000       0.000000       0.000000   \n",
       "50%       143.000000  ...       0.000000       0.000000       0.000000   \n",
       "75%       168.000000  ...       0.000000       0.000000       0.000000   \n",
       "max       254.000000  ...       1.000000       1.000000       1.000000   \n",
       "\n",
       "         Soil_Type34    Soil_Type35    Soil_Type36    Soil_Type37  \\\n",
       "count  565892.000000  565892.000000  565892.000000  565892.000000   \n",
       "mean        0.002808       0.003161       0.000193       0.000467   \n",
       "std         0.052916       0.056137       0.013877       0.021594   \n",
       "min         0.000000       0.000000       0.000000       0.000000   \n",
       "25%         0.000000       0.000000       0.000000       0.000000   \n",
       "50%         0.000000       0.000000       0.000000       0.000000   \n",
       "75%         0.000000       0.000000       0.000000       0.000000   \n",
       "max         1.000000       1.000000       1.000000       1.000000   \n",
       "\n",
       "         Soil_Type38    Soil_Type39    Soil_Type40  \n",
       "count  565892.000000  565892.000000  565892.000000  \n",
       "mean        0.026233       0.023236       0.014651  \n",
       "std         0.159827       0.150652       0.120152  \n",
       "min         0.000000       0.000000       0.000000  \n",
       "25%         0.000000       0.000000       0.000000  \n",
       "50%         0.000000       0.000000       0.000000  \n",
       "75%         0.000000       0.000000       0.000000  \n",
       "max         1.000000       1.000000       1.000000  \n",
       "\n",
       "[8 rows x 55 columns]"
      ]
     },
     "execution_count": 7,
     "metadata": {},
     "output_type": "execute_result"
    }
   ],
   "source": [
    "data_test.describe()"
   ]
  },
  {
   "cell_type": "code",
   "execution_count": 9,
   "metadata": {},
   "outputs": [
    {
     "data": {
      "text/plain": [
       "(565892, 55)"
      ]
     },
     "execution_count": 9,
     "metadata": {},
     "output_type": "execute_result"
    }
   ],
   "source": [
    "data_test.shape"
   ]
  },
  {
   "cell_type": "code",
   "execution_count": 11,
   "metadata": {},
   "outputs": [
    {
     "data": {
      "text/plain": [
       "Id                                    int64\n",
       "Elevation                             int64\n",
       "Aspect                                int64\n",
       "Slope                                 int64\n",
       "Horizontal_Distance_To_Hydrology      int64\n",
       "Vertical_Distance_To_Hydrology        int64\n",
       "Horizontal_Distance_To_Roadways       int64\n",
       "Hillshade_9am                         int64\n",
       "Hillshade_Noon                        int64\n",
       "Hillshade_3pm                         int64\n",
       "Horizontal_Distance_To_Fire_Points    int64\n",
       "Wilderness_Area1                      int64\n",
       "Wilderness_Area2                      int64\n",
       "Wilderness_Area3                      int64\n",
       "Wilderness_Area4                      int64\n",
       "Soil_Type1                            int64\n",
       "Soil_Type2                            int64\n",
       "Soil_Type3                            int64\n",
       "Soil_Type4                            int64\n",
       "Soil_Type5                            int64\n",
       "Soil_Type6                            int64\n",
       "Soil_Type7                            int64\n",
       "Soil_Type8                            int64\n",
       "Soil_Type9                            int64\n",
       "Soil_Type10                           int64\n",
       "Soil_Type11                           int64\n",
       "Soil_Type12                           int64\n",
       "Soil_Type13                           int64\n",
       "Soil_Type14                           int64\n",
       "Soil_Type15                           int64\n",
       "Soil_Type16                           int64\n",
       "Soil_Type17                           int64\n",
       "Soil_Type18                           int64\n",
       "Soil_Type19                           int64\n",
       "Soil_Type20                           int64\n",
       "Soil_Type21                           int64\n",
       "Soil_Type22                           int64\n",
       "Soil_Type23                           int64\n",
       "Soil_Type24                           int64\n",
       "Soil_Type25                           int64\n",
       "Soil_Type26                           int64\n",
       "Soil_Type27                           int64\n",
       "Soil_Type28                           int64\n",
       "Soil_Type29                           int64\n",
       "Soil_Type30                           int64\n",
       "Soil_Type31                           int64\n",
       "Soil_Type32                           int64\n",
       "Soil_Type33                           int64\n",
       "Soil_Type34                           int64\n",
       "Soil_Type35                           int64\n",
       "Soil_Type36                           int64\n",
       "Soil_Type37                           int64\n",
       "Soil_Type38                           int64\n",
       "Soil_Type39                           int64\n",
       "Soil_Type40                           int64\n",
       "dtype: object"
      ]
     },
     "execution_count": 11,
     "metadata": {},
     "output_type": "execute_result"
    }
   ],
   "source": [
    "data_test.dtypes"
   ]
  },
  {
   "cell_type": "markdown",
   "metadata": {},
   "source": [
    "At this stage we have confirmed that the test data is complete, compatible with the train data and has no missing values. "
   ]
  },
  {
   "cell_type": "markdown",
   "metadata": {},
   "source": [
    "<a id='0'></a>\n",
    "##  <font color=green>2.Creating new features </font>\n",
    "\n",
    "We will create the same features created in our train data-set"
   ]
  },
  {
   "cell_type": "markdown",
   "metadata": {},
   "source": [
    "<a id='2.1'></a>\n",
    "### <font color=green> 2.1 Bivariate Combinations <font>"
   ]
  },
  {
   "cell_type": "code",
   "execution_count": 13,
   "metadata": {},
   "outputs": [
    {
     "data": {
      "text/plain": [
       "[('Elevation', 'Aspect'),\n",
       " ('Elevation', 'Slope'),\n",
       " ('Elevation', 'Horizontal_Distance_To_Hydrology'),\n",
       " ('Elevation', 'Vertical_Distance_To_Hydrology'),\n",
       " ('Elevation', 'Horizontal_Distance_To_Roadways'),\n",
       " ('Elevation', 'Hillshade_9am'),\n",
       " ('Elevation', 'Hillshade_Noon'),\n",
       " ('Elevation', 'Hillshade_3pm'),\n",
       " ('Elevation', 'Horizontal_Distance_To_Fire_Points'),\n",
       " ('Aspect', 'Slope'),\n",
       " ('Aspect', 'Horizontal_Distance_To_Hydrology'),\n",
       " ('Aspect', 'Vertical_Distance_To_Hydrology'),\n",
       " ('Aspect', 'Horizontal_Distance_To_Roadways'),\n",
       " ('Aspect', 'Hillshade_9am'),\n",
       " ('Aspect', 'Hillshade_Noon'),\n",
       " ('Aspect', 'Hillshade_3pm'),\n",
       " ('Aspect', 'Horizontal_Distance_To_Fire_Points'),\n",
       " ('Slope', 'Horizontal_Distance_To_Hydrology'),\n",
       " ('Slope', 'Vertical_Distance_To_Hydrology'),\n",
       " ('Slope', 'Horizontal_Distance_To_Roadways'),\n",
       " ('Slope', 'Hillshade_9am'),\n",
       " ('Slope', 'Hillshade_Noon'),\n",
       " ('Slope', 'Hillshade_3pm'),\n",
       " ('Slope', 'Horizontal_Distance_To_Fire_Points'),\n",
       " ('Horizontal_Distance_To_Hydrology', 'Vertical_Distance_To_Hydrology'),\n",
       " ('Horizontal_Distance_To_Hydrology', 'Horizontal_Distance_To_Roadways'),\n",
       " ('Horizontal_Distance_To_Hydrology', 'Hillshade_9am'),\n",
       " ('Horizontal_Distance_To_Hydrology', 'Hillshade_Noon'),\n",
       " ('Horizontal_Distance_To_Hydrology', 'Hillshade_3pm'),\n",
       " ('Horizontal_Distance_To_Hydrology', 'Horizontal_Distance_To_Fire_Points'),\n",
       " ('Vertical_Distance_To_Hydrology', 'Horizontal_Distance_To_Roadways'),\n",
       " ('Vertical_Distance_To_Hydrology', 'Hillshade_9am'),\n",
       " ('Vertical_Distance_To_Hydrology', 'Hillshade_Noon'),\n",
       " ('Vertical_Distance_To_Hydrology', 'Hillshade_3pm'),\n",
       " ('Vertical_Distance_To_Hydrology', 'Horizontal_Distance_To_Fire_Points'),\n",
       " ('Horizontal_Distance_To_Roadways', 'Hillshade_9am'),\n",
       " ('Horizontal_Distance_To_Roadways', 'Hillshade_Noon'),\n",
       " ('Horizontal_Distance_To_Roadways', 'Hillshade_3pm'),\n",
       " ('Horizontal_Distance_To_Roadways', 'Horizontal_Distance_To_Fire_Points'),\n",
       " ('Hillshade_9am', 'Hillshade_Noon'),\n",
       " ('Hillshade_9am', 'Hillshade_3pm'),\n",
       " ('Hillshade_9am', 'Horizontal_Distance_To_Fire_Points'),\n",
       " ('Hillshade_Noon', 'Hillshade_3pm'),\n",
       " ('Hillshade_Noon', 'Horizontal_Distance_To_Fire_Points'),\n",
       " ('Hillshade_3pm', 'Horizontal_Distance_To_Fire_Points')]"
      ]
     },
     "execution_count": 13,
     "metadata": {},
     "output_type": "execute_result"
    }
   ],
   "source": [
    "column_list = data_test.columns\n",
    "filtered_column_list = [column for column in column_list if 'Soil_Type' not in column and 'Wilderness_Area' not in column and 'Id' not in column ] \n",
    "interactions = list(combinations(filtered_column_list, 2))\n",
    "interactions"
   ]
  },
  {
   "cell_type": "raw",
   "metadata": {},
   "source": [
    "#Outcome based on the best Random Forest Score \n",
    "from sklearn.ensemble import RandomForestClassifier\n",
    "interaction_dict = {}\n",
    "i = 1\n",
    "for interaction in interactions:\n",
    "    print(f'Going through interaction {i}')\n",
    "    i += 1\n",
    "    X_train_int = X_train\n",
    "    X_train_int['int'] = X_train_int[interaction[0]] * X_train_int[interaction[1]]\n",
    "    fr3 = RandomForestClassifier(n_estimators=20)\n",
    "    fr3.fit(X_train,y_train)\n",
    "    interaction_dict[fr3.score(X_train_int, y_train)] = interaction"
   ]
  },
  {
   "cell_type": "raw",
   "metadata": {},
   "source": [
    "top_5 = sorted(interaction_dict.keys(), reverse = True)[:5]\n",
    "for interaction in top_5:\n",
    "    print(interaction_dict[interaction])"
   ]
  },
  {
   "cell_type": "markdown",
   "metadata": {},
   "source": [
    "Add the top  interaction features (which exclude a categorical variable) to existing DF for feature engineered model"
   ]
  },
  {
   "cell_type": "code",
   "execution_count": null,
   "metadata": {},
   "outputs": [],
   "source": [
    "data_train"
   ]
  },
  {
   "cell_type": "markdown",
   "metadata": {},
   "source": [
    "Addition and division has been taken out as it created a lot of noise in the data. The division makes sense if it has a business meaning and the addition only if it is the same scale. However we will add the variables which have the same metrics together in a second step but not in a for loop. "
   ]
  },
  {
   "cell_type": "code",
   "execution_count": null,
   "metadata": {},
   "outputs": [],
   "source": [
    "for (key, value) in interactions:\n",
    "    data_train[key + '_x_' + value] = data_train[key] * data_train[value]\n",
    "    #data_train[key + '_+_' + value] = data_train[key] + data_train[value]\n",
    "    #data_train[key + '_divide_' + value] = data_train[key] / data_train[value]"
   ]
  },
  {
   "cell_type": "code",
   "execution_count": null,
   "metadata": {},
   "outputs": [],
   "source": [
    "# Adding only variables with the same metric scale like meters, index, etc \n"
   ]
  },
  {
   "cell_type": "code",
   "execution_count": null,
   "metadata": {},
   "outputs": [],
   "source": [
    "pd.set_option('display.max_columns', None)\n",
    "data_train"
   ]
  },
  {
   "cell_type": "markdown",
   "metadata": {},
   "source": [
    "<a id='5.2.2'></a>\n",
    "### <font color=green> 5.2.2 Polynomial Features <font>\n",
    "    \n",
    "We have just seen how to make two variables interact together,but sometimes the relationship between dependent and independent variables are more complex and not linear. Polynomials is another way to create new features! A very strong (usually) option for new features is increasing the power of a single variable. For our purposes, we will try and see if all the existing variables, can improve our Baseline by being increased in power.<br>\n",
    "Source: https://towardsdatascience.com/feature-engineering-combination-polynomial-features-3caa4c77a755"
   ]
  },
  {
   "cell_type": "code",
   "execution_count": null,
   "metadata": {},
   "outputs": [],
   "source": [
    "X_train_int_pf = data_train.iloc[:, 1:10]\n",
    "X_train_int_pf"
   ]
  },
  {
   "cell_type": "code",
   "execution_count": null,
   "metadata": {},
   "outputs": [],
   "source": [
    "def PolynomialFeatures_labeled(input_df,power):\n",
    "    '''Basically this is a cover for the sklearn preprocessing function. \n",
    "    The problem with that function is if you give it a labeled dataframe, it ouputs an unlabeled dataframe with potentially\n",
    "    a whole bunch of unlabeled columns. \n",
    "\n",
    "    Inputs:\n",
    "    input_df = Your labeled pandas dataframe (list of x's not raised to any power) \n",
    "    power = what order polynomial you want variables up to. (use the same power as you want entered into pp.PolynomialFeatures(power) directly)\n",
    "\n",
    "    Ouput:\n",
    "    Output: This function relies on the powers_ matrix which is one of the preprocessing function's outputs to create logical labels and \n",
    "    outputs a labeled pandas dataframe   \n",
    "    '''\n",
    "    poly = PolynomialFeatures(power)\n",
    "    output_nparray = poly.fit_transform(input_df)\n",
    "    powers_nparray = poly.powers_\n",
    "\n",
    "    input_feature_names = list(input_df.columns)\n",
    "    target_feature_names = [\"Constant Term\"]\n",
    "    for feature_distillation in powers_nparray[1:]:\n",
    "        intermediary_label = \"\"\n",
    "        final_label = \"\"\n",
    "        for i in range(len(input_feature_names)):\n",
    "            if feature_distillation[i] == 0:\n",
    "                continue\n",
    "            else:\n",
    "                variable = input_feature_names[i]\n",
    "                power = feature_distillation[i]\n",
    "                intermediary_label = \"%s^%d\" % (variable,power)\n",
    "                if final_label == \"\":         #If the final label isn't yet specified\n",
    "                    final_label = intermediary_label\n",
    "                else:\n",
    "                    final_label = final_label + \" x \" + intermediary_label\n",
    "        target_feature_names.append(final_label)\n",
    "    output_df = pd.DataFrame(output_nparray, columns = target_feature_names)\n",
    "    return output_df\n",
    "\n"
   ]
  },
  {
   "cell_type": "markdown",
   "metadata": {},
   "source": [
    "Polynominal features of degree two, since we have already enough information, we will not go for Polynominal three"
   ]
  },
  {
   "cell_type": "code",
   "execution_count": null,
   "metadata": {},
   "outputs": [],
   "source": [
    "output_df_pw2 = PolynomialFeatures_labeled(X_train_int_pf,2)\n",
    "pd.set_option('display.max_columns', None)\n",
    "output_df_pw2.shape"
   ]
  },
  {
   "cell_type": "markdown",
   "metadata": {},
   "source": [
    "Few information are doubled with the previous dataframe, so we will have unique values, without ^1  as these columns are not needed "
   ]
  },
  {
   "cell_type": "code",
   "execution_count": null,
   "metadata": {},
   "outputs": [],
   "source": [
    "column_list = output_df_pw2.columns\n",
    "cols = [column for column in column_list if '^1' not in column]\n",
    "output_df_pw2=output_df_pw2[cols]\n",
    "output_df_pw2"
   ]
  },
  {
   "cell_type": "code",
   "execution_count": null,
   "metadata": {},
   "outputs": [],
   "source": [
    "data_train = pd.concat([data_train,output_df_pw2], axis=1)\n",
    "data_train"
   ]
  },
  {
   "cell_type": "code",
   "execution_count": null,
   "metadata": {},
   "outputs": [],
   "source": [
    "output_df_pw3 = PolynomialFeatures_labeled(X_train_int_pf,3)\n",
    "output_df_pw3"
   ]
  },
  {
   "cell_type": "markdown",
   "metadata": {},
   "source": [
    "<a id='5.2.3'></a>\n",
    "### <font color=green> 5.2.3 ID <font>"
   ]
  },
  {
   "cell_type": "code",
   "execution_count": null,
   "metadata": {},
   "outputs": [],
   "source": [
    "#We agree for the test to not remove ID because the ID is the unique indentifier to evaluate\n",
    "data_train.drop('Id',axis = 1, inplace = True)"
   ]
  },
  {
   "cell_type": "markdown",
   "metadata": {},
   "source": [
    "<a id='5.2.4'></a>\n",
    "### <font color=green> 5.2.4 Distance To Hydrology <font>\n",
    "#### <font color=green> New Features <font>"
   ]
  },
  {
   "cell_type": "markdown",
   "metadata": {},
   "source": [
    "We combine Vertical distance to Hydrology and Horizontal distance to Hydrology since these two are highly correlated and also we can transform it into one variable which would give the distance to the closest water surface and using Pythagoras \n",
    "theorem for Distance calculation, since we have the horizontal and the vertical Distance. \n",
    "Source : https://towardsdatascience.com/types-of-transformations-for-better-normal-distribution-61c22668d3b9"
   ]
  },
  {
   "cell_type": "code",
   "execution_count": null,
   "metadata": {},
   "outputs": [],
   "source": [
    "data_train['Distance_To_Hydrology'] = data_train['Horizontal_Distance_To_Hydrology']**2 +data_train['Vertical_Distance_To_Hydrology']**2\n",
    "data_train['Distance_To_Hydrology'] = data_train['Distance_To_Hydrology']**0.5\n",
    "data_train.head()"
   ]
  },
  {
   "cell_type": "markdown",
   "metadata": {},
   "source": [
    "#### <font color=green> Square root and logarithm Transformation  <font>"
   ]
  },
  {
   "cell_type": "markdown",
   "metadata": {},
   "source": [
    "Now we are checking the distribution of the new created variable if further transformation is needed. The Distance to Hydrology is still positive skewed and has zero values. In order to use log we will use log + 1 in order to use logarithm with zero values. \n",
    "\n",
    "Source: https://www.youtube.com/watch?v=_c3dVTRIK9c and \n",
    "\n",
    "Source_2: https://towardsdatascience.com/types-of-transformations-for-better-normal-distribution-61c22668d3b9"
   ]
  },
  {
   "cell_type": "markdown",
   "metadata": {},
   "source": [
    "As a rule of thump, the skewness can be interpreted as follows:\n",
    "<img src=\"Skew.png\" width=400 height=200 align=\"center\">\n",
    "\n",
    "Source: https://www.marsja.se/transform-skewed-data-using-square-root-log-box-cox-methods-in-python/"
   ]
  },
  {
   "cell_type": "code",
   "execution_count": null,
   "metadata": {},
   "outputs": [],
   "source": [
    "print('\\033[95m'+\"Skew before transformation\\n\", data_train['Distance_To_Hydrology'].skew(), \n",
    "      \"\\nmin\\n\", data_train['Distance_To_Hydrology'].min(),\n",
    "      \"\\nmax\\n\", data_train['Distance_To_Hydrology'].max(),)"
   ]
  },
  {
   "cell_type": "code",
   "execution_count": null,
   "metadata": {},
   "outputs": [],
   "source": [
    "#Using the log10+ 1 logarithm \n",
    "data_train['log10_Distance_To_Hydrology'] = np.log10(data_train['Distance_To_Hydrology']+1)"
   ]
  },
  {
   "cell_type": "code",
   "execution_count": null,
   "metadata": {},
   "outputs": [],
   "source": [
    "#Using the square root \n",
    "data_train['sqr_Distance_To_Hydrology'] = data_train['Distance_To_Hydrology']**0.5"
   ]
  },
  {
   "cell_type": "markdown",
   "metadata": {},
   "source": [
    "#### <font color=green> Results after logarithm and <font color=darkcyan> Sqrare root Transformation<font>"
   ]
  },
  {
   "cell_type": "code",
   "execution_count": null,
   "metadata": {},
   "outputs": [],
   "source": [
    "print('\\033[92m' +\"Skew after Log transformation\\n\", data_train['log10_Distance_To_Hydrology'].skew(), \n",
    "      \"\\nmin\\n\", data_train['log10_Distance_To_Hydrology'].min(),\n",
    "      \"\\nmax\\n\", data_train['log10_Distance_To_Hydrology'].max(),)"
   ]
  },
  {
   "cell_type": "code",
   "execution_count": null,
   "metadata": {},
   "outputs": [],
   "source": [
    "print('\\033[96m'+ \"Skew after Square Root Transformation\\n\", data_train['sqr_Distance_To_Hydrology'].skew(), \n",
    "      \"\\nmin\\n\", data_train['sqr_Distance_To_Hydrology'].min(),\n",
    "      \"\\nmax\\n\", data_train['sqr_Distance_To_Hydrology'].max(),)"
   ]
  },
  {
   "cell_type": "code",
   "execution_count": null,
   "metadata": {},
   "outputs": [],
   "source": [
    "\n",
    "def histPlot(first_feature,col):\n",
    "    sns.distplot(first_feature,color=col,fit = norm,kde = True,kde_kws = {'shade': True, 'linewidth': 3});\n",
    "\n",
    "f = plt.figure(figsize=(20,15))\n",
    "f.add_subplot(331)\n",
    "histPlot(data_train['Distance_To_Hydrology'], 'purple')\n",
    "f.add_subplot(332)\n",
    "histPlot(data_train['log10_Distance_To_Hydrology'], 'green')\n",
    "f.add_subplot(333)\n",
    "histPlot(data_train['sqr_Distance_To_Hydrology'], 'c')"
   ]
  },
  {
   "cell_type": "markdown",
   "metadata": {},
   "source": [
    "As you can see above, for distance to Hydrology the __square root__ showed a better performance in terms of skewness and is closer to a normal bell shaped than the logarithm transformation. We will be using Square Root as a new feature in the dataset and will frop the others from the dataset.  "
   ]
  },
  {
   "cell_type": "code",
   "execution_count": null,
   "metadata": {},
   "outputs": [],
   "source": [
    "data_train.drop(['log10_Distance_To_Hydrology'], axis=1,inplace=True)"
   ]
  },
  {
   "cell_type": "markdown",
   "metadata": {},
   "source": [
    "<a id='5.2.5'></a>\n",
    "### <font color=green> 5.2.5 Horizontal Distance To Roadways <font>\n",
    "\n",
    "#### <font color=green> Square root and logarithm Transformation  <font>"
   ]
  },
  {
   "cell_type": "markdown",
   "metadata": {},
   "source": [
    "For log transformation there should be no zeros, negative values and the distribution should be positive skewed( bigger than 1 is positive) hence we are using the square root as you can see for logarithm transformation below the distribution did not improve!!!"
   ]
  },
  {
   "cell_type": "code",
   "execution_count": null,
   "metadata": {},
   "outputs": [],
   "source": [
    "print('\\033[95m'+\"Skew before Transformation\\n\", data_train['Horizontal_Distance_To_Roadways'].skew(), \n",
    "      \"\\nmin before Transformation\\n\", data_train['Horizontal_Distance_To_Roadways'].min(),\n",
    "      \"\\nmax before Transformation\\n\", data_train['Horizontal_Distance_To_Roadways'].max(),)"
   ]
  },
  {
   "cell_type": "markdown",
   "metadata": {},
   "source": [
    "#### <font color=green> Results after logarithm and <font color=darkcyan> Square root Transformation<font>"
   ]
  },
  {
   "cell_type": "code",
   "execution_count": null,
   "metadata": {},
   "outputs": [],
   "source": [
    "# since we have null values we add plus 1 to avoid log of zero.We are using natural log and log10\n",
    "data_train['Sqr_Horizontal_Distance_To_Roadways'] = data_train['Horizontal_Distance_To_Roadways']**0.5\n",
    "data_train['log_Horizontal_Distance_To_Roadways'] = np.log(data_train['Horizontal_Distance_To_Roadways']+1)\n",
    "data_train['log10_Horizontal_Distance_To_Roadways'] = np.log10(data_train['Horizontal_Distance_To_Roadways']+1)"
   ]
  },
  {
   "cell_type": "code",
   "execution_count": null,
   "metadata": {},
   "outputs": [],
   "source": [
    "print('\\033[96m'+ \"Skew after Square Root Transformation\\n\", data_train['Sqr_Horizontal_Distance_To_Roadways'].skew(), \n",
    "      \"\\nmin \\n\", data_train['Sqr_Horizontal_Distance_To_Roadways'].min(),\n",
    "      \"\\nmax \\n\", data_train['Sqr_Horizontal_Distance_To_Roadways'].max(),)\n"
   ]
  },
  {
   "cell_type": "code",
   "execution_count": null,
   "metadata": {},
   "outputs": [],
   "source": [
    "print('\\033[92m' +\"Skew after log Transformation\\n\", data_train['log_Horizontal_Distance_To_Roadways'].skew(), \n",
    "      \"\\nmin\\n\", data_train['log_Horizontal_Distance_To_Roadways'].min(),\n",
    "      \"\\nmax\\n\", data_train['log_Horizontal_Distance_To_Roadways'].max(),)"
   ]
  },
  {
   "cell_type": "code",
   "execution_count": null,
   "metadata": {},
   "outputs": [],
   "source": [
    "print('\\033[92m'+ \"Skew after log10 transformation\\n\", data_train['log10_Horizontal_Distance_To_Roadways'].skew(), \n",
    "      \"\\nmin \\n\", data_train['log10_Horizontal_Distance_To_Roadways'].min(),\n",
    "      \"\\nmax \\n\", data_train['log10_Horizontal_Distance_To_Roadways'].max(),)"
   ]
  },
  {
   "cell_type": "code",
   "execution_count": null,
   "metadata": {},
   "outputs": [],
   "source": [
    "# testing if the sqaure root is normally distributed and it shows it is not, however it is less skewed than before\n",
    "stats.normaltest(data_train['Sqr_Horizontal_Distance_To_Roadways'])"
   ]
  },
  {
   "cell_type": "code",
   "execution_count": null,
   "metadata": {},
   "outputs": [],
   "source": [
    "def histPlot(first_feature,col):\n",
    "    sns.distplot(first_feature,color=col,fit = norm,kde = True,kde_kws = {'shade': True, 'linewidth': 3});\n",
    "\n",
    "f = plt.figure(figsize=(15,10))\n",
    "f.add_subplot(331)\n",
    "histPlot(data_train['Horizontal_Distance_To_Roadways'], 'purple')\n",
    "f.add_subplot(334)\n",
    "histPlot(data_train['log_Horizontal_Distance_To_Roadways'], 'green')\n",
    "f.add_subplot(335)\n",
    "histPlot(data_train['log10_Horizontal_Distance_To_Roadways'], 'green')\n",
    "f.add_subplot(332)\n",
    "histPlot(data_train['Sqr_Horizontal_Distance_To_Roadways'], 'c')"
   ]
  },
  {
   "cell_type": "markdown",
   "metadata": {},
   "source": [
    "We achieved the best result for square root of the Horizontal Distance to Roadways. "
   ]
  },
  {
   "cell_type": "code",
   "execution_count": null,
   "metadata": {},
   "outputs": [],
   "source": [
    "data_train.drop(['log_Horizontal_Distance_To_Roadways','log10_Horizontal_Distance_To_Roadways'], axis=1,inplace=True)"
   ]
  },
  {
   "cell_type": "markdown",
   "metadata": {},
   "source": [
    "<a id='5.2.6'></a>\n",
    "### <font color=green> 5.2.6 Slope <font>\n",
    "#### <font color=green> Square root and logarithm Transformation  <font>"
   ]
  },
  {
   "cell_type": "code",
   "execution_count": null,
   "metadata": {},
   "outputs": [],
   "source": [
    "print('\\033[95m'+ \"Skew before transformation\\n\", data_train['Slope'].skew(), \n",
    "      \"\\nmin\\n\", data_train['Slope'].min(),\n",
    "      \"\\nmax \\n\", data_train['Slope'].max(),)"
   ]
  },
  {
   "cell_type": "markdown",
   "metadata": {},
   "source": [
    "#### <font color=green> Results after logarithm and <font color=darkcyan> Sqrare root Transformation<font>"
   ]
  },
  {
   "cell_type": "code",
   "execution_count": null,
   "metadata": {},
   "outputs": [],
   "source": [
    "# since we have null values we add plus 1 to avoid log of zero\n",
    "data_train['logSlope'] = np.log(data_train['Slope']+1)"
   ]
  },
  {
   "cell_type": "code",
   "execution_count": null,
   "metadata": {},
   "outputs": [],
   "source": [
    "print('\\033[92m'+\"Skew after log transformation\\n\", data_train['logSlope'].skew(), \n",
    "      \"\\nmin\\n\", data_train['logSlope'].min(),\n",
    "      \"\\nmax\\n\", data_train['logSlope'].max(),)"
   ]
  },
  {
   "cell_type": "code",
   "execution_count": null,
   "metadata": {},
   "outputs": [],
   "source": [
    "data_train['SqrSlope'] = data_train['Slope']**0.5"
   ]
  },
  {
   "cell_type": "code",
   "execution_count": null,
   "metadata": {},
   "outputs": [],
   "source": [
    "print('\\033[96m'+\"Skew after Square Root transformation\\n\", data_train['SqrSlope'].skew(), \n",
    "      \"\\nmin\\n\", data_train['SqrSlope'].min(),\n",
    "      \"\\nmax\\n\", data_train['SqrSlope'].max(),)"
   ]
  },
  {
   "cell_type": "code",
   "execution_count": null,
   "metadata": {},
   "outputs": [],
   "source": [
    "def histPlot(first_feature,col):\n",
    "    sns.distplot(first_feature,color=col,fit = norm,kde = True,kde_kws = {'shade': True, 'linewidth': 3});\n",
    "\n",
    "f = plt.figure(figsize=(15,10))\n",
    "f.add_subplot(331)\n",
    "histPlot(data_train['Slope'], 'purple')\n",
    "f.add_subplot(332)\n",
    "histPlot(data_train['logSlope'], 'green')\n",
    "f.add_subplot(333)\n",
    "histPlot(data_train['SqrSlope'], 'c')"
   ]
  },
  {
   "cell_type": "markdown",
   "metadata": {},
   "source": [
    "Since the skweness for the slope shows better performance when using the square root, we will transform the variable into square root as well. "
   ]
  },
  {
   "cell_type": "code",
   "execution_count": null,
   "metadata": {},
   "outputs": [],
   "source": [
    "data_train.drop(['logSlope'], axis=1,inplace=True)"
   ]
  },
  {
   "cell_type": "markdown",
   "metadata": {},
   "source": [
    "<a id='5.2.7'></a>\n",
    "### <font color=green> 5.2.7 Horizontal Distance To Fire Points  <font>\n",
    "#### <font color=green> Transformation  <font>"
   ]
  },
  {
   "cell_type": "code",
   "execution_count": null,
   "metadata": {},
   "outputs": [],
   "source": [
    "print('\\033[95m'+\"Skew before transformation\\n\", data_train['Horizontal_Distance_To_Fire_Points'].skew(), \n",
    "      \"\\nmin\\n\", data_train['Horizontal_Distance_To_Fire_Points'].min(),\n",
    "      \"\\nmax\\n\", data_train['Horizontal_Distance_To_Fire_Points'].max(),)"
   ]
  },
  {
   "cell_type": "markdown",
   "metadata": {},
   "source": [
    "#### <font color=green> Results after logarithm and <font color=darkcyan> Sqrare root Transformation<font>"
   ]
  },
  {
   "cell_type": "code",
   "execution_count": null,
   "metadata": {},
   "outputs": [],
   "source": [
    "# since we have null values we add plus 1 to avoid log of zero\n",
    "data_train['log_Horizontal_Distance_To_firepoints'] = np.log(data_train['Horizontal_Distance_To_Fire_Points']+1)"
   ]
  },
  {
   "cell_type": "code",
   "execution_count": null,
   "metadata": {},
   "outputs": [],
   "source": [
    "print('\\033[92m'+\"Skew after log transformation\\n\", data_train['log_Horizontal_Distance_To_firepoints'].skew(), \n",
    "      \"\\nmin\\n\", data_train['log_Horizontal_Distance_To_firepoints'].min(),\n",
    "      \"\\nmax\\n\", data_train['log_Horizontal_Distance_To_firepoints'].max(),)"
   ]
  },
  {
   "cell_type": "code",
   "execution_count": null,
   "metadata": {},
   "outputs": [],
   "source": [
    "#Transform with square root\n",
    "data_train['sqr_Horizontal_Distance_To_firepoints'] = data_train['Horizontal_Distance_To_Fire_Points']**0.5"
   ]
  },
  {
   "cell_type": "code",
   "execution_count": null,
   "metadata": {},
   "outputs": [],
   "source": [
    "print('\\033[96m'+\"Skew after Square Root transformation\\n\", data_train['sqr_Horizontal_Distance_To_firepoints'].skew(), \n",
    "      \"\\nmin\\n\", data_train['sqr_Horizontal_Distance_To_firepoints'].min(),\n",
    "      \"\\nmax\\n\", data_train['sqr_Horizontal_Distance_To_firepoints'].max(),)"
   ]
  },
  {
   "cell_type": "code",
   "execution_count": null,
   "metadata": {},
   "outputs": [],
   "source": [
    "def histPlot(first_feature,col):\n",
    "    sns.distplot(first_feature,color=col,fit = norm,kde = True,kde_kws = {'shade': True, 'linewidth': 3});\n",
    "\n",
    "f = plt.figure(figsize=(15,10))\n",
    "f.add_subplot(331)\n",
    "histPlot(data_train['Horizontal_Distance_To_Fire_Points'], 'purple')\n",
    "f.add_subplot(332)\n",
    "histPlot(data_train['log_Horizontal_Distance_To_firepoints'], 'green')\n",
    "f.add_subplot(333)\n",
    "histPlot(data_train['sqr_Horizontal_Distance_To_firepoints'], 'c')"
   ]
  },
  {
   "cell_type": "markdown",
   "metadata": {},
   "source": [
    "Since square root transformation gives the best result in skewness, we will also use sqr for the feature variable."
   ]
  },
  {
   "cell_type": "code",
   "execution_count": null,
   "metadata": {},
   "outputs": [],
   "source": [
    "data_train.drop(['log_Horizontal_Distance_To_firepoints'], axis=1,inplace=True)"
   ]
  },
  {
   "cell_type": "markdown",
   "metadata": {},
   "source": [
    "<a id='5.2.8'></a>\n",
    "### <font color=green> 5.2.8 Hillshades <font>\n",
    "<a id='5.2.8.1'></a>\n",
    "### <font color=green> 5.2.8.1 Mean Hillshade <font>\n",
    "#### <font color=green> Creation of new Feature: Mean Hillshade <font>"
   ]
  },
  {
   "cell_type": "code",
   "execution_count": null,
   "metadata": {},
   "outputs": [],
   "source": [
    "# We take the average of Hillshades,which gives you the average light exposure of each cover type during the day\n",
    "data_train['Mean_Hillshade'] = (data_train['Hillshade_9am']+data_train['Hillshade_Noon']+data_train['Hillshade_3pm'])/3"
   ]
  },
  {
   "cell_type": "code",
   "execution_count": null,
   "metadata": {},
   "outputs": [],
   "source": [
    "#Itensity of the Hillshade variables in 3 bin siizes with the bin discretizer\n",
    "est = KBinsDiscretizer(n_bins=3, encode='ordinal', strategy='uniform')\n",
    "data_train['Mean_Hillshade_bin'] = est.fit_transform(data_train[['Mean_Hillshade']])"
   ]
  },
  {
   "cell_type": "code",
   "execution_count": null,
   "metadata": {},
   "outputs": [],
   "source": [
    "data_train[['Mean_Hillshade_bin','Mean_Hillshade']].describe()"
   ]
  },
  {
   "cell_type": "code",
   "execution_count": null,
   "metadata": {},
   "outputs": [],
   "source": [
    "print('\\033[95m'+\"Skew before transformation\\n\", data_train['Mean_Hillshade'].skew(), \n",
    "      \"\\nmin\\n\", data_train['Mean_Hillshade'].min(),\n",
    "      \"\\nmax\\n\", data_train['Mean_Hillshade'].max(),)"
   ]
  },
  {
   "cell_type": "markdown",
   "metadata": {},
   "source": [
    "#### <font color=green> Results after logarithm Transformation <font color=darkcyan>, Square root Transformation<font color=gold> and BoxCox Transformation<font>"
   ]
  },
  {
   "cell_type": "code",
   "execution_count": null,
   "metadata": {},
   "outputs": [],
   "source": [
    "data_train['log_Mean_Hillshade'] = np.log(data_train['Mean_Hillshade'])"
   ]
  },
  {
   "cell_type": "code",
   "execution_count": null,
   "metadata": {},
   "outputs": [],
   "source": [
    "print('\\033[92m'+\"Skew after log transformation\\n\", data_train['log_Mean_Hillshade'].skew(), \n",
    "      \"\\nmin\\n\", data_train['log_Mean_Hillshade'].min(),\n",
    "      \"\\nmax\\n\", data_train['log_Mean_Hillshade'].max(),)"
   ]
  },
  {
   "cell_type": "code",
   "execution_count": null,
   "metadata": {},
   "outputs": [],
   "source": [
    "data_train['log10Mean_Hillshade'] = np.log10(data_train['Mean_Hillshade'])"
   ]
  },
  {
   "cell_type": "code",
   "execution_count": null,
   "metadata": {},
   "outputs": [],
   "source": [
    "print('\\033[92m'+\"Skew after log10 transformation\\n\", data_train['log10Mean_Hillshade'].skew(), \n",
    "      \"\\nmin\\n\", data_train['log10Mean_Hillshade'].min(),\n",
    "      \"\\nmax\\n\", data_train['log10Mean_Hillshade'].max(),)"
   ]
  },
  {
   "cell_type": "code",
   "execution_count": null,
   "metadata": {},
   "outputs": [],
   "source": [
    "data_train['sqr_Mean_Hillshade'] = data_train['Mean_Hillshade']**0.5"
   ]
  },
  {
   "cell_type": "code",
   "execution_count": null,
   "metadata": {},
   "outputs": [],
   "source": [
    "print('\\033[96m'+\"Skew after Square Root transformation\\n\", data_train['sqr_Mean_Hillshade'].skew(), \n",
    "      \"\\nmin\\n\", data_train['sqr_Mean_Hillshade'].min(),\n",
    "      \"\\nmax\\n\", data_train['sqr_Mean_Hillshade'].max(),)"
   ]
  },
  {
   "cell_type": "code",
   "execution_count": null,
   "metadata": {},
   "outputs": [],
   "source": [
    "#Now, the Box-Cox transformation also requires our data to only contain positive numbers\n",
    "# transform training data with Boxcox\n",
    "data_train['Mean_Hillshade_boxcox'], _ = stats.boxcox(data_train['Mean_Hillshade'])"
   ]
  },
  {
   "cell_type": "code",
   "execution_count": null,
   "metadata": {},
   "outputs": [],
   "source": [
    "print('\\033[93m'+\"Skew after Boxcox transformation\\n\", data_train['Mean_Hillshade_boxcox'].skew(), \n",
    "      \"\\nmin\\n\", data_train['Mean_Hillshade_boxcox'].min(),\n",
    "      \"\\nmax\\n\", data_train['Mean_Hillshade_boxcox'].max(),)"
   ]
  },
  {
   "cell_type": "code",
   "execution_count": null,
   "metadata": {},
   "outputs": [],
   "source": [
    "stats.normaltest(data_train['Mean_Hillshade_boxcox'])"
   ]
  },
  {
   "cell_type": "code",
   "execution_count": null,
   "metadata": {},
   "outputs": [],
   "source": [
    "from scipy.stats import norm\n",
    "import scipy.stats as stats\n",
    "\n",
    "def histPlot(first_feature,col):\n",
    "    sns.distplot(first_feature,color=col,fit = norm,kde = True,kde_kws = {'shade': True, 'linewidth': 3});\n",
    "\n",
    "f = plt.figure(figsize=(20,10))\n",
    "f.add_subplot(331)\n",
    "histPlot(data_train['Mean_Hillshade'], 'purple')\n",
    "f.add_subplot(335)\n",
    "histPlot(data_train['log_Mean_Hillshade'], 'green')\n",
    "f.add_subplot(334)\n",
    "histPlot(data_train['Mean_Hillshade_boxcox'], 'gold')                    \n",
    "f.add_subplot(332)\n",
    "histPlot(data_train['sqr_Mean_Hillshade'], 'c')"
   ]
  },
  {
   "cell_type": "markdown",
   "metadata": {},
   "source": [
    "The distribution did not improve with Square Root and Logarithms Transformation. Hence we use BoxCox which improved the distribution substantially. "
   ]
  },
  {
   "cell_type": "code",
   "execution_count": null,
   "metadata": {},
   "outputs": [],
   "source": [
    "data_train.drop(['log10Mean_Hillshade','log_Mean_Hillshade','sqr_Mean_Hillshade'], axis=1,inplace=True)"
   ]
  },
  {
   "cell_type": "markdown",
   "metadata": {},
   "source": [
    "<a id='5.2.8.2'></a>\n",
    "### <font color=green> 5.2.8.2 Hillshade 9am <font>\n",
    "#### <font color=green> Transformation  <font>"
   ]
  },
  {
   "cell_type": "code",
   "execution_count": null,
   "metadata": {},
   "outputs": [],
   "source": [
    "print('\\033[95m'+\"Skew before transformation\\n\", data_train['Hillshade_9am'].skew(), \n",
    "      \"\\nmin\\n\", data_train['Hillshade_9am'].min(),\n",
    "      \"\\nmax\\n\", data_train['Hillshade_9am'].max(),)"
   ]
  },
  {
   "cell_type": "markdown",
   "metadata": {},
   "source": [
    "#### <font color=green> Results after logarithm Transformation <font color=darkcyan>, Square root Transformation<font color=gold> and BoxCox Transformation<font>"
   ]
  },
  {
   "cell_type": "code",
   "execution_count": null,
   "metadata": {},
   "outputs": [],
   "source": [
    "data_train['log_Hillshade_9am'] = np.log(data_train['Hillshade_9am']+1)"
   ]
  },
  {
   "cell_type": "code",
   "execution_count": null,
   "metadata": {},
   "outputs": [],
   "source": [
    "print('\\033[92m'+\"Skew after log transformation\\n\", data_train['log_Hillshade_9am'].skew(), \n",
    "      \"\\nmin\\n\", data_train['log_Hillshade_9am'].min(),\n",
    "      \"\\nmax\\n\", data_train['log_Hillshade_9am'].max(),)"
   ]
  },
  {
   "cell_type": "code",
   "execution_count": null,
   "metadata": {},
   "outputs": [],
   "source": [
    "data_train['sqr_Hillshade_9am'] = data_train['Hillshade_9am']**0.5"
   ]
  },
  {
   "cell_type": "code",
   "execution_count": null,
   "metadata": {},
   "outputs": [],
   "source": [
    "print('\\033[96m'+\"Skew after Square Root transformation\\n\", data_train['sqr_Hillshade_9am'].skew(), \n",
    "      \"\\nmin\\n\", data_train['sqr_Hillshade_9am'].min(),\n",
    "      \"\\nmax\\n\", data_train['sqr_Hillshade_9am'].max(),)"
   ]
  },
  {
   "cell_type": "code",
   "execution_count": null,
   "metadata": {},
   "outputs": [],
   "source": [
    "#Now, the Box-Cox transformation also requires our data to only contain positive numbers, transform training data with Boxcox\n",
    "data_train['Hillshade_9am_boxcox'], lam  = stats.boxcox(data_train['Hillshade_9am']+1)\n",
    "#lam is the best lambda for the distribution"
   ]
  },
  {
   "cell_type": "code",
   "execution_count": null,
   "metadata": {},
   "outputs": [],
   "source": [
    "print('\\033[93m'+\"Skew after Boxcox transformation\\n\", data_train['Hillshade_9am_boxcox'].skew(), \n",
    "      \"\\nmin\\n\", data_train['Hillshade_9am_boxcox'].min(),\n",
    "      \"\\nmax\\n\", data_train['Hillshade_9am_boxcox'].max(),)"
   ]
  },
  {
   "cell_type": "code",
   "execution_count": null,
   "metadata": {},
   "outputs": [],
   "source": [
    "def histPlot(first_feature,col):\n",
    "    sns.distplot(first_feature,color=col,fit = norm,kde = True,kde_kws = {'shade': True, 'linewidth': 3});\n",
    "\n",
    "f = plt.figure(figsize=(20,10))\n",
    "f.add_subplot(331)\n",
    "histPlot(data_train['Hillshade_9am'], 'purple')\n",
    "f.add_subplot(335)\n",
    "histPlot(data_train['log_Hillshade_9am'], 'green')\n",
    "f.add_subplot(334)\n",
    "histPlot(data_train['Hillshade_9am_boxcox'], 'gold')                    \n",
    "f.add_subplot(332)\n",
    "histPlot(data_train['sqr_Hillshade_9am'], 'c')"
   ]
  },
  {
   "cell_type": "markdown",
   "metadata": {},
   "source": [
    "BoxCox outperforms the other two for the Hillshade 9am "
   ]
  },
  {
   "cell_type": "code",
   "execution_count": null,
   "metadata": {},
   "outputs": [],
   "source": [
    "data_train.drop(['log_Hillshade_9am','sqr_Hillshade_9am'], axis=1,inplace=True)"
   ]
  },
  {
   "cell_type": "markdown",
   "metadata": {},
   "source": [
    "<a id='5.2.8.3'></a>\n",
    "### <font color=green> 5.2.8.3 Hillshade Noon <font>\n",
    "#### <font color=green> Transformation  <font>"
   ]
  },
  {
   "cell_type": "code",
   "execution_count": null,
   "metadata": {},
   "outputs": [],
   "source": [
    "print('\\033[95m'+\"Skew before transformation\\n\", data_train['Hillshade_Noon'].skew(), \n",
    "      \"\\nmin\\n\", data_train['Hillshade_Noon'].min(),\n",
    "      \"\\nmax\\n\", data_train['Hillshade_Noon'].max(),)"
   ]
  },
  {
   "cell_type": "markdown",
   "metadata": {},
   "source": [
    "#### <font color=green> Results after logarithm Transformation <font color=darkcyan>, Square root Transformation<font color=gold> and BoxCox Transformation<font>"
   ]
  },
  {
   "cell_type": "code",
   "execution_count": null,
   "metadata": {},
   "outputs": [],
   "source": [
    "data_train['log_Hillshade_Noon'] = np.log(data_train['Hillshade_Noon']+1)"
   ]
  },
  {
   "cell_type": "code",
   "execution_count": null,
   "metadata": {},
   "outputs": [],
   "source": [
    "print('\\033[92m'+\"Skew after log transformation\\n\", data_train['log_Hillshade_Noon'].skew(), \n",
    "      \"\\nmin\\n\", data_train['log_Hillshade_Noon'].min(),\n",
    "      \"\\nmax\\n\", data_train['log_Hillshade_Noon'].max(),)"
   ]
  },
  {
   "cell_type": "code",
   "execution_count": null,
   "metadata": {},
   "outputs": [],
   "source": [
    "data_train['sqr_Hillshade_Noon'] = data_train['Hillshade_Noon']**0.5"
   ]
  },
  {
   "cell_type": "code",
   "execution_count": null,
   "metadata": {},
   "outputs": [],
   "source": [
    "print('\\033[96m'+\"Skew after Square Root transformation\\n\", data_train['sqr_Hillshade_Noon'].skew(), \n",
    "      \"\\nmin\\n\", data_train['sqr_Hillshade_Noon'].min(),\n",
    "      \"\\nmax\\n\", data_train['sqr_Hillshade_Noon'].max(),)"
   ]
  },
  {
   "cell_type": "code",
   "execution_count": null,
   "metadata": {},
   "outputs": [],
   "source": [
    "#Now, the Box-Cox transformation also requires our data to only contain positive numbers, transform training data with Boxcox\n",
    "data_train['Hillshade_Noon_boxcox'], lam  = stats.boxcox(data_train['Hillshade_Noon'])\n",
    "#lam is the best lambda for the distribution"
   ]
  },
  {
   "cell_type": "code",
   "execution_count": null,
   "metadata": {},
   "outputs": [],
   "source": [
    "print('\\033[93m'+\"Skew after Boxcox transformation\\n\", data_train['Hillshade_Noon_boxcox'].skew(), \n",
    "      \"\\nmin\\n\", data_train['Hillshade_Noon_boxcox'].min(),\n",
    "      \"\\nmax\\n\", data_train['Hillshade_Noon_boxcox'].max(),)"
   ]
  },
  {
   "cell_type": "code",
   "execution_count": null,
   "metadata": {},
   "outputs": [],
   "source": [
    "from scipy.stats import norm\n",
    "import scipy.stats as stats\n",
    "\n",
    "def histPlot(first_feature,col):\n",
    "    sns.distplot(first_feature,color=col,fit = norm,kde = True,kde_kws = {'shade': True, 'linewidth': 3});\n",
    "\n",
    "f = plt.figure(figsize=(20,10))\n",
    "f.add_subplot(331)\n",
    "histPlot(data_train['Hillshade_Noon'], 'purple')\n",
    "f.add_subplot(335)\n",
    "histPlot(data_train['log_Hillshade_Noon'], 'green')\n",
    "f.add_subplot(334)\n",
    "histPlot(data_train['Hillshade_Noon_boxcox'], 'gold')                    \n",
    "f.add_subplot(332)\n",
    "histPlot(data_train['sqr_Hillshade_Noon'], 'c')"
   ]
  },
  {
   "cell_type": "markdown",
   "metadata": {},
   "source": [
    "Box Coc is outperforming the other transformations for Hillshade Noon"
   ]
  },
  {
   "cell_type": "code",
   "execution_count": null,
   "metadata": {},
   "outputs": [],
   "source": [
    "data_train.drop(['log_Hillshade_Noon','sqr_Hillshade_Noon'], axis=1,inplace=True)"
   ]
  },
  {
   "cell_type": "markdown",
   "metadata": {},
   "source": [
    "<a id='5.2.8.4'></a>\n",
    "### <font color=green> 5.2.8.4 Hillshade 3pm <font>\n",
    "#### <font color=green> Transformation  <font>"
   ]
  },
  {
   "cell_type": "code",
   "execution_count": null,
   "metadata": {},
   "outputs": [],
   "source": [
    "print('\\033[95m'+\"Skew before transformation\\n\", data_train['Hillshade_3pm'].skew(), \n",
    "      \"\\nmin\\n\", data_train['Hillshade_3pm'].min(),\n",
    "      \"\\nmax\\n\", data_train['Hillshade_3pm'].max(),)"
   ]
  },
  {
   "cell_type": "markdown",
   "metadata": {},
   "source": [
    "#### <font color=green> Results after logarithm Transformation <font color=darkcyan>, Square root Transformation<font color=gold> and BoxCox Transformation<font>"
   ]
  },
  {
   "cell_type": "code",
   "execution_count": null,
   "metadata": {},
   "outputs": [],
   "source": [
    "data_train['log_Hillshade_3pm'] = np.log(data_train['Hillshade_3pm']+1)"
   ]
  },
  {
   "cell_type": "code",
   "execution_count": null,
   "metadata": {},
   "outputs": [],
   "source": [
    "print('\\033[92m'+\"Skew after log transformation\\n\", data_train['log_Hillshade_3pm'].skew(), \n",
    "      \"\\nmin\\n\", data_train['log_Hillshade_3pm'].min(),\n",
    "      \"\\nmax\\n\", data_train['log_Hillshade_3pm'].max(),)"
   ]
  },
  {
   "cell_type": "code",
   "execution_count": null,
   "metadata": {},
   "outputs": [],
   "source": [
    "data_train['sqr_Hillshade_3pm'] = data_train['Hillshade_3pm']**0.5"
   ]
  },
  {
   "cell_type": "code",
   "execution_count": null,
   "metadata": {},
   "outputs": [],
   "source": [
    "print('\\033[96m'+\"Skew after Square Root transformation\\n\", data_train['sqr_Hillshade_3pm'].skew(), \n",
    "      \"\\nmin\\n\", data_train['sqr_Hillshade_3pm'].min(),\n",
    "      \"\\nmax\\n\", data_train['sqr_Hillshade_3pm'].max(),)"
   ]
  },
  {
   "cell_type": "code",
   "execution_count": null,
   "metadata": {},
   "outputs": [],
   "source": [
    "#Now, the Box-Cox transformation also requires our data to only contain positive numbers, transform training data with Boxcox\n",
    "data_train['Hillshade_3pm_boxcox'], lam  = stats.boxcox(data_train['Hillshade_3pm']+1)\n",
    "#lam is the best lambda for the distribution"
   ]
  },
  {
   "cell_type": "code",
   "execution_count": null,
   "metadata": {},
   "outputs": [],
   "source": [
    "print('\\033[93m'+\"Skew after Boxcox transformation\\n\", data_train['Hillshade_3pm_boxcox'].skew(), \n",
    "      \"\\nmin\\n\", data_train['Hillshade_3pm_boxcox'].min(),\n",
    "      \"\\nmax\\n\", data_train['Hillshade_3pm_boxcox'].max(),)"
   ]
  },
  {
   "cell_type": "code",
   "execution_count": null,
   "metadata": {
    "scrolled": true
   },
   "outputs": [],
   "source": [
    "def histPlot(first_feature,col):\n",
    "    sns.distplot(first_feature,color=col,fit = norm,kde = True,kde_kws = {'shade': True, 'linewidth': 3});\n",
    "\n",
    "f = plt.figure(figsize=(20,10))\n",
    "f.add_subplot(331)\n",
    "histPlot(data_train['Hillshade_3pm'], 'purple')\n",
    "f.add_subplot(335)\n",
    "histPlot(data_train['log_Hillshade_3pm'], 'green')\n",
    "f.add_subplot(334)\n",
    "histPlot(data_train['Hillshade_3pm_boxcox'], 'gold')                    \n",
    "f.add_subplot(332)\n",
    "histPlot(data_train['sqr_Hillshade_3pm'], 'c')"
   ]
  },
  {
   "cell_type": "markdown",
   "metadata": {},
   "source": [
    "For the Hillshade 3pm the data was not highly skwed, we either keep the original or we can use boxcox as it improved the variables as well. "
   ]
  },
  {
   "cell_type": "code",
   "execution_count": null,
   "metadata": {},
   "outputs": [],
   "source": [
    "data_train.drop(['log_Hillshade_3pm','sqr_Hillshade_3pm'], axis=1,inplace=True)"
   ]
  },
  {
   "cell_type": "markdown",
   "metadata": {},
   "source": [
    "### <font color=green> 5.2.8.5 Hillshades  Ratios <font>"
   ]
  },
  {
   "cell_type": "code",
   "execution_count": null,
   "metadata": {},
   "outputs": [],
   "source": [
    "data_train['ratio_Hillshade_3pm'] = data_train['Hillshade_3pm']/255\n",
    "data_train['ratio_Hillshade_Noon'] = data_train['Hillshade_Noon']/255\n",
    "data_train['ratio_Hillshade_9am'] = data_train['Hillshade_9am']/255"
   ]
  },
  {
   "cell_type": "markdown",
   "metadata": {},
   "source": [
    "### <font color=green> 5.2.9.1 Aspect <font>\n",
    "#### <font color=green> Transformation  <font>"
   ]
  },
  {
   "cell_type": "code",
   "execution_count": null,
   "metadata": {},
   "outputs": [],
   "source": [
    "print('\\033[95m'+\"Skew before transformation\\n\", data_train['Aspect'].skew(), \n",
    "      \"\\nmin\\n\", data_train['Aspect'].min(),\n",
    "      \"\\nmax\\n\", data_train['Aspect'].max(),)"
   ]
  },
  {
   "cell_type": "markdown",
   "metadata": {},
   "source": [
    "#### <font color=green> Results after logarithm Transformation <font color=darkcyan>and Square root Transformation<font>"
   ]
  },
  {
   "cell_type": "code",
   "execution_count": null,
   "metadata": {},
   "outputs": [],
   "source": [
    "data_train['sqr_Aspect'] = data_train['Aspect']**0.5"
   ]
  },
  {
   "cell_type": "code",
   "execution_count": null,
   "metadata": {},
   "outputs": [],
   "source": [
    "print('\\033[96m'+\"Skew after Square Root transformation\\n\", data_train['sqr_Aspect'].skew(), \n",
    "      \"\\nmin\\n\", data_train['sqr_Aspect'].min(),\n",
    "      \"\\nmax\\n\", data_train['sqr_Aspect'].max(),)"
   ]
  },
  {
   "cell_type": "code",
   "execution_count": null,
   "metadata": {},
   "outputs": [],
   "source": [
    "data_train['log_Aspect'] = np.log(data_train['Aspect']+1)"
   ]
  },
  {
   "cell_type": "code",
   "execution_count": null,
   "metadata": {},
   "outputs": [],
   "source": [
    "print('\\033[92m'+\"Skew after log transformation\\n\", data_train['log_Aspect'].skew(), \n",
    "      \"\\nmin\\n\", data_train['log_Aspect'].min(),\n",
    "      \"\\nmax\\n\", data_train['log_Aspect'].max(),)"
   ]
  },
  {
   "cell_type": "code",
   "execution_count": null,
   "metadata": {},
   "outputs": [],
   "source": [
    "\n",
    "\n",
    "def histPlot(first_feature,col):\n",
    "    sns.distplot(first_feature,color=col,fit = norm,kde = True,kde_kws = {'shade': True, 'linewidth': 3});\n",
    "\n",
    "f = plt.figure(figsize=(20,10))\n",
    "f.add_subplot(331)\n",
    "histPlot(data_train['Aspect'], 'purple')\n",
    "f.add_subplot(332)\n",
    "histPlot(data_train['log_Aspect'], 'green')\n",
    "#f.add_subplot(334)\n",
    "#histPlot(data_train['Hillshade_3pm_boxcox'], 'gold')                    \n",
    "f.add_subplot(333)\n",
    "histPlot(data_train['sqr_Aspect'], 'c')"
   ]
  },
  {
   "cell_type": "markdown",
   "metadata": {},
   "source": [
    "For aspect square root turned out to be the best transformation in terms of skweness. "
   ]
  },
  {
   "cell_type": "code",
   "execution_count": null,
   "metadata": {},
   "outputs": [],
   "source": [
    "data_train.drop(['log_Aspect'], axis=1,inplace=True)"
   ]
  },
  {
   "cell_type": "markdown",
   "metadata": {},
   "source": [
    "### <font color=green> 5.2.8.5 Hillshades  Ratios <font>"
   ]
  },
  {
   "cell_type": "code",
   "execution_count": null,
   "metadata": {},
   "outputs": [],
   "source": [
    "data_train['ratio_Hillshade_3pm'] = data_train['Hillshade_3pm']/255\n",
    "data_train['ratio_Hillshade_Noon'] = data_train['Hillshade_Noon']/255\n",
    "data_train['ratio_Hillshade_9am'] = data_train['Hillshade_9am']/255"
   ]
  },
  {
   "cell_type": "markdown",
   "metadata": {},
   "source": [
    "### <font color=green> 5.2.9.2 Aspect in degrees <font>\n",
    "#### <font color=green> New Features  <font>\n",
    "The azimuth is the angular direction of the sun, measured from north clockwise in degrees from 0 to 360. An Azimuth of 90 degrees is east.The Cut of values will be between for instance the middle of north and east.\n",
    "\n",
    "* Aspect_North: from 315 deg to 45 deg\n",
    "* Aspect_East: from 45 deg to 135 deg\n",
    "* Aspect_South: from 135 deg to 225 deg\n",
    "* Aspect_West: from 225 deg to 315 deg    \n",
    "\n",
    "<img src=\"angle_azimuth.png\" width=400 height=200 align=\"center\">\n",
    "    \n",
    "Source:https://www.pveducation.org/pvcdrom/properties-of-sunlight/azimuth-angle"
   ]
  },
  {
   "cell_type": "code",
   "execution_count": null,
   "metadata": {},
   "outputs": [],
   "source": [
    "#Grouping Aspect in the four directions\n",
    "data_train['Aspect_North']=  np.where(((data_train['Aspect']>=0) & (data_train['Aspect']<45))|((X_train['Aspect']>=315) & (X_train['Aspect']<=360)), 1 ,0)\n",
    "data_train['Aspect_East']= np.where((data_train['Aspect']>=45) & (data_train['Aspect']<135), 1 ,0)\n",
    "data_train['Aspect_South']= np.where((data_train['Aspect']>=135) & (data_train['Aspect']<225), 1 ,0)\n",
    "data_train['Aspect_West']= np.where((data_train['Aspect']>=225) & (data_train['Aspect']<315), 1 ,0)"
   ]
  },
  {
   "cell_type": "markdown",
   "metadata": {},
   "source": [
    "### <font color=green> 5.2.8 Elevation <font>"
   ]
  },
  {
   "cell_type": "code",
   "execution_count": null,
   "metadata": {},
   "outputs": [],
   "source": [
    "#No transformation as it is already very symetric distributed \n",
    "print('\\033[95m'+\"Skew before transformation\\n\", data_train['Elevation'].skew(), \n",
    "      \"\\nmin\\n\", data_train['Elevation'].min(),\n",
    "      \"\\nmax\\n\", data_train['Elevation'].max(),)"
   ]
  },
  {
   "cell_type": "code",
   "execution_count": null,
   "metadata": {},
   "outputs": [],
   "source": [
    "#importing \"math\" for mathematical operations \n",
    "data_train['binned_elevation'] = [math.floor(v/50.0) for v in data_train['Elevation']]"
   ]
  },
  {
   "cell_type": "code",
   "execution_count": null,
   "metadata": {},
   "outputs": [],
   "source": []
  },
  {
   "cell_type": "markdown",
   "metadata": {},
   "source": [
    "Addition and Substraction on the same scale\n",
    "Using for loop was giving us a bad performance hence we are using the features on the same scale which to add or substract "
   ]
  },
  {
   "cell_type": "code",
   "execution_count": null,
   "metadata": {},
   "outputs": [],
   "source": [
    "data_train['Road+Fire'] = data_train['Horizontal_Distance_To_Roadways'] + data_train['Horizontal_Distance_To_Fire_Points']\n",
    "data_train['Road-Fire'] = abs(data_train['Horizontal_Distance_To_Roadways'] - data_train['Horizontal_Distance_To_Fire_Points'])\n",
    "data_train['Road+Hydro'] = data_train['Horizontal_Distance_To_Roadways'] + data_train['Horizontal_Distance_To_Hydrology']\n",
    "data_train['Road-Hydro'] = abs(data_train['Horizontal_Distance_To_Roadways'] - data_train['Horizontal_Distance_To_Hydrology'])\n",
    "data_train['Hydro+Fire'] = data_train['Horizontal_Distance_To_Hydrology'] + data_train['Horizontal_Distance_To_Fire_Points']\n",
    "data_train['Hydro-Fire'] = abs(data_train['Horizontal_Distance_To_Hydrology'] - data_train['Horizontal_Distance_To_Fire_Points'])\n",
    "\n",
    "data_train['Road+Fire+Hydro'] = data_train['Horizontal_Distance_To_Roadways']  + data_train['Horizontal_Distance_To_Fire_Points'] + data_train['Horizontal_Distance_To_Hydrology']\n",
    "\n",
    "data_train['Ele+Road+Fire+Hydro'] = data_train['Elevation'] + data_train['Horizontal_Distance_To_Roadways']  + data_train['Horizontal_Distance_To_Fire_Points'] + data_train['Horizontal_Distance_To_Hydrology']\n",
    "\n",
    "data_train['Ele+road'] = data_train['Elevation'] + data_train['Horizontal_Distance_To_Roadways']\n",
    "data_train['Ele-road'] = abs(data_train['Elevation'] - data_train['Horizontal_Distance_To_Roadways'])\n",
    "data_train['Ele+fire'] = data_train['Elevation'] + data_train['Horizontal_Distance_To_Fire_Points']\n",
    "data_train['Ele-fire'] = abs(data_train['Elevation'] - data_train['Horizontal_Distance_To_Fire_Points'])\n",
    "data_train['Ele+hydro'] = data_train['Elevation'] + data_train['Horizontal_Distance_To_Hydrology']\n",
    "data_train['Ele-hydro'] = abs(data_train['Elevation'] - data_train['Horizontal_Distance_To_Hydrology'])\n",
    "\n",
    "\n"
   ]
  },
  {
   "cell_type": "raw",
   "metadata": {},
   "source": [
    "#square root the new created variables, no model improvements   \n",
    "data_train['Road+Fire^2'] = data_train['Road+Fire']**2\n",
    "data_train['Road-Fire^2'] = data_train['Road-Fire']**2\n",
    "data_train['Road+Hydro^2'] = data_train['Road+Hydro']**2\n",
    "data_train['Road-Hydro^2'] = data_train['Road-Hydro']**2\n",
    "data_train['Hydro+Fire^2'] = data_train['Hydro+Fire']**2\n",
    "data_train['Hydro-Fire^2'] = data_train['Hydro-Fire']**2\n",
    "\n",
    "data_train['Road+Fire+Hydro^2'] = data_train['Road+Fire+Hydro']**2\n",
    "\n",
    "data_train['Ele+Road+Fire+Hydro^2'] = data_train['Ele+Road+Fire+Hydro']**2\n",
    "\n",
    "data_train['Ele+road^2'] = data_train['Ele+road']**2\n",
    "data_train['Ele-road^2'] = data_train['Ele-road']**2\n",
    "data_train['Ele+fire^2'] = data_train['Ele+fire']**2\n",
    "data_train['Ele-fire^2'] = data_train['Ele-fire']**2\n",
    "data_train['Ele+hydro^2'] = data_train['Ele+hydro']**2\n",
    "data_train['Ele-hydro^2'] = data_train['Ele-hydro']**2"
   ]
  },
  {
   "cell_type": "code",
   "execution_count": null,
   "metadata": {},
   "outputs": [],
   "source": []
  },
  {
   "cell_type": "markdown",
   "metadata": {},
   "source": [
    "### <font color=green> 5.2.9 Geoclimate grouping  <font>"
   ]
  },
  {
   "cell_type": "markdown",
   "metadata": {},
   "source": [
    "#### <font color=green> 5.2.9.1 Climatic feature engineering to group soils  <font>"
   ]
  },
  {
   "cell_type": "markdown",
   "metadata": {},
   "source": [
    "From original database donated by John A. Blackard\n",
    "\n",
    "Code Designations:\n",
    "\n",
    "Wilderness Areas:  \t<br>\n",
    "\n",
    "1 - Rawah Wilderness Area <br>\n",
    "2 - Neota Wilderness Area  <br>\n",
    "3 - Comanche Peak Wilderness Area<br>\n",
    "4 - Cache la Poudre Wilderness Area<br>\n",
    "\n",
    "Soil Types:             1 to 40 : based on the USFS Ecological\n",
    "                        Landtype Units (ELUs) for this study area:<br>\n",
    "\n",
    "  Study Code USFS ELU Code\t\t\tDescription<br>\n",
    "\t 1\t   2702\t\tCathedral family - Rock outcrop complex, extremely stony.<br>\n",
    "\t 2\t   2703\t\tVanet - Ratake families complex, very stony.<br>\n",
    "\t 3\t   2704\t\tHaploborolis - Rock outcrop complex, rubbly.<br>\n",
    "\t 4\t   2705\t\tRatake family - Rock outcrop complex, rubbly.<br>\n",
    "\t 5\t   2706\t\tVanet family - Rock outcrop complex complex, rubbly.<br>\n",
    "\t 6\t   2717\t\tVanet - Wetmore families - Rock outcrop complex, stony.<br>\n",
    "\t 7\t   3501\t\tGothic family.<br>\n",
    "\t 8\t   3502\t\tSupervisor - Limber families complex.<br>\n",
    "\t 9\t   4201\t\tTroutville family, very stony.<br>\n",
    "\t10\t   4703\t\tBullwark - Catamount families - Rock outcrop complex, rubbly.<br>\n",
    "\t11\t   4704\t\tBullwark - Catamount families - Rock land complex, rubbly.<br>\n",
    "\t12\t   4744\t\tLegault family - Rock land complex, stony.<br>\n",
    "\t13\t   4758\t\tCatamount family - Rock land - Bullwark family complex, rubbly.<br>\n",
    "\t14\t   5101\t\tPachic Argiborolis - Aquolis complex.<br>\n",
    "\t15\t   5151\t\tunspecified in the USFS Soil and ELU Survey.<br>\n",
    "\t16\t   6101\t\tCryaquolis - Cryoborolis complex.<br>\n",
    "\t17\t   6102\t\tGateview family - Cryaquolis complex.<br>\n",
    "\t18\t   6731\t\tRogert family, very stony.<br>\n",
    "\t19\t   7101\t\tTypic Cryaquolis - Borohemists complex.<br>\n",
    "\t20\t   7102\t\tTypic Cryaquepts - Typic Cryaquolls complex.<br>\n",
    "\t21\t   7103\t\tTypic Cryaquolls - Leighcan family, till substratum complex.<br>\n",
    "\t22\t   7201\t\tLeighcan family, till substratum, extremely bouldery.<br>\n",
    "\t23\t   7202\t\tLeighcan family, till substratum - Typic Cryaquolls complex.<br>\n",
    "\t24\t   7700\t\tLeighcan family, extremely stony.<br>\n",
    "\t25\t   7701\t\tLeighcan family, warm, extremely stony.<br>\n",
    "\t26\t   7702\t\tGranile - Catamount families complex, very stony.<br>\n",
    "\t27\t   7709\t\tLeighcan family, warm - Rock outcrop complex, extremely stony.<br>\n",
    "\t28\t   7710\t\tLeighcan family - Rock outcrop complex, extremely stony.<br>\n",
    "\t29\t   7745\t\tComo - Legault families complex, extremely stony.<br>\n",
    "\t30\t   7746\t\tComo family - Rock land - Legault family complex, extremely stony.<br>\n",
    "\t31\t   7755\t\tLeighcan - Catamount families complex, extremely stony.<br>\n",
    "\t32\t   7756\t\tCatamount family - Rock outcrop - Leighcan family complex, extremely stony.<br>\n",
    "\t33\t   7757\t\tLeighcan - Catamount families - Rock outcrop complex, extremely stony.<br>\n",
    "\t34\t   7790\t\tCryorthents - Rock land complex, extremely stony.<br>\n",
    "\t35\t   8703\t\tCryumbrepts - Rock outcrop - Cryaquepts complex.<br>\n",
    "\t36\t   8707\t\tBross family - Rock land - Cryumbrepts complex, extremely stony.<br>\n",
    "\t37\t   8708\t\tRock outcrop - Cryumbrepts - Cryorthents complex, extremely stony.<br>\n",
    "\t38\t   8771\t\tLeighcan - Moran families - Cryaquolls complex, extremely stony.<br>\n",
    "\t39\t   8772\t\tMoran family - Cryorthents - Leighcan family complex, extremely <br>stony.\n",
    "\t40\t   8776\t\tMoran family - Cryorthents - Rock land complex, extremely stony.<br>"
   ]
  },
  {
   "cell_type": "markdown",
   "metadata": {},
   "source": [
    "        Note:   First digit:  climatic zone       Second digit:  geologic zones\n",
    "                1.  lower montane dry             1.  alluvium\n",
    "                2.  lower montane                 2.  glacial\n",
    "                3.  montane dry                   3.  shale\n",
    "                4.  montane                       4.  sandstone\n",
    "                5.  montane dry and montane       5.  mixed sedimentary\n",
    "                6.  montane and subalpine         6.unspecified in the USFS ELU Survey\n",
    "                7.  subalpine                     7.  igneous and metamorphic\n",
    "                8.  alpine                        8.  volcanic"
   ]
  },
  {
   "cell_type": "markdown",
   "metadata": {},
   "source": [
    "The USFD, an American federal agency for forest service dependent on the department of agriculture has classified soil types according to __climatic zone (first digit)__ and __geology (second digit)__. Because of this, we believe a similar classification can be artificially engineered grouping all similar soils in 7 categories for climate (there is no lower montane dry soils) and 4 for geology (we do not take into consideration shale, sandstone, volcanic or unspecified)"
   ]
  },
  {
   "cell_type": "markdown",
   "metadata": {},
   "source": [
    "#### <font color=green> 5.2.9.2 Climatic Zone feature engineering to group soils  <font>"
   ]
  },
  {
   "cell_type": "code",
   "execution_count": null,
   "metadata": {},
   "outputs": [],
   "source": [
    "data_train[\"Lower_Montane_Climate\"] = data_train.loc[:,data_train.columns.str.contains(\"^Soil_Type[23456]$\")].max(axis=1)"
   ]
  },
  {
   "cell_type": "code",
   "execution_count": null,
   "metadata": {},
   "outputs": [],
   "source": [
    "data_train['Montane_Dry_Climate'] =data_train.loc[:,data_train.columns.str.contains(\"^Soil_Type[78]$\")].max(axis=1)"
   ]
  },
  {
   "cell_type": "code",
   "execution_count": null,
   "metadata": {},
   "outputs": [],
   "source": [
    "data_train['Montane_Climate'] =data_train.loc[:,data_train.columns.str.contains(\"^Soil_Type[1][0123]$|Soil_Type[9]$\")].max(axis=1)"
   ]
  },
  {
   "cell_type": "code",
   "execution_count": null,
   "metadata": {},
   "outputs": [],
   "source": [
    "data_train['Montane_Dry_and_Montane_Climate'] =data_train.loc[:,data_train.columns.str.contains(\"^Soil_Type[1][45]$\")].max(axis=1)"
   ]
  },
  {
   "cell_type": "code",
   "execution_count": null,
   "metadata": {},
   "outputs": [],
   "source": [
    "data_train['Montante_and_Subalpine_Climate'] =data_train.loc[:,data_train.columns.str.contains(\"^Soil_Type[1][678]$\")].max(axis=1)\n"
   ]
  },
  {
   "cell_type": "code",
   "execution_count": null,
   "metadata": {},
   "outputs": [],
   "source": [
    "data_train['Subalpine_Climate'] =data_train.loc[:,data_train.columns.str.contains(\"^Soil_Type19$|^Soil_Type[2][0-9]$|^Soil_Type[3][0-4]$\")].max(axis=1)\n"
   ]
  },
  {
   "cell_type": "code",
   "execution_count": null,
   "metadata": {},
   "outputs": [],
   "source": [
    "data_train['Alpine_Climate'] =data_train.loc[:,data_train.columns.str.contains(\"^Soil_Type[3][56789]$|Soil_Type40\")].max(axis=1)"
   ]
  },
  {
   "cell_type": "markdown",
   "metadata": {},
   "source": [
    "#### <font color=green> 5.2.9.2 Geological feature engineering to group soils  <font>"
   ]
  },
  {
   "cell_type": "markdown",
   "metadata": {},
   "source": [
    "The USFD, an American federal agency for forest service dependent on the department of agriculture has classified soil types according to climatic zone (first digit) and geology (second digit). Because of this, we believe a similar classification can be artificially engineered grouping all similar soils in 7 categories for climate (there is no lower montane dry soils) and 4 for geology (we do not take into consideration shale, sandstone, volcanic or unspecified because there are not existing in the dataset)."
   ]
  },
  {
   "cell_type": "markdown",
   "metadata": {},
   "source": [
    "        Note:   First digit:  climatic zone             Second digit:  geologic zones\n",
    "                1.  lower montane dry                   1.  alluvium\n",
    "                2.  lower montane                       2.  glacial\n",
    "                3.  montane dry                         3.  shale\n",
    "                4.  montane                             4.  sandstone\n",
    "                5.  montane dry and montane             5.  mixed sedimentary\n",
    "                6.  montane and subalpine               6.  unspecified in the USFS ELU Survey\n",
    "                7.  subalpine                           7.  igneous and metamorphic\n",
    "                8.  alpine                              8.  volcanic"
   ]
  },
  {
   "cell_type": "code",
   "execution_count": null,
   "metadata": {},
   "outputs": [],
   "source": [
    "data_train['Alluvium_Soil'] = data_train.loc[:,data_train.columns.str.contains(\"^Soil_Type[1][45679]$|^Soil_Type[2][01]$\")].max(axis=1)"
   ]
  },
  {
   "cell_type": "code",
   "execution_count": null,
   "metadata": {},
   "outputs": [],
   "source": [
    "data_train['Glacial_Soil'] =data_train.loc[:,data_train.columns.str.contains(\"^Soil_Type[9]$|^Soil_Type[2][23]$\")].max(axis=1)"
   ]
  },
  {
   "cell_type": "code",
   "execution_count": null,
   "metadata": {},
   "outputs": [],
   "source": [
    "data_train['Mixed_Sedimentary_Soil'] =data_train.loc[:,data_train.columns.str.contains(\"^Soil_Type[7-8]$\")].max(axis=1)"
   ]
  },
  {
   "cell_type": "code",
   "execution_count": null,
   "metadata": {},
   "outputs": [],
   "source": [
    "data_train['Igneus_and_Metamorphic_Soil'] =data_train.loc[:,data_train.columns.str.contains(\"^Soil_Type[1-6]$|^Soil_Type[1][01238]$|^Soil_Type[3-4]\\d$|^Soil_Type[2][4-9]$\")].max(axis=1)"
   ]
  },
  {
   "cell_type": "code",
   "execution_count": null,
   "metadata": {},
   "outputs": [],
   "source": [
    "data_train.head()"
   ]
  },
  {
   "cell_type": "markdown",
   "metadata": {},
   "source": [
    "Based on the medium paper \"Preprocessing: Why you should generate polynominal features first before standardizing\" mention it is not good practice to standardize the variablesbefore before PolynominalFeatures. This should be done after to not loss the signal of the variables.  "
   ]
  },
  {
   "cell_type": "code",
   "execution_count": null,
   "metadata": {},
   "outputs": [],
   "source": [
    "# Identify and drop our target variable 'Cover_Type' from dataframe, isolating our independent variables\n",
    "X = data_train.drop('Cover_Type', axis = 1)\n",
    "\n",
    "# Isolate our dependent variable as a feature\n",
    "y = data_train['Cover_Type']"
   ]
  },
  {
   "cell_type": "code",
   "execution_count": null,
   "metadata": {},
   "outputs": [],
   "source": [
    "# Train Test Split (70/30 size), drop duplicates and missing values\n",
    "\n",
    "\n",
    "X_train, X_val, y_train, y_val = train_test_split(X, y, test_size = .3, random_state = 33, stratify=y)\n",
    "\n",
    "X_train.drop_duplicates(inplace = True)\n",
    "X_train.dropna(inplace = True)"
   ]
  },
  {
   "cell_type": "markdown",
   "metadata": {},
   "source": [
    "### Soil Type Groupings"
   ]
  },
  {
   "cell_type": "markdown",
   "metadata": {},
   "source": [
    "### Advanced Factorization\n",
    "\n",
    "The numerical values present a level of detail that may be much more fine-grained than we need. For instance, the soil level can be represented by different categories (soil family, complex or stony/rubberly). We aggregate the data up which can help to avoid overfitting when the data is more aggregate: "
   ]
  },
  {
   "cell_type": "markdown",
   "metadata": {},
   "source": [
    "### <font color=green> 5.6 Soil Type Family  <font>"
   ]
  },
  {
   "cell_type": "markdown",
   "metadata": {},
   "source": [
    "Using Discretization to bin the soil variable to the family type.<br>\n",
    "\n",
    "__Cathedral__ <br>\n",
    "1 Cathedral family - Rock outcrop complex, extremely stony.<br>\n",
    "\n",
    "__Ratake__ <br>\n",
    "2 Vanet - Ratake families complex, very stony.<br>\n",
    "4 Ratake family - Rock outcrop complex, rubbly.<br>\n",
    "\n",
    "__Vanet__<br>\n",
    "5 Vanet family - Rock outcrop complex complex, rubbly.<br>\n",
    "\n",
    "__Wetmore__<br>\n",
    "6 Vanet - Wetmore families - Rock outcrop complex, stony.<br>\n",
    "\n",
    "__Gothic__<br>\n",
    "7 Gothic family.<br>\n",
    "                    \n",
    "__Limber__ <br>\n",
    "8 Supervisor - Limber families complex. <br>\n",
    "\n",
    "__Troutville__<br>\n",
    "9 Troutville family, very stony.<br>\n",
    "\n",
    "__Legault__<br>\n",
    "12 Legault family - Rock land complex, stony.<br>\n",
    "29 Como - Legault families complex, extremely stony.<br>\n",
    "\n",
    "__Gateview__ <br>\n",
    "17 Gateview family - Cryaquolis complex.<br>\n",
    "\n",
    "__Rogert__<br>\n",
    "18 Rogert family, very stony.<br>\n",
    "\n",
    "\n",
    "__Como__<br>\n",
    "30 Como family - Rock land - Legault family complex, extremely stony.<br>\n",
    "\n",
    "__Bross__<br>\n",
    "36 Bross family - Rock land - Cryumbrepts complex, extremely stony.<br>\n",
    "\n",
    "\n",
    "\n",
    "__Catamount__<br>\n",
    "10 Bullwark - Catamount families - Rock outcrop complex, rubbly.<br>\n",
    "11 Bullwark - Catamount families - Rock land complex, rubbly.<br>\n",
    "13 Catamount family - Rock land - Bullwark family complex, rubbly.<br>\n",
    "26 Granile - Catamount families complex, very stony.<br>\n",
    "32 Catamount family - Rock outcrop - Leighcan family complex, extremely stony.<br>\n",
    "31 Leighcan - Catamount families complex, extremely stony.<br>\n",
    "33 Leighcan - Catamount families - Rock outcrop complex, extremely stony.<br>\n",
    "\n",
    "__Leighcan__<br>\n",
    "21 Typic Cryaquolls - Leighcan family, till substratum complex.<br>\n",
    "22 Leighcan family, till substratum, extremely bouldery.<br>\n",
    "23 Leighcan family, till substratum - Typic Cryaquolls complex.<br>\n",
    "24 Leighcan family, extremely stony.<br>\n",
    "25 Leighcan family, warm, extremely stony.<br>\n",
    "27 Leighcan family, warm - Rock outcrop complex, extremely stony.<br>\n",
    "28 Leighcan family - Rock outcrop complex, extremely stony.<br>\n",
    "\n",
    "__Moran__<br>\n",
    "38 Leighcan - Moran families - Cryaquolls complex, extremely stony.<br>\n",
    "39 Moran family - Cryorthents - Leighcan family complex, extremely stony.<br>\n",
    "40 Moran family - Cryorthents - Rock land complex, extremely stony.<br>\n",
    "\n",
    "__Others__<br> \n",
    "3 Haploborolis - Rock outcrop complex, rubbly.<br>\n",
    "15 unspecified in the USFS Soil and ELU Survey.<br>\n",
    "37 Rock outcrop - Cryumbrepts - Cryorthents complex, extremely stony.<br>\n",
    "34 Cryorthents - Rock land complex, extremely stony.<br>\n",
    "35 Cryumbrepts - Rock outcrop - Cryaquepts complex.<br>\n",
    "20 Typic Cryaquepts - Typic Cryaquolls complex.<br>\n",
    "14 Pachic Argiborolis - Aquolis complex.<br>\n",
    "16 Cryaquolis - Cryoborolis complex.<br>\n",
    "19 Typic Cryaquolis - Borohemists complex.<br>"
   ]
  },
  {
   "cell_type": "raw",
   "metadata": {},
   "source": [
    "# Soil Type\n",
    "family_soil_types = {\n",
    "    'Family_Cathedral': ['Soil_Type1'],\n",
    "    'Family_Retake': ['Soil_Type2', 'Soil_Type4'],\n",
    "    'Family_Vanet': ['Soil_Type5'],\n",
    "    'Family_Wetmore': ['Soil_Type6'],\n",
    "    'Family_Gothic': ['Soil_Type7'],\n",
    "    'Family_Limber': ['Soil_Type8'],\n",
    "    'Family_Troutville_': ['Soil_Type9'],\n",
    "    'Family_Legault': ['Soil_Type12', 'Soil_Type29'],\n",
    "    'Family_Gateview': ['Soil_Type17'],\n",
    "    'Family_Rogert': ['Soil_Type18'],\n",
    "    'Family_Como': ['Soil_Type30'],\n",
    "    'Family_Bross': ['Soil_Type36'],\n",
    "    'Family_Catamount': ['Soil_Type10','Soil_Type11','Soil_Type13','Soil_Type26','Soil_Type32','Soil_Type31','Soil_Type33'],\n",
    "    'Family_Leighcan': ['Soil_Type21','Soil_Type22','Soil_Type23','Soil_Type24','Soil_Type25','Soil_Type27','Soil_Type28'],\n",
    "    'Family_Moran': ['Soil_Type38','Soil_Type39','Soil_Type40'],\n",
    "    'Family_Others': ['Soil_Type3','Soil_Type15','Soil_Type37','Soil_Type34','Soil_Type35','Soil_Type20','Soil_Type14','Soil_Type16','Soil_Type19'],\n",
    "} \n",
    "\n",
    "for family in family_soil_types:\n",
    "    data_train[family] = 0\n",
    "    soil_types = family_soil_types[family]\n",
    "    for soil_type in soil_types:\n",
    "        data_train[family] += data_train[soil_type]\n",
    "\n",
    "data_train"
   ]
  },
  {
   "cell_type": "markdown",
   "metadata": {},
   "source": [
    "### <font color=green> 5.6 Soil Type Complex  <font>"
   ]
  },
  {
   "cell_type": "markdown",
   "metadata": {},
   "source": [
    "We will group the soil types according to their family and according to the complex and stonyness"
   ]
  },
  {
   "cell_type": "markdown",
   "metadata": {},
   "source": [
    "Complex Group <br>\n",
    "__Rock_outcrop_complex__ <br>\n",
    "1 Cathedral family - Rock outcrop complex, extremely stony.<br>\n",
    "2 Vanet - Ratake families complex, very stony.<br>\n",
    "3 Haploborolis - Rock outcrop complex, rubbly.<br>\n",
    "4 Ratake family - Rock outcrop complex, rubbly.<br>\n",
    "5 Vanet family - Rock outcrop complex complex, rubbly.<br>\n",
    "6 Vanet - Wetmore families - Rock outcrop complex, stony.<br>\n",
    "10 Bullwark - Catamount families - Rock outcrop complex, rubbly.<br>\n",
    "27 Leighcan family, warm - Rock outcrop complex, extremely stony.<br>\n",
    "28 Leighcan family - Rock outcrop complex, extremely stony.<br>\n",
    "33 Leighcan - Catamount families - Rock outcrop complex, extremely stony.<br>\n",
    "\n",
    "__Ratake_families_complex__<br>\n",
    "2 Vanet - Ratake families complex, very stony.<br>\n",
    "\n",
    "\n",
    "__Limber families complex__<br>\n",
    "8 Supervisor - Limber families complex.<br>\n",
    "\n",
    "__rock land complex__<br>\n",
    "11 Bullwark - Catamount families - Rock land complex, rubbly.<br>\n",
    "12 Legault family - Rock land complex, stony.<br>\n",
    "34 Cryorthents - Rock land complex, extremely stony.<br>\n",
    "40 Moran family - Cryorthents - Rock land complex, extremely stony.<br>\n",
    "\n",
    "__Cryoborolis complex__<br>\n",
    "16 Cryaquolis - Cryoborolis complex.<br>\n",
    "17 Gateview family - Cryaquolis complex.<br>\n",
    "\n",
    "__Bullwark family complex__<br>\n",
    "13 Catamount family - Rock land - Bullwark family complex, rubbly.<br>\n",
    "\n",
    "__Aquolis complex__<br>\n",
    "14 Pachic Argiborolis - Aquolis complex.<br>\n",
    "\n",
    "__Borohemists complex__<br>\n",
    "19 Typic Cryaquolis - Borohemists complex.<br>\n",
    "\n",
    "__Cryaquolls complex__<br>\n",
    "20 Typic Cryaquepts - Typic Cryaquolls complex.<br>\n",
    "23 Leighcan family, till substratum - Typic Cryaquolls complex.<br>\n",
    "38 Leighcan - Moran families - Cryaquolls complex, extremely stony.<br>\n",
    "\n",
    "__till substratum complex__<br>\n",
    "21 Typic Cryaquolls - Leighcan family, till substratum complex.<br>\n",
    "\n",
    "__Catamount families complex__<br>\n",
    "26 Granile - Catamount families complex, very stony.<br>\n",
    "1 Leighcan - Catamount families complex, extremely stony.<br>\n",
    "31 Leighcan - Catamount families complex, extremely stony.<br>\n",
    "\n",
    "__Legault families complex__<br>\n",
    "29 Como - Legault families complex, extremely stony.<br>\n",
    "30 Como family - Rock land - Legault family complex, extremely stony.<br>\n",
    "\n",
    "__Leighcan family complex__<br>\n",
    "32 Catamount family - Rock outcrop - Leighcan family complex, extremely stony.<br>\n",
    "39 Moran family - Cryorthents - Leighcan family complex, extremely stony.<br>\n",
    "\n",
    "__Cryaquepts complex__<br>\n",
    "35 Cryumbrepts - Rock outcrop - Cryaquepts complex.<br>\n",
    "\n",
    "__Cryumbrepts complex__<br>\n",
    "36 Bross family - Rock land - Cryumbrepts complex, extremely stony.<br>\n",
    "\n",
    "__Cryorthents complex__<br>\n",
    "37 Rock outcrop - Cryumbrepts - Cryorthents complex, extremely stony.<br>\n",
    "\n",
    "__others__ <br>\n",
    "7 Gothic family.<br>\n",
    "9 Troutville family, very stony.<br>\n",
    "22 Leighcan family, till substratum, extremely bouldery.<br>\n",
    "24 Leighcan family, extremely stony.<br>\n",
    "25 Leighcan family, warm, extremely stony.<br>\n",
    "18 Rogert family, very stony.<br>\n",
    "15 unspecified in the USFS Soil and ELU Survey.<br>\n",
    "\n",
    "\n",
    "Source: https://www.kaggle.com/competitions/forest-cover-type-prediction/data"
   ]
  },
  {
   "cell_type": "raw",
   "metadata": {},
   "source": [
    "# Complex Type\n",
    "family_complex_types = {\n",
    "    'Rock_outcrop_complex': ['Soil_Type1','Soil_Type2','Soil_Type3','Soil_Type4','Soil_Type5','Soil_Type6','Soil_Type10','Soil_Type27','Soil_Type28','Soil_Type33'],\n",
    "    'Ratake_families_complex': ['Soil_Type2'],\n",
    "    'Limber_families_complex': ['Soil_Type8'],\n",
    "    'Rock_land_complex': ['Soil_Type11','Soil_Type12','Soil_Type34','Soil_Type40'],\n",
    "    'Cryoborolis_complex': ['Soil_Type16','Soil_Type17'],\n",
    "    'Bullwark_family_complex': ['Soil_Type13'],\n",
    "    'Aquolis_complex_': ['Soil_Type14'],\n",
    "    'Borohemists_complex': ['Soil_Type19'],\n",
    "    'Cryaquolls_complex': ['Soil_Type20','Soil_Type23','Soil_Type38'],\n",
    "    'Till_substratum_complex': ['Soil_Type21'],\n",
    "    'Catamount_families_complex': ['Soil_Type26','Soil_Type1','Soil_Type31'],\n",
    "    'Legault_families_complex': ['Soil_Type39','Soil_Type30'],\n",
    "    'Leighcan_family_complex': ['Soil_Type32','Soil_Type39'],\n",
    "    'Cryaquepts_complex': ['Soil_Type35'],\n",
    "    'Cryumbrepts_complex': ['Soil_Type36'],\n",
    "    'Cryorthents_complex': ['Soil_Type37'],\n",
    "    'others_complex': ['Soil_Type7','Soil_Type9','Soil_Type22','Soil_Type24','Soil_Type25','Soil_Type18','Soil_Type15'],\n",
    "} \n",
    "\n",
    "for family in family_complex_types:\n",
    "    data_train[family] = 0\n",
    "    complex_types = family_complex_types[family]\n",
    "    for complex_type in complex_types:\n",
    "        data_train[family] += data_train[complex_type]\n",
    "\n",
    "data_train"
   ]
  },
  {
   "cell_type": "markdown",
   "metadata": {},
   "source": [
    "# <font color=green> 5.6 Soil Type Stonyness <font>"
   ]
  },
  {
   "cell_type": "markdown",
   "metadata": {},
   "source": [
    "__Stony__ <br>\n",
    "1 Cathedral family - Rock outcrop complex, extremely stony.<br>\n",
    "2 Vanet - Ratake families complex, very stony.<br>\n",
    "6 Vanet - Wetmore families - Rock outcrop complex, stony.<br>\n",
    "9 Troutville family, very stony.<br>\n",
    "12 Legault family - Rock land complex, stony.<br>\n",
    "18 Rogert family, very stony.<br>\n",
    "24 Leighcan family, extremely stony.<br>\n",
    "25 Leighcan family, warm, extremely stony.<br>\n",
    "26 Granile - Catamount families complex, very stony.<br>\n",
    "27 Leighcan family, warm - Rock outcrop complex, extremely stony.<br>\n",
    "28 Leighcan family - Rock outcrop complex, extremely stony.<br>\n",
    "29 Como - Legault families complex, extremely stony.<br>\n",
    "30 Como family - Rock land - Legault family complex, extremely stony.<br>\n",
    "31 Leighcan - Catamount families complex, extremely stony.<br>\n",
    "32 Catamount family - Rock outcrop - Leighcan family complex, extremely stony.<br>\n",
    "33 Leighcan - Catamount families - Rock outcrop complex, extremely stony.<br>\n",
    "34 Cryorthents - Rock land complex, extremely stony.<br>\n",
    "36 Bross family - Rock land - Cryumbrepts complex, extremely stony.<br>\n",
    "37 Rock outcrop - Cryumbrepts - Cryorthents complex, extremely stony.<br>\n",
    "38 Leighcan - Moran families - Cryaquolls complex, extremely stony.<br>\n",
    "39 Moran family - Cryorthents - Leighcan family complex, extremely stony.<br>\n",
    "40 Moran family - Cryorthents - Rock land complex, extremely stony.<br>\n",
    "\n",
    "__Rubbly__<br>\n",
    "3 Haploborolis - Rock outcrop complex, rubbly.<br>\n",
    "4 Ratake family - Rock outcrop complex, rubbly.<br>\n",
    "5 Vanet family - Rock outcrop complex complex, rubbly.<br>\n",
    "10 Bullwark - Catamount families - Rock outcrop complex, rubbly.<br>\n",
    "11 Bullwark - Catamount families - Rock land complex, rubbly.<br>\n",
    "13 Catamount family - Rock land - Bullwark family complex, rubbly.<br>\n",
    "\n",
    "__others__<br>\n",
    "7 Gothic family.<br>\n",
    "8 Supervisor - Limber families complex.<br>\n",
    "14 Pachic Argiborolis - Aquolis complex.<br>\n",
    "15 unspecified in the USFS Soil and ELU Survey.<br>\n",
    "16 Cryaquolis - Cryoborolis complex.<br>\n",
    "17 Gateview family - Cryaquolis complex.<br>\n",
    "19 Typic Cryaquolis - Borohemists complex.<br>\n",
    "20 Typic Cryaquepts - Typic Cryaquolls complex.<br>\n",
    "21 Typic Cryaquolls - Leighcan family, till substratum complex.<br>\n",
    "22 Leighcan family, till substratum, extremely bouldery.<br>\n",
    "23 Leighcan family, till substratum - Typic Cryaquolls complex.<br>\n",
    "35 Cryumbrepts - Rock outcrop - Cryaquepts complex.<br>"
   ]
  },
  {
   "cell_type": "code",
   "execution_count": null,
   "metadata": {},
   "outputs": [],
   "source": [
    "# Soil Type\n",
    "family_types = {\n",
    "    'Type_Stony': ['Soil_Type1','Soil_Type2', 'Soil_Type6', 'Soil_Type9', 'Soil_Type12', 'Soil_Type18', 'Soil_Type24', 'Soil_Type25', 'Soil_Type26', 'Soil_Type27', 'Soil_Type28', 'Soil_Type29', 'Soil_Type30', 'Soil_Type31', 'Soil_Type32', 'Soil_Type33', 'Soil_Type34', 'Soil_Type36', 'Soil_Type37', 'Soil_Type38', 'Soil_Type39', 'Soil_Type40'],\n",
    "    'Type_Rubbly': ['Soil_Type3', 'Soil_Type4', 'Soil_Type5', 'Soil_Type10', 'Soil_Type11', 'Soil_Type13'],\n",
    "    'Type_Other': ['Soil_Type7','Soil_Type8', 'Soil_Type14', 'Soil_Type15', 'Soil_Type16', 'Soil_Type17', 'Soil_Type19', 'Soil_Type20', 'Soil_Type21', 'Soil_Type22', 'Soil_Type23', 'Soil_Type35']\n",
    "} \n",
    "\n",
    "for family in family_types:\n",
    "    data_train[family] = 0\n",
    "    soil_types = family_types[family]\n",
    "    for soil_type in soil_types:\n",
    "        data_train[family] += data_train[soil_type]\n",
    "\n",
    "data_train"
   ]
  },
  {
   "cell_type": "markdown",
   "metadata": {},
   "source": [
    "Note: Soil type is a single variable which has been one-hot encoded presumably , so we will reverse engineer the soil type. We will eventually drop the original soil type columns which has the added effect of significantly reducing the total number of features."
   ]
  },
  {
   "cell_type": "code",
   "execution_count": null,
   "metadata": {},
   "outputs": [],
   "source": [
    "# Original soil features\n",
    "soil_features = [f'Soil_Type{i}' for i in range(1,41)]"
   ]
  },
  {
   "cell_type": "code",
   "execution_count": null,
   "metadata": {},
   "outputs": [],
   "source": [
    "# Drop original soil features\n",
    "data_train.drop(columns = soil_features, inplace = True)"
   ]
  },
  {
   "cell_type": "code",
   "execution_count": null,
   "metadata": {},
   "outputs": [],
   "source": [
    "#test if elevation makes a difference to take out with the new interaction model improves\n",
    "data_train = data_train.drop(['Elevation^2'], axis = 1)\n",
    "data_train = data_train.drop(['Elevation'], axis = 1)"
   ]
  },
  {
   "cell_type": "code",
   "execution_count": null,
   "metadata": {},
   "outputs": [],
   "source": [
    "data_train"
   ]
  },
  {
   "cell_type": "code",
   "execution_count": null,
   "metadata": {},
   "outputs": [],
   "source": [
    "# Test if model improves when dropping the normal scaled variables \n",
    "data_train= data_train.drop(['Aspect','Slope','Horizontal_Distance_To_Roadways','Horizontal_Distance_To_Hydrology','Vertical_Distance_To_Hydrology','Hillshade_9am','Hillshade_Noon','Hillshade_3pm','Horizontal_Distance_To_Fire_Points'], axis = 1)"
   ]
  },
  {
   "cell_type": "markdown",
   "metadata": {},
   "source": [
    "### <font color=green> 5.10 Summary <font>"
   ]
  },
  {
   "cell_type": "markdown",
   "metadata": {},
   "source": [
    "<table>\n",
    "  <tr>\n",
    "    <th><b>Features</b></th>\n",
    "    <th><b>Transformation</b></th>\n",
    "  </tr>\n",
    "  <tr>\n",
    "<td>ID  </td>\n",
    "    <td> Drop</td>\n",
    "  </tr>\n",
    "  <tr>\n",
    "    <td>Distance To Hydrology  </td>\n",
    "    <td><b><i>Square Root</i></b> of the length of the side of horizontal and vertical </td>\n",
    "  </tr>\n",
    "  <tr>\n",
    "    <td>Horizontal Distance To Roadways</td>\n",
    "    <td><b>Square Root</b> of horizontal Distance to Roadways</td>\n",
    "  </tr>\n",
    "  <tr>\n",
    "    <td> Slope</td>\n",
    "    <td><b><i>Square Root</i></b> Slope</td>\n",
    "  </tr>\n",
    "  <tr>\n",
    "    <td> Horizontal_Distance To firepoints</td>\n",
    "    <td><b><i>Square Root</i></b> Horizontal Distance to firepoints</td>\n",
    "  </tr>\n",
    "  <tr>\n",
    "    <td>Mean Hillshade</td>\n",
    "    <td><b><i>Box Cox Average</i></b> of all Hillshades features</td>\n",
    "  <tr>      \n",
    "  </tr>\n",
    "    <td>Hillshade 9am</td>\n",
    "    <td><b><i>Box Cox </i></b> Hillshade 9am</td>\n",
    "  <tr>      \n",
    "  </tr>\n",
    "    <td>Hillshade Noon</td>\n",
    "    <td><b><i>Box Cox </i></b> Hillshade Noon</td>\n",
    "  <tr>      \n",
    "  </tr>\n",
    "    <td>Hillshade 3pm</td>\n",
    "    <td><b><i>Box Cox</i></b> Hillshade 3pm</td>\n",
    "  <tr>      \n",
    "  </tr>\n",
    "        <td>Aspect</td>\n",
    "    <td><b><i>Square Root</i></b> Aspect</td>\n",
    "  <tr>      \n",
    "  </tr>\n",
    "    <td>Aspect North, East,South and West</td>\n",
    "    <td><b><i>Grouping</i></b> Aspect</td>\n",
    "  <tr>      \n",
    "  </tr>\n",
    "    <td>Geological Grouping</td>\n",
    "    <td><b><i>Grouping</i></b> Soil Types</td>\n",
    "  <tr>      \n",
    "  </tr>\n",
    "    <td>Climate Grouping</td>\n",
    "    <td><b><i>Grouping</i></b> Soil Types</td>\n",
    "  <tr>      \n",
    "  </tr>\n",
    "     <td>Soil Family</td>\n",
    "    <td><b><i>Grouping</i></b> Soil Families</td>\n",
    "  <tr>      \n",
    "  </tr>\n",
    "     <td>Soil Type Complex</td>\n",
    "    <td><b><i>Grouping</i></b> Soil Complex</td>\n",
    "  <tr>      \n",
    "  </tr> \n",
    "     <td>Soil Type Stonyness</td>\n",
    "    <td><b><i>Grouping</i></b> by Soil stonyness</td>\n",
    "  <tr>      \n",
    "  </tr>     \n",
    "\n",
    "</table>"
   ]
  },
  {
   "cell_type": "markdown",
   "metadata": {},
   "source": [
    "# <font color=green> 6.Feature Selection <font>\n"
   ]
  },
  {
   "cell_type": "markdown",
   "metadata": {},
   "source": [
    "We will try to use several feature selection algorithms where we use them in combination of all the different selection method and will take the best score of all the used common algorithms score. Source: https://towardsdatascience.com/the-5-feature-selection-algorithms-every-data-scientist-need-to-know-3a6b566efd2 "
   ]
  },
  {
   "cell_type": "markdown",
   "metadata": {},
   "source": [
    "### Locking all features in a csv"
   ]
  },
  {
   "cell_type": "code",
   "execution_count": null,
   "metadata": {},
   "outputs": [],
   "source": [
    "data_train.shape"
   ]
  },
  {
   "cell_type": "code",
   "execution_count": null,
   "metadata": {},
   "outputs": [],
   "source": [
    "#Only X_Train replacement\n",
    "data_train.to_csv('all_features_data_train.csv')\n",
    "data_train.to_csv('all_features_data_train.csv')"
   ]
  },
  {
   "cell_type": "markdown",
   "metadata": {},
   "source": [
    "## <font color=green> 6.1. Standardization <font>"
   ]
  },
  {
   "cell_type": "markdown",
   "metadata": {},
   "source": [
    "Selecting the most useful features to train the model can improve the performance of our models. "
   ]
  },
  {
   "cell_type": "raw",
   "metadata": {},
   "source": [
    "#obtain the correlations of each features in dataset\n",
    "corrmat = data_train.corr()\n",
    "top_corr_features = corrmat.index\n",
    "plt.figure(figsize=(20,20))\n",
    "#plot heat map\n",
    "g=sns.heatmap(data_train[top_corr_features].corr(),annot=True,cmap=\"RdYlGn\")"
   ]
  },
  {
   "cell_type": "markdown",
   "metadata": {},
   "source": [
    "We can barely see anything but I'd remove all green blocks (polynomial features)"
   ]
  },
  {
   "cell_type": "raw",
   "metadata": {},
   "source": [
    "#if run twice, error will appear as labels are already deleted!\n",
    "data_train = data_train.drop([\"Horizontal_Distance_To_Hydrology_x_Vertical_Distance_To_Hydrology\", \"Horizontal_Distance_To_Hydrology_x_Horizontal_Distance_To_Roadways\", \"Horizontal_Distance_To_Hydrology_x_Hillshade_9am\", \"Horizontal_Distance_To_Hydrology_x_Hillshade_Noon\", \"Horizontal_Distance_To_Hydrology_x_Hillshade_3pm\", \"Horizontal_Distance_To_Hydrology_x_Horizontal_Distance_To_Fire_Points\", \"Vertical_Distance_To_Hydrology_x_Horizontal_Distance_To_Roadways\"], axis=1)"
   ]
  },
  {
   "cell_type": "raw",
   "metadata": {},
   "source": [
    "data_train"
   ]
  },
  {
   "cell_type": "raw",
   "metadata": {},
   "source": [
    "#obtain the correlations of each features in dataset\n",
    "corrmat = data_train.corr()\n",
    "top_corr_features = corrmat.index\n",
    "plt.figure(figsize=(20,20))\n",
    "#plot heat map\n",
    "g=sns.heatmap(data_train[top_corr_features].corr(),annot=True,cmap=\"RdYlGn\")"
   ]
  },
  {
   "cell_type": "markdown",
   "metadata": {},
   "source": [
    "Green correlations are still there, I do another drop"
   ]
  },
  {
   "cell_type": "raw",
   "metadata": {},
   "source": [
    "#if run twice, error will appear as labels are already deleted!\n",
    "data_train = data_train.drop([\"Horizontal_Distance_To_Roadways_x_Hillshade_9am\", \"Horizontal_Distance_To_Roadways_x_Hillshade_Noon\", \"Horizontal_Distance_To_Roadways_x_Hillshade_3pm\", \"Horizontal_Distance_To_Roadways_x_Horizontal_Distance_To_Fire_Points\", \"Vertical_Distance_To_Hydrology_x_Hillshade_9am\", \"Vertical_Distance_To_Hydrology_x_Hillshade_Noon\", \"Vertical_Distance_To_Hydrology_x_Hillshade_3pm\"], axis=1)"
   ]
  },
  {
   "cell_type": "raw",
   "metadata": {},
   "source": [
    "data_train"
   ]
  },
  {
   "cell_type": "raw",
   "metadata": {},
   "source": [
    "#obtain the correlations of each features in dataset\n",
    "corrmat = data_train.corr()\n",
    "top_corr_features = corrmat.index\n",
    "plt.figure(figsize=(20,20))\n",
    "#plot heat map\n",
    "g=sns.heatmap(data_train[top_corr_features].corr(),annot=True,cmap=\"RdYlGn\")"
   ]
  },
  {
   "cell_type": "markdown",
   "metadata": {},
   "source": [
    "Doing an extra round of drops"
   ]
  },
  {
   "cell_type": "raw",
   "metadata": {},
   "source": [
    "data_train = data_train.drop([\"Aspect_x_Hillshade_9am\", \"Aspect_x_Hillshade_Noon\", \"Aspect_x_Hillshade_3pm\", \"ratio_Hillshade_3pm\"], axis=1)"
   ]
  },
  {
   "cell_type": "raw",
   "metadata": {},
   "source": [
    "data_train"
   ]
  },
  {
   "cell_type": "raw",
   "metadata": {},
   "source": [
    "#obtain the correlations of each features in dataset\n",
    "corrmat = data_train.corr()\n",
    "top_corr_features = corrmat.index\n",
    "plt.figure(figsize=(20,20))\n",
    "#plot heat map\n",
    "g=sns.heatmap(data_train[top_corr_features].corr(),annot=True,cmap=\"RdYlGn\")"
   ]
  },
  {
   "cell_type": "markdown",
   "metadata": {},
   "source": [
    "Now removing perfect colinearity 1s"
   ]
  },
  {
   "cell_type": "raw",
   "metadata": {},
   "source": [
    "data_train = data_train.drop([\"binned_elevation\", \"Mixed_Sedimentary_Soil\", \"Elevation^2\"], axis=1)"
   ]
  },
  {
   "cell_type": "raw",
   "metadata": {},
   "source": [
    "data_train.head()"
   ]
  },
  {
   "cell_type": "raw",
   "metadata": {},
   "source": [
    "#obtain the correlations of each features in dataset\n",
    "corrmat = data_train.corr()\n",
    "top_corr_features = corrmat.index\n",
    "plt.figure(figsize=(20,20))\n",
    "#plot heat map\n",
    "g=sns.heatmap(data_train[top_corr_features].corr(),annot=True,cmap=\"RdYlGn\")"
   ]
  },
  {
   "cell_type": "raw",
   "metadata": {},
   "source": [
    "data_train = data_train.drop([\"Type_Other\"], axis=1)"
   ]
  },
  {
   "cell_type": "raw",
   "metadata": {},
   "source": [
    "data_train = data_train.drop([\"Hillshade_Noon^2\"], axis=1)"
   ]
  },
  {
   "cell_type": "markdown",
   "metadata": {},
   "source": [
    "We split the dataset to train and validation set, in order to test our models. We use stratify to have a balanced datset. "
   ]
  },
  {
   "cell_type": "code",
   "execution_count": 14,
   "metadata": {},
   "outputs": [
    {
     "name": "stdout",
     "output_type": "stream",
     "text": [
      "The shape of validation data:(3024, 55) and (3024,) \n",
      "The shape of training data:(12096, 55) and (12096,) \n"
     ]
    }
   ],
   "source": [
    "X = data_train.drop(['Cover_Type'], axis=1)\n",
    "y = data_train['Cover_Type']\n",
    "column_list = X.columns\n",
    "\n",
    "X_train, X_val, y_train, y_val = train_test_split(X, y, test_size=0.20, random_state=42,stratify=y)\n",
    "print(\"The shape of validation data:{} and {} \".format(X_val.shape,y_val.shape))\n",
    "print(\"The shape of training data:{} and {} \".format(X_train.shape,y_train.shape))"
   ]
  },
  {
   "cell_type": "markdown",
   "metadata": {},
   "source": [
    "For the standardization we need only numerical values, since these has been aleady encoded we use the names to filter out the dummy variables "
   ]
  },
  {
   "cell_type": "code",
   "execution_count": 15,
   "metadata": {},
   "outputs": [],
   "source": [
    "scale_numerical  = [column for column in column_list if 'Soil' not in column and 'Wilderness_Area' not in  column and 'Aspect_North' not in  column and 'Climate' not in  column and 'Family' not in  column and 'Type' not in  column and 'complex' not in  column and 'Aspect_East' not in  column and 'Aspect_South' not in  column and 'Aspect_West' not in  column ]\n",
    "scale_categorial= [column for column in column_list if column not in scale_numerical ]"
   ]
  },
  {
   "cell_type": "code",
   "execution_count": 16,
   "metadata": {},
   "outputs": [
    {
     "data": {
      "text/plain": [
       "Id                                    int64\n",
       "Elevation                             int64\n",
       "Aspect                                int64\n",
       "Slope                                 int64\n",
       "Horizontal_Distance_To_Hydrology      int64\n",
       "Vertical_Distance_To_Hydrology        int64\n",
       "Horizontal_Distance_To_Roadways       int64\n",
       "Hillshade_9am                         int64\n",
       "Hillshade_Noon                        int64\n",
       "Hillshade_3pm                         int64\n",
       "Horizontal_Distance_To_Fire_Points    int64\n",
       "Wilderness_Area1                      int64\n",
       "Wilderness_Area2                      int64\n",
       "Wilderness_Area3                      int64\n",
       "Wilderness_Area4                      int64\n",
       "Soil_Type1                            int64\n",
       "Soil_Type2                            int64\n",
       "Soil_Type3                            int64\n",
       "Soil_Type4                            int64\n",
       "Soil_Type5                            int64\n",
       "Soil_Type6                            int64\n",
       "Soil_Type7                            int64\n",
       "Soil_Type8                            int64\n",
       "Soil_Type9                            int64\n",
       "Soil_Type10                           int64\n",
       "Soil_Type11                           int64\n",
       "Soil_Type12                           int64\n",
       "Soil_Type13                           int64\n",
       "Soil_Type14                           int64\n",
       "Soil_Type15                           int64\n",
       "Soil_Type16                           int64\n",
       "Soil_Type17                           int64\n",
       "Soil_Type18                           int64\n",
       "Soil_Type19                           int64\n",
       "Soil_Type20                           int64\n",
       "Soil_Type21                           int64\n",
       "Soil_Type22                           int64\n",
       "Soil_Type23                           int64\n",
       "Soil_Type24                           int64\n",
       "Soil_Type25                           int64\n",
       "Soil_Type26                           int64\n",
       "Soil_Type27                           int64\n",
       "Soil_Type28                           int64\n",
       "Soil_Type29                           int64\n",
       "Soil_Type30                           int64\n",
       "Soil_Type31                           int64\n",
       "Soil_Type32                           int64\n",
       "Soil_Type33                           int64\n",
       "Soil_Type34                           int64\n",
       "Soil_Type35                           int64\n",
       "Soil_Type36                           int64\n",
       "Soil_Type37                           int64\n",
       "Soil_Type38                           int64\n",
       "Soil_Type39                           int64\n",
       "Soil_Type40                           int64\n",
       "Cover_Type                            int64\n",
       "dtype: object"
      ]
     },
     "execution_count": 16,
     "metadata": {},
     "output_type": "execute_result"
    }
   ],
   "source": [
    "# only the dummy variables filtered \n",
    "data_train.dtypes"
   ]
  },
  {
   "cell_type": "code",
   "execution_count": 17,
   "metadata": {},
   "outputs": [],
   "source": [
    "numerical_train = data_train.filter(items=scale_numerical)"
   ]
  },
  {
   "cell_type": "code",
   "execution_count": 18,
   "metadata": {},
   "outputs": [],
   "source": [
    "categorial_train = data_train.filter(items=scale_categorial)"
   ]
  },
  {
   "cell_type": "code",
   "execution_count": 19,
   "metadata": {},
   "outputs": [],
   "source": [
    "\n",
    "scaler = StandardScaler()\n",
    "#from sklearn.preprocessing import MinMaxScaler\n",
    "#scaler = MinMaxScaler()"
   ]
  },
  {
   "cell_type": "code",
   "execution_count": 20,
   "metadata": {},
   "outputs": [],
   "source": [
    "X_train[scale_numerical] = scaler.fit_transform(X_train[scale_numerical])\n",
    "X_val[scale_numerical] = scaler.fit_transform(X_val[scale_numerical])"
   ]
  },
  {
   "cell_type": "markdown",
   "metadata": {},
   "source": [
    "Feature Importance"
   ]
  },
  {
   "cell_type": "code",
   "execution_count": 21,
   "metadata": {},
   "outputs": [
    {
     "name": "stdout",
     "output_type": "stream",
     "text": [
      "[6.14475936e-02 1.48831778e-01 4.58709739e-02 3.68975111e-02\n",
      " 5.37297614e-02 4.51194820e-02 7.49213422e-02 4.42097223e-02\n",
      " 4.04994883e-02 4.06545407e-02 5.93960351e-02 2.34962966e-02\n",
      " 4.81555633e-03 2.07413935e-02 5.32192107e-02 2.12161623e-03\n",
      " 8.97339752e-03 2.09457412e-02 1.62338812e-02 1.75129835e-03\n",
      " 4.09210777e-03 0.00000000e+00 9.60707934e-06 1.71463985e-04\n",
      " 3.16496621e-02 4.12365873e-03 6.15804437e-03 8.64794192e-03\n",
      " 1.76345683e-03 0.00000000e+00 1.75477715e-03 9.67565855e-03\n",
      " 1.21871482e-03 6.97394863e-04 2.26972927e-03 3.64375139e-04\n",
      " 7.61117113e-03 7.30162384e-03 4.01607549e-03 4.14064940e-05\n",
      " 7.91851513e-04 2.63965851e-04 1.79746831e-04 7.22646708e-03\n",
      " 1.17908559e-02 3.32719317e-03 6.10812005e-03 4.88553862e-03\n",
      " 4.96108716e-04 3.69915479e-03 2.05553345e-04 1.18603478e-03\n",
      " 2.57632292e-02 2.35562040e-02 1.50764864e-02]\n"
     ]
    },
    {
     "data": {
      "image/png": "[encoded data removed]",
      "text/plain": [
       "<Figure size 720x720 with 1 Axes>"
      ]
     },
     "metadata": {},
     "output_type": "display_data"
    }
   ],
   "source": [
    "model = ExtraTreesClassifier()\n",
    "model.fit(X,y)\n",
    "print(model.feature_importances_) \n",
    " \n",
    "#plot the graph of feature importances \n",
    "fig, ax = plt.subplots(figsize=(10, 10))\n",
    "feat_importances = pd.Series(model.feature_importances_, index=X.columns)\n",
    "ax = feat_importances.nlargest(40).plot(kind='barh')\n",
    "plt.show()"
   ]
  },
  {
   "cell_type": "code",
   "execution_count": 22,
   "metadata": {},
   "outputs": [
    {
     "data": {
      "text/html": [
       "<div>\n",
       "<style scoped>\n",
       "    .dataframe tbody tr th:only-of-type {\n",
       "        vertical-align: middle;\n",
       "    }\n",
       "\n",
       "    .dataframe tbody tr th {\n",
       "        vertical-align: top;\n",
       "    }\n",
       "\n",
       "    .dataframe thead th {\n",
       "        text-align: right;\n",
       "    }\n",
       "</style>\n",
       "<table border=\"1\" class=\"dataframe\">\n",
       "  <thead>\n",
       "    <tr style=\"text-align: right;\">\n",
       "      <th></th>\n",
       "      <th>Id</th>\n",
       "      <th>Elevation</th>\n",
       "      <th>Aspect</th>\n",
       "      <th>Slope</th>\n",
       "      <th>Horizontal_Distance_To_Hydrology</th>\n",
       "      <th>Vertical_Distance_To_Hydrology</th>\n",
       "      <th>Horizontal_Distance_To_Roadways</th>\n",
       "      <th>Hillshade_9am</th>\n",
       "      <th>Hillshade_Noon</th>\n",
       "      <th>Hillshade_3pm</th>\n",
       "      <th>Horizontal_Distance_To_Fire_Points</th>\n",
       "      <th>Wilderness_Area1</th>\n",
       "      <th>Wilderness_Area2</th>\n",
       "      <th>Wilderness_Area3</th>\n",
       "      <th>Wilderness_Area4</th>\n",
       "      <th>Soil_Type1</th>\n",
       "      <th>Soil_Type2</th>\n",
       "      <th>Soil_Type3</th>\n",
       "      <th>Soil_Type4</th>\n",
       "      <th>Soil_Type5</th>\n",
       "      <th>Soil_Type6</th>\n",
       "      <th>Soil_Type7</th>\n",
       "      <th>Soil_Type8</th>\n",
       "      <th>Soil_Type9</th>\n",
       "      <th>Soil_Type10</th>\n",
       "      <th>Soil_Type11</th>\n",
       "      <th>Soil_Type12</th>\n",
       "      <th>Soil_Type13</th>\n",
       "      <th>Soil_Type14</th>\n",
       "      <th>Soil_Type15</th>\n",
       "      <th>Soil_Type16</th>\n",
       "      <th>Soil_Type17</th>\n",
       "      <th>Soil_Type18</th>\n",
       "      <th>Soil_Type19</th>\n",
       "      <th>Soil_Type20</th>\n",
       "      <th>Soil_Type21</th>\n",
       "      <th>Soil_Type22</th>\n",
       "      <th>Soil_Type23</th>\n",
       "      <th>Soil_Type24</th>\n",
       "      <th>Soil_Type25</th>\n",
       "      <th>Soil_Type26</th>\n",
       "      <th>Soil_Type27</th>\n",
       "      <th>Soil_Type28</th>\n",
       "      <th>Soil_Type29</th>\n",
       "      <th>Soil_Type30</th>\n",
       "      <th>Soil_Type31</th>\n",
       "      <th>Soil_Type32</th>\n",
       "      <th>Soil_Type33</th>\n",
       "      <th>Soil_Type34</th>\n",
       "      <th>Soil_Type35</th>\n",
       "      <th>Soil_Type36</th>\n",
       "      <th>Soil_Type37</th>\n",
       "      <th>Soil_Type38</th>\n",
       "      <th>Soil_Type39</th>\n",
       "      <th>Soil_Type40</th>\n",
       "      <th>Cover_Type</th>\n",
       "    </tr>\n",
       "  </thead>\n",
       "  <tbody>\n",
       "    <tr>\n",
       "      <th>0</th>\n",
       "      <td>1</td>\n",
       "      <td>2596</td>\n",
       "      <td>51</td>\n",
       "      <td>3</td>\n",
       "      <td>258</td>\n",
       "      <td>0</td>\n",
       "      <td>510</td>\n",
       "      <td>221</td>\n",
       "      <td>232</td>\n",
       "      <td>148</td>\n",
       "      <td>6279</td>\n",
       "      <td>1</td>\n",
       "      <td>0</td>\n",
       "      <td>0</td>\n",
       "      <td>0</td>\n",
       "      <td>0</td>\n",
       "      <td>0</td>\n",
       "      <td>0</td>\n",
       "      <td>0</td>\n",
       "      <td>0</td>\n",
       "      <td>0</td>\n",
       "      <td>0</td>\n",
       "      <td>0</td>\n",
       "      <td>0</td>\n",
       "      <td>0</td>\n",
       "      <td>0</td>\n",
       "      <td>0</td>\n",
       "      <td>0</td>\n",
       "      <td>0</td>\n",
       "      <td>0</td>\n",
       "      <td>0</td>\n",
       "      <td>0</td>\n",
       "      <td>0</td>\n",
       "      <td>0</td>\n",
       "      <td>0</td>\n",
       "      <td>0</td>\n",
       "      <td>0</td>\n",
       "      <td>0</td>\n",
       "      <td>0</td>\n",
       "      <td>0</td>\n",
       "      <td>0</td>\n",
       "      <td>0</td>\n",
       "      <td>0</td>\n",
       "      <td>1</td>\n",
       "      <td>0</td>\n",
       "      <td>0</td>\n",
       "      <td>0</td>\n",
       "      <td>0</td>\n",
       "      <td>0</td>\n",
       "      <td>0</td>\n",
       "      <td>0</td>\n",
       "      <td>0</td>\n",
       "      <td>0</td>\n",
       "      <td>0</td>\n",
       "      <td>0</td>\n",
       "      <td>5</td>\n",
       "    </tr>\n",
       "    <tr>\n",
       "      <th>1</th>\n",
       "      <td>2</td>\n",
       "      <td>2590</td>\n",
       "      <td>56</td>\n",
       "      <td>2</td>\n",
       "      <td>212</td>\n",
       "      <td>-6</td>\n",
       "      <td>390</td>\n",
       "      <td>220</td>\n",
       "      <td>235</td>\n",
       "      <td>151</td>\n",
       "      <td>6225</td>\n",
       "      <td>1</td>\n",
       "      <td>0</td>\n",
       "      <td>0</td>\n",
       "      <td>0</td>\n",
       "      <td>0</td>\n",
       "      <td>0</td>\n",
       "      <td>0</td>\n",
       "      <td>0</td>\n",
       "      <td>0</td>\n",
       "      <td>0</td>\n",
       "      <td>0</td>\n",
       "      <td>0</td>\n",
       "      <td>0</td>\n",
       "      <td>0</td>\n",
       "      <td>0</td>\n",
       "      <td>0</td>\n",
       "      <td>0</td>\n",
       "      <td>0</td>\n",
       "      <td>0</td>\n",
       "      <td>0</td>\n",
       "      <td>0</td>\n",
       "      <td>0</td>\n",
       "      <td>0</td>\n",
       "      <td>0</td>\n",
       "      <td>0</td>\n",
       "      <td>0</td>\n",
       "      <td>0</td>\n",
       "      <td>0</td>\n",
       "      <td>0</td>\n",
       "      <td>0</td>\n",
       "      <td>0</td>\n",
       "      <td>0</td>\n",
       "      <td>1</td>\n",
       "      <td>0</td>\n",
       "      <td>0</td>\n",
       "      <td>0</td>\n",
       "      <td>0</td>\n",
       "      <td>0</td>\n",
       "      <td>0</td>\n",
       "      <td>0</td>\n",
       "      <td>0</td>\n",
       "      <td>0</td>\n",
       "      <td>0</td>\n",
       "      <td>0</td>\n",
       "      <td>5</td>\n",
       "    </tr>\n",
       "    <tr>\n",
       "      <th>2</th>\n",
       "      <td>3</td>\n",
       "      <td>2804</td>\n",
       "      <td>139</td>\n",
       "      <td>9</td>\n",
       "      <td>268</td>\n",
       "      <td>65</td>\n",
       "      <td>3180</td>\n",
       "      <td>234</td>\n",
       "      <td>238</td>\n",
       "      <td>135</td>\n",
       "      <td>6121</td>\n",
       "      <td>1</td>\n",
       "      <td>0</td>\n",
       "      <td>0</td>\n",
       "      <td>0</td>\n",
       "      <td>0</td>\n",
       "      <td>0</td>\n",
       "      <td>0</td>\n",
       "      <td>0</td>\n",
       "      <td>0</td>\n",
       "      <td>0</td>\n",
       "      <td>0</td>\n",
       "      <td>0</td>\n",
       "      <td>0</td>\n",
       "      <td>0</td>\n",
       "      <td>0</td>\n",
       "      <td>1</td>\n",
       "      <td>0</td>\n",
       "      <td>0</td>\n",
       "      <td>0</td>\n",
       "      <td>0</td>\n",
       "      <td>0</td>\n",
       "      <td>0</td>\n",
       "      <td>0</td>\n",
       "      <td>0</td>\n",
       "      <td>0</td>\n",
       "      <td>0</td>\n",
       "      <td>0</td>\n",
       "      <td>0</td>\n",
       "      <td>0</td>\n",
       "      <td>0</td>\n",
       "      <td>0</td>\n",
       "      <td>0</td>\n",
       "      <td>0</td>\n",
       "      <td>0</td>\n",
       "      <td>0</td>\n",
       "      <td>0</td>\n",
       "      <td>0</td>\n",
       "      <td>0</td>\n",
       "      <td>0</td>\n",
       "      <td>0</td>\n",
       "      <td>0</td>\n",
       "      <td>0</td>\n",
       "      <td>0</td>\n",
       "      <td>0</td>\n",
       "      <td>2</td>\n",
       "    </tr>\n",
       "    <tr>\n",
       "      <th>3</th>\n",
       "      <td>4</td>\n",
       "      <td>2785</td>\n",
       "      <td>155</td>\n",
       "      <td>18</td>\n",
       "      <td>242</td>\n",
       "      <td>118</td>\n",
       "      <td>3090</td>\n",
       "      <td>238</td>\n",
       "      <td>238</td>\n",
       "      <td>122</td>\n",
       "      <td>6211</td>\n",
       "      <td>1</td>\n",
       "      <td>0</td>\n",
       "      <td>0</td>\n",
       "      <td>0</td>\n",
       "      <td>0</td>\n",
       "      <td>0</td>\n",
       "      <td>0</td>\n",
       "      <td>0</td>\n",
       "      <td>0</td>\n",
       "      <td>0</td>\n",
       "      <td>0</td>\n",
       "      <td>0</td>\n",
       "      <td>0</td>\n",
       "      <td>0</td>\n",
       "      <td>0</td>\n",
       "      <td>0</td>\n",
       "      <td>0</td>\n",
       "      <td>0</td>\n",
       "      <td>0</td>\n",
       "      <td>0</td>\n",
       "      <td>0</td>\n",
       "      <td>0</td>\n",
       "      <td>0</td>\n",
       "      <td>0</td>\n",
       "      <td>0</td>\n",
       "      <td>0</td>\n",
       "      <td>0</td>\n",
       "      <td>0</td>\n",
       "      <td>0</td>\n",
       "      <td>0</td>\n",
       "      <td>0</td>\n",
       "      <td>0</td>\n",
       "      <td>0</td>\n",
       "      <td>1</td>\n",
       "      <td>0</td>\n",
       "      <td>0</td>\n",
       "      <td>0</td>\n",
       "      <td>0</td>\n",
       "      <td>0</td>\n",
       "      <td>0</td>\n",
       "      <td>0</td>\n",
       "      <td>0</td>\n",
       "      <td>0</td>\n",
       "      <td>0</td>\n",
       "      <td>2</td>\n",
       "    </tr>\n",
       "    <tr>\n",
       "      <th>4</th>\n",
       "      <td>5</td>\n",
       "      <td>2595</td>\n",
       "      <td>45</td>\n",
       "      <td>2</td>\n",
       "      <td>153</td>\n",
       "      <td>-1</td>\n",
       "      <td>391</td>\n",
       "      <td>220</td>\n",
       "      <td>234</td>\n",
       "      <td>150</td>\n",
       "      <td>6172</td>\n",
       "      <td>1</td>\n",
       "      <td>0</td>\n",
       "      <td>0</td>\n",
       "      <td>0</td>\n",
       "      <td>0</td>\n",
       "      <td>0</td>\n",
       "      <td>0</td>\n",
       "      <td>0</td>\n",
       "      <td>0</td>\n",
       "      <td>0</td>\n",
       "      <td>0</td>\n",
       "      <td>0</td>\n",
       "      <td>0</td>\n",
       "      <td>0</td>\n",
       "      <td>0</td>\n",
       "      <td>0</td>\n",
       "      <td>0</td>\n",
       "      <td>0</td>\n",
       "      <td>0</td>\n",
       "      <td>0</td>\n",
       "      <td>0</td>\n",
       "      <td>0</td>\n",
       "      <td>0</td>\n",
       "      <td>0</td>\n",
       "      <td>0</td>\n",
       "      <td>0</td>\n",
       "      <td>0</td>\n",
       "      <td>0</td>\n",
       "      <td>0</td>\n",
       "      <td>0</td>\n",
       "      <td>0</td>\n",
       "      <td>0</td>\n",
       "      <td>1</td>\n",
       "      <td>0</td>\n",
       "      <td>0</td>\n",
       "      <td>0</td>\n",
       "      <td>0</td>\n",
       "      <td>0</td>\n",
       "      <td>0</td>\n",
       "      <td>0</td>\n",
       "      <td>0</td>\n",
       "      <td>0</td>\n",
       "      <td>0</td>\n",
       "      <td>0</td>\n",
       "      <td>5</td>\n",
       "    </tr>\n",
       "  </tbody>\n",
       "</table>\n",
       "</div>"
      ],
      "text/plain": [
       "   Id  Elevation  Aspect  Slope  Horizontal_Distance_To_Hydrology  \\\n",
       "0   1       2596      51      3                               258   \n",
       "1   2       2590      56      2                               212   \n",
       "2   3       2804     139      9                               268   \n",
       "3   4       2785     155     18                               242   \n",
       "4   5       2595      45      2                               153   \n",
       "\n",
       "   Vertical_Distance_To_Hydrology  Horizontal_Distance_To_Roadways  \\\n",
       "0                               0                              510   \n",
       "1                              -6                              390   \n",
       "2                              65                             3180   \n",
       "3                             118                             3090   \n",
       "4                              -1                              391   \n",
       "\n",
       "   Hillshade_9am  Hillshade_Noon  Hillshade_3pm  \\\n",
       "0            221             232            148   \n",
       "1            220             235            151   \n",
       "2            234             238            135   \n",
       "3            238             238            122   \n",
       "4            220             234            150   \n",
       "\n",
       "   Horizontal_Distance_To_Fire_Points  Wilderness_Area1  Wilderness_Area2  \\\n",
       "0                                6279                 1                 0   \n",
       "1                                6225                 1                 0   \n",
       "2                                6121                 1                 0   \n",
       "3                                6211                 1                 0   \n",
       "4                                6172                 1                 0   \n",
       "\n",
       "   Wilderness_Area3  Wilderness_Area4  Soil_Type1  Soil_Type2  Soil_Type3  \\\n",
       "0                 0                 0           0           0           0   \n",
       "1                 0                 0           0           0           0   \n",
       "2                 0                 0           0           0           0   \n",
       "3                 0                 0           0           0           0   \n",
       "4                 0                 0           0           0           0   \n",
       "\n",
       "   Soil_Type4  Soil_Type5  Soil_Type6  Soil_Type7  Soil_Type8  Soil_Type9  \\\n",
       "0           0           0           0           0           0           0   \n",
       "1           0           0           0           0           0           0   \n",
       "2           0           0           0           0           0           0   \n",
       "3           0           0           0           0           0           0   \n",
       "4           0           0           0           0           0           0   \n",
       "\n",
       "   Soil_Type10  Soil_Type11  Soil_Type12  Soil_Type13  Soil_Type14  \\\n",
       "0            0            0            0            0            0   \n",
       "1            0            0            0            0            0   \n",
       "2            0            0            1            0            0   \n",
       "3            0            0            0            0            0   \n",
       "4            0            0            0            0            0   \n",
       "\n",
       "   Soil_Type15  Soil_Type16  Soil_Type17  Soil_Type18  Soil_Type19  \\\n",
       "0            0            0            0            0            0   \n",
       "1            0            0            0            0            0   \n",
       "2            0            0            0            0            0   \n",
       "3            0            0            0            0            0   \n",
       "4            0            0            0            0            0   \n",
       "\n",
       "   Soil_Type20  Soil_Type21  Soil_Type22  Soil_Type23  Soil_Type24  \\\n",
       "0            0            0            0            0            0   \n",
       "1            0            0            0            0            0   \n",
       "2            0            0            0            0            0   \n",
       "3            0            0            0            0            0   \n",
       "4            0            0            0            0            0   \n",
       "\n",
       "   Soil_Type25  Soil_Type26  Soil_Type27  Soil_Type28  Soil_Type29  \\\n",
       "0            0            0            0            0            1   \n",
       "1            0            0            0            0            1   \n",
       "2            0            0            0            0            0   \n",
       "3            0            0            0            0            0   \n",
       "4            0            0            0            0            1   \n",
       "\n",
       "   Soil_Type30  Soil_Type31  Soil_Type32  Soil_Type33  Soil_Type34  \\\n",
       "0            0            0            0            0            0   \n",
       "1            0            0            0            0            0   \n",
       "2            0            0            0            0            0   \n",
       "3            1            0            0            0            0   \n",
       "4            0            0            0            0            0   \n",
       "\n",
       "   Soil_Type35  Soil_Type36  Soil_Type37  Soil_Type38  Soil_Type39  \\\n",
       "0            0            0            0            0            0   \n",
       "1            0            0            0            0            0   \n",
       "2            0            0            0            0            0   \n",
       "3            0            0            0            0            0   \n",
       "4            0            0            0            0            0   \n",
       "\n",
       "   Soil_Type40  Cover_Type  \n",
       "0            0           5  \n",
       "1            0           5  \n",
       "2            0           2  \n",
       "3            0           2  \n",
       "4            0           5  "
      ]
     },
     "execution_count": 22,
     "metadata": {},
     "output_type": "execute_result"
    }
   ],
   "source": [
    "pd.set_option('display.max_columns', None)\n",
    "data_train.head()"
   ]
  },
  {
   "cell_type": "markdown",
   "metadata": {},
   "source": [
    "## <font color=green> 6.2. Number of feature selection  <font>"
   ]
  },
  {
   "cell_type": "code",
   "execution_count": 23,
   "metadata": {},
   "outputs": [],
   "source": [
    "# no of maximum features we need to select\n",
    "num_feats=46"
   ]
  },
  {
   "cell_type": "markdown",
   "metadata": {},
   "source": [
    "We first fit a linear model to the initial dataset to have a baseline to evaluate the data cleaning and feature engineering impact.\n",
    "\n",
    "To facilitate the training process, we will use the `sklearn` library <https://scikit-learn.org/stable/index.html> that provides a wrapper for the preprocessing, training, and evaluation of many machine learning algorithms. "
   ]
  },
  {
   "cell_type": "code",
   "execution_count": 24,
   "metadata": {},
   "outputs": [
    {
     "name": "stdout",
     "output_type": "stream",
     "text": [
      "Baseline model with Accuracy = 0.7122\n"
     ]
    }
   ],
   "source": [
    "initial_lm_mod = linear_model.LogisticRegression(multi_class='multinomial',solver='saga',\n",
    "   max_iter=1000, penalty='none',n_jobs=-1)\n",
    "\n",
    "#initial_lm_mod = RandomForestRegressor(n_estimators=150)\n",
    "baseline_acc = np.mean(\n",
    "    cross_val_score(initial_lm_mod, X_train,y_train, cv=5))\n",
    "\n",
    "print(f\"Baseline model with Accuracy = {baseline_acc:.4}\")"
   ]
  },
  {
   "cell_type": "code",
   "execution_count": 25,
   "metadata": {},
   "outputs": [],
   "source": [
    "def get_feature_importance(clf, feature_names):\n",
    "    \"\"\"\n",
    "    Function to print the most important features of a logreg classifier\n",
    "    based on the coefficient values\n",
    "    \"\"\"\n",
    "    return pd.DataFrame(\n",
    "        {\n",
    "            'variable': feature_names, # Feature names\n",
    "            'coefficient': clf.coef_[0] # Feature Coeficients\n",
    "        }\n",
    "    ) \\\n",
    "    .round(decimals=2) \\\n",
    "    .sort_values('coefficient', ascending=False) \\\n",
    "    .style.bar(color=['red', 'green'], align='zero')"
   ]
  },
  {
   "cell_type": "code",
   "execution_count": 26,
   "metadata": {},
   "outputs": [
    {
     "name": "stderr",
     "output_type": "stream",
     "text": [
      "/Users/stephaniegessler/opt/anaconda3/lib/python3.9/site-packages/sklearn/linear_model/_sag.py:350: ConvergenceWarning: The max_iter was reached which means the coef_ did not converge\n",
      "  warnings.warn(\n"
     ]
    },
    {
     "data": {
      "text/html": [
       "<style type=\"text/css\">\n",
       "#T_9a485_row0_col1 {\n",
       "  width: 10em;\n",
       "  background: linear-gradient(90deg, transparent 50.0%, green 50.0%, green 100.0%, transparent 100.0%);\n",
       "}\n",
       "#T_9a485_row1_col1 {\n",
       "  width: 10em;\n",
       "  background: linear-gradient(90deg, transparent 50.0%, green 50.0%, green 77.4%, transparent 77.4%);\n",
       "}\n",
       "#T_9a485_row2_col1 {\n",
       "  width: 10em;\n",
       "  background: linear-gradient(90deg, transparent 50.0%, green 50.0%, green 74.5%, transparent 74.5%);\n",
       "}\n",
       "#T_9a485_row3_col1 {\n",
       "  width: 10em;\n",
       "  background: linear-gradient(90deg, transparent 50.0%, green 50.0%, green 70.1%, transparent 70.1%);\n",
       "}\n",
       "#T_9a485_row4_col1 {\n",
       "  width: 10em;\n",
       "  background: linear-gradient(90deg, transparent 50.0%, green 50.0%, green 68.4%, transparent 68.4%);\n",
       "}\n",
       "#T_9a485_row5_col1 {\n",
       "  width: 10em;\n",
       "  background: linear-gradient(90deg, transparent 50.0%, green 50.0%, green 66.4%, transparent 66.4%);\n",
       "}\n",
       "#T_9a485_row6_col1 {\n",
       "  width: 10em;\n",
       "  background: linear-gradient(90deg, transparent 50.0%, green 50.0%, green 64.5%, transparent 64.5%);\n",
       "}\n",
       "#T_9a485_row7_col1 {\n",
       "  width: 10em;\n",
       "  background: linear-gradient(90deg, transparent 50.0%, green 50.0%, green 61.7%, transparent 61.7%);\n",
       "}\n",
       "#T_9a485_row8_col1 {\n",
       "  width: 10em;\n",
       "  background: linear-gradient(90deg, transparent 50.0%, green 50.0%, green 60.8%, transparent 60.8%);\n",
       "}\n",
       "#T_9a485_row9_col1 {\n",
       "  width: 10em;\n",
       "  background: linear-gradient(90deg, transparent 50.0%, green 50.0%, green 60.1%, transparent 60.1%);\n",
       "}\n",
       "#T_9a485_row10_col1 {\n",
       "  width: 10em;\n",
       "  background: linear-gradient(90deg, transparent 50.0%, green 50.0%, green 57.5%, transparent 57.5%);\n",
       "}\n",
       "#T_9a485_row11_col1 {\n",
       "  width: 10em;\n",
       "  background: linear-gradient(90deg, transparent 50.0%, green 50.0%, green 57.2%, transparent 57.2%);\n",
       "}\n",
       "#T_9a485_row12_col1 {\n",
       "  width: 10em;\n",
       "  background: linear-gradient(90deg, transparent 50.0%, green 50.0%, green 55.6%, transparent 55.6%);\n",
       "}\n",
       "#T_9a485_row13_col1 {\n",
       "  width: 10em;\n",
       "  background: linear-gradient(90deg, transparent 50.0%, green 50.0%, green 54.6%, transparent 54.6%);\n",
       "}\n",
       "#T_9a485_row14_col1 {\n",
       "  width: 10em;\n",
       "  background: linear-gradient(90deg, transparent 50.0%, green 50.0%, green 53.4%, transparent 53.4%);\n",
       "}\n",
       "#T_9a485_row15_col1 {\n",
       "  width: 10em;\n",
       "  background: linear-gradient(90deg, transparent 50.0%, green 50.0%, green 53.2%, transparent 53.2%);\n",
       "}\n",
       "#T_9a485_row16_col1 {\n",
       "  width: 10em;\n",
       "  background: linear-gradient(90deg, transparent 50.0%, green 50.0%, green 52.9%, transparent 52.9%);\n",
       "}\n",
       "#T_9a485_row17_col1 {\n",
       "  width: 10em;\n",
       "  background: linear-gradient(90deg, transparent 50.0%, green 50.0%, green 52.7%, transparent 52.7%);\n",
       "}\n",
       "#T_9a485_row18_col1 {\n",
       "  width: 10em;\n",
       "  background: linear-gradient(90deg, transparent 50.0%, green 50.0%, green 51.8%, transparent 51.8%);\n",
       "}\n",
       "#T_9a485_row19_col1, #T_9a485_row20_col1, #T_9a485_row21_col1 {\n",
       "  width: 10em;\n",
       "  background: linear-gradient(90deg, transparent 50.0%, green 50.0%, green 51.6%, transparent 51.6%);\n",
       "}\n",
       "#T_9a485_row22_col1, #T_9a485_row23_col1, #T_9a485_row24_col1, #T_9a485_row25_col1 {\n",
       "  width: 10em;\n",
       "}\n",
       "#T_9a485_row26_col1 {\n",
       "  width: 10em;\n",
       "  background: linear-gradient(90deg, transparent 49.9%, red 49.9%, red 50.0%, transparent 50.0%);\n",
       "}\n",
       "#T_9a485_row27_col1 {\n",
       "  width: 10em;\n",
       "  background: linear-gradient(90deg, transparent 49.8%, red 49.8%, red 50.0%, transparent 50.0%);\n",
       "}\n",
       "#T_9a485_row28_col1, #T_9a485_row29_col1 {\n",
       "  width: 10em;\n",
       "  background: linear-gradient(90deg, transparent 49.7%, red 49.7%, red 50.0%, transparent 50.0%);\n",
       "}\n",
       "#T_9a485_row30_col1 {\n",
       "  width: 10em;\n",
       "  background: linear-gradient(90deg, transparent 49.5%, red 49.5%, red 50.0%, transparent 50.0%);\n",
       "}\n",
       "#T_9a485_row31_col1 {\n",
       "  width: 10em;\n",
       "  background: linear-gradient(90deg, transparent 49.2%, red 49.2%, red 50.0%, transparent 50.0%);\n",
       "}\n",
       "#T_9a485_row32_col1, #T_9a485_row33_col1 {\n",
       "  width: 10em;\n",
       "  background: linear-gradient(90deg, transparent 48.4%, red 48.4%, red 50.0%, transparent 50.0%);\n",
       "}\n",
       "#T_9a485_row34_col1 {\n",
       "  width: 10em;\n",
       "  background: linear-gradient(90deg, transparent 48.3%, red 48.3%, red 50.0%, transparent 50.0%);\n",
       "}\n",
       "#T_9a485_row35_col1 {\n",
       "  width: 10em;\n",
       "  background: linear-gradient(90deg, transparent 48.2%, red 48.2%, red 50.0%, transparent 50.0%);\n",
       "}\n",
       "#T_9a485_row36_col1 {\n",
       "  width: 10em;\n",
       "  background: linear-gradient(90deg, transparent 48.1%, red 48.1%, red 50.0%, transparent 50.0%);\n",
       "}\n",
       "#T_9a485_row37_col1 {\n",
       "  width: 10em;\n",
       "  background: linear-gradient(90deg, transparent 48.0%, red 48.0%, red 50.0%, transparent 50.0%);\n",
       "}\n",
       "#T_9a485_row38_col1 {\n",
       "  width: 10em;\n",
       "  background: linear-gradient(90deg, transparent 47.9%, red 47.9%, red 50.0%, transparent 50.0%);\n",
       "}\n",
       "#T_9a485_row39_col1, #T_9a485_row40_col1 {\n",
       "  width: 10em;\n",
       "  background: linear-gradient(90deg, transparent 47.6%, red 47.6%, red 50.0%, transparent 50.0%);\n",
       "}\n",
       "#T_9a485_row41_col1 {\n",
       "  width: 10em;\n",
       "  background: linear-gradient(90deg, transparent 47.3%, red 47.3%, red 50.0%, transparent 50.0%);\n",
       "}\n",
       "#T_9a485_row42_col1 {\n",
       "  width: 10em;\n",
       "  background: linear-gradient(90deg, transparent 47.1%, red 47.1%, red 50.0%, transparent 50.0%);\n",
       "}\n",
       "#T_9a485_row43_col1 {\n",
       "  width: 10em;\n",
       "  background: linear-gradient(90deg, transparent 46.9%, red 46.9%, red 50.0%, transparent 50.0%);\n",
       "}\n",
       "#T_9a485_row44_col1 {\n",
       "  width: 10em;\n",
       "  background: linear-gradient(90deg, transparent 46.8%, red 46.8%, red 50.0%, transparent 50.0%);\n",
       "}\n",
       "#T_9a485_row45_col1 {\n",
       "  width: 10em;\n",
       "  background: linear-gradient(90deg, transparent 44.5%, red 44.5%, red 50.0%, transparent 50.0%);\n",
       "}\n",
       "#T_9a485_row46_col1 {\n",
       "  width: 10em;\n",
       "  background: linear-gradient(90deg, transparent 43.5%, red 43.5%, red 50.0%, transparent 50.0%);\n",
       "}\n",
       "#T_9a485_row47_col1 {\n",
       "  width: 10em;\n",
       "  background: linear-gradient(90deg, transparent 42.2%, red 42.2%, red 50.0%, transparent 50.0%);\n",
       "}\n",
       "#T_9a485_row48_col1 {\n",
       "  width: 10em;\n",
       "  background: linear-gradient(90deg, transparent 41.7%, red 41.7%, red 50.0%, transparent 50.0%);\n",
       "}\n",
       "#T_9a485_row49_col1 {\n",
       "  width: 10em;\n",
       "  background: linear-gradient(90deg, transparent 40.5%, red 40.5%, red 50.0%, transparent 50.0%);\n",
       "}\n",
       "#T_9a485_row50_col1 {\n",
       "  width: 10em;\n",
       "  background: linear-gradient(90deg, transparent 37.7%, red 37.7%, red 50.0%, transparent 50.0%);\n",
       "}\n",
       "#T_9a485_row51_col1 {\n",
       "  width: 10em;\n",
       "  background: linear-gradient(90deg, transparent 36.0%, red 36.0%, red 50.0%, transparent 50.0%);\n",
       "}\n",
       "#T_9a485_row52_col1 {\n",
       "  width: 10em;\n",
       "  background: linear-gradient(90deg, transparent 28.2%, red 28.2%, red 50.0%, transparent 50.0%);\n",
       "}\n",
       "#T_9a485_row53_col1 {\n",
       "  width: 10em;\n",
       "  background: linear-gradient(90deg, transparent 26.5%, red 26.5%, red 50.0%, transparent 50.0%);\n",
       "}\n",
       "#T_9a485_row54_col1 {\n",
       "  width: 10em;\n",
       "  background: linear-gradient(90deg, transparent 24.8%, red 24.8%, red 50.0%, transparent 50.0%);\n",
       "}\n",
       "</style>\n",
       "<table id=\"T_9a485\">\n",
       "  <thead>\n",
       "    <tr>\n",
       "      <th class=\"blank level0\" >&nbsp;</th>\n",
       "      <th id=\"T_9a485_level0_col0\" class=\"col_heading level0 col0\" >variable</th>\n",
       "      <th id=\"T_9a485_level0_col1\" class=\"col_heading level0 col1\" >coefficient</th>\n",
       "    </tr>\n",
       "  </thead>\n",
       "  <tbody>\n",
       "    <tr>\n",
       "      <th id=\"T_9a485_level0_row0\" class=\"row_heading level0 row0\" >1</th>\n",
       "      <td id=\"T_9a485_row0_col0\" class=\"data row0 col0\" >Elevation</td>\n",
       "      <td id=\"T_9a485_row0_col1\" class=\"data row0 col1\" >6.980000</td>\n",
       "    </tr>\n",
       "    <tr>\n",
       "      <th id=\"T_9a485_level0_row1\" class=\"row_heading level0 row1\" >41</th>\n",
       "      <td id=\"T_9a485_row1_col0\" class=\"data row1 col0\" >Soil_Type27</td>\n",
       "      <td id=\"T_9a485_row1_col1\" class=\"data row1 col1\" >3.820000</td>\n",
       "    </tr>\n",
       "    <tr>\n",
       "      <th id=\"T_9a485_level0_row2\" class=\"row_heading level0 row2\" >36</th>\n",
       "      <td id=\"T_9a485_row2_col0\" class=\"data row2 col0\" >Soil_Type22</td>\n",
       "      <td id=\"T_9a485_row2_col1\" class=\"data row2 col1\" >3.420000</td>\n",
       "    </tr>\n",
       "    <tr>\n",
       "      <th id=\"T_9a485_level0_row3\" class=\"row_heading level0 row3\" >11</th>\n",
       "      <td id=\"T_9a485_row3_col0\" class=\"data row3 col0\" >Wilderness_Area1</td>\n",
       "      <td id=\"T_9a485_row3_col1\" class=\"data row3 col1\" >2.800000</td>\n",
       "    </tr>\n",
       "    <tr>\n",
       "      <th id=\"T_9a485_level0_row4\" class=\"row_heading level0 row4\" >35</th>\n",
       "      <td id=\"T_9a485_row4_col0\" class=\"data row4 col0\" >Soil_Type21</td>\n",
       "      <td id=\"T_9a485_row4_col1\" class=\"data row4 col1\" >2.570000</td>\n",
       "    </tr>\n",
       "    <tr>\n",
       "      <th id=\"T_9a485_level0_row5\" class=\"row_heading level0 row5\" >26</th>\n",
       "      <td id=\"T_9a485_row5_col0\" class=\"data row5 col0\" >Soil_Type12</td>\n",
       "      <td id=\"T_9a485_row5_col1\" class=\"data row5 col1\" >2.290000</td>\n",
       "    </tr>\n",
       "    <tr>\n",
       "      <th id=\"T_9a485_level0_row6\" class=\"row_heading level0 row6\" >9</th>\n",
       "      <td id=\"T_9a485_row6_col0\" class=\"data row6 col0\" >Hillshade_3pm</td>\n",
       "      <td id=\"T_9a485_row6_col1\" class=\"data row6 col1\" >2.030000</td>\n",
       "    </tr>\n",
       "    <tr>\n",
       "      <th id=\"T_9a485_level0_row7\" class=\"row_heading level0 row7\" >47</th>\n",
       "      <td id=\"T_9a485_row7_col0\" class=\"data row7 col0\" >Soil_Type33</td>\n",
       "      <td id=\"T_9a485_row7_col1\" class=\"data row7 col1\" >1.630000</td>\n",
       "    </tr>\n",
       "    <tr>\n",
       "      <th id=\"T_9a485_level0_row8\" class=\"row_heading level0 row8\" >38</th>\n",
       "      <td id=\"T_9a485_row8_col0\" class=\"data row8 col0\" >Soil_Type24</td>\n",
       "      <td id=\"T_9a485_row8_col1\" class=\"data row8 col1\" >1.510000</td>\n",
       "    </tr>\n",
       "    <tr>\n",
       "      <th id=\"T_9a485_level0_row9\" class=\"row_heading level0 row9\" >34</th>\n",
       "      <td id=\"T_9a485_row9_col0\" class=\"data row9 col0\" >Soil_Type20</td>\n",
       "      <td id=\"T_9a485_row9_col1\" class=\"data row9 col1\" >1.410000</td>\n",
       "    </tr>\n",
       "    <tr>\n",
       "      <th id=\"T_9a485_level0_row10\" class=\"row_heading level0 row10\" >12</th>\n",
       "      <td id=\"T_9a485_row10_col0\" class=\"data row10 col0\" >Wilderness_Area2</td>\n",
       "      <td id=\"T_9a485_row10_col1\" class=\"data row10 col1\" >1.050000</td>\n",
       "    </tr>\n",
       "    <tr>\n",
       "      <th id=\"T_9a485_level0_row11\" class=\"row_heading level0 row11\" >37</th>\n",
       "      <td id=\"T_9a485_row11_col0\" class=\"data row11 col0\" >Soil_Type23</td>\n",
       "      <td id=\"T_9a485_row11_col1\" class=\"data row11 col1\" >1.010000</td>\n",
       "    </tr>\n",
       "    <tr>\n",
       "      <th id=\"T_9a485_level0_row12\" class=\"row_heading level0 row12\" >7</th>\n",
       "      <td id=\"T_9a485_row12_col0\" class=\"data row12 col0\" >Hillshade_9am</td>\n",
       "      <td id=\"T_9a485_row12_col1\" class=\"data row12 col1\" >0.780000</td>\n",
       "    </tr>\n",
       "    <tr>\n",
       "      <th id=\"T_9a485_level0_row13\" class=\"row_heading level0 row13\" >45</th>\n",
       "      <td id=\"T_9a485_row13_col0\" class=\"data row13 col0\" >Soil_Type31</td>\n",
       "      <td id=\"T_9a485_row13_col1\" class=\"data row13 col1\" >0.640000</td>\n",
       "    </tr>\n",
       "    <tr>\n",
       "      <th id=\"T_9a485_level0_row14\" class=\"row_heading level0 row14\" >27</th>\n",
       "      <td id=\"T_9a485_row14_col0\" class=\"data row14 col0\" >Soil_Type13</td>\n",
       "      <td id=\"T_9a485_row14_col1\" class=\"data row14 col1\" >0.470000</td>\n",
       "    </tr>\n",
       "    <tr>\n",
       "      <th id=\"T_9a485_level0_row15\" class=\"row_heading level0 row15\" >43</th>\n",
       "      <td id=\"T_9a485_row15_col0\" class=\"data row15 col0\" >Soil_Type29</td>\n",
       "      <td id=\"T_9a485_row15_col1\" class=\"data row15 col1\" >0.440000</td>\n",
       "    </tr>\n",
       "    <tr>\n",
       "      <th id=\"T_9a485_level0_row16\" class=\"row_heading level0 row16\" >52</th>\n",
       "      <td id=\"T_9a485_row16_col0\" class=\"data row16 col0\" >Soil_Type38</td>\n",
       "      <td id=\"T_9a485_row16_col1\" class=\"data row16 col1\" >0.400000</td>\n",
       "    </tr>\n",
       "    <tr>\n",
       "      <th id=\"T_9a485_level0_row17\" class=\"row_heading level0 row17\" >33</th>\n",
       "      <td id=\"T_9a485_row17_col0\" class=\"data row17 col0\" >Soil_Type19</td>\n",
       "      <td id=\"T_9a485_row17_col1\" class=\"data row17 col1\" >0.380000</td>\n",
       "    </tr>\n",
       "    <tr>\n",
       "      <th id=\"T_9a485_level0_row18\" class=\"row_heading level0 row18\" >53</th>\n",
       "      <td id=\"T_9a485_row18_col0\" class=\"data row18 col0\" >Soil_Type39</td>\n",
       "      <td id=\"T_9a485_row18_col1\" class=\"data row18 col1\" >0.250000</td>\n",
       "    </tr>\n",
       "    <tr>\n",
       "      <th id=\"T_9a485_level0_row19\" class=\"row_heading level0 row19\" >0</th>\n",
       "      <td id=\"T_9a485_row19_col0\" class=\"data row19 col0\" >Id</td>\n",
       "      <td id=\"T_9a485_row19_col1\" class=\"data row19 col1\" >0.230000</td>\n",
       "    </tr>\n",
       "    <tr>\n",
       "      <th id=\"T_9a485_level0_row20\" class=\"row_heading level0 row20\" >30</th>\n",
       "      <td id=\"T_9a485_row20_col0\" class=\"data row20 col0\" >Soil_Type16</td>\n",
       "      <td id=\"T_9a485_row20_col1\" class=\"data row20 col1\" >0.220000</td>\n",
       "    </tr>\n",
       "    <tr>\n",
       "      <th id=\"T_9a485_level0_row21\" class=\"row_heading level0 row21\" >44</th>\n",
       "      <td id=\"T_9a485_row21_col0\" class=\"data row21 col0\" >Soil_Type30</td>\n",
       "      <td id=\"T_9a485_row21_col1\" class=\"data row21 col1\" >0.220000</td>\n",
       "    </tr>\n",
       "    <tr>\n",
       "      <th id=\"T_9a485_level0_row22\" class=\"row_heading level0 row22\" >29</th>\n",
       "      <td id=\"T_9a485_row22_col0\" class=\"data row22 col0\" >Soil_Type15</td>\n",
       "      <td id=\"T_9a485_row22_col1\" class=\"data row22 col1\" >0.000000</td>\n",
       "    </tr>\n",
       "    <tr>\n",
       "      <th id=\"T_9a485_level0_row23\" class=\"row_heading level0 row23\" >22</th>\n",
       "      <td id=\"T_9a485_row23_col0\" class=\"data row23 col0\" >Soil_Type8</td>\n",
       "      <td id=\"T_9a485_row23_col1\" class=\"data row23 col1\" >0.000000</td>\n",
       "    </tr>\n",
       "    <tr>\n",
       "      <th id=\"T_9a485_level0_row24\" class=\"row_heading level0 row24\" >21</th>\n",
       "      <td id=\"T_9a485_row24_col0\" class=\"data row24 col0\" >Soil_Type7</td>\n",
       "      <td id=\"T_9a485_row24_col1\" class=\"data row24 col1\" >0.000000</td>\n",
       "    </tr>\n",
       "    <tr>\n",
       "      <th id=\"T_9a485_level0_row25\" class=\"row_heading level0 row25\" >39</th>\n",
       "      <td id=\"T_9a485_row25_col0\" class=\"data row25 col0\" >Soil_Type25</td>\n",
       "      <td id=\"T_9a485_row25_col1\" class=\"data row25 col1\" >0.000000</td>\n",
       "    </tr>\n",
       "    <tr>\n",
       "      <th id=\"T_9a485_level0_row26\" class=\"row_heading level0 row26\" >28</th>\n",
       "      <td id=\"T_9a485_row26_col0\" class=\"data row26 col0\" >Soil_Type14</td>\n",
       "      <td id=\"T_9a485_row26_col1\" class=\"data row26 col1\" >-0.020000</td>\n",
       "    </tr>\n",
       "    <tr>\n",
       "      <th id=\"T_9a485_level0_row27\" class=\"row_heading level0 row27\" >3</th>\n",
       "      <td id=\"T_9a485_row27_col0\" class=\"data row27 col0\" >Slope</td>\n",
       "      <td id=\"T_9a485_row27_col1\" class=\"data row27 col1\" >-0.030000</td>\n",
       "    </tr>\n",
       "    <tr>\n",
       "      <th id=\"T_9a485_level0_row28\" class=\"row_heading level0 row28\" >19</th>\n",
       "      <td id=\"T_9a485_row28_col0\" class=\"data row28 col0\" >Soil_Type5</td>\n",
       "      <td id=\"T_9a485_row28_col1\" class=\"data row28 col1\" >-0.040000</td>\n",
       "    </tr>\n",
       "    <tr>\n",
       "      <th id=\"T_9a485_level0_row29\" class=\"row_heading level0 row29\" >15</th>\n",
       "      <td id=\"T_9a485_row29_col0\" class=\"data row29 col0\" >Soil_Type1</td>\n",
       "      <td id=\"T_9a485_row29_col1\" class=\"data row29 col1\" >-0.040000</td>\n",
       "    </tr>\n",
       "    <tr>\n",
       "      <th id=\"T_9a485_level0_row30\" class=\"row_heading level0 row30\" >42</th>\n",
       "      <td id=\"T_9a485_row30_col0\" class=\"data row30 col0\" >Soil_Type28</td>\n",
       "      <td id=\"T_9a485_row30_col1\" class=\"data row30 col1\" >-0.070000</td>\n",
       "    </tr>\n",
       "    <tr>\n",
       "      <th id=\"T_9a485_level0_row31\" class=\"row_heading level0 row31\" >49</th>\n",
       "      <td id=\"T_9a485_row31_col0\" class=\"data row31 col0\" >Soil_Type35</td>\n",
       "      <td id=\"T_9a485_row31_col1\" class=\"data row31 col1\" >-0.110000</td>\n",
       "    </tr>\n",
       "    <tr>\n",
       "      <th id=\"T_9a485_level0_row32\" class=\"row_heading level0 row32\" >46</th>\n",
       "      <td id=\"T_9a485_row32_col0\" class=\"data row32 col0\" >Soil_Type32</td>\n",
       "      <td id=\"T_9a485_row32_col1\" class=\"data row32 col1\" >-0.230000</td>\n",
       "    </tr>\n",
       "    <tr>\n",
       "      <th id=\"T_9a485_level0_row33\" class=\"row_heading level0 row33\" >23</th>\n",
       "      <td id=\"T_9a485_row33_col0\" class=\"data row33 col0\" >Soil_Type9</td>\n",
       "      <td id=\"T_9a485_row33_col1\" class=\"data row33 col1\" >-0.230000</td>\n",
       "    </tr>\n",
       "    <tr>\n",
       "      <th id=\"T_9a485_level0_row34\" class=\"row_heading level0 row34\" >17</th>\n",
       "      <td id=\"T_9a485_row34_col0\" class=\"data row34 col0\" >Soil_Type3</td>\n",
       "      <td id=\"T_9a485_row34_col1\" class=\"data row34 col1\" >-0.240000</td>\n",
       "    </tr>\n",
       "    <tr>\n",
       "      <th id=\"T_9a485_level0_row35\" class=\"row_heading level0 row35\" >32</th>\n",
       "      <td id=\"T_9a485_row35_col0\" class=\"data row35 col0\" >Soil_Type18</td>\n",
       "      <td id=\"T_9a485_row35_col1\" class=\"data row35 col1\" >-0.250000</td>\n",
       "    </tr>\n",
       "    <tr>\n",
       "      <th id=\"T_9a485_level0_row36\" class=\"row_heading level0 row36\" >54</th>\n",
       "      <td id=\"T_9a485_row36_col0\" class=\"data row36 col0\" >Soil_Type40</td>\n",
       "      <td id=\"T_9a485_row36_col1\" class=\"data row36 col1\" >-0.270000</td>\n",
       "    </tr>\n",
       "    <tr>\n",
       "      <th id=\"T_9a485_level0_row37\" class=\"row_heading level0 row37\" >4</th>\n",
       "      <td id=\"T_9a485_row37_col0\" class=\"data row37 col0\" >Horizontal_Distance_To_Hydrology</td>\n",
       "      <td id=\"T_9a485_row37_col1\" class=\"data row37 col1\" >-0.280000</td>\n",
       "    </tr>\n",
       "    <tr>\n",
       "      <th id=\"T_9a485_level0_row38\" class=\"row_heading level0 row38\" >24</th>\n",
       "      <td id=\"T_9a485_row38_col0\" class=\"data row38 col0\" >Soil_Type10</td>\n",
       "      <td id=\"T_9a485_row38_col1\" class=\"data row38 col1\" >-0.300000</td>\n",
       "    </tr>\n",
       "    <tr>\n",
       "      <th id=\"T_9a485_level0_row39\" class=\"row_heading level0 row39\" >20</th>\n",
       "      <td id=\"T_9a485_row39_col0\" class=\"data row39 col0\" >Soil_Type6</td>\n",
       "      <td id=\"T_9a485_row39_col1\" class=\"data row39 col1\" >-0.330000</td>\n",
       "    </tr>\n",
       "    <tr>\n",
       "      <th id=\"T_9a485_level0_row40\" class=\"row_heading level0 row40\" >2</th>\n",
       "      <td id=\"T_9a485_row40_col0\" class=\"data row40 col0\" >Aspect</td>\n",
       "      <td id=\"T_9a485_row40_col1\" class=\"data row40 col1\" >-0.340000</td>\n",
       "    </tr>\n",
       "    <tr>\n",
       "      <th id=\"T_9a485_level0_row41\" class=\"row_heading level0 row41\" >5</th>\n",
       "      <td id=\"T_9a485_row41_col0\" class=\"data row41 col0\" >Vertical_Distance_To_Hydrology</td>\n",
       "      <td id=\"T_9a485_row41_col1\" class=\"data row41 col1\" >-0.380000</td>\n",
       "    </tr>\n",
       "    <tr>\n",
       "      <th id=\"T_9a485_level0_row42\" class=\"row_heading level0 row42\" >10</th>\n",
       "      <td id=\"T_9a485_row42_col0\" class=\"data row42 col0\" >Horizontal_Distance_To_Fire_Points</td>\n",
       "      <td id=\"T_9a485_row42_col1\" class=\"data row42 col1\" >-0.410000</td>\n",
       "    </tr>\n",
       "    <tr>\n",
       "      <th id=\"T_9a485_level0_row43\" class=\"row_heading level0 row43\" >6</th>\n",
       "      <td id=\"T_9a485_row43_col0\" class=\"data row43 col0\" >Horizontal_Distance_To_Roadways</td>\n",
       "      <td id=\"T_9a485_row43_col1\" class=\"data row43 col1\" >-0.430000</td>\n",
       "    </tr>\n",
       "    <tr>\n",
       "      <th id=\"T_9a485_level0_row44\" class=\"row_heading level0 row44\" >50</th>\n",
       "      <td id=\"T_9a485_row44_col0\" class=\"data row44 col0\" >Soil_Type36</td>\n",
       "      <td id=\"T_9a485_row44_col1\" class=\"data row44 col1\" >-0.450000</td>\n",
       "    </tr>\n",
       "    <tr>\n",
       "      <th id=\"T_9a485_level0_row45\" class=\"row_heading level0 row45\" >13</th>\n",
       "      <td id=\"T_9a485_row45_col0\" class=\"data row45 col0\" >Wilderness_Area3</td>\n",
       "      <td id=\"T_9a485_row45_col1\" class=\"data row45 col1\" >-0.770000</td>\n",
       "    </tr>\n",
       "    <tr>\n",
       "      <th id=\"T_9a485_level0_row46\" class=\"row_heading level0 row46\" >14</th>\n",
       "      <td id=\"T_9a485_row46_col0\" class=\"data row46 col0\" >Wilderness_Area4</td>\n",
       "      <td id=\"T_9a485_row46_col1\" class=\"data row46 col1\" >-0.910000</td>\n",
       "    </tr>\n",
       "    <tr>\n",
       "      <th id=\"T_9a485_level0_row47\" class=\"row_heading level0 row47\" >16</th>\n",
       "      <td id=\"T_9a485_row47_col0\" class=\"data row47 col0\" >Soil_Type2</td>\n",
       "      <td id=\"T_9a485_row47_col1\" class=\"data row47 col1\" >-1.090000</td>\n",
       "    </tr>\n",
       "    <tr>\n",
       "      <th id=\"T_9a485_level0_row48\" class=\"row_heading level0 row48\" >8</th>\n",
       "      <td id=\"T_9a485_row48_col0\" class=\"data row48 col0\" >Hillshade_Noon</td>\n",
       "      <td id=\"T_9a485_row48_col1\" class=\"data row48 col1\" >-1.160000</td>\n",
       "    </tr>\n",
       "    <tr>\n",
       "      <th id=\"T_9a485_level0_row49\" class=\"row_heading level0 row49\" >18</th>\n",
       "      <td id=\"T_9a485_row49_col0\" class=\"data row49 col0\" >Soil_Type4</td>\n",
       "      <td id=\"T_9a485_row49_col1\" class=\"data row49 col1\" >-1.330000</td>\n",
       "    </tr>\n",
       "    <tr>\n",
       "      <th id=\"T_9a485_level0_row50\" class=\"row_heading level0 row50\" >40</th>\n",
       "      <td id=\"T_9a485_row50_col0\" class=\"data row50 col0\" >Soil_Type26</td>\n",
       "      <td id=\"T_9a485_row50_col1\" class=\"data row50 col1\" >-1.720000</td>\n",
       "    </tr>\n",
       "    <tr>\n",
       "      <th id=\"T_9a485_level0_row51\" class=\"row_heading level0 row51\" >51</th>\n",
       "      <td id=\"T_9a485_row51_col0\" class=\"data row51 col0\" >Soil_Type37</td>\n",
       "      <td id=\"T_9a485_row51_col1\" class=\"data row51 col1\" >-1.960000</td>\n",
       "    </tr>\n",
       "    <tr>\n",
       "      <th id=\"T_9a485_level0_row52\" class=\"row_heading level0 row52\" >48</th>\n",
       "      <td id=\"T_9a485_row52_col0\" class=\"data row52 col0\" >Soil_Type34</td>\n",
       "      <td id=\"T_9a485_row52_col1\" class=\"data row52 col1\" >-3.050000</td>\n",
       "    </tr>\n",
       "    <tr>\n",
       "      <th id=\"T_9a485_level0_row53\" class=\"row_heading level0 row53\" >31</th>\n",
       "      <td id=\"T_9a485_row53_col0\" class=\"data row53 col0\" >Soil_Type17</td>\n",
       "      <td id=\"T_9a485_row53_col1\" class=\"data row53 col1\" >-3.280000</td>\n",
       "    </tr>\n",
       "    <tr>\n",
       "      <th id=\"T_9a485_level0_row54\" class=\"row_heading level0 row54\" >25</th>\n",
       "      <td id=\"T_9a485_row54_col0\" class=\"data row54 col0\" >Soil_Type11</td>\n",
       "      <td id=\"T_9a485_row54_col1\" class=\"data row54 col1\" >-3.520000</td>\n",
       "    </tr>\n",
       "  </tbody>\n",
       "</table>\n"
      ],
      "text/plain": [
       "<pandas.io.formats.style.Styler at 0x7f824206e820>"
      ]
     },
     "execution_count": 26,
     "metadata": {},
     "output_type": "execute_result"
    }
   ],
   "source": [
    "get_feature_importance(\n",
    "    initial_lm_mod.fit(X_val,y_val), \n",
    "    X_train.columns.get_level_values(0).tolist()\n",
    ")"
   ]
  },
  {
   "cell_type": "markdown",
   "metadata": {},
   "source": [
    "## <font color=green> Embedded Method <font>\n",
    "## <font color=green> 6.4. Lasso Regularization <font>"
   ]
  },
  {
   "cell_type": "markdown",
   "metadata": {},
   "source": [
    "When applying regularization to a Machine Learning model, we add a penalty to the model parameters to avoid that our model tries to resemble too closely our input data. In this way, we can make our model less complex and we can avoid overfitting (making learn to our model, not just the key data characteristics but also it’s intrinsic noise).\n",
    "One of the possible Regularization Methods is Lasso (L1) Regression. When using Lasso Regression, the coefficients of the inputs features gets shrunken if they are not positively contributing to our Machine Learning model training. In this way, some of the features might get automatically discarded assigning them coefficients equal to zero."
   ]
  },
  {
   "cell_type": "code",
   "execution_count": 27,
   "metadata": {},
   "outputs": [
    {
     "name": "stdout",
     "output_type": "stream",
     "text": [
      "Accuracy = 0.6774\n"
     ]
    }
   ],
   "source": [
    "lasso_mod = linear_model.LogisticRegression(penalty='l1', solver='liblinear')\n",
    "print(\"Accuracy = {:.4}\".format(np.mean(cross_val_score(lasso_mod, X_train, y_train, cv=5))))"
   ]
  },
  {
   "cell_type": "code",
   "execution_count": 28,
   "metadata": {},
   "outputs": [
    {
     "data": {
      "text/html": [
       "<style type=\"text/css\">\n",
       "#T_6b37d_row0_col1 {\n",
       "  width: 10em;\n",
       "  background: linear-gradient(90deg, transparent 50.0%, green 50.0%, green 75.9%, transparent 75.9%);\n",
       "}\n",
       "#T_6b37d_row1_col1 {\n",
       "  width: 10em;\n",
       "  background: linear-gradient(90deg, transparent 50.0%, green 50.0%, green 74.6%, transparent 74.6%);\n",
       "}\n",
       "#T_6b37d_row2_col1 {\n",
       "  width: 10em;\n",
       "  background: linear-gradient(90deg, transparent 50.0%, green 50.0%, green 73.7%, transparent 73.7%);\n",
       "}\n",
       "#T_6b37d_row3_col1 {\n",
       "  width: 10em;\n",
       "  background: linear-gradient(90deg, transparent 50.0%, green 50.0%, green 68.9%, transparent 68.9%);\n",
       "}\n",
       "#T_6b37d_row4_col1 {\n",
       "  width: 10em;\n",
       "  background: linear-gradient(90deg, transparent 50.0%, green 50.0%, green 68.1%, transparent 68.1%);\n",
       "}\n",
       "#T_6b37d_row5_col1 {\n",
       "  width: 10em;\n",
       "  background: linear-gradient(90deg, transparent 50.0%, green 50.0%, green 67.2%, transparent 67.2%);\n",
       "}\n",
       "#T_6b37d_row6_col1 {\n",
       "  width: 10em;\n",
       "  background: linear-gradient(90deg, transparent 50.0%, green 50.0%, green 66.2%, transparent 66.2%);\n",
       "}\n",
       "#T_6b37d_row7_col1 {\n",
       "  width: 10em;\n",
       "  background: linear-gradient(90deg, transparent 50.0%, green 50.0%, green 66.0%, transparent 66.0%);\n",
       "}\n",
       "#T_6b37d_row8_col1 {\n",
       "  width: 10em;\n",
       "  background: linear-gradient(90deg, transparent 50.0%, green 50.0%, green 64.3%, transparent 64.3%);\n",
       "}\n",
       "#T_6b37d_row9_col1 {\n",
       "  width: 10em;\n",
       "  background: linear-gradient(90deg, transparent 50.0%, green 50.0%, green 64.0%, transparent 64.0%);\n",
       "}\n",
       "#T_6b37d_row10_col1 {\n",
       "  width: 10em;\n",
       "  background: linear-gradient(90deg, transparent 50.0%, green 50.0%, green 63.3%, transparent 63.3%);\n",
       "}\n",
       "#T_6b37d_row11_col1 {\n",
       "  width: 10em;\n",
       "  background: linear-gradient(90deg, transparent 50.0%, green 50.0%, green 62.3%, transparent 62.3%);\n",
       "}\n",
       "#T_6b37d_row12_col1 {\n",
       "  width: 10em;\n",
       "  background: linear-gradient(90deg, transparent 50.0%, green 50.0%, green 59.2%, transparent 59.2%);\n",
       "}\n",
       "#T_6b37d_row13_col1 {\n",
       "  width: 10em;\n",
       "  background: linear-gradient(90deg, transparent 50.0%, green 50.0%, green 56.0%, transparent 56.0%);\n",
       "}\n",
       "#T_6b37d_row14_col1 {\n",
       "  width: 10em;\n",
       "  background: linear-gradient(90deg, transparent 50.0%, green 50.0%, green 55.2%, transparent 55.2%);\n",
       "}\n",
       "#T_6b37d_row15_col1 {\n",
       "  width: 10em;\n",
       "  background: linear-gradient(90deg, transparent 50.0%, green 50.0%, green 52.4%, transparent 52.4%);\n",
       "}\n",
       "#T_6b37d_row16_col1 {\n",
       "  width: 10em;\n",
       "  background: linear-gradient(90deg, transparent 50.0%, green 50.0%, green 50.6%, transparent 50.6%);\n",
       "}\n",
       "#T_6b37d_row17_col1 {\n",
       "  width: 10em;\n",
       "  background: linear-gradient(90deg, transparent 50.0%, green 50.0%, green 50.3%, transparent 50.3%);\n",
       "}\n",
       "#T_6b37d_row18_col1, #T_6b37d_row19_col1, #T_6b37d_row20_col1, #T_6b37d_row21_col1, #T_6b37d_row22_col1, #T_6b37d_row23_col1, #T_6b37d_row24_col1, #T_6b37d_row25_col1, #T_6b37d_row26_col1, #T_6b37d_row27_col1, #T_6b37d_row28_col1, #T_6b37d_row29_col1, #T_6b37d_row30_col1, #T_6b37d_row31_col1, #T_6b37d_row32_col1 {\n",
       "  width: 10em;\n",
       "}\n",
       "#T_6b37d_row33_col1 {\n",
       "  width: 10em;\n",
       "  background: linear-gradient(90deg, transparent 49.9%, red 49.9%, red 50.0%, transparent 50.0%);\n",
       "}\n",
       "#T_6b37d_row34_col1 {\n",
       "  width: 10em;\n",
       "  background: linear-gradient(90deg, transparent 49.5%, red 49.5%, red 50.0%, transparent 50.0%);\n",
       "}\n",
       "#T_6b37d_row35_col1 {\n",
       "  width: 10em;\n",
       "  background: linear-gradient(90deg, transparent 48.8%, red 48.8%, red 50.0%, transparent 50.0%);\n",
       "}\n",
       "#T_6b37d_row36_col1 {\n",
       "  width: 10em;\n",
       "  background: linear-gradient(90deg, transparent 48.7%, red 48.7%, red 50.0%, transparent 50.0%);\n",
       "}\n",
       "#T_6b37d_row37_col1, #T_6b37d_row38_col1 {\n",
       "  width: 10em;\n",
       "  background: linear-gradient(90deg, transparent 48.3%, red 48.3%, red 50.0%, transparent 50.0%);\n",
       "}\n",
       "#T_6b37d_row39_col1 {\n",
       "  width: 10em;\n",
       "  background: linear-gradient(90deg, transparent 47.8%, red 47.8%, red 50.0%, transparent 50.0%);\n",
       "}\n",
       "#T_6b37d_row40_col1 {\n",
       "  width: 10em;\n",
       "  background: linear-gradient(90deg, transparent 47.7%, red 47.7%, red 50.0%, transparent 50.0%);\n",
       "}\n",
       "#T_6b37d_row41_col1 {\n",
       "  width: 10em;\n",
       "  background: linear-gradient(90deg, transparent 47.2%, red 47.2%, red 50.0%, transparent 50.0%);\n",
       "}\n",
       "#T_6b37d_row42_col1 {\n",
       "  width: 10em;\n",
       "  background: linear-gradient(90deg, transparent 46.8%, red 46.8%, red 50.0%, transparent 50.0%);\n",
       "}\n",
       "#T_6b37d_row43_col1 {\n",
       "  width: 10em;\n",
       "  background: linear-gradient(90deg, transparent 46.6%, red 46.6%, red 50.0%, transparent 50.0%);\n",
       "}\n",
       "#T_6b37d_row44_col1 {\n",
       "  width: 10em;\n",
       "  background: linear-gradient(90deg, transparent 44.8%, red 44.8%, red 50.0%, transparent 50.0%);\n",
       "}\n",
       "#T_6b37d_row45_col1 {\n",
       "  width: 10em;\n",
       "  background: linear-gradient(90deg, transparent 44.4%, red 44.4%, red 50.0%, transparent 50.0%);\n",
       "}\n",
       "#T_6b37d_row46_col1 {\n",
       "  width: 10em;\n",
       "  background: linear-gradient(90deg, transparent 42.8%, red 42.8%, red 50.0%, transparent 50.0%);\n",
       "}\n",
       "#T_6b37d_row47_col1 {\n",
       "  width: 10em;\n",
       "  background: linear-gradient(90deg, transparent 37.4%, red 37.4%, red 50.0%, transparent 50.0%);\n",
       "}\n",
       "#T_6b37d_row48_col1 {\n",
       "  width: 10em;\n",
       "  background: linear-gradient(90deg, transparent 35.8%, red 35.8%, red 50.0%, transparent 50.0%);\n",
       "}\n",
       "#T_6b37d_row49_col1 {\n",
       "  width: 10em;\n",
       "  background: linear-gradient(90deg, transparent 28.5%, red 28.5%, red 50.0%, transparent 50.0%);\n",
       "}\n",
       "#T_6b37d_row50_col1 {\n",
       "  width: 10em;\n",
       "  background: linear-gradient(90deg, transparent 25.5%, red 25.5%, red 50.0%, transparent 50.0%);\n",
       "}\n",
       "#T_6b37d_row51_col1, #T_6b37d_row52_col1 {\n",
       "  width: 10em;\n",
       "  background: linear-gradient(90deg, transparent 20.8%, red 20.8%, red 50.0%, transparent 50.0%);\n",
       "}\n",
       "#T_6b37d_row53_col1 {\n",
       "  width: 10em;\n",
       "  background: linear-gradient(90deg, transparent 9.5%, red 9.5%, red 50.0%, transparent 50.0%);\n",
       "}\n",
       "#T_6b37d_row54_col1 {\n",
       "  width: 10em;\n",
       "  background: linear-gradient(90deg, red 50.0%, transparent 50.0%);\n",
       "}\n",
       "</style>\n",
       "<table id=\"T_6b37d\">\n",
       "  <thead>\n",
       "    <tr>\n",
       "      <th class=\"blank level0\" >&nbsp;</th>\n",
       "      <th id=\"T_6b37d_level0_col0\" class=\"col_heading level0 col0\" >variable</th>\n",
       "      <th id=\"T_6b37d_level0_col1\" class=\"col_heading level0 col1\" >coefficient</th>\n",
       "    </tr>\n",
       "  </thead>\n",
       "  <tbody>\n",
       "    <tr>\n",
       "      <th id=\"T_6b37d_level0_row0\" class=\"row_heading level0 row0\" >36</th>\n",
       "      <td id=\"T_6b37d_row0_col0\" class=\"data row0 col0\" >Soil_Type22</td>\n",
       "      <td id=\"T_6b37d_row0_col1\" class=\"data row0 col1\" >2.230000</td>\n",
       "    </tr>\n",
       "    <tr>\n",
       "      <th id=\"T_6b37d_level0_row1\" class=\"row_heading level0 row1\" >1</th>\n",
       "      <td id=\"T_6b37d_row1_col0\" class=\"data row1 col0\" >Elevation</td>\n",
       "      <td id=\"T_6b37d_row1_col1\" class=\"data row1 col1\" >2.120000</td>\n",
       "    </tr>\n",
       "    <tr>\n",
       "      <th id=\"T_6b37d_level0_row2\" class=\"row_heading level0 row2\" >35</th>\n",
       "      <td id=\"T_6b37d_row2_col0\" class=\"data row2 col0\" >Soil_Type21</td>\n",
       "      <td id=\"T_6b37d_row2_col1\" class=\"data row2 col1\" >2.040000</td>\n",
       "    </tr>\n",
       "    <tr>\n",
       "      <th id=\"T_6b37d_level0_row3\" class=\"row_heading level0 row3\" >30</th>\n",
       "      <td id=\"T_6b37d_row3_col0\" class=\"data row3 col0\" >Soil_Type16</td>\n",
       "      <td id=\"T_6b37d_row3_col1\" class=\"data row3 col1\" >1.630000</td>\n",
       "    </tr>\n",
       "    <tr>\n",
       "      <th id=\"T_6b37d_level0_row4\" class=\"row_heading level0 row4\" >34</th>\n",
       "      <td id=\"T_6b37d_row4_col0\" class=\"data row4 col0\" >Soil_Type20</td>\n",
       "      <td id=\"T_6b37d_row4_col1\" class=\"data row4 col1\" >1.560000</td>\n",
       "    </tr>\n",
       "    <tr>\n",
       "      <th id=\"T_6b37d_level0_row5\" class=\"row_heading level0 row5\" >38</th>\n",
       "      <td id=\"T_6b37d_row5_col0\" class=\"data row5 col0\" >Soil_Type24</td>\n",
       "      <td id=\"T_6b37d_row5_col1\" class=\"data row5 col1\" >1.480000</td>\n",
       "    </tr>\n",
       "    <tr>\n",
       "      <th id=\"T_6b37d_level0_row6\" class=\"row_heading level0 row6\" >37</th>\n",
       "      <td id=\"T_6b37d_row6_col0\" class=\"data row6 col0\" >Soil_Type23</td>\n",
       "      <td id=\"T_6b37d_row6_col1\" class=\"data row6 col1\" >1.400000</td>\n",
       "    </tr>\n",
       "    <tr>\n",
       "      <th id=\"T_6b37d_level0_row7\" class=\"row_heading level0 row7\" >45</th>\n",
       "      <td id=\"T_6b37d_row7_col0\" class=\"data row7 col0\" >Soil_Type31</td>\n",
       "      <td id=\"T_6b37d_row7_col1\" class=\"data row7 col1\" >1.380000</td>\n",
       "    </tr>\n",
       "    <tr>\n",
       "      <th id=\"T_6b37d_level0_row8\" class=\"row_heading level0 row8\" >47</th>\n",
       "      <td id=\"T_6b37d_row8_col0\" class=\"data row8 col0\" >Soil_Type33</td>\n",
       "      <td id=\"T_6b37d_row8_col1\" class=\"data row8 col1\" >1.230000</td>\n",
       "    </tr>\n",
       "    <tr>\n",
       "      <th id=\"T_6b37d_level0_row9\" class=\"row_heading level0 row9\" >11</th>\n",
       "      <td id=\"T_6b37d_row9_col0\" class=\"data row9 col0\" >Wilderness_Area1</td>\n",
       "      <td id=\"T_6b37d_row9_col1\" class=\"data row9 col1\" >1.210000</td>\n",
       "    </tr>\n",
       "    <tr>\n",
       "      <th id=\"T_6b37d_level0_row10\" class=\"row_heading level0 row10\" >40</th>\n",
       "      <td id=\"T_6b37d_row10_col0\" class=\"data row10 col0\" >Soil_Type26</td>\n",
       "      <td id=\"T_6b37d_row10_col1\" class=\"data row10 col1\" >1.150000</td>\n",
       "    </tr>\n",
       "    <tr>\n",
       "      <th id=\"T_6b37d_level0_row11\" class=\"row_heading level0 row11\" >46</th>\n",
       "      <td id=\"T_6b37d_row11_col0\" class=\"data row11 col0\" >Soil_Type32</td>\n",
       "      <td id=\"T_6b37d_row11_col1\" class=\"data row11 col1\" >1.060000</td>\n",
       "    </tr>\n",
       "    <tr>\n",
       "      <th id=\"T_6b37d_level0_row12\" class=\"row_heading level0 row12\" >33</th>\n",
       "      <td id=\"T_6b37d_row12_col0\" class=\"data row12 col0\" >Soil_Type19</td>\n",
       "      <td id=\"T_6b37d_row12_col1\" class=\"data row12 col1\" >0.790000</td>\n",
       "    </tr>\n",
       "    <tr>\n",
       "      <th id=\"T_6b37d_level0_row13\" class=\"row_heading level0 row13\" >9</th>\n",
       "      <td id=\"T_6b37d_row13_col0\" class=\"data row13 col0\" >Hillshade_3pm</td>\n",
       "      <td id=\"T_6b37d_row13_col1\" class=\"data row13 col1\" >0.520000</td>\n",
       "    </tr>\n",
       "    <tr>\n",
       "      <th id=\"T_6b37d_level0_row14\" class=\"row_heading level0 row14\" >43</th>\n",
       "      <td id=\"T_6b37d_row14_col0\" class=\"data row14 col0\" >Soil_Type29</td>\n",
       "      <td id=\"T_6b37d_row14_col1\" class=\"data row14 col1\" >0.450000</td>\n",
       "    </tr>\n",
       "    <tr>\n",
       "      <th id=\"T_6b37d_level0_row15\" class=\"row_heading level0 row15\" >0</th>\n",
       "      <td id=\"T_6b37d_row15_col0\" class=\"data row15 col0\" >Id</td>\n",
       "      <td id=\"T_6b37d_row15_col1\" class=\"data row15 col1\" >0.210000</td>\n",
       "    </tr>\n",
       "    <tr>\n",
       "      <th id=\"T_6b37d_level0_row16\" class=\"row_heading level0 row16\" >26</th>\n",
       "      <td id=\"T_6b37d_row16_col0\" class=\"data row16 col0\" >Soil_Type12</td>\n",
       "      <td id=\"T_6b37d_row16_col1\" class=\"data row16 col1\" >0.050000</td>\n",
       "    </tr>\n",
       "    <tr>\n",
       "      <th id=\"T_6b37d_level0_row17\" class=\"row_heading level0 row17\" >4</th>\n",
       "      <td id=\"T_6b37d_row17_col0\" class=\"data row17 col0\" >Horizontal_Distance_To_Hydrology</td>\n",
       "      <td id=\"T_6b37d_row17_col1\" class=\"data row17 col1\" >0.030000</td>\n",
       "    </tr>\n",
       "    <tr>\n",
       "      <th id=\"T_6b37d_level0_row18\" class=\"row_heading level0 row18\" >39</th>\n",
       "      <td id=\"T_6b37d_row18_col0\" class=\"data row18 col0\" >Soil_Type25</td>\n",
       "      <td id=\"T_6b37d_row18_col1\" class=\"data row18 col1\" >0.000000</td>\n",
       "    </tr>\n",
       "    <tr>\n",
       "      <th id=\"T_6b37d_level0_row19\" class=\"row_heading level0 row19\" >41</th>\n",
       "      <td id=\"T_6b37d_row19_col0\" class=\"data row19 col0\" >Soil_Type27</td>\n",
       "      <td id=\"T_6b37d_row19_col1\" class=\"data row19 col1\" >0.000000</td>\n",
       "    </tr>\n",
       "    <tr>\n",
       "      <th id=\"T_6b37d_level0_row20\" class=\"row_heading level0 row20\" >42</th>\n",
       "      <td id=\"T_6b37d_row20_col0\" class=\"data row20 col0\" >Soil_Type28</td>\n",
       "      <td id=\"T_6b37d_row20_col1\" class=\"data row20 col1\" >0.000000</td>\n",
       "    </tr>\n",
       "    <tr>\n",
       "      <th id=\"T_6b37d_level0_row21\" class=\"row_heading level0 row21\" >29</th>\n",
       "      <td id=\"T_6b37d_row21_col0\" class=\"data row21 col0\" >Soil_Type15</td>\n",
       "      <td id=\"T_6b37d_row21_col1\" class=\"data row21 col1\" >0.000000</td>\n",
       "    </tr>\n",
       "    <tr>\n",
       "      <th id=\"T_6b37d_level0_row22\" class=\"row_heading level0 row22\" >28</th>\n",
       "      <td id=\"T_6b37d_row22_col0\" class=\"data row22 col0\" >Soil_Type14</td>\n",
       "      <td id=\"T_6b37d_row22_col1\" class=\"data row22 col1\" >0.000000</td>\n",
       "    </tr>\n",
       "    <tr>\n",
       "      <th id=\"T_6b37d_level0_row23\" class=\"row_heading level0 row23\" >27</th>\n",
       "      <td id=\"T_6b37d_row23_col0\" class=\"data row23 col0\" >Soil_Type13</td>\n",
       "      <td id=\"T_6b37d_row23_col1\" class=\"data row23 col1\" >0.000000</td>\n",
       "    </tr>\n",
       "    <tr>\n",
       "      <th id=\"T_6b37d_level0_row24\" class=\"row_heading level0 row24\" >12</th>\n",
       "      <td id=\"T_6b37d_row24_col0\" class=\"data row24 col0\" >Wilderness_Area2</td>\n",
       "      <td id=\"T_6b37d_row24_col1\" class=\"data row24 col1\" >0.000000</td>\n",
       "    </tr>\n",
       "    <tr>\n",
       "      <th id=\"T_6b37d_level0_row25\" class=\"row_heading level0 row25\" >7</th>\n",
       "      <td id=\"T_6b37d_row25_col0\" class=\"data row25 col0\" >Hillshade_9am</td>\n",
       "      <td id=\"T_6b37d_row25_col1\" class=\"data row25 col1\" >0.000000</td>\n",
       "    </tr>\n",
       "    <tr>\n",
       "      <th id=\"T_6b37d_level0_row26\" class=\"row_heading level0 row26\" >23</th>\n",
       "      <td id=\"T_6b37d_row26_col0\" class=\"data row26 col0\" >Soil_Type9</td>\n",
       "      <td id=\"T_6b37d_row26_col1\" class=\"data row26 col1\" >0.000000</td>\n",
       "    </tr>\n",
       "    <tr>\n",
       "      <th id=\"T_6b37d_level0_row27\" class=\"row_heading level0 row27\" >22</th>\n",
       "      <td id=\"T_6b37d_row27_col0\" class=\"data row27 col0\" >Soil_Type8</td>\n",
       "      <td id=\"T_6b37d_row27_col1\" class=\"data row27 col1\" >0.000000</td>\n",
       "    </tr>\n",
       "    <tr>\n",
       "      <th id=\"T_6b37d_level0_row28\" class=\"row_heading level0 row28\" >21</th>\n",
       "      <td id=\"T_6b37d_row28_col0\" class=\"data row28 col0\" >Soil_Type7</td>\n",
       "      <td id=\"T_6b37d_row28_col1\" class=\"data row28 col1\" >0.000000</td>\n",
       "    </tr>\n",
       "    <tr>\n",
       "      <th id=\"T_6b37d_level0_row29\" class=\"row_heading level0 row29\" >20</th>\n",
       "      <td id=\"T_6b37d_row29_col0\" class=\"data row29 col0\" >Soil_Type6</td>\n",
       "      <td id=\"T_6b37d_row29_col1\" class=\"data row29 col1\" >0.000000</td>\n",
       "    </tr>\n",
       "    <tr>\n",
       "      <th id=\"T_6b37d_level0_row30\" class=\"row_heading level0 row30\" >19</th>\n",
       "      <td id=\"T_6b37d_row30_col0\" class=\"data row30 col0\" >Soil_Type5</td>\n",
       "      <td id=\"T_6b37d_row30_col1\" class=\"data row30 col1\" >0.000000</td>\n",
       "    </tr>\n",
       "    <tr>\n",
       "      <th id=\"T_6b37d_level0_row31\" class=\"row_heading level0 row31\" >15</th>\n",
       "      <td id=\"T_6b37d_row31_col0\" class=\"data row31 col0\" >Soil_Type1</td>\n",
       "      <td id=\"T_6b37d_row31_col1\" class=\"data row31 col1\" >0.000000</td>\n",
       "    </tr>\n",
       "    <tr>\n",
       "      <th id=\"T_6b37d_level0_row32\" class=\"row_heading level0 row32\" >17</th>\n",
       "      <td id=\"T_6b37d_row32_col0\" class=\"data row32 col0\" >Soil_Type3</td>\n",
       "      <td id=\"T_6b37d_row32_col1\" class=\"data row32 col1\" >0.000000</td>\n",
       "    </tr>\n",
       "    <tr>\n",
       "      <th id=\"T_6b37d_level0_row33\" class=\"row_heading level0 row33\" >6</th>\n",
       "      <td id=\"T_6b37d_row33_col0\" class=\"data row33 col0\" >Horizontal_Distance_To_Roadways</td>\n",
       "      <td id=\"T_6b37d_row33_col1\" class=\"data row33 col1\" >-0.010000</td>\n",
       "    </tr>\n",
       "    <tr>\n",
       "      <th id=\"T_6b37d_level0_row34\" class=\"row_heading level0 row34\" >2</th>\n",
       "      <td id=\"T_6b37d_row34_col0\" class=\"data row34 col0\" >Aspect</td>\n",
       "      <td id=\"T_6b37d_row34_col1\" class=\"data row34 col1\" >-0.040000</td>\n",
       "    </tr>\n",
       "    <tr>\n",
       "      <th id=\"T_6b37d_level0_row35\" class=\"row_heading level0 row35\" >10</th>\n",
       "      <td id=\"T_6b37d_row35_col0\" class=\"data row35 col0\" >Horizontal_Distance_To_Fire_Points</td>\n",
       "      <td id=\"T_6b37d_row35_col1\" class=\"data row35 col1\" >-0.100000</td>\n",
       "    </tr>\n",
       "    <tr>\n",
       "      <th id=\"T_6b37d_level0_row36\" class=\"row_heading level0 row36\" >44</th>\n",
       "      <td id=\"T_6b37d_row36_col0\" class=\"data row36 col0\" >Soil_Type30</td>\n",
       "      <td id=\"T_6b37d_row36_col1\" class=\"data row36 col1\" >-0.110000</td>\n",
       "    </tr>\n",
       "    <tr>\n",
       "      <th id=\"T_6b37d_level0_row37\" class=\"row_heading level0 row37\" >32</th>\n",
       "      <td id=\"T_6b37d_row37_col0\" class=\"data row37 col0\" >Soil_Type18</td>\n",
       "      <td id=\"T_6b37d_row37_col1\" class=\"data row37 col1\" >-0.150000</td>\n",
       "    </tr>\n",
       "    <tr>\n",
       "      <th id=\"T_6b37d_level0_row38\" class=\"row_heading level0 row38\" >13</th>\n",
       "      <td id=\"T_6b37d_row38_col0\" class=\"data row38 col0\" >Wilderness_Area3</td>\n",
       "      <td id=\"T_6b37d_row38_col1\" class=\"data row38 col1\" >-0.150000</td>\n",
       "    </tr>\n",
       "    <tr>\n",
       "      <th id=\"T_6b37d_level0_row39\" class=\"row_heading level0 row39\" >18</th>\n",
       "      <td id=\"T_6b37d_row39_col0\" class=\"data row39 col0\" >Soil_Type4</td>\n",
       "      <td id=\"T_6b37d_row39_col1\" class=\"data row39 col1\" >-0.190000</td>\n",
       "    </tr>\n",
       "    <tr>\n",
       "      <th id=\"T_6b37d_level0_row40\" class=\"row_heading level0 row40\" >3</th>\n",
       "      <td id=\"T_6b37d_row40_col0\" class=\"data row40 col0\" >Slope</td>\n",
       "      <td id=\"T_6b37d_row40_col1\" class=\"data row40 col1\" >-0.200000</td>\n",
       "    </tr>\n",
       "    <tr>\n",
       "      <th id=\"T_6b37d_level0_row41\" class=\"row_heading level0 row41\" >5</th>\n",
       "      <td id=\"T_6b37d_row41_col0\" class=\"data row41 col0\" >Vertical_Distance_To_Hydrology</td>\n",
       "      <td id=\"T_6b37d_row41_col1\" class=\"data row41 col1\" >-0.240000</td>\n",
       "    </tr>\n",
       "    <tr>\n",
       "      <th id=\"T_6b37d_level0_row42\" class=\"row_heading level0 row42\" >24</th>\n",
       "      <td id=\"T_6b37d_row42_col0\" class=\"data row42 col0\" >Soil_Type10</td>\n",
       "      <td id=\"T_6b37d_row42_col1\" class=\"data row42 col1\" >-0.280000</td>\n",
       "    </tr>\n",
       "    <tr>\n",
       "      <th id=\"T_6b37d_level0_row43\" class=\"row_heading level0 row43\" >25</th>\n",
       "      <td id=\"T_6b37d_row43_col0\" class=\"data row43 col0\" >Soil_Type11</td>\n",
       "      <td id=\"T_6b37d_row43_col1\" class=\"data row43 col1\" >-0.290000</td>\n",
       "    </tr>\n",
       "    <tr>\n",
       "      <th id=\"T_6b37d_level0_row44\" class=\"row_heading level0 row44\" >31</th>\n",
       "      <td id=\"T_6b37d_row44_col0\" class=\"data row44 col0\" >Soil_Type17</td>\n",
       "      <td id=\"T_6b37d_row44_col1\" class=\"data row44 col1\" >-0.450000</td>\n",
       "    </tr>\n",
       "    <tr>\n",
       "      <th id=\"T_6b37d_level0_row45\" class=\"row_heading level0 row45\" >48</th>\n",
       "      <td id=\"T_6b37d_row45_col0\" class=\"data row45 col0\" >Soil_Type34</td>\n",
       "      <td id=\"T_6b37d_row45_col1\" class=\"data row45 col1\" >-0.480000</td>\n",
       "    </tr>\n",
       "    <tr>\n",
       "      <th id=\"T_6b37d_level0_row46\" class=\"row_heading level0 row46\" >8</th>\n",
       "      <td id=\"T_6b37d_row46_col0\" class=\"data row46 col0\" >Hillshade_Noon</td>\n",
       "      <td id=\"T_6b37d_row46_col1\" class=\"data row46 col1\" >-0.620000</td>\n",
       "    </tr>\n",
       "    <tr>\n",
       "      <th id=\"T_6b37d_level0_row47\" class=\"row_heading level0 row47\" >50</th>\n",
       "      <td id=\"T_6b37d_row47_col0\" class=\"data row47 col0\" >Soil_Type36</td>\n",
       "      <td id=\"T_6b37d_row47_col1\" class=\"data row47 col1\" >-1.090000</td>\n",
       "    </tr>\n",
       "    <tr>\n",
       "      <th id=\"T_6b37d_level0_row48\" class=\"row_heading level0 row48\" >16</th>\n",
       "      <td id=\"T_6b37d_row48_col0\" class=\"data row48 col0\" >Soil_Type2</td>\n",
       "      <td id=\"T_6b37d_row48_col1\" class=\"data row48 col1\" >-1.220000</td>\n",
       "    </tr>\n",
       "    <tr>\n",
       "      <th id=\"T_6b37d_level0_row49\" class=\"row_heading level0 row49\" >53</th>\n",
       "      <td id=\"T_6b37d_row49_col0\" class=\"data row49 col0\" >Soil_Type39</td>\n",
       "      <td id=\"T_6b37d_row49_col1\" class=\"data row49 col1\" >-1.850000</td>\n",
       "    </tr>\n",
       "    <tr>\n",
       "      <th id=\"T_6b37d_level0_row50\" class=\"row_heading level0 row50\" >52</th>\n",
       "      <td id=\"T_6b37d_row50_col0\" class=\"data row50 col0\" >Soil_Type38</td>\n",
       "      <td id=\"T_6b37d_row50_col1\" class=\"data row50 col1\" >-2.110000</td>\n",
       "    </tr>\n",
       "    <tr>\n",
       "      <th id=\"T_6b37d_level0_row51\" class=\"row_heading level0 row51\" >14</th>\n",
       "      <td id=\"T_6b37d_row51_col0\" class=\"data row51 col0\" >Wilderness_Area4</td>\n",
       "      <td id=\"T_6b37d_row51_col1\" class=\"data row51 col1\" >-2.520000</td>\n",
       "    </tr>\n",
       "    <tr>\n",
       "      <th id=\"T_6b37d_level0_row52\" class=\"row_heading level0 row52\" >54</th>\n",
       "      <td id=\"T_6b37d_row52_col0\" class=\"data row52 col0\" >Soil_Type40</td>\n",
       "      <td id=\"T_6b37d_row52_col1\" class=\"data row52 col1\" >-2.520000</td>\n",
       "    </tr>\n",
       "    <tr>\n",
       "      <th id=\"T_6b37d_level0_row53\" class=\"row_heading level0 row53\" >49</th>\n",
       "      <td id=\"T_6b37d_row53_col0\" class=\"data row53 col0\" >Soil_Type35</td>\n",
       "      <td id=\"T_6b37d_row53_col1\" class=\"data row53 col1\" >-3.490000</td>\n",
       "    </tr>\n",
       "    <tr>\n",
       "      <th id=\"T_6b37d_level0_row54\" class=\"row_heading level0 row54\" >51</th>\n",
       "      <td id=\"T_6b37d_row54_col0\" class=\"data row54 col0\" >Soil_Type37</td>\n",
       "      <td id=\"T_6b37d_row54_col1\" class=\"data row54 col1\" >-4.310000</td>\n",
       "    </tr>\n",
       "  </tbody>\n",
       "</table>\n"
      ],
      "text/plain": [
       "<pandas.io.formats.style.Styler at 0x7f821113a1f0>"
      ]
     },
     "execution_count": 28,
     "metadata": {},
     "output_type": "execute_result"
    }
   ],
   "source": [
    "get_feature_importance(lasso_mod.fit(X_train,y_train), X_train.columns.get_level_values(0).tolist())"
   ]
  },
  {
   "cell_type": "markdown",
   "metadata": {},
   "source": [
    "Similar performance w.r.t the un-regularized models. However, you can see how the feature coefficients are smaller than the original ones, due to the regularization.\n",
    "\n",
    "Let's look at how the coefficient weights and accuracy scores change along with the different regularization values.\n",
    "To that end, I have implemented the following piece of code. Do not be overwhelmed by it. It basically defines a list of regularization values to test and train a new Logistic Regression model for one of these regularization values. We keep track of the coefficient values and the accuracy of each of these models to plot them according to the defined regularization parameters."
   ]
  },
  {
   "cell_type": "code",
   "execution_count": 29,
   "metadata": {},
   "outputs": [
    {
     "ename": "KeyboardInterrupt",
     "evalue": "",
     "output_type": "error",
     "traceback": [
      "\u001b[0;31m---------------------------------------------------------------------------\u001b[0m",
      "\u001b[0;31mKeyboardInterrupt\u001b[0m                         Traceback (most recent call last)",
      "Input \u001b[0;32mIn [29]\u001b[0m, in \u001b[0;36m<cell line: 6>\u001b[0;34m()\u001b[0m\n\u001b[1;32m      6\u001b[0m \u001b[38;5;28;01mfor\u001b[39;00m a \u001b[38;5;129;01min\u001b[39;00m alphas:\n\u001b[1;32m      7\u001b[0m     lasso_mod\u001b[38;5;241m.\u001b[39mset_params(C\u001b[38;5;241m=\u001b[39ma)\n\u001b[0;32m----> 8\u001b[0m     scores_\u001b[38;5;241m.\u001b[39mappend(np\u001b[38;5;241m.\u001b[39mmean(\u001b[43mcross_val_score\u001b[49m\u001b[43m(\u001b[49m\u001b[43mlasso_mod\u001b[49m\u001b[43m,\u001b[49m\u001b[43m \u001b[49m\u001b[43mX_train\u001b[49m\u001b[43m,\u001b[49m\u001b[43m \u001b[49m\u001b[43my_train\u001b[49m\u001b[43m,\u001b[49m\u001b[43m \u001b[49m\u001b[43mcv\u001b[49m\u001b[38;5;241;43m=\u001b[39;49m\u001b[38;5;241;43m5\u001b[39;49m\u001b[43m)\u001b[49m)) \u001b[38;5;66;03m# Appends the accuracy of the model\u001b[39;00m\n\u001b[1;32m      9\u001b[0m     coefs_\u001b[38;5;241m.\u001b[39mappend(lasso_mod\u001b[38;5;241m.\u001b[39mfit(X_train, y_train)\u001b[38;5;241m.\u001b[39mcoef_\u001b[38;5;241m.\u001b[39mravel()\u001b[38;5;241m.\u001b[39mcopy()) \u001b[38;5;66;03m# Appends the coefficient of the model\u001b[39;00m\n\u001b[1;32m     11\u001b[0m coefs_ \u001b[38;5;241m=\u001b[39m np\u001b[38;5;241m.\u001b[39marray(coefs_)\n",
      "File \u001b[0;32m~/opt/anaconda3/lib/python3.9/site-packages/sklearn/model_selection/_validation.py:515\u001b[0m, in \u001b[0;36mcross_val_score\u001b[0;34m(estimator, X, y, groups, scoring, cv, n_jobs, verbose, fit_params, pre_dispatch, error_score)\u001b[0m\n\u001b[1;32m    512\u001b[0m \u001b[38;5;66;03m# To ensure multimetric format is not supported\u001b[39;00m\n\u001b[1;32m    513\u001b[0m scorer \u001b[38;5;241m=\u001b[39m check_scoring(estimator, scoring\u001b[38;5;241m=\u001b[39mscoring)\n\u001b[0;32m--> 515\u001b[0m cv_results \u001b[38;5;241m=\u001b[39m \u001b[43mcross_validate\u001b[49m\u001b[43m(\u001b[49m\n\u001b[1;32m    516\u001b[0m \u001b[43m    \u001b[49m\u001b[43mestimator\u001b[49m\u001b[38;5;241;43m=\u001b[39;49m\u001b[43mestimator\u001b[49m\u001b[43m,\u001b[49m\n\u001b[1;32m    517\u001b[0m \u001b[43m    \u001b[49m\u001b[43mX\u001b[49m\u001b[38;5;241;43m=\u001b[39;49m\u001b[43mX\u001b[49m\u001b[43m,\u001b[49m\n\u001b[1;32m    518\u001b[0m \u001b[43m    \u001b[49m\u001b[43my\u001b[49m\u001b[38;5;241;43m=\u001b[39;49m\u001b[43my\u001b[49m\u001b[43m,\u001b[49m\n\u001b[1;32m    519\u001b[0m \u001b[43m    \u001b[49m\u001b[43mgroups\u001b[49m\u001b[38;5;241;43m=\u001b[39;49m\u001b[43mgroups\u001b[49m\u001b[43m,\u001b[49m\n\u001b[1;32m    520\u001b[0m \u001b[43m    \u001b[49m\u001b[43mscoring\u001b[49m\u001b[38;5;241;43m=\u001b[39;49m\u001b[43m{\u001b[49m\u001b[38;5;124;43m\"\u001b[39;49m\u001b[38;5;124;43mscore\u001b[39;49m\u001b[38;5;124;43m\"\u001b[39;49m\u001b[43m:\u001b[49m\u001b[43m \u001b[49m\u001b[43mscorer\u001b[49m\u001b[43m}\u001b[49m\u001b[43m,\u001b[49m\n\u001b[1;32m    521\u001b[0m \u001b[43m    \u001b[49m\u001b[43mcv\u001b[49m\u001b[38;5;241;43m=\u001b[39;49m\u001b[43mcv\u001b[49m\u001b[43m,\u001b[49m\n\u001b[1;32m    522\u001b[0m \u001b[43m    \u001b[49m\u001b[43mn_jobs\u001b[49m\u001b[38;5;241;43m=\u001b[39;49m\u001b[43mn_jobs\u001b[49m\u001b[43m,\u001b[49m\n\u001b[1;32m    523\u001b[0m \u001b[43m    \u001b[49m\u001b[43mverbose\u001b[49m\u001b[38;5;241;43m=\u001b[39;49m\u001b[43mverbose\u001b[49m\u001b[43m,\u001b[49m\n\u001b[1;32m    524\u001b[0m \u001b[43m    \u001b[49m\u001b[43mfit_params\u001b[49m\u001b[38;5;241;43m=\u001b[39;49m\u001b[43mfit_params\u001b[49m\u001b[43m,\u001b[49m\n\u001b[1;32m    525\u001b[0m \u001b[43m    \u001b[49m\u001b[43mpre_dispatch\u001b[49m\u001b[38;5;241;43m=\u001b[39;49m\u001b[43mpre_dispatch\u001b[49m\u001b[43m,\u001b[49m\n\u001b[1;32m    526\u001b[0m \u001b[43m    \u001b[49m\u001b[43merror_score\u001b[49m\u001b[38;5;241;43m=\u001b[39;49m\u001b[43merror_score\u001b[49m\u001b[43m,\u001b[49m\n\u001b[1;32m    527\u001b[0m \u001b[43m\u001b[49m\u001b[43m)\u001b[49m\n\u001b[1;32m    528\u001b[0m \u001b[38;5;28;01mreturn\u001b[39;00m cv_results[\u001b[38;5;124m\"\u001b[39m\u001b[38;5;124mtest_score\u001b[39m\u001b[38;5;124m\"\u001b[39m]\n",
      "File \u001b[0;32m~/opt/anaconda3/lib/python3.9/site-packages/sklearn/model_selection/_validation.py:266\u001b[0m, in \u001b[0;36mcross_validate\u001b[0;34m(estimator, X, y, groups, scoring, cv, n_jobs, verbose, fit_params, pre_dispatch, return_train_score, return_estimator, error_score)\u001b[0m\n\u001b[1;32m    263\u001b[0m \u001b[38;5;66;03m# We clone the estimator to make sure that all the folds are\u001b[39;00m\n\u001b[1;32m    264\u001b[0m \u001b[38;5;66;03m# independent, and that it is pickle-able.\u001b[39;00m\n\u001b[1;32m    265\u001b[0m parallel \u001b[38;5;241m=\u001b[39m Parallel(n_jobs\u001b[38;5;241m=\u001b[39mn_jobs, verbose\u001b[38;5;241m=\u001b[39mverbose, pre_dispatch\u001b[38;5;241m=\u001b[39mpre_dispatch)\n\u001b[0;32m--> 266\u001b[0m results \u001b[38;5;241m=\u001b[39m \u001b[43mparallel\u001b[49m\u001b[43m(\u001b[49m\n\u001b[1;32m    267\u001b[0m \u001b[43m    \u001b[49m\u001b[43mdelayed\u001b[49m\u001b[43m(\u001b[49m\u001b[43m_fit_and_score\u001b[49m\u001b[43m)\u001b[49m\u001b[43m(\u001b[49m\n\u001b[1;32m    268\u001b[0m \u001b[43m        \u001b[49m\u001b[43mclone\u001b[49m\u001b[43m(\u001b[49m\u001b[43mestimator\u001b[49m\u001b[43m)\u001b[49m\u001b[43m,\u001b[49m\n\u001b[1;32m    269\u001b[0m \u001b[43m        \u001b[49m\u001b[43mX\u001b[49m\u001b[43m,\u001b[49m\n\u001b[1;32m    270\u001b[0m \u001b[43m        \u001b[49m\u001b[43my\u001b[49m\u001b[43m,\u001b[49m\n\u001b[1;32m    271\u001b[0m \u001b[43m        \u001b[49m\u001b[43mscorers\u001b[49m\u001b[43m,\u001b[49m\n\u001b[1;32m    272\u001b[0m \u001b[43m        \u001b[49m\u001b[43mtrain\u001b[49m\u001b[43m,\u001b[49m\n\u001b[1;32m    273\u001b[0m \u001b[43m        \u001b[49m\u001b[43mtest\u001b[49m\u001b[43m,\u001b[49m\n\u001b[1;32m    274\u001b[0m \u001b[43m        \u001b[49m\u001b[43mverbose\u001b[49m\u001b[43m,\u001b[49m\n\u001b[1;32m    275\u001b[0m \u001b[43m        \u001b[49m\u001b[38;5;28;43;01mNone\u001b[39;49;00m\u001b[43m,\u001b[49m\n\u001b[1;32m    276\u001b[0m \u001b[43m        \u001b[49m\u001b[43mfit_params\u001b[49m\u001b[43m,\u001b[49m\n\u001b[1;32m    277\u001b[0m \u001b[43m        \u001b[49m\u001b[43mreturn_train_score\u001b[49m\u001b[38;5;241;43m=\u001b[39;49m\u001b[43mreturn_train_score\u001b[49m\u001b[43m,\u001b[49m\n\u001b[1;32m    278\u001b[0m \u001b[43m        \u001b[49m\u001b[43mreturn_times\u001b[49m\u001b[38;5;241;43m=\u001b[39;49m\u001b[38;5;28;43;01mTrue\u001b[39;49;00m\u001b[43m,\u001b[49m\n\u001b[1;32m    279\u001b[0m \u001b[43m        \u001b[49m\u001b[43mreturn_estimator\u001b[49m\u001b[38;5;241;43m=\u001b[39;49m\u001b[43mreturn_estimator\u001b[49m\u001b[43m,\u001b[49m\n\u001b[1;32m    280\u001b[0m \u001b[43m        \u001b[49m\u001b[43merror_score\u001b[49m\u001b[38;5;241;43m=\u001b[39;49m\u001b[43merror_score\u001b[49m\u001b[43m,\u001b[49m\n\u001b[1;32m    281\u001b[0m \u001b[43m    \u001b[49m\u001b[43m)\u001b[49m\n\u001b[1;32m    282\u001b[0m \u001b[43m    \u001b[49m\u001b[38;5;28;43;01mfor\u001b[39;49;00m\u001b[43m \u001b[49m\u001b[43mtrain\u001b[49m\u001b[43m,\u001b[49m\u001b[43m \u001b[49m\u001b[43mtest\u001b[49m\u001b[43m \u001b[49m\u001b[38;5;129;43;01min\u001b[39;49;00m\u001b[43m \u001b[49m\u001b[43mcv\u001b[49m\u001b[38;5;241;43m.\u001b[39;49m\u001b[43msplit\u001b[49m\u001b[43m(\u001b[49m\u001b[43mX\u001b[49m\u001b[43m,\u001b[49m\u001b[43m \u001b[49m\u001b[43my\u001b[49m\u001b[43m,\u001b[49m\u001b[43m \u001b[49m\u001b[43mgroups\u001b[49m\u001b[43m)\u001b[49m\n\u001b[1;32m    283\u001b[0m \u001b[43m\u001b[49m\u001b[43m)\u001b[49m\n\u001b[1;32m    285\u001b[0m _warn_or_raise_about_fit_failures(results, error_score)\n\u001b[1;32m    287\u001b[0m \u001b[38;5;66;03m# For callabe scoring, the return type is only know after calling. If the\u001b[39;00m\n\u001b[1;32m    288\u001b[0m \u001b[38;5;66;03m# return type is a dictionary, the error scores can now be inserted with\u001b[39;00m\n\u001b[1;32m    289\u001b[0m \u001b[38;5;66;03m# the correct key.\u001b[39;00m\n",
      "File \u001b[0;32m~/opt/anaconda3/lib/python3.9/site-packages/joblib/parallel.py:1046\u001b[0m, in \u001b[0;36mParallel.__call__\u001b[0;34m(self, iterable)\u001b[0m\n\u001b[1;32m   1043\u001b[0m \u001b[38;5;28;01mif\u001b[39;00m \u001b[38;5;28mself\u001b[39m\u001b[38;5;241m.\u001b[39mdispatch_one_batch(iterator):\n\u001b[1;32m   1044\u001b[0m     \u001b[38;5;28mself\u001b[39m\u001b[38;5;241m.\u001b[39m_iterating \u001b[38;5;241m=\u001b[39m \u001b[38;5;28mself\u001b[39m\u001b[38;5;241m.\u001b[39m_original_iterator \u001b[38;5;129;01mis\u001b[39;00m \u001b[38;5;129;01mnot\u001b[39;00m \u001b[38;5;28;01mNone\u001b[39;00m\n\u001b[0;32m-> 1046\u001b[0m \u001b[38;5;28;01mwhile\u001b[39;00m \u001b[38;5;28;43mself\u001b[39;49m\u001b[38;5;241;43m.\u001b[39;49m\u001b[43mdispatch_one_batch\u001b[49m\u001b[43m(\u001b[49m\u001b[43miterator\u001b[49m\u001b[43m)\u001b[49m:\n\u001b[1;32m   1047\u001b[0m     \u001b[38;5;28;01mpass\u001b[39;00m\n\u001b[1;32m   1049\u001b[0m \u001b[38;5;28;01mif\u001b[39;00m pre_dispatch \u001b[38;5;241m==\u001b[39m \u001b[38;5;124m\"\u001b[39m\u001b[38;5;124mall\u001b[39m\u001b[38;5;124m\"\u001b[39m \u001b[38;5;129;01mor\u001b[39;00m n_jobs \u001b[38;5;241m==\u001b[39m \u001b[38;5;241m1\u001b[39m:\n\u001b[1;32m   1050\u001b[0m     \u001b[38;5;66;03m# The iterable was consumed all at once by the above for loop.\u001b[39;00m\n\u001b[1;32m   1051\u001b[0m     \u001b[38;5;66;03m# No need to wait for async callbacks to trigger to\u001b[39;00m\n\u001b[1;32m   1052\u001b[0m     \u001b[38;5;66;03m# consumption.\u001b[39;00m\n",
      "File \u001b[0;32m~/opt/anaconda3/lib/python3.9/site-packages/joblib/parallel.py:861\u001b[0m, in \u001b[0;36mParallel.dispatch_one_batch\u001b[0;34m(self, iterator)\u001b[0m\n\u001b[1;32m    859\u001b[0m     \u001b[38;5;28;01mreturn\u001b[39;00m \u001b[38;5;28;01mFalse\u001b[39;00m\n\u001b[1;32m    860\u001b[0m \u001b[38;5;28;01melse\u001b[39;00m:\n\u001b[0;32m--> 861\u001b[0m     \u001b[38;5;28;43mself\u001b[39;49m\u001b[38;5;241;43m.\u001b[39;49m\u001b[43m_dispatch\u001b[49m\u001b[43m(\u001b[49m\u001b[43mtasks\u001b[49m\u001b[43m)\u001b[49m\n\u001b[1;32m    862\u001b[0m     \u001b[38;5;28;01mreturn\u001b[39;00m \u001b[38;5;28;01mTrue\u001b[39;00m\n",
      "File \u001b[0;32m~/opt/anaconda3/lib/python3.9/site-packages/joblib/parallel.py:779\u001b[0m, in \u001b[0;36mParallel._dispatch\u001b[0;34m(self, batch)\u001b[0m\n\u001b[1;32m    777\u001b[0m \u001b[38;5;28;01mwith\u001b[39;00m \u001b[38;5;28mself\u001b[39m\u001b[38;5;241m.\u001b[39m_lock:\n\u001b[1;32m    778\u001b[0m     job_idx \u001b[38;5;241m=\u001b[39m \u001b[38;5;28mlen\u001b[39m(\u001b[38;5;28mself\u001b[39m\u001b[38;5;241m.\u001b[39m_jobs)\n\u001b[0;32m--> 779\u001b[0m     job \u001b[38;5;241m=\u001b[39m \u001b[38;5;28;43mself\u001b[39;49m\u001b[38;5;241;43m.\u001b[39;49m\u001b[43m_backend\u001b[49m\u001b[38;5;241;43m.\u001b[39;49m\u001b[43mapply_async\u001b[49m\u001b[43m(\u001b[49m\u001b[43mbatch\u001b[49m\u001b[43m,\u001b[49m\u001b[43m \u001b[49m\u001b[43mcallback\u001b[49m\u001b[38;5;241;43m=\u001b[39;49m\u001b[43mcb\u001b[49m\u001b[43m)\u001b[49m\n\u001b[1;32m    780\u001b[0m     \u001b[38;5;66;03m# A job can complete so quickly than its callback is\u001b[39;00m\n\u001b[1;32m    781\u001b[0m     \u001b[38;5;66;03m# called before we get here, causing self._jobs to\u001b[39;00m\n\u001b[1;32m    782\u001b[0m     \u001b[38;5;66;03m# grow. To ensure correct results ordering, .insert is\u001b[39;00m\n\u001b[1;32m    783\u001b[0m     \u001b[38;5;66;03m# used (rather than .append) in the following line\u001b[39;00m\n\u001b[1;32m    784\u001b[0m     \u001b[38;5;28mself\u001b[39m\u001b[38;5;241m.\u001b[39m_jobs\u001b[38;5;241m.\u001b[39minsert(job_idx, job)\n",
      "File \u001b[0;32m~/opt/anaconda3/lib/python3.9/site-packages/joblib/_parallel_backends.py:208\u001b[0m, in \u001b[0;36mSequentialBackend.apply_async\u001b[0;34m(self, func, callback)\u001b[0m\n\u001b[1;32m    206\u001b[0m \u001b[38;5;28;01mdef\u001b[39;00m \u001b[38;5;21mapply_async\u001b[39m(\u001b[38;5;28mself\u001b[39m, func, callback\u001b[38;5;241m=\u001b[39m\u001b[38;5;28;01mNone\u001b[39;00m):\n\u001b[1;32m    207\u001b[0m     \u001b[38;5;124;03m\"\"\"Schedule a func to be run\"\"\"\u001b[39;00m\n\u001b[0;32m--> 208\u001b[0m     result \u001b[38;5;241m=\u001b[39m \u001b[43mImmediateResult\u001b[49m\u001b[43m(\u001b[49m\u001b[43mfunc\u001b[49m\u001b[43m)\u001b[49m\n\u001b[1;32m    209\u001b[0m     \u001b[38;5;28;01mif\u001b[39;00m callback:\n\u001b[1;32m    210\u001b[0m         callback(result)\n",
      "File \u001b[0;32m~/opt/anaconda3/lib/python3.9/site-packages/joblib/_parallel_backends.py:572\u001b[0m, in \u001b[0;36mImmediateResult.__init__\u001b[0;34m(self, batch)\u001b[0m\n\u001b[1;32m    569\u001b[0m \u001b[38;5;28;01mdef\u001b[39;00m \u001b[38;5;21m__init__\u001b[39m(\u001b[38;5;28mself\u001b[39m, batch):\n\u001b[1;32m    570\u001b[0m     \u001b[38;5;66;03m# Don't delay the application, to avoid keeping the input\u001b[39;00m\n\u001b[1;32m    571\u001b[0m     \u001b[38;5;66;03m# arguments in memory\u001b[39;00m\n\u001b[0;32m--> 572\u001b[0m     \u001b[38;5;28mself\u001b[39m\u001b[38;5;241m.\u001b[39mresults \u001b[38;5;241m=\u001b[39m \u001b[43mbatch\u001b[49m\u001b[43m(\u001b[49m\u001b[43m)\u001b[49m\n",
      "File \u001b[0;32m~/opt/anaconda3/lib/python3.9/site-packages/joblib/parallel.py:262\u001b[0m, in \u001b[0;36mBatchedCalls.__call__\u001b[0;34m(self)\u001b[0m\n\u001b[1;32m    258\u001b[0m \u001b[38;5;28;01mdef\u001b[39;00m \u001b[38;5;21m__call__\u001b[39m(\u001b[38;5;28mself\u001b[39m):\n\u001b[1;32m    259\u001b[0m     \u001b[38;5;66;03m# Set the default nested backend to self._backend but do not set the\u001b[39;00m\n\u001b[1;32m    260\u001b[0m     \u001b[38;5;66;03m# change the default number of processes to -1\u001b[39;00m\n\u001b[1;32m    261\u001b[0m     \u001b[38;5;28;01mwith\u001b[39;00m parallel_backend(\u001b[38;5;28mself\u001b[39m\u001b[38;5;241m.\u001b[39m_backend, n_jobs\u001b[38;5;241m=\u001b[39m\u001b[38;5;28mself\u001b[39m\u001b[38;5;241m.\u001b[39m_n_jobs):\n\u001b[0;32m--> 262\u001b[0m         \u001b[38;5;28;01mreturn\u001b[39;00m [func(\u001b[38;5;241m*\u001b[39margs, \u001b[38;5;241m*\u001b[39m\u001b[38;5;241m*\u001b[39mkwargs)\n\u001b[1;32m    263\u001b[0m                 \u001b[38;5;28;01mfor\u001b[39;00m func, args, kwargs \u001b[38;5;129;01min\u001b[39;00m \u001b[38;5;28mself\u001b[39m\u001b[38;5;241m.\u001b[39mitems]\n",
      "File \u001b[0;32m~/opt/anaconda3/lib/python3.9/site-packages/joblib/parallel.py:262\u001b[0m, in \u001b[0;36m<listcomp>\u001b[0;34m(.0)\u001b[0m\n\u001b[1;32m    258\u001b[0m \u001b[38;5;28;01mdef\u001b[39;00m \u001b[38;5;21m__call__\u001b[39m(\u001b[38;5;28mself\u001b[39m):\n\u001b[1;32m    259\u001b[0m     \u001b[38;5;66;03m# Set the default nested backend to self._backend but do not set the\u001b[39;00m\n\u001b[1;32m    260\u001b[0m     \u001b[38;5;66;03m# change the default number of processes to -1\u001b[39;00m\n\u001b[1;32m    261\u001b[0m     \u001b[38;5;28;01mwith\u001b[39;00m parallel_backend(\u001b[38;5;28mself\u001b[39m\u001b[38;5;241m.\u001b[39m_backend, n_jobs\u001b[38;5;241m=\u001b[39m\u001b[38;5;28mself\u001b[39m\u001b[38;5;241m.\u001b[39m_n_jobs):\n\u001b[0;32m--> 262\u001b[0m         \u001b[38;5;28;01mreturn\u001b[39;00m [\u001b[43mfunc\u001b[49m\u001b[43m(\u001b[49m\u001b[38;5;241;43m*\u001b[39;49m\u001b[43margs\u001b[49m\u001b[43m,\u001b[49m\u001b[43m \u001b[49m\u001b[38;5;241;43m*\u001b[39;49m\u001b[38;5;241;43m*\u001b[39;49m\u001b[43mkwargs\u001b[49m\u001b[43m)\u001b[49m\n\u001b[1;32m    263\u001b[0m                 \u001b[38;5;28;01mfor\u001b[39;00m func, args, kwargs \u001b[38;5;129;01min\u001b[39;00m \u001b[38;5;28mself\u001b[39m\u001b[38;5;241m.\u001b[39mitems]\n",
      "File \u001b[0;32m~/opt/anaconda3/lib/python3.9/site-packages/sklearn/utils/fixes.py:117\u001b[0m, in \u001b[0;36m_FuncWrapper.__call__\u001b[0;34m(self, *args, **kwargs)\u001b[0m\n\u001b[1;32m    115\u001b[0m \u001b[38;5;28;01mdef\u001b[39;00m \u001b[38;5;21m__call__\u001b[39m(\u001b[38;5;28mself\u001b[39m, \u001b[38;5;241m*\u001b[39margs, \u001b[38;5;241m*\u001b[39m\u001b[38;5;241m*\u001b[39mkwargs):\n\u001b[1;32m    116\u001b[0m     \u001b[38;5;28;01mwith\u001b[39;00m config_context(\u001b[38;5;241m*\u001b[39m\u001b[38;5;241m*\u001b[39m\u001b[38;5;28mself\u001b[39m\u001b[38;5;241m.\u001b[39mconfig):\n\u001b[0;32m--> 117\u001b[0m         \u001b[38;5;28;01mreturn\u001b[39;00m \u001b[38;5;28;43mself\u001b[39;49m\u001b[38;5;241;43m.\u001b[39;49m\u001b[43mfunction\u001b[49m\u001b[43m(\u001b[49m\u001b[38;5;241;43m*\u001b[39;49m\u001b[43margs\u001b[49m\u001b[43m,\u001b[49m\u001b[43m \u001b[49m\u001b[38;5;241;43m*\u001b[39;49m\u001b[38;5;241;43m*\u001b[39;49m\u001b[43mkwargs\u001b[49m\u001b[43m)\u001b[49m\n",
      "File \u001b[0;32m~/opt/anaconda3/lib/python3.9/site-packages/sklearn/model_selection/_validation.py:686\u001b[0m, in \u001b[0;36m_fit_and_score\u001b[0;34m(estimator, X, y, scorer, train, test, verbose, parameters, fit_params, return_train_score, return_parameters, return_n_test_samples, return_times, return_estimator, split_progress, candidate_progress, error_score)\u001b[0m\n\u001b[1;32m    684\u001b[0m         estimator\u001b[38;5;241m.\u001b[39mfit(X_train, \u001b[38;5;241m*\u001b[39m\u001b[38;5;241m*\u001b[39mfit_params)\n\u001b[1;32m    685\u001b[0m     \u001b[38;5;28;01melse\u001b[39;00m:\n\u001b[0;32m--> 686\u001b[0m         \u001b[43mestimator\u001b[49m\u001b[38;5;241;43m.\u001b[39;49m\u001b[43mfit\u001b[49m\u001b[43m(\u001b[49m\u001b[43mX_train\u001b[49m\u001b[43m,\u001b[49m\u001b[43m \u001b[49m\u001b[43my_train\u001b[49m\u001b[43m,\u001b[49m\u001b[43m \u001b[49m\u001b[38;5;241;43m*\u001b[39;49m\u001b[38;5;241;43m*\u001b[39;49m\u001b[43mfit_params\u001b[49m\u001b[43m)\u001b[49m\n\u001b[1;32m    688\u001b[0m \u001b[38;5;28;01mexcept\u001b[39;00m \u001b[38;5;167;01mException\u001b[39;00m:\n\u001b[1;32m    689\u001b[0m     \u001b[38;5;66;03m# Note fit time as time until error\u001b[39;00m\n\u001b[1;32m    690\u001b[0m     fit_time \u001b[38;5;241m=\u001b[39m time\u001b[38;5;241m.\u001b[39mtime() \u001b[38;5;241m-\u001b[39m start_time\n",
      "File \u001b[0;32m~/opt/anaconda3/lib/python3.9/site-packages/sklearn/linear_model/_logistic.py:1158\u001b[0m, in \u001b[0;36mLogisticRegression.fit\u001b[0;34m(self, X, y, sample_weight)\u001b[0m\n\u001b[1;32m   1152\u001b[0m     \u001b[38;5;28;01mif\u001b[39;00m effective_n_jobs(\u001b[38;5;28mself\u001b[39m\u001b[38;5;241m.\u001b[39mn_jobs) \u001b[38;5;241m!=\u001b[39m \u001b[38;5;241m1\u001b[39m:\n\u001b[1;32m   1153\u001b[0m         warnings\u001b[38;5;241m.\u001b[39mwarn(\n\u001b[1;32m   1154\u001b[0m             \u001b[38;5;124m\"\u001b[39m\u001b[38;5;124m'\u001b[39m\u001b[38;5;124mn_jobs\u001b[39m\u001b[38;5;124m'\u001b[39m\u001b[38;5;124m > 1 does not have any effect when\u001b[39m\u001b[38;5;124m\"\u001b[39m\n\u001b[1;32m   1155\u001b[0m             \u001b[38;5;124m\"\u001b[39m\u001b[38;5;124m \u001b[39m\u001b[38;5;124m'\u001b[39m\u001b[38;5;124msolver\u001b[39m\u001b[38;5;124m'\u001b[39m\u001b[38;5;124m is set to \u001b[39m\u001b[38;5;124m'\u001b[39m\u001b[38;5;124mliblinear\u001b[39m\u001b[38;5;124m'\u001b[39m\u001b[38;5;124m. Got \u001b[39m\u001b[38;5;124m'\u001b[39m\u001b[38;5;124mn_jobs\u001b[39m\u001b[38;5;124m'\u001b[39m\u001b[38;5;124m\"\u001b[39m\n\u001b[1;32m   1156\u001b[0m             \u001b[38;5;124m\"\u001b[39m\u001b[38;5;124m = \u001b[39m\u001b[38;5;132;01m{}\u001b[39;00m\u001b[38;5;124m.\u001b[39m\u001b[38;5;124m\"\u001b[39m\u001b[38;5;241m.\u001b[39mformat(effective_n_jobs(\u001b[38;5;28mself\u001b[39m\u001b[38;5;241m.\u001b[39mn_jobs))\n\u001b[1;32m   1157\u001b[0m         )\n\u001b[0;32m-> 1158\u001b[0m     \u001b[38;5;28mself\u001b[39m\u001b[38;5;241m.\u001b[39mcoef_, \u001b[38;5;28mself\u001b[39m\u001b[38;5;241m.\u001b[39mintercept_, \u001b[38;5;28mself\u001b[39m\u001b[38;5;241m.\u001b[39mn_iter_ \u001b[38;5;241m=\u001b[39m \u001b[43m_fit_liblinear\u001b[49m\u001b[43m(\u001b[49m\n\u001b[1;32m   1159\u001b[0m \u001b[43m        \u001b[49m\u001b[43mX\u001b[49m\u001b[43m,\u001b[49m\n\u001b[1;32m   1160\u001b[0m \u001b[43m        \u001b[49m\u001b[43my\u001b[49m\u001b[43m,\u001b[49m\n\u001b[1;32m   1161\u001b[0m \u001b[43m        \u001b[49m\u001b[38;5;28;43mself\u001b[39;49m\u001b[38;5;241;43m.\u001b[39;49m\u001b[43mC\u001b[49m\u001b[43m,\u001b[49m\n\u001b[1;32m   1162\u001b[0m \u001b[43m        \u001b[49m\u001b[38;5;28;43mself\u001b[39;49m\u001b[38;5;241;43m.\u001b[39;49m\u001b[43mfit_intercept\u001b[49m\u001b[43m,\u001b[49m\n\u001b[1;32m   1163\u001b[0m \u001b[43m        \u001b[49m\u001b[38;5;28;43mself\u001b[39;49m\u001b[38;5;241;43m.\u001b[39;49m\u001b[43mintercept_scaling\u001b[49m\u001b[43m,\u001b[49m\n\u001b[1;32m   1164\u001b[0m \u001b[43m        \u001b[49m\u001b[38;5;28;43mself\u001b[39;49m\u001b[38;5;241;43m.\u001b[39;49m\u001b[43mclass_weight\u001b[49m\u001b[43m,\u001b[49m\n\u001b[1;32m   1165\u001b[0m \u001b[43m        \u001b[49m\u001b[38;5;28;43mself\u001b[39;49m\u001b[38;5;241;43m.\u001b[39;49m\u001b[43mpenalty\u001b[49m\u001b[43m,\u001b[49m\n\u001b[1;32m   1166\u001b[0m \u001b[43m        \u001b[49m\u001b[38;5;28;43mself\u001b[39;49m\u001b[38;5;241;43m.\u001b[39;49m\u001b[43mdual\u001b[49m\u001b[43m,\u001b[49m\n\u001b[1;32m   1167\u001b[0m \u001b[43m        \u001b[49m\u001b[38;5;28;43mself\u001b[39;49m\u001b[38;5;241;43m.\u001b[39;49m\u001b[43mverbose\u001b[49m\u001b[43m,\u001b[49m\n\u001b[1;32m   1168\u001b[0m \u001b[43m        \u001b[49m\u001b[38;5;28;43mself\u001b[39;49m\u001b[38;5;241;43m.\u001b[39;49m\u001b[43mmax_iter\u001b[49m\u001b[43m,\u001b[49m\n\u001b[1;32m   1169\u001b[0m \u001b[43m        \u001b[49m\u001b[38;5;28;43mself\u001b[39;49m\u001b[38;5;241;43m.\u001b[39;49m\u001b[43mtol\u001b[49m\u001b[43m,\u001b[49m\n\u001b[1;32m   1170\u001b[0m \u001b[43m        \u001b[49m\u001b[38;5;28;43mself\u001b[39;49m\u001b[38;5;241;43m.\u001b[39;49m\u001b[43mrandom_state\u001b[49m\u001b[43m,\u001b[49m\n\u001b[1;32m   1171\u001b[0m \u001b[43m        \u001b[49m\u001b[43msample_weight\u001b[49m\u001b[38;5;241;43m=\u001b[39;49m\u001b[43msample_weight\u001b[49m\u001b[43m,\u001b[49m\n\u001b[1;32m   1172\u001b[0m \u001b[43m    \u001b[49m\u001b[43m)\u001b[49m\n\u001b[1;32m   1173\u001b[0m     \u001b[38;5;28;01mreturn\u001b[39;00m \u001b[38;5;28mself\u001b[39m\n\u001b[1;32m   1175\u001b[0m \u001b[38;5;28;01mif\u001b[39;00m solver \u001b[38;5;129;01min\u001b[39;00m [\u001b[38;5;124m\"\u001b[39m\u001b[38;5;124msag\u001b[39m\u001b[38;5;124m\"\u001b[39m, \u001b[38;5;124m\"\u001b[39m\u001b[38;5;124msaga\u001b[39m\u001b[38;5;124m\"\u001b[39m]:\n",
      "File \u001b[0;32m~/opt/anaconda3/lib/python3.9/site-packages/sklearn/svm/_base.py:1205\u001b[0m, in \u001b[0;36m_fit_liblinear\u001b[0;34m(X, y, C, fit_intercept, intercept_scaling, class_weight, penalty, dual, verbose, max_iter, tol, random_state, multi_class, loss, epsilon, sample_weight)\u001b[0m\n\u001b[1;32m   1202\u001b[0m sample_weight \u001b[38;5;241m=\u001b[39m _check_sample_weight(sample_weight, X, dtype\u001b[38;5;241m=\u001b[39mnp\u001b[38;5;241m.\u001b[39mfloat64)\n\u001b[1;32m   1204\u001b[0m solver_type \u001b[38;5;241m=\u001b[39m _get_liblinear_solver_type(multi_class, penalty, loss, dual)\n\u001b[0;32m-> 1205\u001b[0m raw_coef_, n_iter_ \u001b[38;5;241m=\u001b[39m \u001b[43mliblinear\u001b[49m\u001b[38;5;241;43m.\u001b[39;49m\u001b[43mtrain_wrap\u001b[49m\u001b[43m(\u001b[49m\n\u001b[1;32m   1206\u001b[0m \u001b[43m    \u001b[49m\u001b[43mX\u001b[49m\u001b[43m,\u001b[49m\n\u001b[1;32m   1207\u001b[0m \u001b[43m    \u001b[49m\u001b[43my_ind\u001b[49m\u001b[43m,\u001b[49m\n\u001b[1;32m   1208\u001b[0m \u001b[43m    \u001b[49m\u001b[43msp\u001b[49m\u001b[38;5;241;43m.\u001b[39;49m\u001b[43misspmatrix\u001b[49m\u001b[43m(\u001b[49m\u001b[43mX\u001b[49m\u001b[43m)\u001b[49m\u001b[43m,\u001b[49m\n\u001b[1;32m   1209\u001b[0m \u001b[43m    \u001b[49m\u001b[43msolver_type\u001b[49m\u001b[43m,\u001b[49m\n\u001b[1;32m   1210\u001b[0m \u001b[43m    \u001b[49m\u001b[43mtol\u001b[49m\u001b[43m,\u001b[49m\n\u001b[1;32m   1211\u001b[0m \u001b[43m    \u001b[49m\u001b[43mbias\u001b[49m\u001b[43m,\u001b[49m\n\u001b[1;32m   1212\u001b[0m \u001b[43m    \u001b[49m\u001b[43mC\u001b[49m\u001b[43m,\u001b[49m\n\u001b[1;32m   1213\u001b[0m \u001b[43m    \u001b[49m\u001b[43mclass_weight_\u001b[49m\u001b[43m,\u001b[49m\n\u001b[1;32m   1214\u001b[0m \u001b[43m    \u001b[49m\u001b[43mmax_iter\u001b[49m\u001b[43m,\u001b[49m\n\u001b[1;32m   1215\u001b[0m \u001b[43m    \u001b[49m\u001b[43mrnd\u001b[49m\u001b[38;5;241;43m.\u001b[39;49m\u001b[43mrandint\u001b[49m\u001b[43m(\u001b[49m\u001b[43mnp\u001b[49m\u001b[38;5;241;43m.\u001b[39;49m\u001b[43miinfo\u001b[49m\u001b[43m(\u001b[49m\u001b[38;5;124;43m\"\u001b[39;49m\u001b[38;5;124;43mi\u001b[39;49m\u001b[38;5;124;43m\"\u001b[39;49m\u001b[43m)\u001b[49m\u001b[38;5;241;43m.\u001b[39;49m\u001b[43mmax\u001b[49m\u001b[43m)\u001b[49m\u001b[43m,\u001b[49m\n\u001b[1;32m   1216\u001b[0m \u001b[43m    \u001b[49m\u001b[43mepsilon\u001b[49m\u001b[43m,\u001b[49m\n\u001b[1;32m   1217\u001b[0m \u001b[43m    \u001b[49m\u001b[43msample_weight\u001b[49m\u001b[43m,\u001b[49m\n\u001b[1;32m   1218\u001b[0m \u001b[43m\u001b[49m\u001b[43m)\u001b[49m\n\u001b[1;32m   1219\u001b[0m \u001b[38;5;66;03m# Regarding rnd.randint(..) in the above signature:\u001b[39;00m\n\u001b[1;32m   1220\u001b[0m \u001b[38;5;66;03m# seed for srand in range [0..INT_MAX); due to limitations in Numpy\u001b[39;00m\n\u001b[1;32m   1221\u001b[0m \u001b[38;5;66;03m# on 32-bit platforms, we can't get to the UINT_MAX limit that\u001b[39;00m\n\u001b[1;32m   1222\u001b[0m \u001b[38;5;66;03m# srand supports\u001b[39;00m\n\u001b[1;32m   1223\u001b[0m n_iter_max \u001b[38;5;241m=\u001b[39m \u001b[38;5;28mmax\u001b[39m(n_iter_)\n",
      "\u001b[0;31mKeyboardInterrupt\u001b[0m: "
     ]
    }
   ],
   "source": [
    "lasso_mod = linear_model.LogisticRegression(penalty='l1',solver='liblinear')\n",
    "alphas = 10**np.linspace(-1,-4,100)\n",
    "\n",
    "coefs_ = []\n",
    "scores_ = []\n",
    "for a in alphas:\n",
    "    lasso_mod.set_params(C=a)\n",
    "    scores_.append(np.mean(cross_val_score(lasso_mod, X_train, y_train, cv=5))) # Appends the accuracy of the model\n",
    "    coefs_.append(lasso_mod.fit(X_train, y_train).coef_.ravel().copy()) # Appends the coefficient of the model\n",
    "\n",
    "coefs_ = np.array(coefs_)\n",
    "scores_ = np.array(scores_)\n",
    "\n",
    "fig, (ax1, ax2) = plt.subplots(1, 2, figsize=(20,10))\n",
    "fig.suptitle('Logistic Regression Path', fontsize=20)\n",
    "\n",
    "# Coeff Weights Plot\n",
    "ax1.plot(alphas, coefs_, marker='o')\n",
    "ymin, ymax = plt.ylim()\n",
    "ax1.set_ylabel('Coefficient Weights', fontsize = 15)\n",
    "ax1.set_xlabel('log(C)', fontsize = 15)\n",
    "ax1.axis('tight')\n",
    "\n",
    "# Accuracy Plot\n",
    "ax2.plot(alphas, scores_, marker='o')\n",
    "ymin, ymax = plt.ylim()\n",
    "ax2.set_ylabel('Accuracy Score', fontsize = 15)\n",
    "ax2.set_xlabel('log(C)', fontsize = 15)\n",
    "ax2.axis('tight')\n",
    "\n",
    "plt.show()"
   ]
  },
  {
   "cell_type": "markdown",
   "metadata": {},
   "source": [
    "As you can see in the left figure, the smaller the alpha value (alpha), the larger the regularization and, consequently, the smaller the weights of the coefficients. This is because, if we check the sklearn documentation, we will see that this value is the: \"Inverse of regularization strength.\"\n",
    "When regularization is large enough (i.e., alpha is small), the values of the coefficients are close to 0 (i.e., null model).\n",
    "As there is a trade-off between variance (i.e., less over-fitted model --> more regularization) and bias (i.e., learning more from the training set --> less regularization), You must find the optimal alpha value. As you can see in the right figure, this value is achieved with small alpha values (i.e., more regularization). This specific value is not always the same since it depends on your data and the prediction problem.\n",
    "To automatize the process of finding the optimal value, you can make use of the LogisticRegressionCV function in sklearn (https://scikit-learn.org/stable/modules/generated/sklearn.linear_model.LogisticRegressionCV.html) that performs CV, testing different hyperparameters (that you can provide) and selecting the optimal one."
   ]
  },
  {
   "cell_type": "code",
   "execution_count": 30,
   "metadata": {},
   "outputs": [
    {
     "name": "stderr",
     "output_type": "stream",
     "text": [
      "/Users/stephaniegessler/opt/anaconda3/lib/python3.9/site-packages/sklearn/linear_model/_logistic.py:1153: UserWarning: 'n_jobs' > 1 does not have any effect when 'solver' is set to 'liblinear'. Got 'n_jobs' = 8.\n",
      "  warnings.warn(\n"
     ]
    },
    {
     "data": {
      "text/html": [
       "<style>#sk-container-id-1 {color: black;background-color: white;}#sk-container-id-1 pre{padding: 0;}#sk-container-id-1 div.sk-toggleable {background-color: white;}#sk-container-id-1 label.sk-toggleable__label {cursor: pointer;display: block;width: 100%;margin-bottom: 0;padding: 0.3em;box-sizing: border-box;text-align: center;}#sk-container-id-1 label.sk-toggleable__label-arrow:before {content: \"▸\";float: left;margin-right: 0.25em;color: #696969;}#sk-container-id-1 label.sk-toggleable__label-arrow:hover:before {color: black;}#sk-container-id-1 div.sk-estimator:hover label.sk-toggleable__label-arrow:before {color: black;}#sk-container-id-1 div.sk-toggleable__content {max-height: 0;max-width: 0;overflow: hidden;text-align: left;background-color: #f0f8ff;}#sk-container-id-1 div.sk-toggleable__content pre {margin: 0.2em;color: black;border-radius: 0.25em;background-color: #f0f8ff;}#sk-container-id-1 input.sk-toggleable__control:checked~div.sk-toggleable__content {max-height: 200px;max-width: 100%;overflow: auto;}#sk-container-id-1 input.sk-toggleable__control:checked~label.sk-toggleable__label-arrow:before {content: \"▾\";}#sk-container-id-1 div.sk-estimator input.sk-toggleable__control:checked~label.sk-toggleable__label {background-color: #d4ebff;}#sk-container-id-1 div.sk-label input.sk-toggleable__control:checked~label.sk-toggleable__label {background-color: #d4ebff;}#sk-container-id-1 input.sk-hidden--visually {border: 0;clip: rect(1px 1px 1px 1px);clip: rect(1px, 1px, 1px, 1px);height: 1px;margin: -1px;overflow: hidden;padding: 0;position: absolute;width: 1px;}#sk-container-id-1 div.sk-estimator {font-family: monospace;background-color: #f0f8ff;border: 1px dotted black;border-radius: 0.25em;box-sizing: border-box;margin-bottom: 0.5em;}#sk-container-id-1 div.sk-estimator:hover {background-color: #d4ebff;}#sk-container-id-1 div.sk-parallel-item::after {content: \"\";width: 100%;border-bottom: 1px solid gray;flex-grow: 1;}#sk-container-id-1 div.sk-label:hover label.sk-toggleable__label {background-color: #d4ebff;}#sk-container-id-1 div.sk-serial::before {content: \"\";position: absolute;border-left: 1px solid gray;box-sizing: border-box;top: 0;bottom: 0;left: 50%;z-index: 0;}#sk-container-id-1 div.sk-serial {display: flex;flex-direction: column;align-items: center;background-color: white;padding-right: 0.2em;padding-left: 0.2em;position: relative;}#sk-container-id-1 div.sk-item {position: relative;z-index: 1;}#sk-container-id-1 div.sk-parallel {display: flex;align-items: stretch;justify-content: center;background-color: white;position: relative;}#sk-container-id-1 div.sk-item::before, #sk-container-id-1 div.sk-parallel-item::before {content: \"\";position: absolute;border-left: 1px solid gray;box-sizing: border-box;top: 0;bottom: 0;left: 50%;z-index: -1;}#sk-container-id-1 div.sk-parallel-item {display: flex;flex-direction: column;z-index: 1;position: relative;background-color: white;}#sk-container-id-1 div.sk-parallel-item:first-child::after {align-self: flex-end;width: 50%;}#sk-container-id-1 div.sk-parallel-item:last-child::after {align-self: flex-start;width: 50%;}#sk-container-id-1 div.sk-parallel-item:only-child::after {width: 0;}#sk-container-id-1 div.sk-dashed-wrapped {border: 1px dashed gray;margin: 0 0.4em 0.5em 0.4em;box-sizing: border-box;padding-bottom: 0.4em;background-color: white;}#sk-container-id-1 div.sk-label label {font-family: monospace;font-weight: bold;display: inline-block;line-height: 1.2em;}#sk-container-id-1 div.sk-label-container {text-align: center;}#sk-container-id-1 div.sk-container {/* jupyter's `normalize.less` sets `[hidden] { display: none; }` but bootstrap.min.css set `[hidden] { display: none !important; }` so we also need the `!important` here to be able to override the default hidden behavior on the sphinx rendered scikit-learn.org. See: https://github.com/scikit-learn/scikit-learn/issues/21755 */display: inline-block !important;position: relative;}#sk-container-id-1 div.sk-text-repr-fallback {display: none;}</style><div id=\"sk-container-id-1\" class=\"sk-top-container\"><div class=\"sk-text-repr-fallback\"><pre>SelectFromModel(estimator=LogisticRegression(C=0.04, max_iter=1000, n_jobs=-1,\n",
       "                                             penalty=&#x27;l1&#x27;, solver=&#x27;liblinear&#x27;),\n",
       "                max_features=46)</pre><b>In a Jupyter environment, please rerun this cell to show the HTML representation or trust the notebook. <br />On GitHub, the HTML representation is unable to render, please try loading this page with nbviewer.org.</b></div><div class=\"sk-container\" hidden><div class=\"sk-item sk-dashed-wrapped\"><div class=\"sk-label-container\"><div class=\"sk-label sk-toggleable\"><input class=\"sk-toggleable__control sk-hidden--visually\" id=\"sk-estimator-id-1\" type=\"checkbox\" ><label for=\"sk-estimator-id-1\" class=\"sk-toggleable__label sk-toggleable__label-arrow\">SelectFromModel</label><div class=\"sk-toggleable__content\"><pre>SelectFromModel(estimator=LogisticRegression(C=0.04, max_iter=1000, n_jobs=-1,\n",
       "                                             penalty=&#x27;l1&#x27;, solver=&#x27;liblinear&#x27;),\n",
       "                max_features=46)</pre></div></div></div><div class=\"sk-parallel\"><div class=\"sk-parallel-item\"><div class=\"sk-item\"><div class=\"sk-label-container\"><div class=\"sk-label sk-toggleable\"><input class=\"sk-toggleable__control sk-hidden--visually\" id=\"sk-estimator-id-2\" type=\"checkbox\" ><label for=\"sk-estimator-id-2\" class=\"sk-toggleable__label sk-toggleable__label-arrow\">estimator: LogisticRegression</label><div class=\"sk-toggleable__content\"><pre>LogisticRegression(C=0.04, max_iter=1000, n_jobs=-1, penalty=&#x27;l1&#x27;,\n",
       "                   solver=&#x27;liblinear&#x27;)</pre></div></div></div><div class=\"sk-serial\"><div class=\"sk-item\"><div class=\"sk-estimator sk-toggleable\"><input class=\"sk-toggleable__control sk-hidden--visually\" id=\"sk-estimator-id-3\" type=\"checkbox\" ><label for=\"sk-estimator-id-3\" class=\"sk-toggleable__label sk-toggleable__label-arrow\">LogisticRegression</label><div class=\"sk-toggleable__content\"><pre>LogisticRegression(C=0.04, max_iter=1000, n_jobs=-1, penalty=&#x27;l1&#x27;,\n",
       "                   solver=&#x27;liblinear&#x27;)</pre></div></div></div></div></div></div></div></div></div></div>"
      ],
      "text/plain": [
       "SelectFromModel(estimator=LogisticRegression(C=0.04, max_iter=1000, n_jobs=-1,\n",
       "                                             penalty='l1', solver='liblinear'),\n",
       "                max_features=46)"
      ]
     },
     "execution_count": 30,
     "metadata": {},
     "output_type": "execute_result"
    }
   ],
   "source": [
    "embeded_lr_selector = SelectFromModel(LogisticRegression(C=0.04,penalty='l1',solver='liblinear',max_iter=1000,n_jobs=-1), max_features=num_feats)\n",
    "embeded_lr_selector.fit(X_train, y_train)"
   ]
  },
  {
   "cell_type": "code",
   "execution_count": 31,
   "metadata": {},
   "outputs": [
    {
     "name": "stdout",
     "output_type": "stream",
     "text": [
      "37 selected features\n"
     ]
    }
   ],
   "source": [
    "embeded_lr_support = embeded_lr_selector.get_support()\n",
    "embeded_lr_feature = X_train.loc[:,embeded_lr_support].columns.tolist()\n",
    "print(str(len(embeded_lr_feature)), 'selected features')"
   ]
  },
  {
   "cell_type": "code",
   "execution_count": 32,
   "metadata": {},
   "outputs": [
    {
     "data": {
      "text/plain": [
       "['Id',\n",
       " 'Elevation',\n",
       " 'Aspect',\n",
       " 'Slope',\n",
       " 'Horizontal_Distance_To_Hydrology',\n",
       " 'Vertical_Distance_To_Hydrology',\n",
       " 'Horizontal_Distance_To_Roadways',\n",
       " 'Hillshade_9am',\n",
       " 'Hillshade_Noon',\n",
       " 'Hillshade_3pm',\n",
       " 'Horizontal_Distance_To_Fire_Points',\n",
       " 'Wilderness_Area1',\n",
       " 'Wilderness_Area2',\n",
       " 'Wilderness_Area3',\n",
       " 'Wilderness_Area4',\n",
       " 'Soil_Type1',\n",
       " 'Soil_Type2',\n",
       " 'Soil_Type3',\n",
       " 'Soil_Type4',\n",
       " 'Soil_Type6',\n",
       " 'Soil_Type10',\n",
       " 'Soil_Type11',\n",
       " 'Soil_Type12',\n",
       " 'Soil_Type13',\n",
       " 'Soil_Type17',\n",
       " 'Soil_Type22',\n",
       " 'Soil_Type23',\n",
       " 'Soil_Type24',\n",
       " 'Soil_Type29',\n",
       " 'Soil_Type30',\n",
       " 'Soil_Type31',\n",
       " 'Soil_Type32',\n",
       " 'Soil_Type33',\n",
       " 'Soil_Type35',\n",
       " 'Soil_Type38',\n",
       " 'Soil_Type39',\n",
       " 'Soil_Type40']"
      ]
     },
     "execution_count": 32,
     "metadata": {},
     "output_type": "execute_result"
    }
   ],
   "source": [
    "embeded_lr_feature"
   ]
  },
  {
   "cell_type": "markdown",
   "metadata": {},
   "source": [
    "## <font color=green> 6.3. Filter Method <font>\n",
    "### <font color=green> 6.5. Anova F-value <font>\n",
    "Chi-Square does not work because it needs non - negative values. For that reason we can use Anova. It is a univariate filter method that uses variance to find out the separability of the individual features between classes. It applies to multi-class endpoints.\n"
   ]
  },
  {
   "cell_type": "code",
   "execution_count": 33,
   "metadata": {},
   "outputs": [
    {
     "name": "stderr",
     "output_type": "stream",
     "text": [
      "/Users/stephaniegessler/opt/anaconda3/lib/python3.9/site-packages/sklearn/feature_selection/_univariate_selection.py:110: UserWarning: Features [21 29] are constant.\n",
      "  warnings.warn(\"Features %s are constant.\" % constant_features_idx, UserWarning)\n",
      "/Users/stephaniegessler/opt/anaconda3/lib/python3.9/site-packages/sklearn/feature_selection/_univariate_selection.py:111: RuntimeWarning: invalid value encountered in true_divide\n",
      "  f = msb / msw\n"
     ]
    },
    {
     "data": {
      "text/html": [
       "<style>#sk-container-id-2 {color: black;background-color: white;}#sk-container-id-2 pre{padding: 0;}#sk-container-id-2 div.sk-toggleable {background-color: white;}#sk-container-id-2 label.sk-toggleable__label {cursor: pointer;display: block;width: 100%;margin-bottom: 0;padding: 0.3em;box-sizing: border-box;text-align: center;}#sk-container-id-2 label.sk-toggleable__label-arrow:before {content: \"▸\";float: left;margin-right: 0.25em;color: #696969;}#sk-container-id-2 label.sk-toggleable__label-arrow:hover:before {color: black;}#sk-container-id-2 div.sk-estimator:hover label.sk-toggleable__label-arrow:before {color: black;}#sk-container-id-2 div.sk-toggleable__content {max-height: 0;max-width: 0;overflow: hidden;text-align: left;background-color: #f0f8ff;}#sk-container-id-2 div.sk-toggleable__content pre {margin: 0.2em;color: black;border-radius: 0.25em;background-color: #f0f8ff;}#sk-container-id-2 input.sk-toggleable__control:checked~div.sk-toggleable__content {max-height: 200px;max-width: 100%;overflow: auto;}#sk-container-id-2 input.sk-toggleable__control:checked~label.sk-toggleable__label-arrow:before {content: \"▾\";}#sk-container-id-2 div.sk-estimator input.sk-toggleable__control:checked~label.sk-toggleable__label {background-color: #d4ebff;}#sk-container-id-2 div.sk-label input.sk-toggleable__control:checked~label.sk-toggleable__label {background-color: #d4ebff;}#sk-container-id-2 input.sk-hidden--visually {border: 0;clip: rect(1px 1px 1px 1px);clip: rect(1px, 1px, 1px, 1px);height: 1px;margin: -1px;overflow: hidden;padding: 0;position: absolute;width: 1px;}#sk-container-id-2 div.sk-estimator {font-family: monospace;background-color: #f0f8ff;border: 1px dotted black;border-radius: 0.25em;box-sizing: border-box;margin-bottom: 0.5em;}#sk-container-id-2 div.sk-estimator:hover {background-color: #d4ebff;}#sk-container-id-2 div.sk-parallel-item::after {content: \"\";width: 100%;border-bottom: 1px solid gray;flex-grow: 1;}#sk-container-id-2 div.sk-label:hover label.sk-toggleable__label {background-color: #d4ebff;}#sk-container-id-2 div.sk-serial::before {content: \"\";position: absolute;border-left: 1px solid gray;box-sizing: border-box;top: 0;bottom: 0;left: 50%;z-index: 0;}#sk-container-id-2 div.sk-serial {display: flex;flex-direction: column;align-items: center;background-color: white;padding-right: 0.2em;padding-left: 0.2em;position: relative;}#sk-container-id-2 div.sk-item {position: relative;z-index: 1;}#sk-container-id-2 div.sk-parallel {display: flex;align-items: stretch;justify-content: center;background-color: white;position: relative;}#sk-container-id-2 div.sk-item::before, #sk-container-id-2 div.sk-parallel-item::before {content: \"\";position: absolute;border-left: 1px solid gray;box-sizing: border-box;top: 0;bottom: 0;left: 50%;z-index: -1;}#sk-container-id-2 div.sk-parallel-item {display: flex;flex-direction: column;z-index: 1;position: relative;background-color: white;}#sk-container-id-2 div.sk-parallel-item:first-child::after {align-self: flex-end;width: 50%;}#sk-container-id-2 div.sk-parallel-item:last-child::after {align-self: flex-start;width: 50%;}#sk-container-id-2 div.sk-parallel-item:only-child::after {width: 0;}#sk-container-id-2 div.sk-dashed-wrapped {border: 1px dashed gray;margin: 0 0.4em 0.5em 0.4em;box-sizing: border-box;padding-bottom: 0.4em;background-color: white;}#sk-container-id-2 div.sk-label label {font-family: monospace;font-weight: bold;display: inline-block;line-height: 1.2em;}#sk-container-id-2 div.sk-label-container {text-align: center;}#sk-container-id-2 div.sk-container {/* jupyter's `normalize.less` sets `[hidden] { display: none; }` but bootstrap.min.css set `[hidden] { display: none !important; }` so we also need the `!important` here to be able to override the default hidden behavior on the sphinx rendered scikit-learn.org. See: https://github.com/scikit-learn/scikit-learn/issues/21755 */display: inline-block !important;position: relative;}#sk-container-id-2 div.sk-text-repr-fallback {display: none;}</style><div id=\"sk-container-id-2\" class=\"sk-top-container\"><div class=\"sk-text-repr-fallback\"><pre>SelectKBest(k=46)</pre><b>In a Jupyter environment, please rerun this cell to show the HTML representation or trust the notebook. <br />On GitHub, the HTML representation is unable to render, please try loading this page with nbviewer.org.</b></div><div class=\"sk-container\" hidden><div class=\"sk-item\"><div class=\"sk-estimator sk-toggleable\"><input class=\"sk-toggleable__control sk-hidden--visually\" id=\"sk-estimator-id-4\" type=\"checkbox\" checked><label for=\"sk-estimator-id-4\" class=\"sk-toggleable__label sk-toggleable__label-arrow\">SelectKBest</label><div class=\"sk-toggleable__content\"><pre>SelectKBest(k=46)</pre></div></div></div></div></div>"
      ],
      "text/plain": [
       "SelectKBest(k=46)"
      ]
     },
     "execution_count": 33,
     "metadata": {},
     "output_type": "execute_result"
    }
   ],
   "source": [
    "#Code from class Forum, select the best features \n",
    "anov_selector = SelectKBest(f_classif, k=num_feats)\n",
    "anov_selector.fit(X_train, y_train)"
   ]
  },
  {
   "cell_type": "code",
   "execution_count": 34,
   "metadata": {},
   "outputs": [
    {
     "name": "stdout",
     "output_type": "stream",
     "text": [
      "46 selected features\n"
     ]
    }
   ],
   "source": [
    "anov_support = anov_selector.get_support()\n",
    "# Get  columns from original dataframe\n",
    "anov_feature = X_train.iloc[:,anov_support].columns.tolist()\n",
    "print(str(len(anov_feature)), 'selected features')\n"
   ]
  },
  {
   "cell_type": "markdown",
   "metadata": {},
   "source": [
    "## <font color=green> 6.3. Filter Method <font>\n",
    "### <font color=green> 6.5. Pearson correlation <font>"
   ]
  },
  {
   "cell_type": "code",
   "execution_count": 35,
   "metadata": {},
   "outputs": [
    {
     "name": "stderr",
     "output_type": "stream",
     "text": [
      "/Users/stephaniegessler/.local/lib/python3.9/site-packages/scipy/stats/_stats_py.py:4068: PearsonRConstantInputWarning: An input array is constant; the correlation coefficient is not defined.\n",
      "  warnings.warn(PearsonRConstantInputWarning())\n"
     ]
    },
    {
     "data": {
      "image/png": "[encoded data removed]",
      "text/plain": [
       "<Figure size 720x2880 with 1 Axes>"
      ]
     },
     "metadata": {},
     "output_type": "display_data"
    },
    {
     "data": {
      "text/plain": [
       "<AxesSubplot:title={'center':'Features correlation with dependent variable'}, xlabel='Pearson Correlation'>"
      ]
     },
     "execution_count": 35,
     "metadata": {},
     "output_type": "execute_result"
    }
   ],
   "source": [
    "#X, y = data_train['data'], data_train['Cover_Type']\n",
    "\n",
    "# Create a list of the feature names\n",
    "#features = np.array(data['feature_names'])\n",
    "fig, ax = plt.subplots(figsize=(10,40))         # Sample figsize in inches\n",
    "# Instantiate the visualizer\n",
    "visualizer = FeatureCorrelation(labels=None,sort=True)\n",
    "\n",
    "ax = visualizer.fit(X_train, y_train)        # Fit the data to the visualizer\n",
    "visualizer.show()           # Finalize and render the figure"
   ]
  },
  {
   "cell_type": "code",
   "execution_count": 36,
   "metadata": {},
   "outputs": [],
   "source": [
    "pd.set_option('display.max_columns', None)"
   ]
  },
  {
   "cell_type": "code",
   "execution_count": 37,
   "metadata": {},
   "outputs": [],
   "source": [
    "corr = data_train.corrwith(data_train[\"Cover_Type\"])\n",
    "X_y = data_train.copy()\n",
    "X_y['Cover_Type'] = y_train"
   ]
  },
  {
   "cell_type": "code",
   "execution_count": 38,
   "metadata": {},
   "outputs": [
    {
     "data": {
      "image/png": "[encoded data removed]",
      "text/plain": [
       "<Figure size 576x3600 with 2 Axes>"
      ]
     },
     "metadata": {},
     "output_type": "display_data"
    }
   ],
   "source": [
    "fig, ax = plt.subplots(figsize=(8,50))         # Sample figsize in inches\n",
    "\n",
    "corr_matrix = X_y.corr()\n",
    "\n",
    "# Isolate the column corresponding to `exam_score`\n",
    "corr_target = corr_matrix[['Cover_Type']].drop(labels=['Cover_Type'])\n",
    "corr_target_sorted = corr_target.sort_values(by = 'Cover_Type')\n",
    "sns.heatmap(corr_target_sorted, annot=True, fmt='.3', cmap='RdBu_r',ax=ax)\n",
    "plt.show()"
   ]
  },
  {
   "cell_type": "code",
   "execution_count": 39,
   "metadata": {},
   "outputs": [
    {
     "name": "stdout",
     "output_type": "stream",
     "text": [
      "46 selected features\n"
     ]
    },
    {
     "name": "stderr",
     "output_type": "stream",
     "text": [
      "/Users/stephaniegessler/opt/anaconda3/lib/python3.9/site-packages/numpy/lib/function_base.py:2691: RuntimeWarning: invalid value encountered in true_divide\n",
      "  c /= stddev[:, None]\n",
      "/Users/stephaniegessler/opt/anaconda3/lib/python3.9/site-packages/numpy/lib/function_base.py:2692: RuntimeWarning: invalid value encountered in true_divide\n",
      "  c /= stddev[None, :]\n"
     ]
    }
   ],
   "source": [
    "def cor_selector(X, y,num_feats):\n",
    "    cor_list = []\n",
    "    feature_name = X.columns.tolist()\n",
    "    # calculate the correlation with y for each feature\n",
    "    for i in X.columns.tolist():\n",
    "        cor = np.corrcoef(X[i], y)[0, 1]\n",
    "        cor_list.append(cor)\n",
    "    # replace NaN with 0\n",
    "    cor_list = [0 if np.isnan(i) else i for i in cor_list]\n",
    "    # feature name\n",
    "    cor_feature = X.iloc[:,np.argsort(np.abs(cor_list))[-num_feats:]].columns.tolist()\n",
    "    # feature selection? 0 for not select, 1 for select\n",
    "    cor_support = [True if i in cor_feature else False for i in feature_name]\n",
    "    return cor_support, cor_feature\n",
    "cor_support, cor_feature = cor_selector(X_train, y_train,num_feats)\n",
    "print(str(len(cor_feature)), 'selected features')"
   ]
  },
  {
   "cell_type": "code",
   "execution_count": 40,
   "metadata": {},
   "outputs": [
    {
     "data": {
      "text/plain": [
       "['Soil_Type8',\n",
       " 'Soil_Type18',\n",
       " 'Soil_Type16',\n",
       " 'Wilderness_Area2',\n",
       " 'Elevation',\n",
       " 'Soil_Type1',\n",
       " 'Horizontal_Distance_To_Hydrology',\n",
       " 'Soil_Type3',\n",
       " 'Soil_Type27',\n",
       " 'Soil_Type28',\n",
       " 'Soil_Type14',\n",
       " 'Soil_Type36',\n",
       " 'Soil_Type2',\n",
       " 'Soil_Type21',\n",
       " 'Soil_Type5',\n",
       " 'Soil_Type26',\n",
       " 'Soil_Type9',\n",
       " 'Soil_Type4',\n",
       " 'Soil_Type19',\n",
       " 'Soil_Type13',\n",
       " 'Soil_Type17',\n",
       " 'Hillshade_3pm',\n",
       " 'Soil_Type20',\n",
       " 'Soil_Type37',\n",
       " 'Soil_Type33',\n",
       " 'Soil_Type31',\n",
       " 'Wilderness_Area4',\n",
       " 'Vertical_Distance_To_Hydrology',\n",
       " 'Slope',\n",
       " 'Horizontal_Distance_To_Fire_Points',\n",
       " 'Soil_Type24',\n",
       " 'Hillshade_Noon',\n",
       " 'Horizontal_Distance_To_Roadways',\n",
       " 'Id',\n",
       " 'Soil_Type35',\n",
       " 'Wilderness_Area3',\n",
       " 'Soil_Type10',\n",
       " 'Soil_Type12',\n",
       " 'Soil_Type32',\n",
       " 'Soil_Type23',\n",
       " 'Soil_Type22',\n",
       " 'Soil_Type40',\n",
       " 'Soil_Type29',\n",
       " 'Wilderness_Area1',\n",
       " 'Soil_Type39',\n",
       " 'Soil_Type38']"
      ]
     },
     "execution_count": 40,
     "metadata": {},
     "output_type": "execute_result"
    }
   ],
   "source": [
    "cor_feature"
   ]
  },
  {
   "cell_type": "markdown",
   "metadata": {},
   "source": [
    "## <font color=green> 6.5. Recursive Feature Elimination <font>\n",
    "\n",
    "The goal of recursive feature elimination (RFE) is to select features by recursively considering smaller and smaller sets of features. First, the estimator is trained on the initial set of features. Then, the least important features are pruned from current set of features. That procedure is recursively repeated on the pruned set until the desired number of features to select is eventually reached."
   ]
  },
  {
   "cell_type": "code",
   "execution_count": 41,
   "metadata": {
    "scrolled": false
   },
   "outputs": [
    {
     "name": "stdout",
     "output_type": "stream",
     "text": [
      "Fitting estimator with 55 features.\n"
     ]
    },
    {
     "data": {
      "text/html": [
       "<style>#sk-container-id-3 {color: black;background-color: white;}#sk-container-id-3 pre{padding: 0;}#sk-container-id-3 div.sk-toggleable {background-color: white;}#sk-container-id-3 label.sk-toggleable__label {cursor: pointer;display: block;width: 100%;margin-bottom: 0;padding: 0.3em;box-sizing: border-box;text-align: center;}#sk-container-id-3 label.sk-toggleable__label-arrow:before {content: \"▸\";float: left;margin-right: 0.25em;color: #696969;}#sk-container-id-3 label.sk-toggleable__label-arrow:hover:before {color: black;}#sk-container-id-3 div.sk-estimator:hover label.sk-toggleable__label-arrow:before {color: black;}#sk-container-id-3 div.sk-toggleable__content {max-height: 0;max-width: 0;overflow: hidden;text-align: left;background-color: #f0f8ff;}#sk-container-id-3 div.sk-toggleable__content pre {margin: 0.2em;color: black;border-radius: 0.25em;background-color: #f0f8ff;}#sk-container-id-3 input.sk-toggleable__control:checked~div.sk-toggleable__content {max-height: 200px;max-width: 100%;overflow: auto;}#sk-container-id-3 input.sk-toggleable__control:checked~label.sk-toggleable__label-arrow:before {content: \"▾\";}#sk-container-id-3 div.sk-estimator input.sk-toggleable__control:checked~label.sk-toggleable__label {background-color: #d4ebff;}#sk-container-id-3 div.sk-label input.sk-toggleable__control:checked~label.sk-toggleable__label {background-color: #d4ebff;}#sk-container-id-3 input.sk-hidden--visually {border: 0;clip: rect(1px 1px 1px 1px);clip: rect(1px, 1px, 1px, 1px);height: 1px;margin: -1px;overflow: hidden;padding: 0;position: absolute;width: 1px;}#sk-container-id-3 div.sk-estimator {font-family: monospace;background-color: #f0f8ff;border: 1px dotted black;border-radius: 0.25em;box-sizing: border-box;margin-bottom: 0.5em;}#sk-container-id-3 div.sk-estimator:hover {background-color: #d4ebff;}#sk-container-id-3 div.sk-parallel-item::after {content: \"\";width: 100%;border-bottom: 1px solid gray;flex-grow: 1;}#sk-container-id-3 div.sk-label:hover label.sk-toggleable__label {background-color: #d4ebff;}#sk-container-id-3 div.sk-serial::before {content: \"\";position: absolute;border-left: 1px solid gray;box-sizing: border-box;top: 0;bottom: 0;left: 50%;z-index: 0;}#sk-container-id-3 div.sk-serial {display: flex;flex-direction: column;align-items: center;background-color: white;padding-right: 0.2em;padding-left: 0.2em;position: relative;}#sk-container-id-3 div.sk-item {position: relative;z-index: 1;}#sk-container-id-3 div.sk-parallel {display: flex;align-items: stretch;justify-content: center;background-color: white;position: relative;}#sk-container-id-3 div.sk-item::before, #sk-container-id-3 div.sk-parallel-item::before {content: \"\";position: absolute;border-left: 1px solid gray;box-sizing: border-box;top: 0;bottom: 0;left: 50%;z-index: -1;}#sk-container-id-3 div.sk-parallel-item {display: flex;flex-direction: column;z-index: 1;position: relative;background-color: white;}#sk-container-id-3 div.sk-parallel-item:first-child::after {align-self: flex-end;width: 50%;}#sk-container-id-3 div.sk-parallel-item:last-child::after {align-self: flex-start;width: 50%;}#sk-container-id-3 div.sk-parallel-item:only-child::after {width: 0;}#sk-container-id-3 div.sk-dashed-wrapped {border: 1px dashed gray;margin: 0 0.4em 0.5em 0.4em;box-sizing: border-box;padding-bottom: 0.4em;background-color: white;}#sk-container-id-3 div.sk-label label {font-family: monospace;font-weight: bold;display: inline-block;line-height: 1.2em;}#sk-container-id-3 div.sk-label-container {text-align: center;}#sk-container-id-3 div.sk-container {/* jupyter's `normalize.less` sets `[hidden] { display: none; }` but bootstrap.min.css set `[hidden] { display: none !important; }` so we also need the `!important` here to be able to override the default hidden behavior on the sphinx rendered scikit-learn.org. See: https://github.com/scikit-learn/scikit-learn/issues/21755 */display: inline-block !important;position: relative;}#sk-container-id-3 div.sk-text-repr-fallback {display: none;}</style><div id=\"sk-container-id-3\" class=\"sk-top-container\"><div class=\"sk-text-repr-fallback\"><pre>RFE(estimator=LogisticRegression(max_iter=3000), n_features_to_select=46,\n",
       "    step=10, verbose=5)</pre><b>In a Jupyter environment, please rerun this cell to show the HTML representation or trust the notebook. <br />On GitHub, the HTML representation is unable to render, please try loading this page with nbviewer.org.</b></div><div class=\"sk-container\" hidden><div class=\"sk-item sk-dashed-wrapped\"><div class=\"sk-label-container\"><div class=\"sk-label sk-toggleable\"><input class=\"sk-toggleable__control sk-hidden--visually\" id=\"sk-estimator-id-5\" type=\"checkbox\" ><label for=\"sk-estimator-id-5\" class=\"sk-toggleable__label sk-toggleable__label-arrow\">RFE</label><div class=\"sk-toggleable__content\"><pre>RFE(estimator=LogisticRegression(max_iter=3000), n_features_to_select=46,\n",
       "    step=10, verbose=5)</pre></div></div></div><div class=\"sk-parallel\"><div class=\"sk-parallel-item\"><div class=\"sk-item\"><div class=\"sk-label-container\"><div class=\"sk-label sk-toggleable\"><input class=\"sk-toggleable__control sk-hidden--visually\" id=\"sk-estimator-id-6\" type=\"checkbox\" ><label for=\"sk-estimator-id-6\" class=\"sk-toggleable__label sk-toggleable__label-arrow\">estimator: LogisticRegression</label><div class=\"sk-toggleable__content\"><pre>LogisticRegression(max_iter=3000)</pre></div></div></div><div class=\"sk-serial\"><div class=\"sk-item\"><div class=\"sk-estimator sk-toggleable\"><input class=\"sk-toggleable__control sk-hidden--visually\" id=\"sk-estimator-id-7\" type=\"checkbox\" ><label for=\"sk-estimator-id-7\" class=\"sk-toggleable__label sk-toggleable__label-arrow\">LogisticRegression</label><div class=\"sk-toggleable__content\"><pre>LogisticRegression(max_iter=3000)</pre></div></div></div></div></div></div></div></div></div></div>"
      ],
      "text/plain": [
       "RFE(estimator=LogisticRegression(max_iter=3000), n_features_to_select=46,\n",
       "    step=10, verbose=5)"
      ]
     },
     "execution_count": 41,
     "metadata": {},
     "output_type": "execute_result"
    }
   ],
   "source": [
    "rfe_selector = RFE(estimator=LogisticRegression(max_iter=3000), n_features_to_select=num_feats, step=10, verbose=5)\n",
    "rfe_selector.fit(X_train, y_train)"
   ]
  },
  {
   "cell_type": "code",
   "execution_count": 42,
   "metadata": {},
   "outputs": [
    {
     "name": "stdout",
     "output_type": "stream",
     "text": [
      "46 selected features\n"
     ]
    }
   ],
   "source": [
    "rfe_support = rfe_selector.get_support()\n",
    "rfe_feature = X_train.loc[:,rfe_support].columns.tolist()\n",
    "print(str(len(rfe_feature)), 'selected features')"
   ]
  },
  {
   "cell_type": "code",
   "execution_count": 43,
   "metadata": {},
   "outputs": [
    {
     "data": {
      "text/plain": [
       "['Elevation',\n",
       " 'Vertical_Distance_To_Hydrology',\n",
       " 'Horizontal_Distance_To_Roadways',\n",
       " 'Hillshade_9am',\n",
       " 'Hillshade_Noon',\n",
       " 'Hillshade_3pm',\n",
       " 'Wilderness_Area1',\n",
       " 'Wilderness_Area2',\n",
       " 'Wilderness_Area3',\n",
       " 'Wilderness_Area4',\n",
       " 'Soil_Type1',\n",
       " 'Soil_Type2',\n",
       " 'Soil_Type3',\n",
       " 'Soil_Type4',\n",
       " 'Soil_Type5',\n",
       " 'Soil_Type6',\n",
       " 'Soil_Type9',\n",
       " 'Soil_Type10',\n",
       " 'Soil_Type11',\n",
       " 'Soil_Type12',\n",
       " 'Soil_Type13',\n",
       " 'Soil_Type14',\n",
       " 'Soil_Type16',\n",
       " 'Soil_Type17',\n",
       " 'Soil_Type18',\n",
       " 'Soil_Type19',\n",
       " 'Soil_Type20',\n",
       " 'Soil_Type21',\n",
       " 'Soil_Type22',\n",
       " 'Soil_Type23',\n",
       " 'Soil_Type24',\n",
       " 'Soil_Type25',\n",
       " 'Soil_Type26',\n",
       " 'Soil_Type27',\n",
       " 'Soil_Type28',\n",
       " 'Soil_Type30',\n",
       " 'Soil_Type31',\n",
       " 'Soil_Type32',\n",
       " 'Soil_Type33',\n",
       " 'Soil_Type34',\n",
       " 'Soil_Type35',\n",
       " 'Soil_Type36',\n",
       " 'Soil_Type37',\n",
       " 'Soil_Type38',\n",
       " 'Soil_Type39',\n",
       " 'Soil_Type40']"
      ]
     },
     "execution_count": 43,
     "metadata": {},
     "output_type": "execute_result"
    }
   ],
   "source": [
    "rfe_feature"
   ]
  },
  {
   "cell_type": "code",
   "execution_count": null,
   "metadata": {},
   "outputs": [],
   "source": [
    "from yellowbrick.model_selection import rfecv\n",
    "from sklearn.model_selection import StratifiedKFold\n",
    "cv = StratifiedKFold(5)\n",
    "visualizer = rfecv(LogisticRegression(max_iter=3000), X=X_train, y=y_train, cv=cv, scoring='accuracy')"
   ]
  },
  {
   "cell_type": "markdown",
   "metadata": {},
   "source": [
    "## <font color=green> 6.6. Tree-based: SelectFromModel <font>\n",
    "### <font color=green> 6.6.1 RandomForestClassifier<font>\n",
    "Embedded methods use algorithms that have built-in feature selection methods. We can also use RandomForest to select features based on feature importance. We calculate feature importance using node impurities in each decision tree. In Random forest, the final feature importance is the average of all decision tree feature importance."
   ]
  },
  {
   "cell_type": "code",
   "execution_count": null,
   "metadata": {},
   "outputs": [],
   "source": [
    "embeded_rf_selector = SelectFromModel(RandomForestClassifier(n_estimators=100), max_features=num_feats)\n",
    "embeded_rf_selector.fit(X_train, y_train)"
   ]
  },
  {
   "cell_type": "code",
   "execution_count": null,
   "metadata": {},
   "outputs": [],
   "source": [
    "embeded_rf_support = embeded_rf_selector.get_support()\n",
    "embeded_rf_feature = X_train.loc[:,embeded_rf_support].columns.tolist()\n",
    "print(str(len(embeded_rf_feature)), 'selected features')"
   ]
  },
  {
   "cell_type": "code",
   "execution_count": null,
   "metadata": {},
   "outputs": [],
   "source": [
    "embeded_rf_feature"
   ]
  },
  {
   "cell_type": "markdown",
   "metadata": {},
   "source": [
    "### <font color=green> 6.6.2 XgBoost <font>"
   ]
  },
  {
   "cell_type": "markdown",
   "metadata": {},
   "source": [
    "XGBoost is relatively straightforward to retrieve importance scores for each attribute.\n",
    "\n",
    "Generally, importance provides a score that indicates how useful or valuable each feature was in the construction of the boosted decision trees within the model. The more an attribute is used to make key decisions with decision trees, the higher its relative importance.This importance is calculated explicitly for each attribute in the dataset, allowing attributes to be ranked and compared to each other.\n"
   ]
  },
  {
   "cell_type": "code",
   "execution_count": null,
   "metadata": {},
   "outputs": [],
   "source": [
    "#y_train needs to be transformed from 1,2,3,4,5,6,7 to 0 1 2 3 4 5,6\n",
    "le = LabelEncoder()\n",
    "y_train1 = le.fit_transform(y_train)\n",
    "\n",
    "model=xgb.XGBClassifier(learning_rate=0.1,n_estimators = 400,max_depth = 3,n_jobs=-1)\n",
    "\n",
    "embeded_xgb_selector = SelectFromModel(model, max_features=num_feats)\n",
    "embeded_xgb_selector.fit(X_train, y_train1)\n",
    "#learning_rate=0.1,n_estimators = 400,max_depth = 3,n_jobs=-1"
   ]
  },
  {
   "cell_type": "code",
   "execution_count": null,
   "metadata": {},
   "outputs": [],
   "source": [
    "embeded_xgb_support = embeded_xgb_selector.get_support()\n",
    "embeded_xgb_feature = X_train.loc[:,embeded_xgb_support].columns.tolist()\n",
    "print(str(len(embeded_xgb_feature)), 'selected features')"
   ]
  },
  {
   "cell_type": "code",
   "execution_count": null,
   "metadata": {},
   "outputs": [],
   "source": [
    "embeded_xgb_feature"
   ]
  },
  {
   "cell_type": "markdown",
   "metadata": {},
   "source": [
    "## <font color=green> End <font>"
   ]
  },
  {
   "cell_type": "code",
   "execution_count": 10,
   "metadata": {},
   "outputs": [],
   "source": [
    "scale_numerical =['Elevation','Aspect','Slope','Horizontal_Distance_To_Hydrology','Vertical_Distance_To_Hydrology',\n",
    "            'Horizontal_Distance_To_Roadways','Hillshade_9am','Hillshade_Noon','Hillshade_3pm',\n",
    "            'Horizontal_Distance_To_Fire_Points']\n",
    "scaler = StandardScaler()\n",
    "X4[scale_numerical]=scaler.fit_transform(X4[scale_numerical])"
   ]
  }
 ],
 "metadata": {
  "kernelspec": {
   "display_name": "Python 3 (ipykernel)",
   "language": "python",
   "name": "python3"
  },
  "language_info": {
   "codemirror_mode": {
    "name": "ipython",
    "version": 3
   },
   "file_extension": ".py",
   "mimetype": "text/x-python",
   "name": "python",
   "nbconvert_exporter": "python",
   "pygments_lexer": "ipython3",
   "version": "3.9.12"
  }
 },
 "nbformat": 4,
 "nbformat_minor": 2
}
