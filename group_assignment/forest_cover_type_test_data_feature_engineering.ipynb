{
 "cells": [
  {
   "cell_type": "markdown",
   "metadata": {},
   "source": [
    "<img src=\"ml2_group_assignment.png\" width=\"800\"/>"
   ]
  },
  {
   "cell_type": "markdown",
   "metadata": {},
   "source": [
    "This notebook just acts as a script to equalize test data as it came from Kaggle so that we can fit our final model into it"
   ]
  },
  {
   "cell_type": "code",
   "execution_count": 1,
   "metadata": {},
   "outputs": [],
   "source": [
    "#!pip install squarify\n",
    "#!pip install htmltabletomd\n",
    "#!pip install GraphViz\n",
    "#!pip install pygraphviz"
   ]
  },
  {
   "cell_type": "code",
   "execution_count": 2,
   "metadata": {},
   "outputs": [],
   "source": [
    "import pandas as pd\n",
    "import numpy as np\n",
    "import math \n",
    "import seaborn as sns  # Graphing\n",
    "import matplotlib.pyplot as plt\n",
    "import squarify #treemap\n",
    "import matplotlib.pyplot as plt\n",
    "import warnings\n",
    "import plotly.graph_objects as go\n",
    "import xgboost as xgb\n",
    "import scipy.stats as stats\n",
    "import htmltabletomd\n",
    "import pydotplus"
   ]
  },
  {
   "cell_type": "code",
   "execution_count": 3,
   "metadata": {},
   "outputs": [],
   "source": [
    "from sklearn.preprocessing import StandardScaler\n",
    "from sklearn.preprocessing import LabelEncoder\n",
    "from sklearn.preprocessing import PolynomialFeatures\n",
    "from sklearn.preprocessing import KBinsDiscretizer\n",
    "\n",
    "from sklearn.ensemble import RandomForestClassifier\n",
    "from sklearn.ensemble import ExtraTreesClassifier\n",
    "from sklearn.ensemble import RandomForestRegressor\n",
    "\n",
    "\n",
    "from sklearn.metrics import accuracy_score, confusion_matrix, classification_report\n",
    "from sklearn.linear_model import LogisticRegression\n",
    "\n",
    "from sklearn.tree import export_graphviz\n",
    "from sklearn.tree import DecisionTreeClassifier\n",
    "from sklearn.tree import DecisionTreeRegressor\n",
    "\n",
    "from sklearn import datasets\n",
    "from sklearn import linear_model\n",
    "\n",
    "from sklearn.model_selection import cross_val_score\n",
    "from sklearn.model_selection import train_test_split\n",
    "from sklearn.model_selection import GridSearchCV\n",
    "from sklearn.model_selection import StratifiedKFold\n",
    "\n",
    "from sklearn.feature_selection import SelectFromModel\n",
    "from sklearn.feature_selection import RFE\n",
    "from sklearn.feature_selection import SelectKBest, chi2\n",
    "from sklearn.feature_selection import f_classif\n",
    "\n",
    "from sklearn.preprocessing import MinMaxScaler\n",
    "\n",
    "from scipy.stats import norm\n",
    "\n",
    "\n",
    "from yellowbrick.target import FeatureCorrelation\n",
    "from yellowbrick.classifier import ROCAUC\n",
    "from yellowbrick.model_selection import rfecv\n",
    "\n",
    "\n",
    "from plotly.subplots import make_subplots\n",
    "from IPython.display import Image  \n",
    "from io import StringIO\n",
    "\n",
    "\n",
    "from itertools import combinations\n",
    "\n",
    "from dtreeviz.trees import *\n",
    "\n",
    "\n",
    "from numpy import percentile\n",
    "\n",
    "warnings.simplefilter(action='ignore', category=FutureWarning)"
   ]
  },
  {
   "cell_type": "markdown",
   "metadata": {},
   "source": [
    "<a id='0'></a>\n",
    "##  <font color=green>0.Import the Data </font>\n",
    "\n",
    "Let’s load the original Kaggle training and test data and create a data frame"
   ]
  },
  {
   "cell_type": "code",
   "execution_count": 4,
   "metadata": {},
   "outputs": [],
   "source": [
    "data_test = pd.read_csv(\"train.csv\")\n",
    "data_test = pd.read_csv(\"test.csv\")"
   ]
  },
  {
   "cell_type": "markdown",
   "metadata": {},
   "source": [
    "Let's keep the original dataset for later comparisons and make a copy for the FE process"
   ]
  },
  {
   "cell_type": "code",
   "execution_count": 5,
   "metadata": {},
   "outputs": [],
   "source": [
    "df_original = data_test.copy()"
   ]
  },
  {
   "cell_type": "markdown",
   "metadata": {},
   "source": [
    "<a id='5'></a>\n",
    "<a id='5.1'></a>\n",
    "# <font color=green>  5.Feature Engineering<font>"
   ]
  },
  {
   "cell_type": "markdown",
   "metadata": {},
   "source": [
    "<a id='5.2'></a>\n",
    "## <font color=green> 5.2 Feature Transformation and Building of new features <font>"
   ]
  },
  {
   "cell_type": "markdown",
   "metadata": {},
   "source": [
    "<a id='5.2.1'></a>\n",
    "### <font color=green> 5.2.1 Bivariate Combinations <font>"
   ]
  },
  {
   "cell_type": "markdown",
   "metadata": {},
   "source": [
    "During feature engineering, we want to try to create a wide variety of interactions between multiple variables in order to create new variables. \n",
    "\n",
    "\n",
    "By manipulating them together, we create opportunities to have new and impactful features which could potentially impact our target variable, thus engineering our features. \n",
    "\n",
    "For this argument, we will create as many bivariate combinations of our predicting variables using the ‘combinations’ method from itertools library.\n",
    "\n",
    "We will not make interactions with the dummy variables as these are either 0 or 1 and we will not get any additional information from making the interaction this way. \n",
    "\n",
    "Furthermore, it is not recommended to use standardization before bivariate combinations as we want to increase the signal. <br>\n",
    "\n",
    "Sources: https://towardsdatascience.com/feature-engineering-combination-polynomial-features-3caa4c77a755 <br>\n",
    "\n",
    "https://samchaaa.medium.com/preprocessing-why-you-should-generate-polynomial-features-first-before-standardizing-892b4326a91d"
   ]
  },
  {
   "cell_type": "markdown",
   "metadata": {},
   "source": [
    "In order to use the bivariate combination we split the dataset for using it.Note this is not the split we will use later for testing the algorithm. This has only the purpose of testing all the combination and selecting the best once. "
   ]
  },
  {
   "cell_type": "code",
   "execution_count": 6,
   "metadata": {},
   "outputs": [],
   "source": [
    "# Identify and drop our target variable 'Cover_Type' from dataframe\n",
    "X = data_test"
   ]
  },
  {
   "cell_type": "markdown",
   "metadata": {},
   "source": [
    "Train Test Split (80/20 size), drop duplicates and missing values\n"
   ]
  },
  {
   "cell_type": "raw",
   "metadata": {},
   "source": [
    "X_train, X_val, y_train, y_val = train_test_split(X, y, test_size = .2, random_state=37, stratify=y)\n",
    "\n",
    "X_train.drop_duplicates(inplace = True)\n",
    "X_train.dropna(inplace = True)"
   ]
  },
  {
   "cell_type": "markdown",
   "metadata": {},
   "source": [
    "Here, we create every possible bivariate combination to be tested for feature engineering, no dummies\n"
   ]
  },
  {
   "cell_type": "markdown",
   "metadata": {},
   "source": [
    "We take categorical variables prior to our feature engineering"
   ]
  },
  {
   "cell_type": "code",
   "execution_count": 7,
   "metadata": {},
   "outputs": [
    {
     "data": {
      "text/plain": [
       "[('Elevation', 'Aspect'),\n",
       " ('Elevation', 'Slope'),\n",
       " ('Elevation', 'Horizontal_Distance_To_Hydrology'),\n",
       " ('Elevation', 'Vertical_Distance_To_Hydrology'),\n",
       " ('Elevation', 'Horizontal_Distance_To_Roadways'),\n",
       " ('Elevation', 'Hillshade_9am'),\n",
       " ('Elevation', 'Hillshade_Noon'),\n",
       " ('Elevation', 'Hillshade_3pm'),\n",
       " ('Elevation', 'Horizontal_Distance_To_Fire_Points'),\n",
       " ('Aspect', 'Slope'),\n",
       " ('Aspect', 'Horizontal_Distance_To_Hydrology'),\n",
       " ('Aspect', 'Vertical_Distance_To_Hydrology'),\n",
       " ('Aspect', 'Horizontal_Distance_To_Roadways'),\n",
       " ('Aspect', 'Hillshade_9am'),\n",
       " ('Aspect', 'Hillshade_Noon'),\n",
       " ('Aspect', 'Hillshade_3pm'),\n",
       " ('Aspect', 'Horizontal_Distance_To_Fire_Points'),\n",
       " ('Slope', 'Horizontal_Distance_To_Hydrology'),\n",
       " ('Slope', 'Vertical_Distance_To_Hydrology'),\n",
       " ('Slope', 'Horizontal_Distance_To_Roadways'),\n",
       " ('Slope', 'Hillshade_9am'),\n",
       " ('Slope', 'Hillshade_Noon'),\n",
       " ('Slope', 'Hillshade_3pm'),\n",
       " ('Slope', 'Horizontal_Distance_To_Fire_Points'),\n",
       " ('Horizontal_Distance_To_Hydrology', 'Vertical_Distance_To_Hydrology'),\n",
       " ('Horizontal_Distance_To_Hydrology', 'Horizontal_Distance_To_Roadways'),\n",
       " ('Horizontal_Distance_To_Hydrology', 'Hillshade_9am'),\n",
       " ('Horizontal_Distance_To_Hydrology', 'Hillshade_Noon'),\n",
       " ('Horizontal_Distance_To_Hydrology', 'Hillshade_3pm'),\n",
       " ('Horizontal_Distance_To_Hydrology', 'Horizontal_Distance_To_Fire_Points'),\n",
       " ('Vertical_Distance_To_Hydrology', 'Horizontal_Distance_To_Roadways'),\n",
       " ('Vertical_Distance_To_Hydrology', 'Hillshade_9am'),\n",
       " ('Vertical_Distance_To_Hydrology', 'Hillshade_Noon'),\n",
       " ('Vertical_Distance_To_Hydrology', 'Hillshade_3pm'),\n",
       " ('Vertical_Distance_To_Hydrology', 'Horizontal_Distance_To_Fire_Points'),\n",
       " ('Horizontal_Distance_To_Roadways', 'Hillshade_9am'),\n",
       " ('Horizontal_Distance_To_Roadways', 'Hillshade_Noon'),\n",
       " ('Horizontal_Distance_To_Roadways', 'Hillshade_3pm'),\n",
       " ('Horizontal_Distance_To_Roadways', 'Horizontal_Distance_To_Fire_Points'),\n",
       " ('Hillshade_9am', 'Hillshade_Noon'),\n",
       " ('Hillshade_9am', 'Hillshade_3pm'),\n",
       " ('Hillshade_9am', 'Horizontal_Distance_To_Fire_Points'),\n",
       " ('Hillshade_Noon', 'Hillshade_3pm'),\n",
       " ('Hillshade_Noon', 'Horizontal_Distance_To_Fire_Points'),\n",
       " ('Hillshade_3pm', 'Horizontal_Distance_To_Fire_Points')]"
      ]
     },
     "execution_count": 7,
     "metadata": {},
     "output_type": "execute_result"
    }
   ],
   "source": [
    "column_list = X.columns\n",
    "filtered_column_list = [column for column in column_list if 'Soil_Type' not in column and 'Wilderness_Area' not in column and 'Id' not in column ] \n",
    "interactions = list(combinations(filtered_column_list, 2))\n",
    "interactions"
   ]
  },
  {
   "cell_type": "markdown",
   "metadata": {},
   "source": [
    "Addition and division has been taken out as it created a lot of noise in the data. The division makes sense if it has a business meaning and the addition only if it is the same scale. \n",
    "\n",
    "However we will add the variables which have the same metrics together in a second step but not in a for loop. "
   ]
  },
  {
   "cell_type": "code",
   "execution_count": 8,
   "metadata": {},
   "outputs": [],
   "source": [
    "for (key, value) in interactions:\n",
    "    data_test[key + '_x_' + value] = data_test[key] * data_test[value]\n",
    "    #data_test[key + '_+_' + value] = data_test[key] + data_test[value]\n",
    "    #data_test[key + '_divide_' + value] = data_test[key] / data_test[value]"
   ]
  },
  {
   "cell_type": "code",
   "execution_count": 9,
   "metadata": {},
   "outputs": [
    {
     "data": {
      "text/html": [
       "<div>\n",
       "<style scoped>\n",
       "    .dataframe tbody tr th:only-of-type {\n",
       "        vertical-align: middle;\n",
       "    }\n",
       "\n",
       "    .dataframe tbody tr th {\n",
       "        vertical-align: top;\n",
       "    }\n",
       "\n",
       "    .dataframe thead th {\n",
       "        text-align: right;\n",
       "    }\n",
       "</style>\n",
       "<table border=\"1\" class=\"dataframe\">\n",
       "  <thead>\n",
       "    <tr style=\"text-align: right;\">\n",
       "      <th></th>\n",
       "      <th>Id</th>\n",
       "      <th>Elevation</th>\n",
       "      <th>Aspect</th>\n",
       "      <th>Slope</th>\n",
       "      <th>Horizontal_Distance_To_Hydrology</th>\n",
       "      <th>Vertical_Distance_To_Hydrology</th>\n",
       "      <th>Horizontal_Distance_To_Roadways</th>\n",
       "      <th>Hillshade_9am</th>\n",
       "      <th>Hillshade_Noon</th>\n",
       "      <th>Hillshade_3pm</th>\n",
       "      <th>Horizontal_Distance_To_Fire_Points</th>\n",
       "      <th>Wilderness_Area1</th>\n",
       "      <th>Wilderness_Area2</th>\n",
       "      <th>Wilderness_Area3</th>\n",
       "      <th>Wilderness_Area4</th>\n",
       "      <th>Soil_Type1</th>\n",
       "      <th>Soil_Type2</th>\n",
       "      <th>Soil_Type3</th>\n",
       "      <th>Soil_Type4</th>\n",
       "      <th>Soil_Type5</th>\n",
       "      <th>Soil_Type6</th>\n",
       "      <th>Soil_Type7</th>\n",
       "      <th>Soil_Type8</th>\n",
       "      <th>Soil_Type9</th>\n",
       "      <th>Soil_Type10</th>\n",
       "      <th>Soil_Type11</th>\n",
       "      <th>Soil_Type12</th>\n",
       "      <th>Soil_Type13</th>\n",
       "      <th>Soil_Type14</th>\n",
       "      <th>Soil_Type15</th>\n",
       "      <th>Soil_Type16</th>\n",
       "      <th>Soil_Type17</th>\n",
       "      <th>Soil_Type18</th>\n",
       "      <th>Soil_Type19</th>\n",
       "      <th>Soil_Type20</th>\n",
       "      <th>Soil_Type21</th>\n",
       "      <th>Soil_Type22</th>\n",
       "      <th>Soil_Type23</th>\n",
       "      <th>Soil_Type24</th>\n",
       "      <th>Soil_Type25</th>\n",
       "      <th>Soil_Type26</th>\n",
       "      <th>Soil_Type27</th>\n",
       "      <th>Soil_Type28</th>\n",
       "      <th>Soil_Type29</th>\n",
       "      <th>Soil_Type30</th>\n",
       "      <th>Soil_Type31</th>\n",
       "      <th>Soil_Type32</th>\n",
       "      <th>Soil_Type33</th>\n",
       "      <th>Soil_Type34</th>\n",
       "      <th>Soil_Type35</th>\n",
       "      <th>Soil_Type36</th>\n",
       "      <th>Soil_Type37</th>\n",
       "      <th>Soil_Type38</th>\n",
       "      <th>Soil_Type39</th>\n",
       "      <th>Soil_Type40</th>\n",
       "      <th>Elevation_x_Aspect</th>\n",
       "      <th>Elevation_x_Slope</th>\n",
       "      <th>Elevation_x_Horizontal_Distance_To_Hydrology</th>\n",
       "      <th>Elevation_x_Vertical_Distance_To_Hydrology</th>\n",
       "      <th>Elevation_x_Horizontal_Distance_To_Roadways</th>\n",
       "      <th>Elevation_x_Hillshade_9am</th>\n",
       "      <th>Elevation_x_Hillshade_Noon</th>\n",
       "      <th>Elevation_x_Hillshade_3pm</th>\n",
       "      <th>Elevation_x_Horizontal_Distance_To_Fire_Points</th>\n",
       "      <th>Aspect_x_Slope</th>\n",
       "      <th>Aspect_x_Horizontal_Distance_To_Hydrology</th>\n",
       "      <th>Aspect_x_Vertical_Distance_To_Hydrology</th>\n",
       "      <th>Aspect_x_Horizontal_Distance_To_Roadways</th>\n",
       "      <th>Aspect_x_Hillshade_9am</th>\n",
       "      <th>Aspect_x_Hillshade_Noon</th>\n",
       "      <th>Aspect_x_Hillshade_3pm</th>\n",
       "      <th>Aspect_x_Horizontal_Distance_To_Fire_Points</th>\n",
       "      <th>Slope_x_Horizontal_Distance_To_Hydrology</th>\n",
       "      <th>Slope_x_Vertical_Distance_To_Hydrology</th>\n",
       "      <th>Slope_x_Horizontal_Distance_To_Roadways</th>\n",
       "      <th>Slope_x_Hillshade_9am</th>\n",
       "      <th>Slope_x_Hillshade_Noon</th>\n",
       "      <th>Slope_x_Hillshade_3pm</th>\n",
       "      <th>Slope_x_Horizontal_Distance_To_Fire_Points</th>\n",
       "      <th>Horizontal_Distance_To_Hydrology_x_Vertical_Distance_To_Hydrology</th>\n",
       "      <th>Horizontal_Distance_To_Hydrology_x_Horizontal_Distance_To_Roadways</th>\n",
       "      <th>Horizontal_Distance_To_Hydrology_x_Hillshade_9am</th>\n",
       "      <th>Horizontal_Distance_To_Hydrology_x_Hillshade_Noon</th>\n",
       "      <th>Horizontal_Distance_To_Hydrology_x_Hillshade_3pm</th>\n",
       "      <th>Horizontal_Distance_To_Hydrology_x_Horizontal_Distance_To_Fire_Points</th>\n",
       "      <th>Vertical_Distance_To_Hydrology_x_Horizontal_Distance_To_Roadways</th>\n",
       "      <th>Vertical_Distance_To_Hydrology_x_Hillshade_9am</th>\n",
       "      <th>Vertical_Distance_To_Hydrology_x_Hillshade_Noon</th>\n",
       "      <th>Vertical_Distance_To_Hydrology_x_Hillshade_3pm</th>\n",
       "      <th>Vertical_Distance_To_Hydrology_x_Horizontal_Distance_To_Fire_Points</th>\n",
       "      <th>Horizontal_Distance_To_Roadways_x_Hillshade_9am</th>\n",
       "      <th>Horizontal_Distance_To_Roadways_x_Hillshade_Noon</th>\n",
       "      <th>Horizontal_Distance_To_Roadways_x_Hillshade_3pm</th>\n",
       "      <th>Horizontal_Distance_To_Roadways_x_Horizontal_Distance_To_Fire_Points</th>\n",
       "      <th>Hillshade_9am_x_Hillshade_Noon</th>\n",
       "      <th>Hillshade_9am_x_Hillshade_3pm</th>\n",
       "      <th>Hillshade_9am_x_Horizontal_Distance_To_Fire_Points</th>\n",
       "      <th>Hillshade_Noon_x_Hillshade_3pm</th>\n",
       "      <th>Hillshade_Noon_x_Horizontal_Distance_To_Fire_Points</th>\n",
       "      <th>Hillshade_3pm_x_Horizontal_Distance_To_Fire_Points</th>\n",
       "    </tr>\n",
       "  </thead>\n",
       "  <tbody>\n",
       "    <tr>\n",
       "      <th>0</th>\n",
       "      <td>15121</td>\n",
       "      <td>2680</td>\n",
       "      <td>354</td>\n",
       "      <td>14</td>\n",
       "      <td>0</td>\n",
       "      <td>0</td>\n",
       "      <td>2684</td>\n",
       "      <td>196</td>\n",
       "      <td>214</td>\n",
       "      <td>156</td>\n",
       "      <td>6645</td>\n",
       "      <td>1</td>\n",
       "      <td>0</td>\n",
       "      <td>0</td>\n",
       "      <td>0</td>\n",
       "      <td>0</td>\n",
       "      <td>0</td>\n",
       "      <td>0</td>\n",
       "      <td>0</td>\n",
       "      <td>0</td>\n",
       "      <td>0</td>\n",
       "      <td>0</td>\n",
       "      <td>0</td>\n",
       "      <td>0</td>\n",
       "      <td>0</td>\n",
       "      <td>0</td>\n",
       "      <td>0</td>\n",
       "      <td>0</td>\n",
       "      <td>0</td>\n",
       "      <td>0</td>\n",
       "      <td>0</td>\n",
       "      <td>0</td>\n",
       "      <td>0</td>\n",
       "      <td>0</td>\n",
       "      <td>0</td>\n",
       "      <td>0</td>\n",
       "      <td>0</td>\n",
       "      <td>0</td>\n",
       "      <td>0</td>\n",
       "      <td>0</td>\n",
       "      <td>0</td>\n",
       "      <td>0</td>\n",
       "      <td>0</td>\n",
       "      <td>1</td>\n",
       "      <td>0</td>\n",
       "      <td>0</td>\n",
       "      <td>0</td>\n",
       "      <td>0</td>\n",
       "      <td>0</td>\n",
       "      <td>0</td>\n",
       "      <td>0</td>\n",
       "      <td>0</td>\n",
       "      <td>0</td>\n",
       "      <td>0</td>\n",
       "      <td>0</td>\n",
       "      <td>948720</td>\n",
       "      <td>37520</td>\n",
       "      <td>0</td>\n",
       "      <td>0</td>\n",
       "      <td>7193120</td>\n",
       "      <td>525280</td>\n",
       "      <td>573520</td>\n",
       "      <td>418080</td>\n",
       "      <td>17808600</td>\n",
       "      <td>4956</td>\n",
       "      <td>0</td>\n",
       "      <td>0</td>\n",
       "      <td>950136</td>\n",
       "      <td>69384</td>\n",
       "      <td>75756</td>\n",
       "      <td>55224</td>\n",
       "      <td>2352330</td>\n",
       "      <td>0</td>\n",
       "      <td>0</td>\n",
       "      <td>37576</td>\n",
       "      <td>2744</td>\n",
       "      <td>2996</td>\n",
       "      <td>2184</td>\n",
       "      <td>93030</td>\n",
       "      <td>0</td>\n",
       "      <td>0</td>\n",
       "      <td>0</td>\n",
       "      <td>0</td>\n",
       "      <td>0</td>\n",
       "      <td>0</td>\n",
       "      <td>0</td>\n",
       "      <td>0</td>\n",
       "      <td>0</td>\n",
       "      <td>0</td>\n",
       "      <td>0</td>\n",
       "      <td>526064</td>\n",
       "      <td>574376</td>\n",
       "      <td>418704</td>\n",
       "      <td>17835180</td>\n",
       "      <td>41944</td>\n",
       "      <td>30576</td>\n",
       "      <td>1302420</td>\n",
       "      <td>33384</td>\n",
       "      <td>1422030</td>\n",
       "      <td>1036620</td>\n",
       "    </tr>\n",
       "  </tbody>\n",
       "</table>\n",
       "</div>"
      ],
      "text/plain": [
       "      Id  Elevation  Aspect  Slope  Horizontal_Distance_To_Hydrology  \\\n",
       "0  15121       2680     354     14                                 0   \n",
       "\n",
       "   Vertical_Distance_To_Hydrology  Horizontal_Distance_To_Roadways  \\\n",
       "0                               0                             2684   \n",
       "\n",
       "   Hillshade_9am  Hillshade_Noon  Hillshade_3pm  \\\n",
       "0            196             214            156   \n",
       "\n",
       "   Horizontal_Distance_To_Fire_Points  Wilderness_Area1  Wilderness_Area2  \\\n",
       "0                                6645                 1                 0   \n",
       "\n",
       "   Wilderness_Area3  Wilderness_Area4  Soil_Type1  Soil_Type2  Soil_Type3  \\\n",
       "0                 0                 0           0           0           0   \n",
       "\n",
       "   Soil_Type4  Soil_Type5  Soil_Type6  Soil_Type7  Soil_Type8  Soil_Type9  \\\n",
       "0           0           0           0           0           0           0   \n",
       "\n",
       "   Soil_Type10  Soil_Type11  Soil_Type12  Soil_Type13  Soil_Type14  \\\n",
       "0            0            0            0            0            0   \n",
       "\n",
       "   Soil_Type15  Soil_Type16  Soil_Type17  Soil_Type18  Soil_Type19  \\\n",
       "0            0            0            0            0            0   \n",
       "\n",
       "   Soil_Type20  Soil_Type21  Soil_Type22  Soil_Type23  Soil_Type24  \\\n",
       "0            0            0            0            0            0   \n",
       "\n",
       "   Soil_Type25  Soil_Type26  Soil_Type27  Soil_Type28  Soil_Type29  \\\n",
       "0            0            0            0            0            1   \n",
       "\n",
       "   Soil_Type30  Soil_Type31  Soil_Type32  Soil_Type33  Soil_Type34  \\\n",
       "0            0            0            0            0            0   \n",
       "\n",
       "   Soil_Type35  Soil_Type36  Soil_Type37  Soil_Type38  Soil_Type39  \\\n",
       "0            0            0            0            0            0   \n",
       "\n",
       "   Soil_Type40  Elevation_x_Aspect  Elevation_x_Slope  \\\n",
       "0            0              948720              37520   \n",
       "\n",
       "   Elevation_x_Horizontal_Distance_To_Hydrology  \\\n",
       "0                                             0   \n",
       "\n",
       "   Elevation_x_Vertical_Distance_To_Hydrology  \\\n",
       "0                                           0   \n",
       "\n",
       "   Elevation_x_Horizontal_Distance_To_Roadways  Elevation_x_Hillshade_9am  \\\n",
       "0                                      7193120                     525280   \n",
       "\n",
       "   Elevation_x_Hillshade_Noon  Elevation_x_Hillshade_3pm  \\\n",
       "0                      573520                     418080   \n",
       "\n",
       "   Elevation_x_Horizontal_Distance_To_Fire_Points  Aspect_x_Slope  \\\n",
       "0                                        17808600            4956   \n",
       "\n",
       "   Aspect_x_Horizontal_Distance_To_Hydrology  \\\n",
       "0                                          0   \n",
       "\n",
       "   Aspect_x_Vertical_Distance_To_Hydrology  \\\n",
       "0                                        0   \n",
       "\n",
       "   Aspect_x_Horizontal_Distance_To_Roadways  Aspect_x_Hillshade_9am  \\\n",
       "0                                    950136                   69384   \n",
       "\n",
       "   Aspect_x_Hillshade_Noon  Aspect_x_Hillshade_3pm  \\\n",
       "0                    75756                   55224   \n",
       "\n",
       "   Aspect_x_Horizontal_Distance_To_Fire_Points  \\\n",
       "0                                      2352330   \n",
       "\n",
       "   Slope_x_Horizontal_Distance_To_Hydrology  \\\n",
       "0                                         0   \n",
       "\n",
       "   Slope_x_Vertical_Distance_To_Hydrology  \\\n",
       "0                                       0   \n",
       "\n",
       "   Slope_x_Horizontal_Distance_To_Roadways  Slope_x_Hillshade_9am  \\\n",
       "0                                    37576                   2744   \n",
       "\n",
       "   Slope_x_Hillshade_Noon  Slope_x_Hillshade_3pm  \\\n",
       "0                    2996                   2184   \n",
       "\n",
       "   Slope_x_Horizontal_Distance_To_Fire_Points  \\\n",
       "0                                       93030   \n",
       "\n",
       "   Horizontal_Distance_To_Hydrology_x_Vertical_Distance_To_Hydrology  \\\n",
       "0                                                  0                   \n",
       "\n",
       "   Horizontal_Distance_To_Hydrology_x_Horizontal_Distance_To_Roadways  \\\n",
       "0                                                  0                    \n",
       "\n",
       "   Horizontal_Distance_To_Hydrology_x_Hillshade_9am  \\\n",
       "0                                                 0   \n",
       "\n",
       "   Horizontal_Distance_To_Hydrology_x_Hillshade_Noon  \\\n",
       "0                                                  0   \n",
       "\n",
       "   Horizontal_Distance_To_Hydrology_x_Hillshade_3pm  \\\n",
       "0                                                 0   \n",
       "\n",
       "   Horizontal_Distance_To_Hydrology_x_Horizontal_Distance_To_Fire_Points  \\\n",
       "0                                                  0                       \n",
       "\n",
       "   Vertical_Distance_To_Hydrology_x_Horizontal_Distance_To_Roadways  \\\n",
       "0                                                  0                  \n",
       "\n",
       "   Vertical_Distance_To_Hydrology_x_Hillshade_9am  \\\n",
       "0                                               0   \n",
       "\n",
       "   Vertical_Distance_To_Hydrology_x_Hillshade_Noon  \\\n",
       "0                                                0   \n",
       "\n",
       "   Vertical_Distance_To_Hydrology_x_Hillshade_3pm  \\\n",
       "0                                               0   \n",
       "\n",
       "   Vertical_Distance_To_Hydrology_x_Horizontal_Distance_To_Fire_Points  \\\n",
       "0                                                  0                     \n",
       "\n",
       "   Horizontal_Distance_To_Roadways_x_Hillshade_9am  \\\n",
       "0                                           526064   \n",
       "\n",
       "   Horizontal_Distance_To_Roadways_x_Hillshade_Noon  \\\n",
       "0                                            574376   \n",
       "\n",
       "   Horizontal_Distance_To_Roadways_x_Hillshade_3pm  \\\n",
       "0                                           418704   \n",
       "\n",
       "   Horizontal_Distance_To_Roadways_x_Horizontal_Distance_To_Fire_Points  \\\n",
       "0                                           17835180                      \n",
       "\n",
       "   Hillshade_9am_x_Hillshade_Noon  Hillshade_9am_x_Hillshade_3pm  \\\n",
       "0                           41944                          30576   \n",
       "\n",
       "   Hillshade_9am_x_Horizontal_Distance_To_Fire_Points  \\\n",
       "0                                            1302420    \n",
       "\n",
       "   Hillshade_Noon_x_Hillshade_3pm  \\\n",
       "0                           33384   \n",
       "\n",
       "   Hillshade_Noon_x_Horizontal_Distance_To_Fire_Points  \\\n",
       "0                                            1422030     \n",
       "\n",
       "   Hillshade_3pm_x_Horizontal_Distance_To_Fire_Points  \n",
       "0                                            1036620   "
      ]
     },
     "execution_count": 9,
     "metadata": {},
     "output_type": "execute_result"
    }
   ],
   "source": [
    "pd.set_option('display.max_columns', None) #to make all columns visible in dataframe now that we have many\n",
    "data_test.head(1)"
   ]
  },
  {
   "cell_type": "markdown",
   "metadata": {},
   "source": [
    "<a id='5.2.2'></a>\n",
    "### <font color=green> 5.2.2 Polynomial Features <font>\n",
    "    \n",
    "We have just seen how to make two variables interact together, but sometimes the relationship between dependent and independent variables are more complex and not linear. \n",
    "    \n",
    "Polynomials is another way to create new features! A very strong option for new features is increasing the power of a single variable. \n",
    "    \n",
    "For our purposes, we will try and see if all the existing variables, can improve our Baseline by being increased to the  power.<br>\n",
    "Source: https://towardsdatascience.com/feature-engineering-combination-polynomial-features-3caa4c77a755"
   ]
  },
  {
   "cell_type": "markdown",
   "metadata": {},
   "source": [
    "Here we select only the columns we are interested in, this is from column 2 to 9"
   ]
  },
  {
   "cell_type": "code",
   "execution_count": 10,
   "metadata": {},
   "outputs": [
    {
     "data": {
      "text/html": [
       "<div>\n",
       "<style scoped>\n",
       "    .dataframe tbody tr th:only-of-type {\n",
       "        vertical-align: middle;\n",
       "    }\n",
       "\n",
       "    .dataframe tbody tr th {\n",
       "        vertical-align: top;\n",
       "    }\n",
       "\n",
       "    .dataframe thead th {\n",
       "        text-align: right;\n",
       "    }\n",
       "</style>\n",
       "<table border=\"1\" class=\"dataframe\">\n",
       "  <thead>\n",
       "    <tr style=\"text-align: right;\">\n",
       "      <th></th>\n",
       "      <th>Elevation</th>\n",
       "      <th>Aspect</th>\n",
       "      <th>Slope</th>\n",
       "      <th>Horizontal_Distance_To_Hydrology</th>\n",
       "      <th>Vertical_Distance_To_Hydrology</th>\n",
       "      <th>Horizontal_Distance_To_Roadways</th>\n",
       "      <th>Hillshade_9am</th>\n",
       "      <th>Hillshade_Noon</th>\n",
       "      <th>Hillshade_3pm</th>\n",
       "    </tr>\n",
       "  </thead>\n",
       "  <tbody>\n",
       "    <tr>\n",
       "      <th>0</th>\n",
       "      <td>2680</td>\n",
       "      <td>354</td>\n",
       "      <td>14</td>\n",
       "      <td>0</td>\n",
       "      <td>0</td>\n",
       "      <td>2684</td>\n",
       "      <td>196</td>\n",
       "      <td>214</td>\n",
       "      <td>156</td>\n",
       "    </tr>\n",
       "  </tbody>\n",
       "</table>\n",
       "</div>"
      ],
      "text/plain": [
       "   Elevation  Aspect  Slope  Horizontal_Distance_To_Hydrology  \\\n",
       "0       2680     354     14                                 0   \n",
       "\n",
       "   Vertical_Distance_To_Hydrology  Horizontal_Distance_To_Roadways  \\\n",
       "0                               0                             2684   \n",
       "\n",
       "   Hillshade_9am  Hillshade_Noon  Hillshade_3pm  \n",
       "0            196             214            156  "
      ]
     },
     "execution_count": 10,
     "metadata": {},
     "output_type": "execute_result"
    }
   ],
   "source": [
    "X_pf = data_test.iloc[:, 1:10]\n",
    "X_pf.head(1)"
   ]
  },
  {
   "cell_type": "markdown",
   "metadata": {},
   "source": [
    "By default, when running polynomials we lose the name of our labels. This function gives us the ability to preserve it with the name + the transformation done"
   ]
  },
  {
   "cell_type": "code",
   "execution_count": 11,
   "metadata": {},
   "outputs": [],
   "source": [
    "def PolynomialFeatures_labeled(input_df,power):\n",
    "    '''Basically this is a cover for the sklearn preprocessing function. \n",
    "    The problem with that function is if you give it a labeled dataframe, it ouputs an unlabeled dataframe with potentially\n",
    "    a whole bunch of unlabeled columns. \n",
    "\n",
    "    Inputs:\n",
    "    input_df = Your labeled pandas dataframe (list of x's not raised to any power) \n",
    "    power = what order polynomial you want variables up to. (use the same power as you want entered into pp.PolynomialFeatures(power) directly)\n",
    "\n",
    "    Ouput:\n",
    "    Output: This function relies on the powers_ matrix which is one of the preprocessing function's outputs to create logical labels and \n",
    "    outputs a labeled pandas dataframe   \n",
    "    '''\n",
    "    poly = PolynomialFeatures(power)\n",
    "    output_nparray = poly.fit_transform(input_df)\n",
    "    powers_nparray = poly.powers_\n",
    "\n",
    "    input_feature_names = list(input_df.columns)\n",
    "    target_feature_names = [\"Constant Term\"]\n",
    "    for feature_distillation in powers_nparray[1:]:\n",
    "        intermediary_label = \"\"\n",
    "        final_label = \"\"\n",
    "        for i in range(len(input_feature_names)):\n",
    "            if feature_distillation[i] == 0:\n",
    "                continue\n",
    "            else:\n",
    "                variable = input_feature_names[i]\n",
    "                power = feature_distillation[i]\n",
    "                intermediary_label = \"%s^%d\" % (variable,power)\n",
    "                if final_label == \"\":         #If the final label isn't yet specified\n",
    "                    final_label = intermediary_label\n",
    "                else:\n",
    "                    final_label = final_label + \" x \" + intermediary_label\n",
    "        target_feature_names.append(final_label)\n",
    "    output_df = pd.DataFrame(output_nparray, columns = target_feature_names)\n",
    "    return output_df\n",
    "\n"
   ]
  },
  {
   "cell_type": "markdown",
   "metadata": {},
   "source": [
    "Polynominal features of degree two gives us 46 new features. Since we have already enough information, we will not go for Polynominal three to avoid dimensionality issues later on"
   ]
  },
  {
   "cell_type": "code",
   "execution_count": 12,
   "metadata": {},
   "outputs": [
    {
     "data": {
      "text/plain": [
       "(565892, 55)"
      ]
     },
     "execution_count": 12,
     "metadata": {},
     "output_type": "execute_result"
    }
   ],
   "source": [
    "test_df_pw2 = PolynomialFeatures_labeled(X_pf,2)\n",
    "pd.set_option('display.max_columns', None)\n",
    "test_df_pw2.shape"
   ]
  },
  {
   "cell_type": "markdown",
   "metadata": {},
   "source": [
    "There are some fields duplicated with respect to the original df. This is a side effect of the function as normal features are replicated to the power of one which is still the same value so we delete these"
   ]
  },
  {
   "cell_type": "code",
   "execution_count": 13,
   "metadata": {},
   "outputs": [
    {
     "data": {
      "text/html": [
       "<div>\n",
       "<style scoped>\n",
       "    .dataframe tbody tr th:only-of-type {\n",
       "        vertical-align: middle;\n",
       "    }\n",
       "\n",
       "    .dataframe tbody tr th {\n",
       "        vertical-align: top;\n",
       "    }\n",
       "\n",
       "    .dataframe thead th {\n",
       "        text-align: right;\n",
       "    }\n",
       "</style>\n",
       "<table border=\"1\" class=\"dataframe\">\n",
       "  <thead>\n",
       "    <tr style=\"text-align: right;\">\n",
       "      <th></th>\n",
       "      <th>Constant Term</th>\n",
       "      <th>Elevation^2</th>\n",
       "      <th>Aspect^2</th>\n",
       "      <th>Slope^2</th>\n",
       "      <th>Horizontal_Distance_To_Hydrology^2</th>\n",
       "      <th>Vertical_Distance_To_Hydrology^2</th>\n",
       "      <th>Horizontal_Distance_To_Roadways^2</th>\n",
       "      <th>Hillshade_9am^2</th>\n",
       "      <th>Hillshade_Noon^2</th>\n",
       "      <th>Hillshade_3pm^2</th>\n",
       "    </tr>\n",
       "  </thead>\n",
       "  <tbody>\n",
       "    <tr>\n",
       "      <th>0</th>\n",
       "      <td>1.0</td>\n",
       "      <td>7182400.0</td>\n",
       "      <td>125316.0</td>\n",
       "      <td>196.0</td>\n",
       "      <td>0.0</td>\n",
       "      <td>0.0</td>\n",
       "      <td>7203856.0</td>\n",
       "      <td>38416.0</td>\n",
       "      <td>45796.0</td>\n",
       "      <td>24336.0</td>\n",
       "    </tr>\n",
       "  </tbody>\n",
       "</table>\n",
       "</div>"
      ],
      "text/plain": [
       "   Constant Term  Elevation^2  Aspect^2  Slope^2  \\\n",
       "0            1.0    7182400.0  125316.0    196.0   \n",
       "\n",
       "   Horizontal_Distance_To_Hydrology^2  Vertical_Distance_To_Hydrology^2  \\\n",
       "0                                 0.0                               0.0   \n",
       "\n",
       "   Horizontal_Distance_To_Roadways^2  Hillshade_9am^2  Hillshade_Noon^2  \\\n",
       "0                          7203856.0          38416.0           45796.0   \n",
       "\n",
       "   Hillshade_3pm^2  \n",
       "0          24336.0  "
      ]
     },
     "execution_count": 13,
     "metadata": {},
     "output_type": "execute_result"
    }
   ],
   "source": [
    "column_list = test_df_pw2.columns\n",
    "cols = [column for column in column_list if '^1' not in column]\n",
    "test_df_pw2=test_df_pw2[cols]\n",
    "test_df_pw2.head(1)"
   ]
  },
  {
   "cell_type": "markdown",
   "metadata": {},
   "source": [
    "In here, we concatenate our output to consolidate the ponlynomials with the feature combinations"
   ]
  },
  {
   "cell_type": "code",
   "execution_count": 14,
   "metadata": {},
   "outputs": [
    {
     "data": {
      "text/html": [
       "<div>\n",
       "<style scoped>\n",
       "    .dataframe tbody tr th:only-of-type {\n",
       "        vertical-align: middle;\n",
       "    }\n",
       "\n",
       "    .dataframe tbody tr th {\n",
       "        vertical-align: top;\n",
       "    }\n",
       "\n",
       "    .dataframe thead th {\n",
       "        text-align: right;\n",
       "    }\n",
       "</style>\n",
       "<table border=\"1\" class=\"dataframe\">\n",
       "  <thead>\n",
       "    <tr style=\"text-align: right;\">\n",
       "      <th></th>\n",
       "      <th>Id</th>\n",
       "      <th>Elevation</th>\n",
       "      <th>Aspect</th>\n",
       "      <th>Slope</th>\n",
       "      <th>Horizontal_Distance_To_Hydrology</th>\n",
       "      <th>Vertical_Distance_To_Hydrology</th>\n",
       "      <th>Horizontal_Distance_To_Roadways</th>\n",
       "      <th>Hillshade_9am</th>\n",
       "      <th>Hillshade_Noon</th>\n",
       "      <th>Hillshade_3pm</th>\n",
       "      <th>Horizontal_Distance_To_Fire_Points</th>\n",
       "      <th>Wilderness_Area1</th>\n",
       "      <th>Wilderness_Area2</th>\n",
       "      <th>Wilderness_Area3</th>\n",
       "      <th>Wilderness_Area4</th>\n",
       "      <th>Soil_Type1</th>\n",
       "      <th>Soil_Type2</th>\n",
       "      <th>Soil_Type3</th>\n",
       "      <th>Soil_Type4</th>\n",
       "      <th>Soil_Type5</th>\n",
       "      <th>Soil_Type6</th>\n",
       "      <th>Soil_Type7</th>\n",
       "      <th>Soil_Type8</th>\n",
       "      <th>Soil_Type9</th>\n",
       "      <th>Soil_Type10</th>\n",
       "      <th>Soil_Type11</th>\n",
       "      <th>Soil_Type12</th>\n",
       "      <th>Soil_Type13</th>\n",
       "      <th>Soil_Type14</th>\n",
       "      <th>Soil_Type15</th>\n",
       "      <th>Soil_Type16</th>\n",
       "      <th>Soil_Type17</th>\n",
       "      <th>Soil_Type18</th>\n",
       "      <th>Soil_Type19</th>\n",
       "      <th>Soil_Type20</th>\n",
       "      <th>Soil_Type21</th>\n",
       "      <th>Soil_Type22</th>\n",
       "      <th>Soil_Type23</th>\n",
       "      <th>Soil_Type24</th>\n",
       "      <th>Soil_Type25</th>\n",
       "      <th>Soil_Type26</th>\n",
       "      <th>Soil_Type27</th>\n",
       "      <th>Soil_Type28</th>\n",
       "      <th>Soil_Type29</th>\n",
       "      <th>Soil_Type30</th>\n",
       "      <th>Soil_Type31</th>\n",
       "      <th>Soil_Type32</th>\n",
       "      <th>Soil_Type33</th>\n",
       "      <th>Soil_Type34</th>\n",
       "      <th>Soil_Type35</th>\n",
       "      <th>Soil_Type36</th>\n",
       "      <th>Soil_Type37</th>\n",
       "      <th>Soil_Type38</th>\n",
       "      <th>Soil_Type39</th>\n",
       "      <th>Soil_Type40</th>\n",
       "      <th>Elevation_x_Aspect</th>\n",
       "      <th>Elevation_x_Slope</th>\n",
       "      <th>Elevation_x_Horizontal_Distance_To_Hydrology</th>\n",
       "      <th>Elevation_x_Vertical_Distance_To_Hydrology</th>\n",
       "      <th>Elevation_x_Horizontal_Distance_To_Roadways</th>\n",
       "      <th>Elevation_x_Hillshade_9am</th>\n",
       "      <th>Elevation_x_Hillshade_Noon</th>\n",
       "      <th>Elevation_x_Hillshade_3pm</th>\n",
       "      <th>Elevation_x_Horizontal_Distance_To_Fire_Points</th>\n",
       "      <th>Aspect_x_Slope</th>\n",
       "      <th>Aspect_x_Horizontal_Distance_To_Hydrology</th>\n",
       "      <th>Aspect_x_Vertical_Distance_To_Hydrology</th>\n",
       "      <th>Aspect_x_Horizontal_Distance_To_Roadways</th>\n",
       "      <th>Aspect_x_Hillshade_9am</th>\n",
       "      <th>Aspect_x_Hillshade_Noon</th>\n",
       "      <th>Aspect_x_Hillshade_3pm</th>\n",
       "      <th>Aspect_x_Horizontal_Distance_To_Fire_Points</th>\n",
       "      <th>Slope_x_Horizontal_Distance_To_Hydrology</th>\n",
       "      <th>Slope_x_Vertical_Distance_To_Hydrology</th>\n",
       "      <th>Slope_x_Horizontal_Distance_To_Roadways</th>\n",
       "      <th>Slope_x_Hillshade_9am</th>\n",
       "      <th>Slope_x_Hillshade_Noon</th>\n",
       "      <th>Slope_x_Hillshade_3pm</th>\n",
       "      <th>Slope_x_Horizontal_Distance_To_Fire_Points</th>\n",
       "      <th>Horizontal_Distance_To_Hydrology_x_Vertical_Distance_To_Hydrology</th>\n",
       "      <th>Horizontal_Distance_To_Hydrology_x_Horizontal_Distance_To_Roadways</th>\n",
       "      <th>Horizontal_Distance_To_Hydrology_x_Hillshade_9am</th>\n",
       "      <th>Horizontal_Distance_To_Hydrology_x_Hillshade_Noon</th>\n",
       "      <th>Horizontal_Distance_To_Hydrology_x_Hillshade_3pm</th>\n",
       "      <th>Horizontal_Distance_To_Hydrology_x_Horizontal_Distance_To_Fire_Points</th>\n",
       "      <th>Vertical_Distance_To_Hydrology_x_Horizontal_Distance_To_Roadways</th>\n",
       "      <th>Vertical_Distance_To_Hydrology_x_Hillshade_9am</th>\n",
       "      <th>Vertical_Distance_To_Hydrology_x_Hillshade_Noon</th>\n",
       "      <th>Vertical_Distance_To_Hydrology_x_Hillshade_3pm</th>\n",
       "      <th>Vertical_Distance_To_Hydrology_x_Horizontal_Distance_To_Fire_Points</th>\n",
       "      <th>Horizontal_Distance_To_Roadways_x_Hillshade_9am</th>\n",
       "      <th>Horizontal_Distance_To_Roadways_x_Hillshade_Noon</th>\n",
       "      <th>Horizontal_Distance_To_Roadways_x_Hillshade_3pm</th>\n",
       "      <th>Horizontal_Distance_To_Roadways_x_Horizontal_Distance_To_Fire_Points</th>\n",
       "      <th>Hillshade_9am_x_Hillshade_Noon</th>\n",
       "      <th>Hillshade_9am_x_Hillshade_3pm</th>\n",
       "      <th>Hillshade_9am_x_Horizontal_Distance_To_Fire_Points</th>\n",
       "      <th>Hillshade_Noon_x_Hillshade_3pm</th>\n",
       "      <th>Hillshade_Noon_x_Horizontal_Distance_To_Fire_Points</th>\n",
       "      <th>Hillshade_3pm_x_Horizontal_Distance_To_Fire_Points</th>\n",
       "      <th>Constant Term</th>\n",
       "      <th>Elevation^2</th>\n",
       "      <th>Aspect^2</th>\n",
       "      <th>Slope^2</th>\n",
       "      <th>Horizontal_Distance_To_Hydrology^2</th>\n",
       "      <th>Vertical_Distance_To_Hydrology^2</th>\n",
       "      <th>Horizontal_Distance_To_Roadways^2</th>\n",
       "      <th>Hillshade_9am^2</th>\n",
       "      <th>Hillshade_Noon^2</th>\n",
       "      <th>Hillshade_3pm^2</th>\n",
       "    </tr>\n",
       "  </thead>\n",
       "  <tbody>\n",
       "    <tr>\n",
       "      <th>0</th>\n",
       "      <td>15121</td>\n",
       "      <td>2680</td>\n",
       "      <td>354</td>\n",
       "      <td>14</td>\n",
       "      <td>0</td>\n",
       "      <td>0</td>\n",
       "      <td>2684</td>\n",
       "      <td>196</td>\n",
       "      <td>214</td>\n",
       "      <td>156</td>\n",
       "      <td>6645</td>\n",
       "      <td>1</td>\n",
       "      <td>0</td>\n",
       "      <td>0</td>\n",
       "      <td>0</td>\n",
       "      <td>0</td>\n",
       "      <td>0</td>\n",
       "      <td>0</td>\n",
       "      <td>0</td>\n",
       "      <td>0</td>\n",
       "      <td>0</td>\n",
       "      <td>0</td>\n",
       "      <td>0</td>\n",
       "      <td>0</td>\n",
       "      <td>0</td>\n",
       "      <td>0</td>\n",
       "      <td>0</td>\n",
       "      <td>0</td>\n",
       "      <td>0</td>\n",
       "      <td>0</td>\n",
       "      <td>0</td>\n",
       "      <td>0</td>\n",
       "      <td>0</td>\n",
       "      <td>0</td>\n",
       "      <td>0</td>\n",
       "      <td>0</td>\n",
       "      <td>0</td>\n",
       "      <td>0</td>\n",
       "      <td>0</td>\n",
       "      <td>0</td>\n",
       "      <td>0</td>\n",
       "      <td>0</td>\n",
       "      <td>0</td>\n",
       "      <td>1</td>\n",
       "      <td>0</td>\n",
       "      <td>0</td>\n",
       "      <td>0</td>\n",
       "      <td>0</td>\n",
       "      <td>0</td>\n",
       "      <td>0</td>\n",
       "      <td>0</td>\n",
       "      <td>0</td>\n",
       "      <td>0</td>\n",
       "      <td>0</td>\n",
       "      <td>0</td>\n",
       "      <td>948720</td>\n",
       "      <td>37520</td>\n",
       "      <td>0</td>\n",
       "      <td>0</td>\n",
       "      <td>7193120</td>\n",
       "      <td>525280</td>\n",
       "      <td>573520</td>\n",
       "      <td>418080</td>\n",
       "      <td>17808600</td>\n",
       "      <td>4956</td>\n",
       "      <td>0</td>\n",
       "      <td>0</td>\n",
       "      <td>950136</td>\n",
       "      <td>69384</td>\n",
       "      <td>75756</td>\n",
       "      <td>55224</td>\n",
       "      <td>2352330</td>\n",
       "      <td>0</td>\n",
       "      <td>0</td>\n",
       "      <td>37576</td>\n",
       "      <td>2744</td>\n",
       "      <td>2996</td>\n",
       "      <td>2184</td>\n",
       "      <td>93030</td>\n",
       "      <td>0</td>\n",
       "      <td>0</td>\n",
       "      <td>0</td>\n",
       "      <td>0</td>\n",
       "      <td>0</td>\n",
       "      <td>0</td>\n",
       "      <td>0</td>\n",
       "      <td>0</td>\n",
       "      <td>0</td>\n",
       "      <td>0</td>\n",
       "      <td>0</td>\n",
       "      <td>526064</td>\n",
       "      <td>574376</td>\n",
       "      <td>418704</td>\n",
       "      <td>17835180</td>\n",
       "      <td>41944</td>\n",
       "      <td>30576</td>\n",
       "      <td>1302420</td>\n",
       "      <td>33384</td>\n",
       "      <td>1422030</td>\n",
       "      <td>1036620</td>\n",
       "      <td>1.0</td>\n",
       "      <td>7182400.0</td>\n",
       "      <td>125316.0</td>\n",
       "      <td>196.0</td>\n",
       "      <td>0.0</td>\n",
       "      <td>0.0</td>\n",
       "      <td>7203856.0</td>\n",
       "      <td>38416.0</td>\n",
       "      <td>45796.0</td>\n",
       "      <td>24336.0</td>\n",
       "    </tr>\n",
       "  </tbody>\n",
       "</table>\n",
       "</div>"
      ],
      "text/plain": [
       "      Id  Elevation  Aspect  Slope  Horizontal_Distance_To_Hydrology  \\\n",
       "0  15121       2680     354     14                                 0   \n",
       "\n",
       "   Vertical_Distance_To_Hydrology  Horizontal_Distance_To_Roadways  \\\n",
       "0                               0                             2684   \n",
       "\n",
       "   Hillshade_9am  Hillshade_Noon  Hillshade_3pm  \\\n",
       "0            196             214            156   \n",
       "\n",
       "   Horizontal_Distance_To_Fire_Points  Wilderness_Area1  Wilderness_Area2  \\\n",
       "0                                6645                 1                 0   \n",
       "\n",
       "   Wilderness_Area3  Wilderness_Area4  Soil_Type1  Soil_Type2  Soil_Type3  \\\n",
       "0                 0                 0           0           0           0   \n",
       "\n",
       "   Soil_Type4  Soil_Type5  Soil_Type6  Soil_Type7  Soil_Type8  Soil_Type9  \\\n",
       "0           0           0           0           0           0           0   \n",
       "\n",
       "   Soil_Type10  Soil_Type11  Soil_Type12  Soil_Type13  Soil_Type14  \\\n",
       "0            0            0            0            0            0   \n",
       "\n",
       "   Soil_Type15  Soil_Type16  Soil_Type17  Soil_Type18  Soil_Type19  \\\n",
       "0            0            0            0            0            0   \n",
       "\n",
       "   Soil_Type20  Soil_Type21  Soil_Type22  Soil_Type23  Soil_Type24  \\\n",
       "0            0            0            0            0            0   \n",
       "\n",
       "   Soil_Type25  Soil_Type26  Soil_Type27  Soil_Type28  Soil_Type29  \\\n",
       "0            0            0            0            0            1   \n",
       "\n",
       "   Soil_Type30  Soil_Type31  Soil_Type32  Soil_Type33  Soil_Type34  \\\n",
       "0            0            0            0            0            0   \n",
       "\n",
       "   Soil_Type35  Soil_Type36  Soil_Type37  Soil_Type38  Soil_Type39  \\\n",
       "0            0            0            0            0            0   \n",
       "\n",
       "   Soil_Type40  Elevation_x_Aspect  Elevation_x_Slope  \\\n",
       "0            0              948720              37520   \n",
       "\n",
       "   Elevation_x_Horizontal_Distance_To_Hydrology  \\\n",
       "0                                             0   \n",
       "\n",
       "   Elevation_x_Vertical_Distance_To_Hydrology  \\\n",
       "0                                           0   \n",
       "\n",
       "   Elevation_x_Horizontal_Distance_To_Roadways  Elevation_x_Hillshade_9am  \\\n",
       "0                                      7193120                     525280   \n",
       "\n",
       "   Elevation_x_Hillshade_Noon  Elevation_x_Hillshade_3pm  \\\n",
       "0                      573520                     418080   \n",
       "\n",
       "   Elevation_x_Horizontal_Distance_To_Fire_Points  Aspect_x_Slope  \\\n",
       "0                                        17808600            4956   \n",
       "\n",
       "   Aspect_x_Horizontal_Distance_To_Hydrology  \\\n",
       "0                                          0   \n",
       "\n",
       "   Aspect_x_Vertical_Distance_To_Hydrology  \\\n",
       "0                                        0   \n",
       "\n",
       "   Aspect_x_Horizontal_Distance_To_Roadways  Aspect_x_Hillshade_9am  \\\n",
       "0                                    950136                   69384   \n",
       "\n",
       "   Aspect_x_Hillshade_Noon  Aspect_x_Hillshade_3pm  \\\n",
       "0                    75756                   55224   \n",
       "\n",
       "   Aspect_x_Horizontal_Distance_To_Fire_Points  \\\n",
       "0                                      2352330   \n",
       "\n",
       "   Slope_x_Horizontal_Distance_To_Hydrology  \\\n",
       "0                                         0   \n",
       "\n",
       "   Slope_x_Vertical_Distance_To_Hydrology  \\\n",
       "0                                       0   \n",
       "\n",
       "   Slope_x_Horizontal_Distance_To_Roadways  Slope_x_Hillshade_9am  \\\n",
       "0                                    37576                   2744   \n",
       "\n",
       "   Slope_x_Hillshade_Noon  Slope_x_Hillshade_3pm  \\\n",
       "0                    2996                   2184   \n",
       "\n",
       "   Slope_x_Horizontal_Distance_To_Fire_Points  \\\n",
       "0                                       93030   \n",
       "\n",
       "   Horizontal_Distance_To_Hydrology_x_Vertical_Distance_To_Hydrology  \\\n",
       "0                                                  0                   \n",
       "\n",
       "   Horizontal_Distance_To_Hydrology_x_Horizontal_Distance_To_Roadways  \\\n",
       "0                                                  0                    \n",
       "\n",
       "   Horizontal_Distance_To_Hydrology_x_Hillshade_9am  \\\n",
       "0                                                 0   \n",
       "\n",
       "   Horizontal_Distance_To_Hydrology_x_Hillshade_Noon  \\\n",
       "0                                                  0   \n",
       "\n",
       "   Horizontal_Distance_To_Hydrology_x_Hillshade_3pm  \\\n",
       "0                                                 0   \n",
       "\n",
       "   Horizontal_Distance_To_Hydrology_x_Horizontal_Distance_To_Fire_Points  \\\n",
       "0                                                  0                       \n",
       "\n",
       "   Vertical_Distance_To_Hydrology_x_Horizontal_Distance_To_Roadways  \\\n",
       "0                                                  0                  \n",
       "\n",
       "   Vertical_Distance_To_Hydrology_x_Hillshade_9am  \\\n",
       "0                                               0   \n",
       "\n",
       "   Vertical_Distance_To_Hydrology_x_Hillshade_Noon  \\\n",
       "0                                                0   \n",
       "\n",
       "   Vertical_Distance_To_Hydrology_x_Hillshade_3pm  \\\n",
       "0                                               0   \n",
       "\n",
       "   Vertical_Distance_To_Hydrology_x_Horizontal_Distance_To_Fire_Points  \\\n",
       "0                                                  0                     \n",
       "\n",
       "   Horizontal_Distance_To_Roadways_x_Hillshade_9am  \\\n",
       "0                                           526064   \n",
       "\n",
       "   Horizontal_Distance_To_Roadways_x_Hillshade_Noon  \\\n",
       "0                                            574376   \n",
       "\n",
       "   Horizontal_Distance_To_Roadways_x_Hillshade_3pm  \\\n",
       "0                                           418704   \n",
       "\n",
       "   Horizontal_Distance_To_Roadways_x_Horizontal_Distance_To_Fire_Points  \\\n",
       "0                                           17835180                      \n",
       "\n",
       "   Hillshade_9am_x_Hillshade_Noon  Hillshade_9am_x_Hillshade_3pm  \\\n",
       "0                           41944                          30576   \n",
       "\n",
       "   Hillshade_9am_x_Horizontal_Distance_To_Fire_Points  \\\n",
       "0                                            1302420    \n",
       "\n",
       "   Hillshade_Noon_x_Hillshade_3pm  \\\n",
       "0                           33384   \n",
       "\n",
       "   Hillshade_Noon_x_Horizontal_Distance_To_Fire_Points  \\\n",
       "0                                            1422030     \n",
       "\n",
       "   Hillshade_3pm_x_Horizontal_Distance_To_Fire_Points  Constant Term  \\\n",
       "0                                            1036620             1.0   \n",
       "\n",
       "   Elevation^2  Aspect^2  Slope^2  Horizontal_Distance_To_Hydrology^2  \\\n",
       "0    7182400.0  125316.0    196.0                                 0.0   \n",
       "\n",
       "   Vertical_Distance_To_Hydrology^2  Horizontal_Distance_To_Roadways^2  \\\n",
       "0                               0.0                          7203856.0   \n",
       "\n",
       "   Hillshade_9am^2  Hillshade_Noon^2  Hillshade_3pm^2  \n",
       "0          38416.0           45796.0          24336.0  "
      ]
     },
     "execution_count": 14,
     "metadata": {},
     "output_type": "execute_result"
    }
   ],
   "source": [
    "data_test = pd.concat([data_test,test_df_pw2], axis=1)\n",
    "data_test.head(1)"
   ]
  },
  {
   "cell_type": "markdown",
   "metadata": {},
   "source": [
    "This results in a huge dataset. Just for curiosity we ran polynomials to the power of three and see that just the resulting dataframe is already bigger than the consolidated one above"
   ]
  },
  {
   "cell_type": "markdown",
   "metadata": {},
   "source": [
    "<a id='5.2.3'></a>\n",
    "### <font color=green> 5.2.3 ID <font>"
   ]
  },
  {
   "cell_type": "markdown",
   "metadata": {},
   "source": [
    "We agree for the test to not remove ID because the ID is the unique indentifier to evaluate\n",
    "\n",
    "\n",
    "For the train we will remove it as it doesn't add any value to the model"
   ]
  },
  {
   "cell_type": "code",
   "execution_count": 15,
   "metadata": {},
   "outputs": [],
   "source": [
    "data_test.drop('Id',axis = 1, inplace = True)"
   ]
  },
  {
   "cell_type": "markdown",
   "metadata": {},
   "source": [
    "<a id='5.2.4'></a>\n",
    "### <font color=green> 5.2.4 Distance To Hydrology <font>\n",
    "#### <font color=green> New Features <font>"
   ]
  },
  {
   "cell_type": "markdown",
   "metadata": {},
   "source": [
    "We combine Vertical distance to Hydrology and Horizontal distance to Hydrology since these two are highly correlated. This suggests to attempt a diagonal distance to hidrology using the Pythagoras theorem.\n",
    "\n",
    "We will call this newly engineered feature, Distance_To_Hydrology\n",
    " \n",
    "Source : https://towardsdatascience.com/types-of-transformations-for-better-normal-distribution-61c22668d3b9"
   ]
  },
  {
   "cell_type": "code",
   "execution_count": 16,
   "metadata": {},
   "outputs": [],
   "source": [
    "data_test['Distance_To_Hydrology'] = data_test['Horizontal_Distance_To_Hydrology']**2 +data_test['Vertical_Distance_To_Hydrology']**2\n",
    "data_test['Distance_To_Hydrology'] = data_test['Distance_To_Hydrology']**0.5"
   ]
  },
  {
   "cell_type": "markdown",
   "metadata": {},
   "source": [
    "#### <font color=green> Square root and logarithm Transformation  <font>"
   ]
  },
  {
   "cell_type": "markdown",
   "metadata": {},
   "source": [
    "Now we are checking the distribution of the newly created variable and see if further transformation is needed. \n",
    "\n",
    "The Distance to Hydrology inherits skewness from parent variables. It is positively skewed and has zero values. \n",
    "\n",
    "In order to use log we will use log + 1 in order to use logarithm with zero values. \n",
    "\n",
    "Source: https://www.youtube.com/watch?v=_c3dVTRIK9c and \n",
    "\n",
    "Source_2: https://towardsdatascience.com/types-of-transformations-for-better-normal-distribution-61c22668d3b9"
   ]
  },
  {
   "cell_type": "markdown",
   "metadata": {},
   "source": [
    "As a rule of thumb, the skewness can be interpreted as follows:\n",
    "<img src=\"Skew.png\" width=400 height=200 align=\"center\">\n",
    "\n",
    "Source: https://www.marsja.se/transform-skewed-data-using-square-root-log-box-cox-methods-in-python/"
   ]
  },
  {
   "cell_type": "markdown",
   "metadata": {},
   "source": [
    "We do some transformations to minimize skewness"
   ]
  },
  {
   "cell_type": "code",
   "execution_count": 17,
   "metadata": {},
   "outputs": [],
   "source": [
    "#Using the square root \n",
    "data_test['sqr_Distance_To_Hydrology'] = data_test['Distance_To_Hydrology']**0.5"
   ]
  },
  {
   "cell_type": "markdown",
   "metadata": {},
   "source": [
    "#### <font color=green> Results after logarithm and <font color=darkcyan> Square root Transformation<font>"
   ]
  },
  {
   "cell_type": "markdown",
   "metadata": {},
   "source": [
    "As you can see above, for distance to Hydrology the __square root__ showed a better performance in terms of skewness and is closer to a normal bell shaped than the logarithm transformation. We will be using Square Root as a new feature in the dataset and will frop the others from the dataset.  "
   ]
  },
  {
   "cell_type": "markdown",
   "metadata": {},
   "source": [
    "<a id='5.2.5'></a>\n",
    "### <font color=green> 5.2.5 Horizontal Distance To Roadways <font>\n",
    "\n",
    "#### <font color=green> Square root and logarithm Transformation  <font>"
   ]
  },
  {
   "cell_type": "markdown",
   "metadata": {},
   "source": [
    "For log transformation there should be no zeros, negative values and the distribution should be positive skewed( bigger than 1 is positive) hence we are using the square root as you can see for logarithm transformation below the distribution did not improve!!!"
   ]
  },
  {
   "cell_type": "markdown",
   "metadata": {},
   "source": [
    "#### <font color=green> Results after logarithm and <font color=darkcyan> Square root Transformation<font>"
   ]
  },
  {
   "cell_type": "code",
   "execution_count": 18,
   "metadata": {},
   "outputs": [],
   "source": [
    "# since we have null values we add plus 1 to avoid log of zero.We are using natural log and log10\n",
    "data_test['Sqr_Horizontal_Distance_To_Roadways'] = data_test['Horizontal_Distance_To_Roadways']**0.5"
   ]
  },
  {
   "cell_type": "markdown",
   "metadata": {},
   "source": [
    "We achieved the best result again using square root of the Horizontal Distance to Roadways. Similarly as before, we remove failed experiments"
   ]
  },
  {
   "cell_type": "markdown",
   "metadata": {},
   "source": [
    "<a id='5.2.6'></a>\n",
    "### <font color=green> 5.2.6 Slope <font>\n",
    "#### <font color=green> Square root and logarithm Transformation  <font>"
   ]
  },
  {
   "cell_type": "markdown",
   "metadata": {},
   "source": [
    "#### <font color=green> Results after logarithm and <font color=darkcyan> Sqrare root Transformation<font>"
   ]
  },
  {
   "cell_type": "code",
   "execution_count": 19,
   "metadata": {},
   "outputs": [],
   "source": [
    "data_test['SqrSlope'] = data_test['Slope']**0.5"
   ]
  },
  {
   "cell_type": "markdown",
   "metadata": {},
   "source": [
    "Since the skweness for the slope shows better performance when using the square root, we will transform the variable into square root as well. "
   ]
  },
  {
   "cell_type": "markdown",
   "metadata": {},
   "source": [
    "<a id='5.2.7'></a>\n",
    "### <font color=green> 5.2.7 Horizontal Distance To Fire Points  <font>\n",
    "#### <font color=green> Transformation  <font>"
   ]
  },
  {
   "cell_type": "markdown",
   "metadata": {},
   "source": [
    "#### <font color=green> Results after logarithm and <font color=darkcyan> Sqrare root Transformation<font>"
   ]
  },
  {
   "cell_type": "code",
   "execution_count": 20,
   "metadata": {},
   "outputs": [],
   "source": [
    "#Transform with square root\n",
    "data_test['sqr_Horizontal_Distance_To_firepoints'] = data_test['Horizontal_Distance_To_Fire_Points']**0.5"
   ]
  },
  {
   "cell_type": "markdown",
   "metadata": {},
   "source": [
    "Since square root transformation gives the best result in skewness, we will also use sqr for the feature variable."
   ]
  },
  {
   "cell_type": "markdown",
   "metadata": {},
   "source": [
    "<a id='5.2.8'></a>\n",
    "### <font color=green> 5.2.8 Hillshades <font>\n",
    "<a id='5.2.8.1'></a>\n",
    "### <font color=green> 5.2.8.1 Mean Hillshade <font>\n",
    "#### <font color=green> Creation of new Feature: Mean Hillshade <font>"
   ]
  },
  {
   "cell_type": "code",
   "execution_count": 21,
   "metadata": {},
   "outputs": [],
   "source": [
    "# We take the average of Hillshades,which gives you the average light exposure of each cover type during the day\n",
    "data_test['Mean_Hillshade'] = (data_test['Hillshade_9am']+data_test['Hillshade_Noon']+data_test['Hillshade_3pm'])/3"
   ]
  },
  {
   "cell_type": "code",
   "execution_count": 22,
   "metadata": {},
   "outputs": [],
   "source": [
    "#Itensity of the Hillshade variables in 3 bin siizes with the bin discretizer\n",
    "est = KBinsDiscretizer(n_bins=3, encode='ordinal', strategy='uniform')\n",
    "data_test['Mean_Hillshade_bin'] = est.fit_transform(data_test[['Mean_Hillshade']])"
   ]
  },
  {
   "cell_type": "markdown",
   "metadata": {},
   "source": [
    "#### <font color=green> Results after logarithm Transformation <font color=darkcyan>, Square root Transformation<font color=gold> and BoxCox Transformation<font>"
   ]
  },
  {
   "cell_type": "code",
   "execution_count": 23,
   "metadata": {},
   "outputs": [],
   "source": [
    "#Now, the Box-Cox transformation also requires our data to only contain positive numbers\n",
    "# transform training data with Boxcox\n",
    "data_test['Mean_Hillshade_boxcox'], _ = stats.boxcox(data_test['Mean_Hillshade'])"
   ]
  },
  {
   "cell_type": "markdown",
   "metadata": {},
   "source": [
    "The distribution did not improve with Square Root and Logarithms Transformation. Hence we use BoxCox which improved the distribution substantially. "
   ]
  },
  {
   "cell_type": "markdown",
   "metadata": {},
   "source": [
    "<a id='5.2.8.2'></a>\n",
    "### <font color=green> 5.2.8.2 Hillshade 9am <font>\n",
    "#### <font color=green> Transformation  <font>"
   ]
  },
  {
   "cell_type": "markdown",
   "metadata": {},
   "source": [
    "#### <font color=green> Results after logarithm Transformation <font color=darkcyan>, Square root Transformation<font color=gold> and BoxCox Transformation<font>"
   ]
  },
  {
   "cell_type": "code",
   "execution_count": 24,
   "metadata": {},
   "outputs": [],
   "source": [
    "data_test['log_Hillshade_9am'] = np.log(data_test['Hillshade_9am']+1)"
   ]
  },
  {
   "cell_type": "code",
   "execution_count": 25,
   "metadata": {},
   "outputs": [],
   "source": [
    "data_test['sqr_Hillshade_9am'] = data_test['Hillshade_9am']**0.5"
   ]
  },
  {
   "cell_type": "code",
   "execution_count": 26,
   "metadata": {},
   "outputs": [],
   "source": [
    "#Now, the Box-Cox transformation also requires our data to only contain positive numbers, transform training data with Boxcox\n",
    "data_test['Hillshade_9am_boxcox'], lam  = stats.boxcox(data_test['Hillshade_9am']+1)\n",
    "#lam is the best lambda for the distribution"
   ]
  },
  {
   "cell_type": "markdown",
   "metadata": {},
   "source": [
    "BoxCox outperforms the other two for the Hillshade 9am "
   ]
  },
  {
   "cell_type": "code",
   "execution_count": 27,
   "metadata": {},
   "outputs": [],
   "source": [
    "data_test.drop(['log_Hillshade_9am','sqr_Hillshade_9am'], axis=1,inplace=True)"
   ]
  },
  {
   "cell_type": "markdown",
   "metadata": {},
   "source": [
    "<a id='5.2.8.3'></a>\n",
    "### <font color=green> 5.2.8.3 Hillshade Noon <font>\n",
    "#### <font color=green> Transformation  <font>"
   ]
  },
  {
   "cell_type": "markdown",
   "metadata": {},
   "source": [
    "#### <font color=green> Results after logarithm Transformation <font color=darkcyan>, Square root Transformation<font color=gold> and BoxCox Transformation<font>"
   ]
  },
  {
   "cell_type": "code",
   "execution_count": 28,
   "metadata": {},
   "outputs": [],
   "source": [
    "data_test['log_Hillshade_Noon'] = np.log(data_test['Hillshade_Noon']+1)"
   ]
  },
  {
   "cell_type": "code",
   "execution_count": 29,
   "metadata": {},
   "outputs": [],
   "source": [
    "data_test['sqr_Hillshade_Noon'] = data_test['Hillshade_Noon']**0.5"
   ]
  },
  {
   "cell_type": "raw",
   "metadata": {},
   "source": [
    "#Now, the Box-Cox transformation also requires our data to only contain positive numbers, transform training data with Boxcox\n",
    "data_test['Hillshade_Noon_boxcox'], lam  = stats.boxcox(data_test['Hillshade_Noon'])\n",
    "#lam is the best lambda for the distribution"
   ]
  },
  {
   "cell_type": "markdown",
   "metadata": {},
   "source": [
    "Box Coc is outperforming the other transformations for Hillshade Noon"
   ]
  },
  {
   "cell_type": "code",
   "execution_count": 30,
   "metadata": {},
   "outputs": [],
   "source": [
    "data_test.drop(['log_Hillshade_Noon','sqr_Hillshade_Noon'], axis=1,inplace=True)"
   ]
  },
  {
   "cell_type": "markdown",
   "metadata": {},
   "source": [
    "<a id='5.2.8.4'></a>\n",
    "### <font color=green> 5.2.8.4 Hillshade 3pm <font>\n",
    "#### <font color=green> Transformation  <font>"
   ]
  },
  {
   "cell_type": "markdown",
   "metadata": {},
   "source": [
    "#### <font color=green> Results after logarithm Transformation <font color=darkcyan>, Square root Transformation<font color=gold> and BoxCox Transformation<font>"
   ]
  },
  {
   "cell_type": "code",
   "execution_count": 31,
   "metadata": {},
   "outputs": [],
   "source": [
    "#Now, the Box-Cox transformation also requires our data to only contain positive numbers, transform training data with Boxcox\n",
    "data_test['Hillshade_3pm_boxcox'], lam  = stats.boxcox(data_test['Hillshade_3pm']+1)\n",
    "#lam is the best lambda for the distribution"
   ]
  },
  {
   "cell_type": "markdown",
   "metadata": {},
   "source": [
    "For the Hillshade 3pm the data was not highly skwed, we either keep the original or we can use boxcox as it improved the variables as well. "
   ]
  },
  {
   "cell_type": "markdown",
   "metadata": {},
   "source": [
    "<a id='5.2.8.5'></a>\n",
    "### <font color=green> 5.2.8.5 Hillshades  Ratios <font>"
   ]
  },
  {
   "cell_type": "code",
   "execution_count": 32,
   "metadata": {},
   "outputs": [],
   "source": [
    "data_test['ratio_Hillshade_3pm'] = data_test['Hillshade_3pm']/255\n",
    "data_test['ratio_Hillshade_Noon'] = data_test['Hillshade_Noon']/255\n",
    "data_test['ratio_Hillshade_9am'] = data_test['Hillshade_9am']/255"
   ]
  },
  {
   "cell_type": "code",
   "execution_count": 33,
   "metadata": {},
   "outputs": [],
   "source": [
    "data_test['Hillshade_9am_bin'] = data_test['Hillshade_9am'] > 150\n",
    "data_test['Hillshade_Noon_bin'] = data_test['Hillshade_Noon'] > 150\n",
    "data_test['Hillshade_3pm_bin'] = data_test['Hillshade_3pm'] > 150"
   ]
  },
  {
   "cell_type": "code",
   "execution_count": 34,
   "metadata": {},
   "outputs": [],
   "source": [
    "data_test['Hillshade_9am_bin'] = data_test['Hillshade_9am_bin'].astype(int)\n",
    "data_test['Hillshade_Noon_bin'] = data_test['Hillshade_Noon_bin'].astype(int)\n",
    "data_test['Hillshade_3pm_bin'] = data_test['Hillshade_3pm_bin'].astype(int)"
   ]
  },
  {
   "cell_type": "code",
   "execution_count": 35,
   "metadata": {},
   "outputs": [],
   "source": [
    "data_test['Hillshade_allday_bin'] = data_test['Hillshade_9am_bin'] * data_test['Hillshade_Noon_bin'] * data_test['Hillshade_3pm_bin']"
   ]
  },
  {
   "cell_type": "code",
   "execution_count": 36,
   "metadata": {},
   "outputs": [
    {
     "data": {
      "text/plain": [
       "0    349714\n",
       "1    216178\n",
       "Name: Hillshade_allday_bin, dtype: int64"
      ]
     },
     "execution_count": 36,
     "metadata": {},
     "output_type": "execute_result"
    }
   ],
   "source": [
    "data_test['Hillshade_allday_bin'].value_counts()"
   ]
  },
  {
   "cell_type": "markdown",
   "metadata": {},
   "source": [
    "<a id='5.2.8.6'></a>\n",
    "### <font color=green> 5.2.8.6 Aspect <font>\n",
    "#### <font color=green> Transformation  <font>"
   ]
  },
  {
   "cell_type": "markdown",
   "metadata": {},
   "source": [
    "#### <font color=green> Results after logarithm Transformation <font color=darkcyan>and Square root Transformation<font>"
   ]
  },
  {
   "cell_type": "code",
   "execution_count": 37,
   "metadata": {},
   "outputs": [],
   "source": [
    "data_test['sqr_Aspect'] = data_test['Aspect']**0.5"
   ]
  },
  {
   "cell_type": "markdown",
   "metadata": {},
   "source": [
    "In here we are transforming the ratios into a unit scale by dividing by its index. We do so because we think it is much easier to understand"
   ]
  },
  {
   "cell_type": "code",
   "execution_count": 38,
   "metadata": {},
   "outputs": [],
   "source": [
    "data_test['ratio_Hillshade_3pm'] = data_test['Hillshade_3pm']/255\n",
    "data_test['ratio_Hillshade_Noon'] = data_test['Hillshade_Noon']/255\n",
    "data_test['ratio_Hillshade_9am'] = data_test['Hillshade_9am']/255"
   ]
  },
  {
   "cell_type": "markdown",
   "metadata": {},
   "source": [
    "\n",
    "<a id='5.2.8.8'></a>\n",
    "### <font color=green> 5.2.8.8 Elevation <font>"
   ]
  },
  {
   "cell_type": "markdown",
   "metadata": {},
   "source": [
    "No transformation is done as it is already very symetric distributed \n"
   ]
  },
  {
   "cell_type": "code",
   "execution_count": 39,
   "metadata": {},
   "outputs": [],
   "source": [
    "data_test['binned_elevation'] = [math.floor(v/50.0) for v in data_test['Elevation']]"
   ]
  },
  {
   "cell_type": "markdown",
   "metadata": {},
   "source": [
    "We are making more features byt summing and substracing different combinations similar in terms of units"
   ]
  },
  {
   "cell_type": "markdown",
   "metadata": {},
   "source": [
    "Addition and Substraction on the same scale\n",
    "Using for loop was giving us a bad performance hence we are using the features on the same scale which to add or substract "
   ]
  },
  {
   "cell_type": "raw",
   "metadata": {},
   "source": [
    "data_test['Road+Fire'] = data_test['Horizontal_Distance_To_Roadways'] + data_test['Horizontal_Distance_To_Fire_Points']\n",
    "data_test['Road-Fire'] = abs(data_test['Horizontal_Distance_To_Roadways'] - data_test['Horizontal_Distance_To_Fire_Points'])\n",
    "data_test['Road+Hydro'] = data_test['Horizontal_Distance_To_Roadways'] + data_test['Horizontal_Distance_To_Hydrology']\n",
    "data_test['Road-Hydro'] = abs(data_test['Horizontal_Distance_To_Roadways'] - data_test['Horizontal_Distance_To_Hydrology'])\n",
    "data_test['Hydro+Fire'] = data_test['Horizontal_Distance_To_Hydrology'] + data_test['Horizontal_Distance_To_Fire_Points']\n",
    "data_test['Hydro-Fire'] = abs(data_test['Horizontal_Distance_To_Hydrology'] - data_test['Horizontal_Distance_To_Fire_Points'])\n",
    "\n",
    "data_test['Road+Fire+Hydro'] = data_test['Horizontal_Distance_To_Roadways']  + data_test['Horizontal_Distance_To_Fire_Points'] + data_test['Horizontal_Distance_To_Hydrology']\n",
    "\n",
    "data_test['Ele+Road+Fire+Hydro'] = data_test['Elevation'] + data_test['Horizontal_Distance_To_Roadways']  + data_test['Horizontal_Distance_To_Fire_Points'] + data_test['Horizontal_Distance_To_Hydrology']\n",
    "\n",
    "data_test['Ele+road'] = data_test['Elevation'] + data_test['Horizontal_Distance_To_Roadways']\n",
    "data_test['Ele-road'] = abs(data_test['Elevation'] - data_test['Horizontal_Distance_To_Roadways'])\n",
    "data_test['Ele+fire'] = data_test['Elevation'] + data_test['Horizontal_Distance_To_Fire_Points']\n",
    "data_test['Ele-fire'] = abs(data_test['Elevation'] - data_test['Horizontal_Distance_To_Fire_Points'])\n",
    "data_test['Ele+hydro'] = data_test['Elevation'] + data_test['Horizontal_Distance_To_Hydrology']\n",
    "data_test['Ele-hydro'] = abs(data_test['Elevation'] - data_test['Horizontal_Distance_To_Hydrology'])"
   ]
  },
  {
   "cell_type": "code",
   "execution_count": 40,
   "metadata": {},
   "outputs": [],
   "source": [
    "data_test['sqr_Road+Fire'] = (data_test['Horizontal_Distance_To_Roadways'] + data_test['Horizontal_Distance_To_Fire_Points'])**0.5\n",
    "data_test['sqr_Road-Fire'] = (abs(data_test['Horizontal_Distance_To_Roadways'] - data_test['Horizontal_Distance_To_Fire_Points']))**0.5\n",
    "data_test['sqr_Road+Hydro'] = (data_test['Horizontal_Distance_To_Roadways'] + data_test['Horizontal_Distance_To_Hydrology'])**0.5\n",
    "data_test['sqr_Road-Hydro'] = (abs(data_test['Horizontal_Distance_To_Roadways'] - data_test['Horizontal_Distance_To_Hydrology']))**0.5\n",
    "data_test['sqr_Hydro+Fire'] = (data_test['Horizontal_Distance_To_Hydrology'] + data_test['Horizontal_Distance_To_Fire_Points'])**0.5\n",
    "data_test['sqr_Hydro-Fire'] = (abs(data_test['Horizontal_Distance_To_Hydrology'] - data_test['Horizontal_Distance_To_Fire_Points']))**0.5\n",
    "\n",
    "data_test['sqr_Road+Fire+Hydro'] = (data_test['Horizontal_Distance_To_Roadways']  + data_test['Horizontal_Distance_To_Fire_Points'] + data_test['Horizontal_Distance_To_Hydrology'])**0.5\n",
    "\n",
    "data_test['sqr_Ele+Road+Fire+Hydro'] = (data_test['Elevation'] + data_test['Horizontal_Distance_To_Roadways']  + data_test['Horizontal_Distance_To_Fire_Points'] + data_test['Horizontal_Distance_To_Hydrology'])**0.5\n",
    "\n",
    "data_test['sqr_Ele+road'] = (data_test['Elevation'] + data_test['Horizontal_Distance_To_Roadways'])**0.5\n",
    "data_test['sqr_Ele-road'] = (abs(data_test['Elevation'] - data_test['Horizontal_Distance_To_Roadways']))**0.5\n",
    "data_test['sqr_Ele+fire'] = (data_test['Elevation'] + data_test['Horizontal_Distance_To_Fire_Points'])**0.5\n",
    "data_test['sqr_Ele-fire'] = (abs(data_test['Elevation'] - data_test['Horizontal_Distance_To_Fire_Points']))**0.5\n",
    "data_test['sqr_Ele+hydro'] = (data_test['Elevation'] + data_test['Horizontal_Distance_To_Hydrology'])**0.5\n",
    "data_test['sqr_Ele-hydro'] = (abs(data_test['Elevation'] - data_test['Horizontal_Distance_To_Hydrology']))**0.5"
   ]
  },
  {
   "cell_type": "markdown",
   "metadata": {},
   "source": [
    "### <font color=green> 5.2.9 Geoclimate grouping  <font>"
   ]
  },
  {
   "cell_type": "markdown",
   "metadata": {},
   "source": [
    "#### <font color=green> 5.2.9.1 Climatic feature engineering to group soils  <font>"
   ]
  },
  {
   "cell_type": "markdown",
   "metadata": {},
   "source": [
    "#### <font color=green> 5.2.9.2 Climatic Zone feature engineering to group soils  <font>"
   ]
  },
  {
   "cell_type": "code",
   "execution_count": 41,
   "metadata": {},
   "outputs": [],
   "source": [
    "data_test[\"Lower_Montane_Climate\"] = data_test.loc[:,data_test.columns.str.contains(\"^Soil_Type[23456]$\")].max(axis=1)"
   ]
  },
  {
   "cell_type": "code",
   "execution_count": 42,
   "metadata": {},
   "outputs": [],
   "source": [
    "data_test['Montane_Dry_Climate'] =data_test.loc[:,data_test.columns.str.contains(\"^Soil_Type[78]$\")].max(axis=1)"
   ]
  },
  {
   "cell_type": "code",
   "execution_count": 43,
   "metadata": {},
   "outputs": [],
   "source": [
    "data_test['Montane_Climate'] =data_test.loc[:,data_test.columns.str.contains(\"^Soil_Type[1][0123]$|Soil_Type[9]$\")].max(axis=1)"
   ]
  },
  {
   "cell_type": "code",
   "execution_count": 44,
   "metadata": {},
   "outputs": [],
   "source": [
    "data_test['Montane_Dry_and_Montane_Climate'] =data_test.loc[:,data_test.columns.str.contains(\"^Soil_Type[1][45]$\")].max(axis=1)"
   ]
  },
  {
   "cell_type": "code",
   "execution_count": 45,
   "metadata": {},
   "outputs": [],
   "source": [
    "data_test['Montante_and_Subalpine_Climate'] =data_test.loc[:,data_test.columns.str.contains(\"^Soil_Type[1][678]$\")].max(axis=1)\n"
   ]
  },
  {
   "cell_type": "code",
   "execution_count": 46,
   "metadata": {},
   "outputs": [],
   "source": [
    "data_test['Subalpine_Climate'] =data_test.loc[:,data_test.columns.str.contains(\"^Soil_Type19$|^Soil_Type[2][0-9]$|^Soil_Type[3][0-4]$\")].max(axis=1)\n"
   ]
  },
  {
   "cell_type": "code",
   "execution_count": 47,
   "metadata": {},
   "outputs": [],
   "source": [
    "data_test['Alpine_Climate'] =data_test.loc[:,data_test.columns.str.contains(\"^Soil_Type[3][56789]$|Soil_Type40\")].max(axis=1)"
   ]
  },
  {
   "cell_type": "markdown",
   "metadata": {},
   "source": [
    "#### <font color=green> 5.2.9.2 Geological feature engineering to group soils  <font>"
   ]
  },
  {
   "cell_type": "code",
   "execution_count": 48,
   "metadata": {},
   "outputs": [],
   "source": [
    "data_test['Alluvium_Soil'] = data_test.loc[:,data_test.columns.str.contains(\"^Soil_Type[1][45679]$|^Soil_Type[2][01]$\")].max(axis=1)"
   ]
  },
  {
   "cell_type": "code",
   "execution_count": 49,
   "metadata": {},
   "outputs": [],
   "source": [
    "data_test['Glacial_Soil'] =data_test.loc[:,data_test.columns.str.contains(\"^Soil_Type[9]$|^Soil_Type[2][23]$\")].max(axis=1)"
   ]
  },
  {
   "cell_type": "code",
   "execution_count": 50,
   "metadata": {},
   "outputs": [],
   "source": [
    "data_test['Mixed_Sedimentary_Soil'] =data_test.loc[:,data_test.columns.str.contains(\"^Soil_Type[7-8]$\")].max(axis=1)"
   ]
  },
  {
   "cell_type": "code",
   "execution_count": 51,
   "metadata": {},
   "outputs": [],
   "source": [
    "data_test['Igneus_and_Metamorphic_Soil'] =data_test.loc[:,data_test.columns.str.contains(\"^Soil_Type[1-6]$|^Soil_Type[1][01238]$|^Soil_Type[3-4]\\d$|^Soil_Type[2][4-9]$\")].max(axis=1)"
   ]
  },
  {
   "cell_type": "markdown",
   "metadata": {},
   "source": [
    "Based on the medium paper \"Preprocessing: Why you should generate polynominal features first before standardizing\" mention it is not good practice to standardize the variablesbefore before PolynominalFeatures. This should be done after to not loss the signal of the variables.  "
   ]
  },
  {
   "cell_type": "raw",
   "metadata": {},
   "source": [
    "# Identify and drop our target variable 'Cover_Type' from dataframe, isolating our independent variables\n",
    "X = data_test.drop('Cover_Type', axis = 1)\n",
    "\n",
    "# Isolate our dependent variable as a feature\n",
    "y = data_test['Cover_Type']"
   ]
  },
  {
   "cell_type": "markdown",
   "metadata": {},
   "source": [
    "### <font color=green> 5.6 Soil Type Family  <font>"
   ]
  },
  {
   "cell_type": "markdown",
   "metadata": {},
   "source": [
    "Note: Soil type is a single variable which has been one-hot encoded presumably , so we will reverse engineer the soil type. We will eventually drop the original soil type columns which has the added effect of significantly reducing the total number of features."
   ]
  },
  {
   "cell_type": "code",
   "execution_count": 52,
   "metadata": {},
   "outputs": [],
   "source": [
    "# Original soil features\n",
    "soil_features = [f'Soil_Type{i}' for i in range(1,41)]"
   ]
  },
  {
   "cell_type": "code",
   "execution_count": 53,
   "metadata": {},
   "outputs": [],
   "source": [
    "# Drop original soil features\n",
    "data_test.drop(columns = soil_features, inplace = True)"
   ]
  },
  {
   "cell_type": "code",
   "execution_count": 54,
   "metadata": {},
   "outputs": [],
   "source": [
    "#test if elevation makes a difference to take out with the new interaction model improves\n",
    "data_test = data_test.drop(['Elevation^2'], axis = 1)\n",
    "data_test = data_test.drop(['Elevation'], axis = 1)"
   ]
  },
  {
   "cell_type": "markdown",
   "metadata": {},
   "source": [
    "Removing the original scaled variables did not improve nor worsen the model. Since it does not change much the score, we remove it as we have it double in the model with the scaled features. "
   ]
  },
  {
   "cell_type": "markdown",
   "metadata": {},
   "source": [
    "### Locking all features in a csv"
   ]
  },
  {
   "cell_type": "markdown",
   "metadata": {},
   "source": [
    "For the shake of efficiency, we create a csv file to reuse also later on in part III"
   ]
  },
  {
   "cell_type": "code",
   "execution_count": 55,
   "metadata": {},
   "outputs": [],
   "source": [
    "data_test_conformed = data_test[['Wilderness_Area4',\n",
    " 'Subalpine_Climate',\n",
    " 'Alpine_Climate',\n",
    " 'sqr_Road-Hydro',\n",
    " 'sqr_Road-Fire',\n",
    " 'sqr_Road+Fire',\n",
    " 'binned_elevation',\n",
    " 'Wilderness_Area3',\n",
    " 'Wilderness_Area1',\n",
    " 'Montane_Climate',\n",
    " 'Lower_Montane_Climate',\n",
    " 'Horizontal_Distance_To_Roadways_x_Horizontal_Distance_To_Fire_Points',\n",
    " 'sqr_Road+Fire+Hydro',\n",
    " 'sqr_Ele-hydro',\n",
    " 'sqr_Ele+road',\n",
    " 'sqr_Ele+hydro',\n",
    " 'sqr_Ele+fire',\n",
    " 'sqr_Ele+Road+Fire+Hydro',\n",
    " 'Horizontal_Distance_To_Roadways^2',\n",
    " 'Hillshade_9am_x_Hillshade_Noon',\n",
    " 'Elevation_x_Hillshade_Noon',\n",
    " 'Elevation_x_Hillshade_9am',\n",
    " 'sqr_Road+Hydro',\n",
    " 'sqr_Ele-road',\n",
    " 'sqr_Ele-fire',\n",
    " 'sqr_Distance_To_Hydrology',\n",
    " 'Sqr_Horizontal_Distance_To_Roadways',\n",
    " 'Igneus_and_Metamorphic_Soil',\n",
    " 'Horizontal_Distance_To_Roadways_x_Hillshade_Noon',\n",
    " 'Horizontal_Distance_To_Roadways_x_Hillshade_9am',\n",
    " 'Horizontal_Distance_To_Hydrology_x_Hillshade_3pm',\n",
    " 'Hillshade_Noon_x_Horizontal_Distance_To_Fire_Points',\n",
    " 'Hillshade_9am_boxcox',\n",
    " 'Elevation_x_Horizontal_Distance_To_Roadways',\n",
    " 'Elevation_x_Horizontal_Distance_To_Hydrology']]"
   ]
  },
  {
   "cell_type": "code",
   "execution_count": 56,
   "metadata": {},
   "outputs": [
    {
     "data": {
      "text/html": [
       "<div>\n",
       "<style scoped>\n",
       "    .dataframe tbody tr th:only-of-type {\n",
       "        vertical-align: middle;\n",
       "    }\n",
       "\n",
       "    .dataframe tbody tr th {\n",
       "        vertical-align: top;\n",
       "    }\n",
       "\n",
       "    .dataframe thead th {\n",
       "        text-align: right;\n",
       "    }\n",
       "</style>\n",
       "<table border=\"1\" class=\"dataframe\">\n",
       "  <thead>\n",
       "    <tr style=\"text-align: right;\">\n",
       "      <th></th>\n",
       "      <th>Wilderness_Area4</th>\n",
       "      <th>Subalpine_Climate</th>\n",
       "      <th>Alpine_Climate</th>\n",
       "      <th>sqr_Road-Hydro</th>\n",
       "      <th>sqr_Road-Fire</th>\n",
       "      <th>sqr_Road+Fire</th>\n",
       "      <th>binned_elevation</th>\n",
       "      <th>Wilderness_Area3</th>\n",
       "      <th>Wilderness_Area1</th>\n",
       "      <th>Montane_Climate</th>\n",
       "      <th>Lower_Montane_Climate</th>\n",
       "      <th>Horizontal_Distance_To_Roadways_x_Horizontal_Distance_To_Fire_Points</th>\n",
       "      <th>sqr_Road+Fire+Hydro</th>\n",
       "      <th>sqr_Ele-hydro</th>\n",
       "      <th>sqr_Ele+road</th>\n",
       "      <th>sqr_Ele+hydro</th>\n",
       "      <th>sqr_Ele+fire</th>\n",
       "      <th>sqr_Ele+Road+Fire+Hydro</th>\n",
       "      <th>Horizontal_Distance_To_Roadways^2</th>\n",
       "      <th>Hillshade_9am_x_Hillshade_Noon</th>\n",
       "      <th>Elevation_x_Hillshade_Noon</th>\n",
       "      <th>Elevation_x_Hillshade_9am</th>\n",
       "      <th>sqr_Road+Hydro</th>\n",
       "      <th>sqr_Ele-road</th>\n",
       "      <th>sqr_Ele-fire</th>\n",
       "      <th>sqr_Distance_To_Hydrology</th>\n",
       "      <th>Sqr_Horizontal_Distance_To_Roadways</th>\n",
       "      <th>Igneus_and_Metamorphic_Soil</th>\n",
       "      <th>Horizontal_Distance_To_Roadways_x_Hillshade_Noon</th>\n",
       "      <th>Horizontal_Distance_To_Roadways_x_Hillshade_9am</th>\n",
       "      <th>Horizontal_Distance_To_Hydrology_x_Hillshade_3pm</th>\n",
       "      <th>Hillshade_Noon_x_Horizontal_Distance_To_Fire_Points</th>\n",
       "      <th>Hillshade_9am_boxcox</th>\n",
       "      <th>Elevation_x_Horizontal_Distance_To_Roadways</th>\n",
       "      <th>Elevation_x_Horizontal_Distance_To_Hydrology</th>\n",
       "    </tr>\n",
       "  </thead>\n",
       "  <tbody>\n",
       "    <tr>\n",
       "      <th>0</th>\n",
       "      <td>0</td>\n",
       "      <td>1</td>\n",
       "      <td>0</td>\n",
       "      <td>51.807335</td>\n",
       "      <td>62.936476</td>\n",
       "      <td>96.586749</td>\n",
       "      <td>53</td>\n",
       "      <td>0</td>\n",
       "      <td>1</td>\n",
       "      <td>0</td>\n",
       "      <td>0</td>\n",
       "      <td>17835180</td>\n",
       "      <td>96.586749</td>\n",
       "      <td>51.768716</td>\n",
       "      <td>73.239334</td>\n",
       "      <td>51.768716</td>\n",
       "      <td>96.566040</td>\n",
       "      <td>109.585583</td>\n",
       "      <td>7203856.0</td>\n",
       "      <td>41944</td>\n",
       "      <td>573520</td>\n",
       "      <td>525280</td>\n",
       "      <td>51.807335</td>\n",
       "      <td>2.000000</td>\n",
       "      <td>62.968246</td>\n",
       "      <td>0.0</td>\n",
       "      <td>51.807335</td>\n",
       "      <td>1</td>\n",
       "      <td>574376</td>\n",
       "      <td>526064</td>\n",
       "      <td>0</td>\n",
       "      <td>1422030</td>\n",
       "      <td>2.453258e+08</td>\n",
       "      <td>7193120</td>\n",
       "      <td>0</td>\n",
       "    </tr>\n",
       "    <tr>\n",
       "      <th>1</th>\n",
       "      <td>0</td>\n",
       "      <td>1</td>\n",
       "      <td>0</td>\n",
       "      <td>51.516987</td>\n",
       "      <td>63.411355</td>\n",
       "      <td>96.586749</td>\n",
       "      <td>53</td>\n",
       "      <td>0</td>\n",
       "      <td>1</td>\n",
       "      <td>0</td>\n",
       "      <td>0</td>\n",
       "      <td>17715450</td>\n",
       "      <td>96.586749</td>\n",
       "      <td>51.797683</td>\n",
       "      <td>73.054774</td>\n",
       "      <td>51.797683</td>\n",
       "      <td>96.736756</td>\n",
       "      <td>109.599270</td>\n",
       "      <td>7043716.0</td>\n",
       "      <td>43416</td>\n",
       "      <td>579528</td>\n",
       "      <td>539283</td>\n",
       "      <td>51.516987</td>\n",
       "      <td>5.385165</td>\n",
       "      <td>63.182276</td>\n",
       "      <td>0.0</td>\n",
       "      <td>51.516987</td>\n",
       "      <td>1</td>\n",
       "      <td>573264</td>\n",
       "      <td>533454</td>\n",
       "      <td>0</td>\n",
       "      <td>1441800</td>\n",
       "      <td>2.706180e+08</td>\n",
       "      <td>7120682</td>\n",
       "      <td>0</td>\n",
       "    </tr>\n",
       "  </tbody>\n",
       "</table>\n",
       "</div>"
      ],
      "text/plain": [
       "   Wilderness_Area4  Subalpine_Climate  Alpine_Climate  sqr_Road-Hydro  \\\n",
       "0                 0                  1               0       51.807335   \n",
       "1                 0                  1               0       51.516987   \n",
       "\n",
       "   sqr_Road-Fire  sqr_Road+Fire  binned_elevation  Wilderness_Area3  \\\n",
       "0      62.936476      96.586749                53                 0   \n",
       "1      63.411355      96.586749                53                 0   \n",
       "\n",
       "   Wilderness_Area1  Montane_Climate  Lower_Montane_Climate  \\\n",
       "0                 1                0                      0   \n",
       "1                 1                0                      0   \n",
       "\n",
       "   Horizontal_Distance_To_Roadways_x_Horizontal_Distance_To_Fire_Points  \\\n",
       "0                                           17835180                      \n",
       "1                                           17715450                      \n",
       "\n",
       "   sqr_Road+Fire+Hydro  sqr_Ele-hydro  sqr_Ele+road  sqr_Ele+hydro  \\\n",
       "0            96.586749      51.768716     73.239334      51.768716   \n",
       "1            96.586749      51.797683     73.054774      51.797683   \n",
       "\n",
       "   sqr_Ele+fire  sqr_Ele+Road+Fire+Hydro  Horizontal_Distance_To_Roadways^2  \\\n",
       "0     96.566040               109.585583                          7203856.0   \n",
       "1     96.736756               109.599270                          7043716.0   \n",
       "\n",
       "   Hillshade_9am_x_Hillshade_Noon  Elevation_x_Hillshade_Noon  \\\n",
       "0                           41944                      573520   \n",
       "1                           43416                      579528   \n",
       "\n",
       "   Elevation_x_Hillshade_9am  sqr_Road+Hydro  sqr_Ele-road  sqr_Ele-fire  \\\n",
       "0                     525280       51.807335      2.000000     62.968246   \n",
       "1                     539283       51.516987      5.385165     63.182276   \n",
       "\n",
       "   sqr_Distance_To_Hydrology  Sqr_Horizontal_Distance_To_Roadways  \\\n",
       "0                        0.0                            51.807335   \n",
       "1                        0.0                            51.516987   \n",
       "\n",
       "   Igneus_and_Metamorphic_Soil  \\\n",
       "0                            1   \n",
       "1                            1   \n",
       "\n",
       "   Horizontal_Distance_To_Roadways_x_Hillshade_Noon  \\\n",
       "0                                            574376   \n",
       "1                                            573264   \n",
       "\n",
       "   Horizontal_Distance_To_Roadways_x_Hillshade_9am  \\\n",
       "0                                           526064   \n",
       "1                                           533454   \n",
       "\n",
       "   Horizontal_Distance_To_Hydrology_x_Hillshade_3pm  \\\n",
       "0                                                 0   \n",
       "1                                                 0   \n",
       "\n",
       "   Hillshade_Noon_x_Horizontal_Distance_To_Fire_Points  Hillshade_9am_boxcox  \\\n",
       "0                                            1422030            2.453258e+08   \n",
       "1                                            1441800            2.706180e+08   \n",
       "\n",
       "   Elevation_x_Horizontal_Distance_To_Roadways  \\\n",
       "0                                      7193120   \n",
       "1                                      7120682   \n",
       "\n",
       "   Elevation_x_Horizontal_Distance_To_Hydrology  \n",
       "0                                             0  \n",
       "1                                             0  "
      ]
     },
     "execution_count": 56,
     "metadata": {},
     "output_type": "execute_result"
    }
   ],
   "source": [
    "data_test_conformed.head(2)"
   ]
  },
  {
   "cell_type": "markdown",
   "metadata": {},
   "source": [
    "## Standardization"
   ]
  },
  {
   "cell_type": "code",
   "execution_count": 57,
   "metadata": {},
   "outputs": [],
   "source": [
    "from sklearn.preprocessing import StandardScaler"
   ]
  },
  {
   "cell_type": "code",
   "execution_count": 58,
   "metadata": {},
   "outputs": [],
   "source": [
    "scaler= StandardScaler()\n",
    "column_list = data_test_conformed.columns\n"
   ]
  },
  {
   "cell_type": "code",
   "execution_count": 59,
   "metadata": {},
   "outputs": [],
   "source": [
    "scale_numerical  = [column for column in column_list if 'Soil' not in column and 'Wilderness_Area' not in  column and 'Aspect_North' not in  column and 'Climate' not in  column and 'Family' not in  column and 'Type' not in  column and 'complex' not in  column and 'Aspect_East' not in  column and 'Aspect_South' not in  column and 'Aspect_West' not in  column ]\n",
    "scale_categorial= [column for column in column_list if column not in scale_numerical ]"
   ]
  },
  {
   "cell_type": "code",
   "execution_count": 60,
   "metadata": {},
   "outputs": [],
   "source": [
    "numerical_test = data_test_conformed.filter(items=scale_numerical)\n",
    "categorial_test = data_test_conformed.filter(items=scale_categorial)"
   ]
  },
  {
   "cell_type": "code",
   "execution_count": 61,
   "metadata": {},
   "outputs": [
    {
     "name": "stderr",
     "output_type": "stream",
     "text": [
      "/var/folders/ks/5bc1x9p158vgc4774v7r2tq40000gn/T/ipykernel_9305/595683994.py:1: SettingWithCopyWarning: \n",
      "A value is trying to be set on a copy of a slice from a DataFrame.\n",
      "Try using .loc[row_indexer,col_indexer] = value instead\n",
      "\n",
      "See the caveats in the documentation: https://pandas.pydata.org/pandas-docs/stable/user_guide/indexing.html#returning-a-view-versus-a-copy\n",
      "  data_test_conformed[scale_numerical] = scaler.fit_transform(data_test_conformed[scale_numerical])\n"
     ]
    }
   ],
   "source": [
    "data_test_conformed[scale_numerical] = scaler.fit_transform(data_test_conformed[scale_numerical])\n"
   ]
  },
  {
   "cell_type": "code",
   "execution_count": 62,
   "metadata": {},
   "outputs": [
    {
     "data": {
      "text/html": [
       "<div>\n",
       "<style scoped>\n",
       "    .dataframe tbody tr th:only-of-type {\n",
       "        vertical-align: middle;\n",
       "    }\n",
       "\n",
       "    .dataframe tbody tr th {\n",
       "        vertical-align: top;\n",
       "    }\n",
       "\n",
       "    .dataframe thead th {\n",
       "        text-align: right;\n",
       "    }\n",
       "</style>\n",
       "<table border=\"1\" class=\"dataframe\">\n",
       "  <thead>\n",
       "    <tr style=\"text-align: right;\">\n",
       "      <th></th>\n",
       "      <th>Wilderness_Area4</th>\n",
       "      <th>Subalpine_Climate</th>\n",
       "      <th>Alpine_Climate</th>\n",
       "      <th>sqr_Road-Hydro</th>\n",
       "      <th>sqr_Road-Fire</th>\n",
       "      <th>sqr_Road+Fire</th>\n",
       "      <th>binned_elevation</th>\n",
       "      <th>Wilderness_Area3</th>\n",
       "      <th>Wilderness_Area1</th>\n",
       "      <th>Montane_Climate</th>\n",
       "      <th>Lower_Montane_Climate</th>\n",
       "      <th>Horizontal_Distance_To_Roadways_x_Horizontal_Distance_To_Fire_Points</th>\n",
       "      <th>sqr_Road+Fire+Hydro</th>\n",
       "      <th>sqr_Ele-hydro</th>\n",
       "      <th>sqr_Ele+road</th>\n",
       "      <th>sqr_Ele+hydro</th>\n",
       "      <th>sqr_Ele+fire</th>\n",
       "      <th>sqr_Ele+Road+Fire+Hydro</th>\n",
       "      <th>Horizontal_Distance_To_Roadways^2</th>\n",
       "      <th>Hillshade_9am_x_Hillshade_Noon</th>\n",
       "      <th>Elevation_x_Hillshade_Noon</th>\n",
       "      <th>Elevation_x_Hillshade_9am</th>\n",
       "      <th>sqr_Road+Hydro</th>\n",
       "      <th>sqr_Ele-road</th>\n",
       "      <th>sqr_Ele-fire</th>\n",
       "      <th>sqr_Distance_To_Hydrology</th>\n",
       "      <th>Sqr_Horizontal_Distance_To_Roadways</th>\n",
       "      <th>Igneus_and_Metamorphic_Soil</th>\n",
       "      <th>Horizontal_Distance_To_Roadways_x_Hillshade_Noon</th>\n",
       "      <th>Horizontal_Distance_To_Roadways_x_Hillshade_9am</th>\n",
       "      <th>Horizontal_Distance_To_Hydrology_x_Hillshade_3pm</th>\n",
       "      <th>Hillshade_Noon_x_Horizontal_Distance_To_Fire_Points</th>\n",
       "      <th>Hillshade_9am_boxcox</th>\n",
       "      <th>Elevation_x_Horizontal_Distance_To_Roadways</th>\n",
       "      <th>Elevation_x_Horizontal_Distance_To_Hydrology</th>\n",
       "    </tr>\n",
       "  </thead>\n",
       "  <tbody>\n",
       "    <tr>\n",
       "      <th>0</th>\n",
       "      <td>0</td>\n",
       "      <td>1</td>\n",
       "      <td>0</td>\n",
       "      <td>0.533966</td>\n",
       "      <td>1.961485</td>\n",
       "      <td>1.855346</td>\n",
       "      <td>-1.062112</td>\n",
       "      <td>0</td>\n",
       "      <td>1</td>\n",
       "      <td>0</td>\n",
       "      <td>0</td>\n",
       "      <td>2.008485</td>\n",
       "      <td>1.771137</td>\n",
       "      <td>-0.021171</td>\n",
       "      <td>0.097371</td>\n",
       "      <td>-1.440131</td>\n",
       "      <td>2.810140</td>\n",
       "      <td>1.672989</td>\n",
       "      <td>-0.088577</td>\n",
       "      <td>-0.769768</td>\n",
       "      <td>-0.995703</td>\n",
       "      <td>-1.042211</td>\n",
       "      <td>0.184814</td>\n",
       "      <td>-2.670861</td>\n",
       "      <td>2.258291</td>\n",
       "      <td>-2.216973</td>\n",
       "      <td>0.365908</td>\n",
       "      <td>1</td>\n",
       "      <td>0.109239</td>\n",
       "      <td>0.065977</td>\n",
       "      <td>-1.148393</td>\n",
       "      <td>3.220548</td>\n",
       "      <td>-0.805786</td>\n",
       "      <td>0.004675</td>\n",
       "      <td>-1.209463</td>\n",
       "    </tr>\n",
       "    <tr>\n",
       "      <th>1</th>\n",
       "      <td>0</td>\n",
       "      <td>1</td>\n",
       "      <td>0</td>\n",
       "      <td>0.517989</td>\n",
       "      <td>1.992011</td>\n",
       "      <td>1.855346</td>\n",
       "      <td>-1.062112</td>\n",
       "      <td>0</td>\n",
       "      <td>1</td>\n",
       "      <td>0</td>\n",
       "      <td>0</td>\n",
       "      <td>1.989157</td>\n",
       "      <td>1.771137</td>\n",
       "      <td>-0.011028</td>\n",
       "      <td>0.081104</td>\n",
       "      <td>-1.431799</td>\n",
       "      <td>2.828038</td>\n",
       "      <td>1.673960</td>\n",
       "      <td>-0.105509</td>\n",
       "      <td>-0.562214</td>\n",
       "      <td>-0.929271</td>\n",
       "      <td>-0.902578</td>\n",
       "      <td>0.166271</td>\n",
       "      <td>-2.397608</td>\n",
       "      <td>2.276083</td>\n",
       "      <td>-2.216973</td>\n",
       "      <td>0.348284</td>\n",
       "      <td>1</td>\n",
       "      <td>0.106183</td>\n",
       "      <td>0.087711</td>\n",
       "      <td>-1.148393</td>\n",
       "      <td>3.285827</td>\n",
       "      <td>-0.629869</td>\n",
       "      <td>-0.010073</td>\n",
       "      <td>-1.209463</td>\n",
       "    </tr>\n",
       "  </tbody>\n",
       "</table>\n",
       "</div>"
      ],
      "text/plain": [
       "   Wilderness_Area4  Subalpine_Climate  Alpine_Climate  sqr_Road-Hydro  \\\n",
       "0                 0                  1               0        0.533966   \n",
       "1                 0                  1               0        0.517989   \n",
       "\n",
       "   sqr_Road-Fire  sqr_Road+Fire  binned_elevation  Wilderness_Area3  \\\n",
       "0       1.961485       1.855346         -1.062112                 0   \n",
       "1       1.992011       1.855346         -1.062112                 0   \n",
       "\n",
       "   Wilderness_Area1  Montane_Climate  Lower_Montane_Climate  \\\n",
       "0                 1                0                      0   \n",
       "1                 1                0                      0   \n",
       "\n",
       "   Horizontal_Distance_To_Roadways_x_Horizontal_Distance_To_Fire_Points  \\\n",
       "0                                           2.008485                      \n",
       "1                                           1.989157                      \n",
       "\n",
       "   sqr_Road+Fire+Hydro  sqr_Ele-hydro  sqr_Ele+road  sqr_Ele+hydro  \\\n",
       "0             1.771137      -0.021171      0.097371      -1.440131   \n",
       "1             1.771137      -0.011028      0.081104      -1.431799   \n",
       "\n",
       "   sqr_Ele+fire  sqr_Ele+Road+Fire+Hydro  Horizontal_Distance_To_Roadways^2  \\\n",
       "0      2.810140                 1.672989                          -0.088577   \n",
       "1      2.828038                 1.673960                          -0.105509   \n",
       "\n",
       "   Hillshade_9am_x_Hillshade_Noon  Elevation_x_Hillshade_Noon  \\\n",
       "0                       -0.769768                   -0.995703   \n",
       "1                       -0.562214                   -0.929271   \n",
       "\n",
       "   Elevation_x_Hillshade_9am  sqr_Road+Hydro  sqr_Ele-road  sqr_Ele-fire  \\\n",
       "0                  -1.042211        0.184814     -2.670861      2.258291   \n",
       "1                  -0.902578        0.166271     -2.397608      2.276083   \n",
       "\n",
       "   sqr_Distance_To_Hydrology  Sqr_Horizontal_Distance_To_Roadways  \\\n",
       "0                  -2.216973                             0.365908   \n",
       "1                  -2.216973                             0.348284   \n",
       "\n",
       "   Igneus_and_Metamorphic_Soil  \\\n",
       "0                            1   \n",
       "1                            1   \n",
       "\n",
       "   Horizontal_Distance_To_Roadways_x_Hillshade_Noon  \\\n",
       "0                                          0.109239   \n",
       "1                                          0.106183   \n",
       "\n",
       "   Horizontal_Distance_To_Roadways_x_Hillshade_9am  \\\n",
       "0                                         0.065977   \n",
       "1                                         0.087711   \n",
       "\n",
       "   Horizontal_Distance_To_Hydrology_x_Hillshade_3pm  \\\n",
       "0                                         -1.148393   \n",
       "1                                         -1.148393   \n",
       "\n",
       "   Hillshade_Noon_x_Horizontal_Distance_To_Fire_Points  Hillshade_9am_boxcox  \\\n",
       "0                                           3.220548               -0.805786   \n",
       "1                                           3.285827               -0.629869   \n",
       "\n",
       "   Elevation_x_Horizontal_Distance_To_Roadways  \\\n",
       "0                                     0.004675   \n",
       "1                                    -0.010073   \n",
       "\n",
       "   Elevation_x_Horizontal_Distance_To_Hydrology  \n",
       "0                                     -1.209463  \n",
       "1                                     -1.209463  "
      ]
     },
     "execution_count": 62,
     "metadata": {},
     "output_type": "execute_result"
    }
   ],
   "source": [
    "data_test_conformed.head(2)"
   ]
  },
  {
   "cell_type": "markdown",
   "metadata": {},
   "source": [
    "This code below have all features that we did in the feature engineering part and transport this to csv before we actually use the feature selection methods and select only few variables. "
   ]
  },
  {
   "cell_type": "code",
   "execution_count": 63,
   "metadata": {},
   "outputs": [],
   "source": [
    "#Only X_Train replacement\n",
    "data_test_conformed.to_csv('selected_features_test.csv')\n"
   ]
  }
 ],
 "metadata": {
  "kernelspec": {
   "display_name": "Python 3 (ipykernel)",
   "language": "python",
   "name": "python3"
  },
  "language_info": {
   "codemirror_mode": {
    "name": "ipython",
    "version": 3
   },
   "file_extension": ".py",
   "mimetype": "text/x-python",
   "name": "python",
   "nbconvert_exporter": "python",
   "pygments_lexer": "ipython3",
   "version": "3.9.12"
  }
 },
 "nbformat": 4,
 "nbformat_minor": 2
}
