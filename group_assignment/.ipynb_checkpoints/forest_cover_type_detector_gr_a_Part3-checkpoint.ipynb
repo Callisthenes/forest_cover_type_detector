{
 "cells": [
  {
   "cell_type": "markdown",
   "metadata": {},
   "source": [
    "<img src=\"ml2_group_assignment.png\" width=\"800\"/>"
   ]
  },
  {
   "cell_type": "markdown",
   "metadata": {},
   "source": [
    "# <font color=green> Introduction </font>\n",
    "\n",
    "This is a continuation of forest_cover_type_detector_gr_a_Part2.\n",
    "\n",
    "Above we import the files created in the previous notebook so that this notebook can run independently\n",
    "\n",
    "Table of contents is an extension of the previous notebook"
   ]
  },
  {
   "cell_type": "markdown",
   "metadata": {},
   "source": [
    "<img src=\"tree_types.png\" width=\"800\"/>"
   ]
  },
  {
   "cell_type": "markdown",
   "metadata": {},
   "source": [
    "# <font color=green> Table of contents </font>\n",
    "\n",
    "* [Libaries used](#0)\n",
    "* [1. Import Data](#1)\n",
    "  * [1.1.Original Data & Standardization](#1.1)\n",
    "  * [1.2.All features & Standardization](#1.2)  \n",
    "  * [1.3.Features selected & Standardization](#1.3)   \n",
    "  \n",
    "* [2.__Rerun the model on selected Features__](#2)  \n",
    "  * [2.1.Correlation Heatmap](#2.1)\n",
    "      * [2.1.1 Removing correlated features](#2.1.1)\n",
    "      \n",
    "* [__7. ML Algorithms after feature selection__](#7)\n",
    "  * [7.1 Decision Trees](#7.1)\n",
    "      * [7.1.1 Single Tree](#7.1.1)\n",
    "  * [7.2 XGBoost](#7.2)  \n",
    "  * [7.3 Extra Tree Classifier](#7.3)\n",
    "  * [7.4 Random Forest](#7.4)    \n",
    "      * [7.4.1 Bagging](#7.1.1)  \n",
    "  * [7.5 KNN](#7.5)\n",
    "  * [7.6 SVM](#7.6)\n",
    "  * [7.7 Naive Bayes](#7.7)\n",
    "  * [7.8 Logistic Regression](#7.8)\n",
    "  * [7.9 Ensemble Methods](#7.4)\n",
    "  \n",
    "  \n",
    "* [__8. ML Algorithms after Dimensionality Reduction__](#8)\n",
    "  * [8.1 PCA Dimensionality reduction ](#8.1)\n",
    "      * [8.1.1 Random Forest](#8.1.1)\n",
    "      * [8.1.2 XGBoost](#8.1.2)      \n",
    "      * [8.1.3 Logistic Regression](#8.1.3)     \n",
    "      * [8.1.4 Extra Tree Classifier](#8.1.4)\n",
    "      * [8.1.5 Ensemble Methods](#8.1.5)      \n",
    "  * [8.2 LDA Dimensionality reduction ](#8.2)      \n",
    "  \n",
    "* [9. Final Submission](#9)"
   ]
  },
  {
   "cell_type": "markdown",
   "metadata": {},
   "source": [
    "<a id='0'></a>\n",
    "# <font color=green> Libraries used </font>"
   ]
  },
  {
   "cell_type": "code",
   "execution_count": 1,
   "metadata": {},
   "outputs": [],
   "source": [
    "#!pip install squarify\n",
    "#!pip install GraphViz\n",
    "#pip install pygraphviz\n",
    "#!pip install pydotplus\n",
    "#!pip install xgboost\n",
    "#!pip install dtreeviz"
   ]
  },
  {
   "cell_type": "code",
   "execution_count": 2,
   "metadata": {},
   "outputs": [
    {
     "data": {
      "text/html": [
       "        <script type=\"text/javascript\">\n",
       "        window.PlotlyConfig = {MathJaxConfig: 'local'};\n",
       "        if (window.MathJax) {MathJax.Hub.Config({SVG: {font: \"STIX-Web\"}});}\n",
       "        if (typeof require !== 'undefined') {\n",
       "        require.undef(\"plotly\");\n",
       "        requirejs.config({\n",
       "            paths: {\n",
       "                'plotly': ['https://cdn.plot.ly/plotly-2.9.0.min']\n",
       "            }\n",
       "        });\n",
       "        require(['plotly'], function(Plotly) {\n",
       "            window._Plotly = Plotly;\n",
       "        });\n",
       "        }\n",
       "        </script>\n",
       "        "
      ]
     },
     "metadata": {},
     "output_type": "display_data"
    }
   ],
   "source": [
    "import warnings\n",
    "import numpy as np # linear algebra\n",
    "import pandas as pd # data processing, CSV file I/O (e.g. pd.read_csv)\n",
    "import matplotlib.pyplot as plt\n",
    "\n",
    "import plotly.offline as py\n",
    "py.init_notebook_mode(connected=True)\n",
    "import plotly.graph_objs as go\n",
    "import plotly.tools as tls\n",
    "import seaborn as sns\n",
    "import matplotlib.image as mpimg\n",
    "import matplotlib.pyplot as plt\n",
    "\n",
    "import plotly.express as px\n",
    "\n",
    "import pydotplus\n",
    "import xgboost as xgb\n",
    "import matplotlib\n",
    "import squarify\n"
   ]
  },
  {
   "cell_type": "code",
   "execution_count": 3,
   "metadata": {},
   "outputs": [
    {
     "name": "stderr",
     "output_type": "stream",
     "text": [
      "/var/folders/ks/5bc1x9p158vgc4774v7r2tq40000gn/T/ipykernel_794/627927963.py:66: DeprecationWarning:\n",
      "\n",
      "Importing display from IPython.core.display is deprecated since IPython 7.14, please import from IPython display\n",
      "\n"
     ]
    },
    {
     "data": {
      "text/html": [
       "<style>.container { width:100% !important; }</style>"
      ],
      "text/plain": [
       "<IPython.core.display.HTML object>"
      ]
     },
     "metadata": {},
     "output_type": "display_data"
    },
    {
     "data": {
      "text/html": [
       "<style>.rendered_html { font-size: 16px; }</style>"
      ],
      "text/plain": [
       "<IPython.core.display.HTML object>"
      ]
     },
     "metadata": {},
     "output_type": "display_data"
    }
   ],
   "source": [
    "from sklearn.metrics import accuracy_score, confusion_matrix, classification_report,plot_confusion_matrix\n",
    "from sklearn.model_selection import train_test_split, learning_curve, ShuffleSplit\n",
    "\n",
    "from sklearn.model_selection import cross_val_score\n",
    "from sklearn.model_selection import train_test_split\n",
    "from sklearn.model_selection import RandomizedSearchCV\n",
    "from sklearn.model_selection import train_test_split\n",
    "from sklearn.model_selection import learning_curve, ShuffleSplit\n",
    "from sklearn.model_selection import GridSearchCV\n",
    "\n",
    "from sklearn.linear_model import LogisticRegression\n",
    "\n",
    "from sklearn.naive_bayes import BernoulliNB #BernoulliNB is designed for binary/boolean features\n",
    "from sklearn.naive_bayes import MultinomialNB\n",
    "\n",
    "from sklearn.metrics import confusion_matrix\n",
    "from sklearn.metrics import accuracy_score\n",
    "from sklearn.metrics import f1_score\n",
    "from sklearn.metrics import classification_report\n",
    "from sklearn.metrics import f1_score\n",
    "\n",
    "from sklearn.preprocessing import LabelEncoder\n",
    "from sklearn.preprocessing import MinMaxScaler\n",
    "from sklearn.preprocessing import StandardScaler\n",
    "\n",
    "\n",
    "from sklearn.tree import DecisionTreeClassifier\n",
    "from sklearn.tree import DecisionTreeRegressor\n",
    "from sklearn.tree import export_graphviz\n",
    "\n",
    "from dtreeviz.trees import *\n",
    "\n",
    "from sklearn.ensemble import BaggingClassifier\n",
    "from sklearn.ensemble import RandomForestClassifier\n",
    "from sklearn.ensemble import VotingClassifier \n",
    "from sklearn.ensemble import ExtraTreesClassifier, GradientBoostingClassifier\n",
    "from sklearn.ensemble import AdaBoostClassifier\n",
    "\n",
    "from sklearn import metrics\n",
    "from sklearn import svm\n",
    "from sklearn import metrics\n",
    "\n",
    "from sklearn.neighbors import KNeighborsClassifier\n",
    "\n",
    "from sklearn.discriminant_analysis import LinearDiscriminantAnalysis\n",
    "\n",
    "from sklearn.decomposition import PCA\n",
    "\n",
    "from sklearn.svm import SVC\n",
    "\n",
    "from sklearn.compose import make_column_transformer\n",
    "\n",
    "from sklearn.manifold import TSNE\n",
    "\n",
    "from sklearn.multiclass import OneVsRestClassifier\n",
    "from sklearn.svm import SVC\n",
    "\n",
    "from sklearn.tree import export_graphviz\n",
    "\n",
    "from sklearn.pipeline import Pipeline\n",
    "from sklearn.discriminant_analysis import LinearDiscriminantAnalysis\n",
    "\n",
    "from sklearn.manifold import TSNE\n",
    "\n",
    "from IPython.display import Image  \n",
    "from IPython.core.display import display, HTML\n",
    "from IPython.display import Image  \n",
    "\n",
    "from scipy.stats import uniform, randint\n",
    "from scipy.stats import uniform, randint\n",
    "\n",
    "from xgboost import XGBClassifier\n",
    "\n",
    "from io import StringIO\n",
    "\n",
    "from yellowbrick.classifier import ROCAUC\n",
    "from yellowbrick.classifier import ClassPredictionError\n",
    "from yellowbrick.style.palettes import PALETTES, SEQUENCES, color_palette\n",
    "\n",
    "warnings.simplefilter(action='ignore', category=FutureWarning)\n",
    "display(HTML(\"<style>.container { width:100% !important; }</style>\")) # Increase cell width\n",
    "display(HTML(\"<style>.rendered_html { font-size: 16px; }</style>\")) # Increase font size"
   ]
  },
  {
   "cell_type": "markdown",
   "metadata": {},
   "source": [
    "<a id='1'></a>\n",
    "#  <font color=darkgreen>1.Import the Data </font>\n",
    "<a id='1.1'></a>\n",
    "###  <font color=green>1.1. Original Data </font>\n",
    "Let’s load the previous data and results from previous notebook 2"
   ]
  },
  {
   "cell_type": "code",
   "execution_count": 4,
   "metadata": {},
   "outputs": [],
   "source": [
    "data_train = pd.read_csv(\"train.csv\")"
   ]
  },
  {
   "cell_type": "code",
   "execution_count": 5,
   "metadata": {},
   "outputs": [],
   "source": [
    "data_test = pd.read_csv(\"test.csv\")\n",
    "pd.set_option('display.max_columns', None)"
   ]
  },
  {
   "cell_type": "code",
   "execution_count": 6,
   "metadata": {},
   "outputs": [
    {
     "data": {
      "text/plain": [
       "(565892, 55)"
      ]
     },
     "execution_count": 6,
     "metadata": {},
     "output_type": "execute_result"
    }
   ],
   "source": [
    "data_test.shape"
   ]
  },
  {
   "cell_type": "code",
   "execution_count": 7,
   "metadata": {},
   "outputs": [],
   "source": [
    "column_list = data_train.columns\n",
    "num  = [column for column in column_list if 'Soil' not in column and 'Wilderness_Area' not in  column and 'Aspect_North' not in  column and 'Climate' not in  column and 'Family' not in  column and 'Type' not in  column and 'complex' not in  column and 'Aspect_East' not in  column and 'Aspect_South' not in  column and 'Aspect_West' not in  column ]\n",
    "cat= [column for column in column_list if column not in num]"
   ]
  },
  {
   "cell_type": "code",
   "execution_count": 8,
   "metadata": {},
   "outputs": [],
   "source": [
    "#from sklearn.preprocessing import MinMaxScaler\n",
    "#scaler = MinMaxScaler()\n",
    "scaler = StandardScaler()"
   ]
  },
  {
   "cell_type": "markdown",
   "metadata": {},
   "source": [
    "<a id='1.2'></a>\n",
    "## <font color=green> 1.2.All features & Standardization  <font>\n",
    " \n",
    "Due to excel import, it transforms a new column unnamed"
   ]
  },
  {
   "cell_type": "raw",
   "metadata": {},
   "source": [
    "import pandas as pd\n",
    "all_feat_df = pd.read_csv(\"all_features_data_train.csv\")\n",
    "all_feat_df = all_feat_df[all_feat_df.columns.drop(list(all_feat_df.filter(regex='Unnamed:')))]\n",
    "pd.set_option('display.max_columns', None)\n",
    "all_feat_df.head()"
   ]
  },
  {
   "cell_type": "raw",
   "metadata": {},
   "source": [
    "all_feat_df.shape"
   ]
  },
  {
   "cell_type": "markdown",
   "metadata": {},
   "source": [
    "From 55 features, we engineered a total of 165 additional ones"
   ]
  },
  {
   "cell_type": "markdown",
   "metadata": {},
   "source": [
    "For scaling we need to exclude the dummy variables "
   ]
  },
  {
   "cell_type": "raw",
   "metadata": {},
   "source": [
    "column_list = all_feat_df.columns\n",
    "numerical  = [column for column in column_list if 'Soil' not in column and 'Wilderness_Area' not in  column and 'Aspect_North' not in  column and 'Climate' not in  column and 'Family' not in  column and 'Type' not in  column and 'complex' not in  column and 'Aspect_East' not in  column and 'Aspect_South' not in  column and 'Aspect_West' not in  column ]\n",
    "categorial= [column for column in column_list if column not in numerical]"
   ]
  },
  {
   "cell_type": "raw",
   "metadata": {},
   "source": [
    "X_all = all_feat_df.drop(['Cover_Type'], axis=1)\n",
    "y_all = all_feat_df['Cover_Type']\n",
    "column_list = X_all.columns\n",
    "\n",
    "X_train_all, X_val_all, y_train_all, y_val_all = train_test_split(X_all, y_all, test_size=0.20, random_state=37,stratify=y_all)\n",
    "print(\"The shape of validation data:{} and {} \".format(X_val_all.shape,y_val_all.shape))\n",
    "print(\"The shape of training data:{} and {} \".format(X_train_all.shape,y_train_all.shape))"
   ]
  },
  {
   "cell_type": "markdown",
   "metadata": {},
   "source": [
    "<a id='1.3'></a>\n",
    "##  <font color=green>1.3. Selected Model after Feature Selection & Standardization </font>\n"
   ]
  },
  {
   "cell_type": "markdown",
   "metadata": {},
   "source": [
    "Selected features from the feature selection are transferred to cvs and used for further analysis. "
   ]
  },
  {
   "cell_type": "code",
   "execution_count": 9,
   "metadata": {},
   "outputs": [],
   "source": [
    "X_selected1 = pd.read_csv(\"X_selected.csv\")\n",
    "y_selected1 = pd.read_csv(\"y_selected.csv\")"
   ]
  },
  {
   "cell_type": "code",
   "execution_count": 10,
   "metadata": {},
   "outputs": [],
   "source": [
    "X_selected1 = X_selected1[X_selected1.columns.drop(list(X_selected1.filter(regex='Unnamed:')))]\n",
    "y_selected1 = y_selected1[y_selected1.columns.drop(list(y_selected1.filter(regex='Unnamed:')))]"
   ]
  },
  {
   "cell_type": "code",
   "execution_count": 11,
   "metadata": {},
   "outputs": [
    {
     "name": "stdout",
     "output_type": "stream",
     "text": [
      "(15120, 28)\n",
      "(15120, 1)\n"
     ]
    }
   ],
   "source": [
    "print(X_selected1.shape)\n",
    "print(y_selected1.shape)\n",
    "\n",
    "if X_selected1.shape[0] != y_selected1.shape[0]:\n",
    "  print(\"X and y rows are mismatched, check dataset again\")"
   ]
  },
  {
   "cell_type": "markdown",
   "metadata": {},
   "source": [
    "We need to filter out the dummy variables for the normalization "
   ]
  },
  {
   "cell_type": "code",
   "execution_count": 12,
   "metadata": {},
   "outputs": [],
   "source": [
    "column_list = X_selected1.columns\n",
    "scale_numerical  = [column for column in column_list if 'Soil' not in column and 'Wilderness_Area' not in  column and 'Aspect_North' not in  column and 'Climate' not in  column and 'Family' not in  column and 'Type' not in  column and 'complex' not in  column and 'Aspect_East' not in  column and 'Aspect_South' not in  column and 'Aspect_West' not in  column ]\n",
    "scale_categorial= [column for column in column_list if column not in scale_numerical ]"
   ]
  },
  {
   "cell_type": "code",
   "execution_count": 13,
   "metadata": {},
   "outputs": [],
   "source": [
    "\n",
    "#scaler = MinMaxScaler()\n",
    "\n",
    "scaler = StandardScaler()"
   ]
  },
  {
   "cell_type": "markdown",
   "metadata": {},
   "source": [
    "Splitting the data into train and validation test "
   ]
  },
  {
   "cell_type": "code",
   "execution_count": 14,
   "metadata": {},
   "outputs": [
    {
     "name": "stdout",
     "output_type": "stream",
     "text": [
      "The shape of validation data:(3024, 28) and (3024, 1) \n",
      "The shape of training data:(12096, 28) and (12096, 1) \n"
     ]
    }
   ],
   "source": [
    "column_list = X_selected1.columns\n",
    "\n",
    "X_train_new, X_val_new, y_train_new, y_val_new = train_test_split(X_selected1, y_selected1, test_size=0.20, random_state=37,stratify=y_selected1)\n",
    "print(\"The shape of validation data:{} and {} \".format(X_val_new.shape,y_val_new.shape))\n",
    "print(\"The shape of training data:{} and {} \".format(X_train_new.shape,y_train_new.shape))\n",
    "y_val_new = y_val_new.values.ravel()\n",
    "y_train_new = y_train_new.values.ravel()"
   ]
  },
  {
   "cell_type": "markdown",
   "metadata": {},
   "source": [
    "<a id='2'></a>\n",
    "# <font color=darkgreen> 2.Re-run models with the new selected features  <font>\n",
    "Some classes such as SDG classifier , Random Forest classifier and naive Bayes classifier can handle mutliple classes naively. \n",
    "    \n",
    "Others like logistic regression or Support Vector Machine classifier are stricly binary classifier. However there are various strategies to perform multiclass classification with multiple binary classifiers. "
   ]
  },
  {
   "cell_type": "code",
   "execution_count": null,
   "metadata": {},
   "outputs": [],
   "source": [
    "# Create a dataFrame to compare performance of Classifier Models in the End\n",
    "classifiers_compare = pd.DataFrame(columns =['Algorithm','Mean CV Score'])"
   ]
  },
  {
   "cell_type": "markdown",
   "metadata": {},
   "source": [
    "<a id='2.1'></a>\n",
    "## <font color=green> 2.1 Correlation Heatmap  <font>\n",
    "Checking Correlation among features"
   ]
  },
  {
   "cell_type": "code",
   "execution_count": null,
   "metadata": {
    "scrolled": false
   },
   "outputs": [],
   "source": [
    "#Heatmap - Checking for autocorrelation among variables \n",
    "matrix = X_selected1.corr()\n",
    "mask = np.zeros_like(matrix)\n",
    "mask[np.triu_indices_from(mask)] = True\n",
    "fig, ax = plt.subplots(figsize=(50,20))\n",
    "heatmap = sns.heatmap(matrix, center=0, fmt=\".3f\", square=True, annot=True, linewidth=1.3, mask = mask,vmax=0.9);\n",
    "plt.show()"
   ]
  },
  {
   "cell_type": "markdown",
   "metadata": {},
   "source": [
    "<a id='2.1.1'></a>\n",
    "## <font color=green> 2.1.1 Removing autocorrelation <font>"
   ]
  },
  {
   "cell_type": "markdown",
   "metadata": {},
   "source": [
    "Some of these features are heavily correlated one another, before running the models like Logistic Regression, where mutlicorrelaty is an issue, we should ensure, only relevant features are considered, taking a threshold of 0.7 these are:\n",
    "\n",
    "- Wilderness Area 1 \n",
    "- Subalpine Climate (synthetic)\n",
    "- Wilderness Area 3\n",
    "- Elevation\n",
    "- Family Moran (synthetic)\n",
    "- Soil Type 3\n",
    "- Soil Type 12\n",
    "- Rock outcrop complex (synthetic)\n",
    "- Lower Montane Climate (synthetic)\n",
    "- Family Catamount (synthetic)\n",
    "\n",
    "TOTAL: 11 features"
   ]
  },
  {
   "cell_type": "markdown",
   "metadata": {},
   "source": [
    "This is for logistic regression, Stephanie will decide if we keep it or not eventually"
   ]
  },
  {
   "cell_type": "code",
   "execution_count": null,
   "metadata": {},
   "outputs": [],
   "source": [
    "def remove_collinear_features(x, threshold):\n",
    "    '''\n",
    "    Objective:\n",
    "        Remove collinear features in a dataframe with a correlation coefficient\n",
    "        greater than the threshold. Removing collinear features can help a model \n",
    "        to generalize and improves the interpretability of the model.\n",
    "\n",
    "    Inputs: \n",
    "        x: features dataframe\n",
    "        threshold: features with correlations greater than this value are removed\n",
    "\n",
    "    Output: \n",
    "        dataframe that contains only the non-highly-collinear features\n",
    "    '''\n",
    "\n",
    "    # Calculate the correlation matrix\n",
    "    corr_matrix = x.corr()\n",
    "    iters = range(len(corr_matrix.columns) - 1)\n",
    "    drop_cols = []\n",
    "\n",
    "    # Iterate through the correlation matrix and compare correlations\n",
    "    for i in iters:\n",
    "        for j in range(i+1):\n",
    "            item = corr_matrix.iloc[j:(j+1), (i+1):(i+2)]\n",
    "            col = item.columns\n",
    "            row = item.index\n",
    "            val = abs(item.values)\n",
    "\n",
    "            # If correlation exceeds the threshold\n",
    "            if val >= threshold:\n",
    "                # Print the correlated features and the correlation value\n",
    "                #print(col.values[0], \"|\", row.values[0], \"|\", round(val[0][0], 2))\n",
    "                drop_cols.append(col.values[0])\n",
    "\n",
    "    # Drop one of each pair of correlated columns\n",
    "    drops = set(drop_cols)\n",
    "    x = x.drop(columns=drops)\n",
    "    print('Removed Columns {}'.format(drops))\n",
    "    return x"
   ]
  },
  {
   "cell_type": "markdown",
   "metadata": {},
   "source": [
    "Removing Collinearity features for logistic regression. "
   ]
  },
  {
   "cell_type": "code",
   "execution_count": null,
   "metadata": {},
   "outputs": [],
   "source": [
    "df_logist = remove_collinear_features(X_selected1, 0.6)"
   ]
  },
  {
   "cell_type": "markdown",
   "metadata": {},
   "source": [
    "We make the split"
   ]
  },
  {
   "cell_type": "code",
   "execution_count": null,
   "metadata": {},
   "outputs": [],
   "source": [
    "X_train_log, X_val_log, y_train_log, y_val_log = train_test_split(df_logist, y_selected1, test_size=0.20, random_state=37,stratify=y_selected1)\n",
    "print(\"The shape of validation data:{} and {} \".format(X_val_new.shape,y_val_new.shape))\n",
    "print(\"The shape of training data:{} and {} \".format(X_train_new.shape,y_train_new.shape))"
   ]
  },
  {
   "cell_type": "markdown",
   "metadata": {},
   "source": [
    "We define a function to plot the ROC curve later on"
   ]
  },
  {
   "cell_type": "code",
   "execution_count": null,
   "metadata": {},
   "outputs": [],
   "source": [
    "def plot_ROC_curve(model, X_train,y_train, X_val, y_val):\n",
    "\n",
    "    # Creating visualization with the readable labels\n",
    "    visualizer = ROCAUC(model, encoder={1: 'Spruce/Fir', \n",
    "                                        2: 'Lodgepole Pine', \n",
    "                                        3: 'Ponderosa Pine',\n",
    "                                       4: 'Cottonwood/Willow',\n",
    "                                       5: 'Aspen',\n",
    "                                       6: 'Douglas-fir',\n",
    "                                       7: 'Krummholz'})\n",
    "\n",
    "                                        \n",
    "    # Fitting to the training data first then scoring with the test data                                    \n",
    "    visualizer.fit(X_train,y_train)\n",
    "    visualizer.score(X_val, y_val)\n",
    "    visualizer.show()\n",
    "    \n",
    "    return visualizer"
   ]
  },
  {
   "cell_type": "markdown",
   "metadata": {},
   "source": [
    "<a id='7'></a>\n",
    "# <font color=darkgreen> 7.ML Algorithms before Dimensionality Reduction  <font>"
   ]
  },
  {
   "cell_type": "markdown",
   "metadata": {},
   "source": [
    "## <font color=green> 7.1. Decision Trees  <font>"
   ]
  },
  {
   "cell_type": "markdown",
   "metadata": {},
   "source": [
    "A function to plot the trees is defined"
   ]
  },
  {
   "cell_type": "code",
   "execution_count": null,
   "metadata": {},
   "outputs": [],
   "source": [
    "def plot_tree(tree, feature_names):\n",
    "    dot_data = StringIO()\n",
    "    export_graphviz(tree, out_file=dot_data, feature_names=feature_names, filled=True, rounded=True,special_characters=True)\n",
    "    graph = pydotplus.graph_from_dot_data(dot_data.getvalue())  \n",
    "    return Image(graph.create_png())"
   ]
  },
  {
   "cell_type": "markdown",
   "metadata": {},
   "source": [
    "<a id='7.1.1'></a>\n",
    "### <font color=green> 7.1.1. Single Tree <font>"
   ]
  },
  {
   "cell_type": "markdown",
   "metadata": {},
   "source": [
    "First attempt is with default values"
   ]
  },
  {
   "cell_type": "code",
   "execution_count": null,
   "metadata": {},
   "outputs": [],
   "source": [
    "single_tree = DecisionTreeClassifier(random_state=18)\n",
    "model_tree = single_tree.fit(X_train_new, y_train_new)\n",
    "print(\"Accuracy = {0:.4f}\".format(-np.mean(cross_val_score(single_tree, X_train_new, y_train_new, scoring='accuracy'))))"
   ]
  },
  {
   "cell_type": "markdown",
   "metadata": {},
   "source": [
    "Let's see the tree"
   ]
  },
  {
   "cell_type": "code",
   "execution_count": null,
   "metadata": {},
   "outputs": [],
   "source": [
    "plot_tree(model_tree, X_train_new.columns)"
   ]
  },
  {
   "cell_type": "markdown",
   "metadata": {},
   "source": [
    "Two aspects can be highlighted after taking a look at the tree:\n",
    " - The tree is huge! As we have not set any complexity pruning or max_depth we have allow the tree to grow without any limit\n",
    " - Alpine Climate and Binned elevantion seem to be the most important features in order to predict the value of cover type. "
   ]
  },
  {
   "cell_type": "markdown",
   "metadata": {},
   "source": [
    "ADAPT THIS SO IT CAN BE A MODEL"
   ]
  },
  {
   "cell_type": "markdown",
   "metadata": {},
   "source": [
    "Now we prune the tree"
   ]
  },
  {
   "cell_type": "code",
   "execution_count": null,
   "metadata": {},
   "outputs": [],
   "source": [
    "from sklearn.model_selection import GridSearchCV\n",
    "param_grid = {'max_depth': range(1,30)}\n",
    "\n",
    "single_tree_a = GridSearchCV(single_tree,\n",
    "                            param_grid,\n",
    "                            scoring='accuracy',\n",
    "                            cv=5, n_jobs=-1, verbose=1)\n",
    "\n",
    "single_tree_a.fit(X_train_new, y_train_new)"
   ]
  },
  {
   "cell_type": "code",
   "execution_count": null,
   "metadata": {},
   "outputs": [],
   "source": [
    "print(\"Best parameters set found on development set:\")\n",
    "print()\n",
    "print(single_tree_a.best_params_)\n",
    "print()\n",
    "print(\"Grid scores on development set:\")\n",
    "print()\n",
    "means = single_tree_a.cv_results_['mean_test_score']\n",
    "stds = single_tree_a.cv_results_['std_test_score']\n",
    "for mean, std, params in zip(means, stds, single_tree_a.cv_results_['params']):\n",
    "    print(\"Accuracy = %0.3f (+/-%0.03f) for %r\" % (-mean, std * 2, params))"
   ]
  },
  {
   "cell_type": "markdown",
   "metadata": {},
   "source": [
    "# I stop here, to be continued later"
   ]
  },
  {
   "cell_type": "code",
   "execution_count": null,
   "metadata": {},
   "outputs": [],
   "source": [
    "plt.figure(figsize=(10,10))\n",
    "plt.errorbar(range(1,30,1), [-m for m in means], yerr=stds, fmt='-o')\n",
    "plt.title('MSE for different Depths', fontsize=20)\n",
    "plt.xlabel(\"Depth\", fontsize=16)\n",
    "plt.ylabel(\"MSE\", fontsize=16);"
   ]
  },
  {
   "cell_type": "code",
   "execution_count": null,
   "metadata": {},
   "outputs": [],
   "source": [
    "single_tree_pruned = DecisionTreeClassifier(random_state=18, max_depth=15)\n",
    "\n",
    "print(\"MSE = {0:.4f}\".format(-np.mean(cross_val_score(single_tree_pruned, X_train_new, y_train_new, scoring='neg_mean_squared_error'))))\n",
    "print(\"Accuracy Train= {0:.4f}\".format(np.mean(cross_val_score(single_tree_pruned, X_train_new, y_train_new))))"
   ]
  },
  {
   "cell_type": "markdown",
   "metadata": {},
   "source": [
    "As can be seen in the plot, the optimal value for the depth of the decision tree is 15. "
   ]
  },
  {
   "cell_type": "code",
   "execution_count": null,
   "metadata": {},
   "outputs": [],
   "source": [
    "plot_tree(single_tree_pruned.fit(X_train_new,y_train_new), X_train_new.columns)"
   ]
  },
  {
   "cell_type": "code",
   "execution_count": null,
   "metadata": {},
   "outputs": [],
   "source": [
    "\n",
    "dtreeviz(single_tree_pruned, X_train_new,y_train_new, target_name='Cover_Type', feature_names=X_train_new.columns, \n",
    "        fontname='DejaVu Sans', scale=1.5,label_fontsize=10, fancy=True)"
   ]
  },
  {
   "cell_type": "markdown",
   "metadata": {},
   "source": [
    "We ran the same decision tree with tuned hyperparameters"
   ]
  },
  {
   "cell_type": "code",
   "execution_count": null,
   "metadata": {},
   "outputs": [],
   "source": [
    "tree_classifier = DecisionTreeClassifier(random_state=37)\n",
    "print(\"Accuracy = {0:.4f}\".format(np.mean(cross_val_score(tree_classifier, X_train_new, y_train_new))))"
   ]
  },
  {
   "cell_type": "code",
   "execution_count": null,
   "metadata": {},
   "outputs": [],
   "source": [
    "params = {\n",
    "    \"max_depth\": randint(12,25), # default 100\n",
    "    \"max_leaf_nodes\":[5, 10, 20, 50, 100],\n",
    "    'criterion': [\"gini\", \"entropy\"]\n",
    "}\n",
    "\n",
    "forest_hyper = RandomizedSearchCV(tree_classifier, param_distributions=params, random_state=37, n_iter=150, cv=5, verbose=1, n_jobs=-1, return_train_score=True)\n",
    "forest_hyper.fit(X_train_new, y_train_new)"
   ]
  },
  {
   "cell_type": "code",
   "execution_count": null,
   "metadata": {},
   "outputs": [],
   "source": [
    "print(\"Best parameters set found on development set:\")\n",
    "print()\n",
    "print(forest_hyper.best_params_)\n",
    "print()\n",
    "print(\"Grid scores on development set:\")\n",
    "print()\n",
    "means = forest_hyper.cv_results_['mean_test_score']\n",
    "stds = forest_hyper.cv_results_['std_test_score']\n",
    "for mean, std, params in zip(means, stds, forest_hyper.cv_results_['params']):\n",
    "    print(\"Accuracy = %0.3f (+/%0.03f) for %r\" % (mean, std * 2, params))"
   ]
  },
  {
   "cell_type": "code",
   "execution_count": null,
   "metadata": {},
   "outputs": [],
   "source": [
    "dt_best= forest_hyper.best_estimator_\n",
    "dt_best"
   ]
  },
  {
   "cell_type": "code",
   "execution_count": null,
   "metadata": {},
   "outputs": [],
   "source": [
    "tree_classifier = DecisionTreeClassifier(criterion = forest_hyper.best_params_['criterion'], max_depth=forest_hyper.best_params_['max_depth'], max_leaf_nodes= forest_hyper.best_params_['max_leaf_nodes'], random_state=37)\n",
    "\n",
    "# fit the model with the training data\n",
    "model_treeclassifer = tree_classifier.fit(X_train_new,y_train_new)\n",
    "\n",
    "# predict the target on the train dataset\n",
    "predict_tree = model_treeclassifer.predict(X_train_new)\n",
    "print('\\nTarget on train data',predict_tree)\n",
    "\n",
    "# Accuracy Score on train dataset\n",
    "accuracy_tree_train = accuracy_score(y_train_new, predict_tree)\n",
    "print('\\nAccuracy_score on train dataset : ', accuracy_tree_train)\n",
    "\n",
    "# Predict the target on the test dataset\n",
    "predict_tree_test = model_treeclassifer.predict(X_val_new)\n",
    "print('\\nTarget on test data',predict_tree_test) \n",
    "\n",
    "# Accuracy Score on test dataset\n",
    "accuracy_tree_test = accuracy_score(y_val_new,predict_tree_test)\n",
    "print('\\nAccuracy on test dataset : ', accuracy_tree_test)\n",
    "\n",
    "#Best Paramater \n",
    "dt_best = forest_hyper.best_estimator_"
   ]
  },
  {
   "cell_type": "code",
   "execution_count": null,
   "metadata": {},
   "outputs": [],
   "source": [
    "score_df = pd.DataFrame(forest_hyper.cv_results_)\n",
    "score_df.nlargest(3,\"mean_test_score\")"
   ]
  },
  {
   "cell_type": "code",
   "execution_count": null,
   "metadata": {},
   "outputs": [],
   "source": [
    "# Get and reshape confusion matrix data\n",
    "matrix = confusion_matrix(y_val_new, predict_tree_test)\n",
    "matrix = matrix.astype('float') / matrix.sum(axis=1)[:, np.newaxis]\n",
    "\n",
    "# Build the plot\n",
    "plt.figure(figsize=(16,7))\n",
    "sns.set(font_scale=1.4)\n",
    "sns.heatmap(matrix, annot=True, annot_kws={'size':10},\n",
    "            cmap=plt.cm.Greens, linewidths=0.2)\n",
    "\n",
    "# Add labels to the plot\n",
    "class_names = ['Spruce/Fir', 'Lodgepole Pine', 'Ponderosa Pine', \n",
    "               'Cottonwood/Willow', 'Aspen', 'Douglas-fir',    \n",
    "               'Krummholz']\n",
    "tick_marks = np.arange(len(class_names))\n",
    "tick_marks2 = tick_marks + 0.5\n",
    "plt.xticks(tick_marks, class_names, rotation=25)\n",
    "plt.yticks(tick_marks2, class_names, rotation=0)\n",
    "plt.xlabel('Predicted label')\n",
    "plt.ylabel('True label')\n",
    "plt.title('Confusion Matrix for Random Forest Model')\n",
    "plt.show()"
   ]
  },
  {
   "cell_type": "code",
   "execution_count": null,
   "metadata": {},
   "outputs": [],
   "source": [
    "print(classification_report(y_val_new, predict_tree_test))"
   ]
  },
  {
   "cell_type": "code",
   "execution_count": null,
   "metadata": {},
   "outputs": [],
   "source": [
    "plot_ROC_curve(tree_classifier, X_train_new,y_train_new, X_val_new, y_val_new)"
   ]
  },
  {
   "cell_type": "code",
   "execution_count": null,
   "metadata": {},
   "outputs": [],
   "source": [
    "visualizer = ClassPredictionError(\n",
    "    tree_classifier)\n",
    "visualizer.fit(X_train_new, y_train_new)\n",
    "visualizer.score(X_val_new, y_val_new)\n",
    "visualizer.show();"
   ]
  },
  {
   "cell_type": "markdown",
   "metadata": {},
   "source": [
    "<a id='7.2'></a>\n",
    "## <font color=green> 7.2. XGB Boost  <font>"
   ]
  },
  {
   "cell_type": "code",
   "execution_count": 15,
   "metadata": {},
   "outputs": [],
   "source": [
    "le = LabelEncoder()\n",
    "y_train1 = le.fit_transform(y_train_new)\n",
    "y_val1 = le.fit_transform(y_val_new)"
   ]
  },
  {
   "cell_type": "code",
   "execution_count": 16,
   "metadata": {},
   "outputs": [],
   "source": [
    "## First run, hyperparameters NEW"
   ]
  },
  {
   "cell_type": "code",
   "execution_count": 17,
   "metadata": {},
   "outputs": [
    {
     "name": "stdout",
     "output_type": "stream",
     "text": [
      "Accuracy = 0.8526\n"
     ]
    }
   ],
   "source": [
    "xgboost = xgb.XGBClassifier()\n",
    "print(\"Accuracy = {0:.4f}\".format(np.mean(cross_val_score(xgboost, X_train_new, y_train1))))"
   ]
  },
  {
   "cell_type": "markdown",
   "metadata": {},
   "source": [
    "params = {\n",
    "    \"max_depth\": randint(10,20,2), # default 100\n",
    "    \n",
    "    \"colsample_bytree\": uniform(0.7, 0.85),\n",
    "    \"learning_rate\": uniform(0.03, 0.3), # default 0.1 \n",
    "    \"n_estimators\": randint(200, 400,50), # default 100\n",
    "    \"subsample\": uniform(0.6, 0.95),\n",
    "    \"nthread\": [4] # parallel processing and number of cores in the system should be entered.\n",
    "}\n",
    "\n",
    "\n",
    "xgb_hyper = RandomizedSearchCV(xgboost, param_distributions=params, random_state=37, n_iter=150, cv=5, verbose=1, n_jobs=-1, return_train_score=True)\n",
    "xgb_hyper.fit(X_train_new, y_train1)"
   ]
  },
  {
   "cell_type": "code",
   "execution_count": null,
   "metadata": {},
   "outputs": [],
   "source": [
    "print(\"Best parameters set found on development set:\")\n",
    "print()\n",
    "print(forest_hyper.best_params_)\n",
    "print()\n",
    "print(\"Grid scores on development set:\")\n",
    "print()\n",
    "means = forest_hyper.cv_results_['mean_test_score']\n",
    "stds = forest_hyper.cv_results_['std_test_score']\n",
    "for mean, std, params in zip(means, stds, forest_hyper.cv_results_['params']):\n",
    "    print(\"Accuracy = %0.3f (+/%0.03f) for %r\" % (mean, std * 2, params))"
   ]
  },
  {
   "cell_type": "markdown",
   "metadata": {},
   "source": [
    "Early stopping is an approach to training complex machine learning models to avoid overfitting.\n",
    "\n",
    "It works by monitoring the performance of the model that is being trained on a separate test dataset and stopping the training procedure once the performance on the test dataset has not improved after a fixed number of training iterations.\n",
    "\n",
    "It avoids overfitting by attempting to automatically select the inflection point where performance on the test dataset starts to decrease while performance on the training dataset continues to improve as the model starts to overfit.\n",
    "\n",
    "Source: https://machinelearningmastery.com/avoid-overfitting-by-early-stopping-with-xgboost-in-python/"
   ]
  },
  {
   "cell_type": "code",
   "execution_count": 29,
   "metadata": {},
   "outputs": [
    {
     "name": "stdout",
     "output_type": "stream",
     "text": [
      "[08:18:05] WARNING: /Users/runner/work/xgboost/xgboost/python-package/build/temp.macosx-10.9-x86_64-3.7/xgboost/src/learner.cc:627: \n",
      "Parameters: { \"criterion\" } might not be used.\n",
      "\n",
      "  This could be a false alarm, with some parameters getting used by language bindings but\n",
      "  then being mistakenly passed down to XGBoost core, or some parameter actually being used\n",
      "  but getting flagged wrongly here. Please open an issue if you find any such cases.\n",
      "\n",
      "\n",
      "[08:18:25] WARNING: /Users/runner/work/xgboost/xgboost/python-package/build/temp.macosx-10.9-x86_64-3.7/xgboost/src/learner.cc:627: \n",
      "Parameters: { \"criterion\" } might not be used.\n",
      "\n",
      "  This could be a false alarm, with some parameters getting used by language bindings but\n",
      "  then being mistakenly passed down to XGBoost core, or some parameter actually being used\n",
      "  but getting flagged wrongly here. Please open an issue if you find any such cases.\n",
      "\n",
      "\n",
      "[08:18:45] WARNING: /Users/runner/work/xgboost/xgboost/python-package/build/temp.macosx-10.9-x86_64-3.7/xgboost/src/learner.cc:627: \n",
      "Parameters: { \"criterion\" } might not be used.\n",
      "\n",
      "  This could be a false alarm, with some parameters getting used by language bindings but\n",
      "  then being mistakenly passed down to XGBoost core, or some parameter actually being used\n",
      "  but getting flagged wrongly here. Please open an issue if you find any such cases.\n",
      "\n",
      "\n",
      "[08:19:01] WARNING: /Users/runner/work/xgboost/xgboost/python-package/build/temp.macosx-10.9-x86_64-3.7/xgboost/src/learner.cc:627: \n",
      "Parameters: { \"criterion\" } might not be used.\n",
      "\n",
      "  This could be a false alarm, with some parameters getting used by language bindings but\n",
      "  then being mistakenly passed down to XGBoost core, or some parameter actually being used\n",
      "  but getting flagged wrongly here. Please open an issue if you find any such cases.\n",
      "\n",
      "\n",
      "[08:19:16] WARNING: /Users/runner/work/xgboost/xgboost/python-package/build/temp.macosx-10.9-x86_64-3.7/xgboost/src/learner.cc:627: \n",
      "Parameters: { \"criterion\" } might not be used.\n",
      "\n",
      "  This could be a false alarm, with some parameters getting used by language bindings but\n",
      "  then being mistakenly passed down to XGBoost core, or some parameter actually being used\n",
      "  but getting flagged wrongly here. Please open an issue if you find any such cases.\n",
      "\n",
      "\n",
      "Accuracy = 0.8633\n",
      "[08:19:33] WARNING: /Users/runner/work/xgboost/xgboost/python-package/build/temp.macosx-10.9-x86_64-3.7/xgboost/src/learner.cc:627: \n",
      "Parameters: { \"criterion\" } might not be used.\n",
      "\n",
      "  This could be a false alarm, with some parameters getting used by language bindings but\n",
      "  then being mistakenly passed down to XGBoost core, or some parameter actually being used\n",
      "  but getting flagged wrongly here. Please open an issue if you find any such cases.\n",
      "\n",
      "\n"
     ]
    },
    {
     "name": "stderr",
     "output_type": "stream",
     "text": [
      "/Users/stephaniegessler/opt/anaconda3/lib/python3.9/site-packages/xgboost/sklearn.py:793: UserWarning:\n",
      "\n",
      "`eval_metric` in `fit` method is deprecated for better compatibility with scikit-learn, use `eval_metric` in constructor or`set_params` instead.\n",
      "\n",
      "/Users/stephaniegessler/opt/anaconda3/lib/python3.9/site-packages/xgboost/sklearn.py:793: UserWarning:\n",
      "\n",
      "`early_stopping_rounds` in `fit` method is deprecated for better compatibility with scikit-learn, use `early_stopping_rounds` in constructor or`set_params` instead.\n",
      "\n"
     ]
    },
    {
     "name": "stdout",
     "output_type": "stream",
     "text": [
      "[0]\tvalidation_0-merror:0.18519\n",
      "[1]\tvalidation_0-merror:0.15906\n",
      "[2]\tvalidation_0-merror:0.14980\n",
      "[3]\tvalidation_0-merror:0.14385\n",
      "[4]\tvalidation_0-merror:0.14319\n",
      "[5]\tvalidation_0-merror:0.13856\n",
      "[6]\tvalidation_0-merror:0.13261\n",
      "[7]\tvalidation_0-merror:0.13095\n",
      "[8]\tvalidation_0-merror:0.13393\n",
      "[9]\tvalidation_0-merror:0.13360\n",
      "[10]\tvalidation_0-merror:0.13624\n",
      "[11]\tvalidation_0-merror:0.13194\n",
      "[12]\tvalidation_0-merror:0.13161\n",
      "[13]\tvalidation_0-merror:0.13095\n",
      "[14]\tvalidation_0-merror:0.12996\n",
      "[15]\tvalidation_0-merror:0.12963\n",
      "[16]\tvalidation_0-merror:0.12731\n",
      "[17]\tvalidation_0-merror:0.12632\n",
      "[18]\tvalidation_0-merror:0.12599\n",
      "[19]\tvalidation_0-merror:0.12533\n",
      "[20]\tvalidation_0-merror:0.12202\n",
      "[21]\tvalidation_0-merror:0.12302\n",
      "[22]\tvalidation_0-merror:0.12368\n",
      "[23]\tvalidation_0-merror:0.12302\n",
      "[24]\tvalidation_0-merror:0.12235\n",
      "[25]\tvalidation_0-merror:0.12202\n",
      "[26]\tvalidation_0-merror:0.12302\n",
      "[27]\tvalidation_0-merror:0.12169\n",
      "[28]\tvalidation_0-merror:0.12169\n",
      "[29]\tvalidation_0-merror:0.12136\n",
      "[30]\tvalidation_0-merror:0.12037\n",
      "[31]\tvalidation_0-merror:0.12037\n",
      "[32]\tvalidation_0-merror:0.12004\n",
      "[33]\tvalidation_0-merror:0.11938\n",
      "[34]\tvalidation_0-merror:0.11905\n",
      "[35]\tvalidation_0-merror:0.11938\n",
      "[36]\tvalidation_0-merror:0.12004\n",
      "[37]\tvalidation_0-merror:0.12070\n",
      "[38]\tvalidation_0-merror:0.12037\n",
      "[39]\tvalidation_0-merror:0.11971\n",
      "[40]\tvalidation_0-merror:0.12070\n",
      "[41]\tvalidation_0-merror:0.12169\n",
      "[42]\tvalidation_0-merror:0.12037\n",
      "[43]\tvalidation_0-merror:0.12037\n",
      "[44]\tvalidation_0-merror:0.11971\n",
      "[45]\tvalidation_0-merror:0.12136\n",
      "[46]\tvalidation_0-merror:0.12070\n",
      "[47]\tvalidation_0-merror:0.12136\n",
      "[48]\tvalidation_0-merror:0.12136\n",
      "[49]\tvalidation_0-merror:0.12103\n",
      "[50]\tvalidation_0-merror:0.12037\n",
      "[51]\tvalidation_0-merror:0.12235\n",
      "[52]\tvalidation_0-merror:0.12070\n",
      "[53]\tvalidation_0-merror:0.12235\n",
      "[54]\tvalidation_0-merror:0.12070\n",
      "[55]\tvalidation_0-merror:0.12037\n",
      "[56]\tvalidation_0-merror:0.11971\n",
      "[57]\tvalidation_0-merror:0.12169\n",
      "[58]\tvalidation_0-merror:0.12136\n",
      "[59]\tvalidation_0-merror:0.12269\n",
      "[60]\tvalidation_0-merror:0.12202\n",
      "[61]\tvalidation_0-merror:0.12103\n",
      "[62]\tvalidation_0-merror:0.12037\n",
      "[63]\tvalidation_0-merror:0.12070\n",
      "[64]\tvalidation_0-merror:0.12103\n",
      "[65]\tvalidation_0-merror:0.12070\n",
      "[66]\tvalidation_0-merror:0.12136\n",
      "[67]\tvalidation_0-merror:0.11971\n",
      "[68]\tvalidation_0-merror:0.12004\n",
      "[69]\tvalidation_0-merror:0.11938\n",
      "[70]\tvalidation_0-merror:0.11938\n",
      "[71]\tvalidation_0-merror:0.11905\n",
      "[72]\tvalidation_0-merror:0.11872\n",
      "[73]\tvalidation_0-merror:0.11839\n",
      "[74]\tvalidation_0-merror:0.11905\n",
      "[75]\tvalidation_0-merror:0.11872\n",
      "[76]\tvalidation_0-merror:0.11872\n",
      "[77]\tvalidation_0-merror:0.11905\n",
      "[78]\tvalidation_0-merror:0.11905\n",
      "[79]\tvalidation_0-merror:0.11839\n",
      "[80]\tvalidation_0-merror:0.11739\n",
      "[81]\tvalidation_0-merror:0.11806\n",
      "[82]\tvalidation_0-merror:0.11872\n",
      "[83]\tvalidation_0-merror:0.11806\n",
      "[84]\tvalidation_0-merror:0.11905\n",
      "[85]\tvalidation_0-merror:0.11938\n",
      "[86]\tvalidation_0-merror:0.11905\n",
      "[87]\tvalidation_0-merror:0.11872\n",
      "[88]\tvalidation_0-merror:0.11839\n",
      "[89]\tvalidation_0-merror:0.11839\n",
      "[90]\tvalidation_0-merror:0.11839\n",
      "[91]\tvalidation_0-merror:0.11839\n",
      "[92]\tvalidation_0-merror:0.11806\n",
      "[93]\tvalidation_0-merror:0.11839\n",
      "[94]\tvalidation_0-merror:0.11872\n",
      "[95]\tvalidation_0-merror:0.11872\n",
      "[96]\tvalidation_0-merror:0.11839\n",
      "[97]\tvalidation_0-merror:0.11872\n",
      "[98]\tvalidation_0-merror:0.11905\n",
      "[99]\tvalidation_0-merror:0.11905\n"
     ]
    },
    {
     "ename": "NotFittedError",
     "evalue": "need to call fit or load_model beforehand",
     "output_type": "error",
     "traceback": [
      "\u001b[0;31m---------------------------------------------------------------------------\u001b[0m",
      "\u001b[0;31mNotFittedError\u001b[0m                            Traceback (most recent call last)",
      "Input \u001b[0;32mIn [29]\u001b[0m, in \u001b[0;36m<cell line: 4>\u001b[0;34m()\u001b[0m\n\u001b[1;32m      2\u001b[0m \u001b[38;5;28mprint\u001b[39m(\u001b[38;5;124m\"\u001b[39m\u001b[38;5;124mAccuracy = \u001b[39m\u001b[38;5;132;01m{0:.4f}\u001b[39;00m\u001b[38;5;124m\"\u001b[39m\u001b[38;5;241m.\u001b[39mformat(np\u001b[38;5;241m.\u001b[39mmean(cross_val_score(xgboost, X_train_new, y_train1))))\n\u001b[1;32m      3\u001b[0m xgboost\u001b[38;5;241m.\u001b[39mfit(X_train_new, y_train1, early_stopping_rounds\u001b[38;5;241m=\u001b[39m\u001b[38;5;241m40\u001b[39m, eval_metric\u001b[38;5;241m=\u001b[39m\u001b[38;5;124m\"\u001b[39m\u001b[38;5;124mmerror\u001b[39m\u001b[38;5;124m\"\u001b[39m, eval_set\u001b[38;5;241m=\u001b[39m[(X_val_new, y_val1)])\n\u001b[0;32m----> 4\u001b[0m pred \u001b[38;5;241m=\u001b[39m \u001b[43mxgboost2\u001b[49m\u001b[38;5;241;43m.\u001b[39;49m\u001b[43mpredict\u001b[49m\u001b[43m(\u001b[49m\u001b[43mX_val_new\u001b[49m\u001b[43m)\u001b[49m\n\u001b[1;32m      6\u001b[0m accuracy \u001b[38;5;241m=\u001b[39m accuracy_score(y_val1, pred);\n\u001b[1;32m      7\u001b[0m \u001b[38;5;28mprint\u001b[39m (\u001b[38;5;124m'\u001b[39m\u001b[38;5;124maccuracy:\u001b[39m\u001b[38;5;132;01m%0.2f\u001b[39;00m\u001b[38;5;132;01m%%\u001b[39;00m\u001b[38;5;124m'\u001b[39m\u001b[38;5;241m%\u001b[39m(accuracy\u001b[38;5;241m*\u001b[39m\u001b[38;5;241m100\u001b[39m))\n",
      "File \u001b[0;32m~/opt/anaconda3/lib/python3.9/site-packages/xgboost/sklearn.py:1434\u001b[0m, in \u001b[0;36mXGBClassifier.predict\u001b[0;34m(self, X, output_margin, ntree_limit, validate_features, base_margin, iteration_range)\u001b[0m\n\u001b[1;32m   1425\u001b[0m \u001b[38;5;28;01mdef\u001b[39;00m \u001b[38;5;21mpredict\u001b[39m(\n\u001b[1;32m   1426\u001b[0m     \u001b[38;5;28mself\u001b[39m,\n\u001b[1;32m   1427\u001b[0m     X: ArrayLike,\n\u001b[0;32m   (...)\u001b[0m\n\u001b[1;32m   1432\u001b[0m     iteration_range: Optional[Tuple[\u001b[38;5;28mint\u001b[39m, \u001b[38;5;28mint\u001b[39m]] \u001b[38;5;241m=\u001b[39m \u001b[38;5;28;01mNone\u001b[39;00m,\n\u001b[1;32m   1433\u001b[0m ) \u001b[38;5;241m-\u001b[39m\u001b[38;5;241m>\u001b[39m np\u001b[38;5;241m.\u001b[39mndarray:\n\u001b[0;32m-> 1434\u001b[0m     class_probs \u001b[38;5;241m=\u001b[39m \u001b[38;5;28;43msuper\u001b[39;49m\u001b[43m(\u001b[49m\u001b[43m)\u001b[49m\u001b[38;5;241;43m.\u001b[39;49m\u001b[43mpredict\u001b[49m\u001b[43m(\u001b[49m\n\u001b[1;32m   1435\u001b[0m \u001b[43m        \u001b[49m\u001b[43mX\u001b[49m\u001b[38;5;241;43m=\u001b[39;49m\u001b[43mX\u001b[49m\u001b[43m,\u001b[49m\n\u001b[1;32m   1436\u001b[0m \u001b[43m        \u001b[49m\u001b[43moutput_margin\u001b[49m\u001b[38;5;241;43m=\u001b[39;49m\u001b[43moutput_margin\u001b[49m\u001b[43m,\u001b[49m\n\u001b[1;32m   1437\u001b[0m \u001b[43m        \u001b[49m\u001b[43mntree_limit\u001b[49m\u001b[38;5;241;43m=\u001b[39;49m\u001b[43mntree_limit\u001b[49m\u001b[43m,\u001b[49m\n\u001b[1;32m   1438\u001b[0m \u001b[43m        \u001b[49m\u001b[43mvalidate_features\u001b[49m\u001b[38;5;241;43m=\u001b[39;49m\u001b[43mvalidate_features\u001b[49m\u001b[43m,\u001b[49m\n\u001b[1;32m   1439\u001b[0m \u001b[43m        \u001b[49m\u001b[43mbase_margin\u001b[49m\u001b[38;5;241;43m=\u001b[39;49m\u001b[43mbase_margin\u001b[49m\u001b[43m,\u001b[49m\n\u001b[1;32m   1440\u001b[0m \u001b[43m        \u001b[49m\u001b[43miteration_range\u001b[49m\u001b[38;5;241;43m=\u001b[39;49m\u001b[43miteration_range\u001b[49m\u001b[43m,\u001b[49m\n\u001b[1;32m   1441\u001b[0m \u001b[43m    \u001b[49m\u001b[43m)\u001b[49m\n\u001b[1;32m   1442\u001b[0m     \u001b[38;5;28;01mif\u001b[39;00m output_margin:\n\u001b[1;32m   1443\u001b[0m         \u001b[38;5;66;03m# If output_margin is active, simply return the scores\u001b[39;00m\n\u001b[1;32m   1444\u001b[0m         \u001b[38;5;28;01mreturn\u001b[39;00m class_probs\n",
      "File \u001b[0;32m~/opt/anaconda3/lib/python3.9/site-packages/xgboost/sklearn.py:1044\u001b[0m, in \u001b[0;36mXGBModel.predict\u001b[0;34m(self, X, output_margin, ntree_limit, validate_features, base_margin, iteration_range)\u001b[0m\n\u001b[1;32m   1001\u001b[0m \u001b[38;5;28;01mdef\u001b[39;00m \u001b[38;5;21mpredict\u001b[39m(\n\u001b[1;32m   1002\u001b[0m     \u001b[38;5;28mself\u001b[39m,\n\u001b[1;32m   1003\u001b[0m     X: ArrayLike,\n\u001b[0;32m   (...)\u001b[0m\n\u001b[1;32m   1008\u001b[0m     iteration_range: Optional[Tuple[\u001b[38;5;28mint\u001b[39m, \u001b[38;5;28mint\u001b[39m]] \u001b[38;5;241m=\u001b[39m \u001b[38;5;28;01mNone\u001b[39;00m,\n\u001b[1;32m   1009\u001b[0m ) \u001b[38;5;241m-\u001b[39m\u001b[38;5;241m>\u001b[39m np\u001b[38;5;241m.\u001b[39mndarray:\n\u001b[1;32m   1010\u001b[0m     \u001b[38;5;124;03m\"\"\"Predict with `X`.  If the model is trained with early stopping, then `best_iteration`\u001b[39;00m\n\u001b[1;32m   1011\u001b[0m \u001b[38;5;124;03m    is used automatically.  For tree models, when data is on GPU, like cupy array or\u001b[39;00m\n\u001b[1;32m   1012\u001b[0m \u001b[38;5;124;03m    cuDF dataframe and `predictor` is not specified, the prediction is run on GPU\u001b[39;00m\n\u001b[0;32m   (...)\u001b[0m\n\u001b[1;32m   1041\u001b[0m \n\u001b[1;32m   1042\u001b[0m \u001b[38;5;124;03m    \"\"\"\u001b[39;00m\n\u001b[1;32m   1043\u001b[0m     iteration_range \u001b[38;5;241m=\u001b[39m _convert_ntree_limit(\n\u001b[0;32m-> 1044\u001b[0m         \u001b[38;5;28;43mself\u001b[39;49m\u001b[38;5;241;43m.\u001b[39;49m\u001b[43mget_booster\u001b[49m\u001b[43m(\u001b[49m\u001b[43m)\u001b[49m, ntree_limit, iteration_range\n\u001b[1;32m   1045\u001b[0m     )\n\u001b[1;32m   1046\u001b[0m     iteration_range \u001b[38;5;241m=\u001b[39m \u001b[38;5;28mself\u001b[39m\u001b[38;5;241m.\u001b[39m_get_iteration_range(iteration_range)\n\u001b[1;32m   1047\u001b[0m     \u001b[38;5;28;01mif\u001b[39;00m \u001b[38;5;28mself\u001b[39m\u001b[38;5;241m.\u001b[39m_can_use_inplace_predict():\n",
      "File \u001b[0;32m~/opt/anaconda3/lib/python3.9/site-packages/xgboost/sklearn.py:590\u001b[0m, in \u001b[0;36mXGBModel.get_booster\u001b[0;34m(self)\u001b[0m\n\u001b[1;32m    588\u001b[0m \u001b[38;5;28;01mif\u001b[39;00m \u001b[38;5;129;01mnot\u001b[39;00m \u001b[38;5;28mself\u001b[39m\u001b[38;5;241m.\u001b[39m__sklearn_is_fitted__():\n\u001b[1;32m    589\u001b[0m     \u001b[38;5;28;01mfrom\u001b[39;00m \u001b[38;5;21;01msklearn\u001b[39;00m\u001b[38;5;21;01m.\u001b[39;00m\u001b[38;5;21;01mexceptions\u001b[39;00m \u001b[38;5;28;01mimport\u001b[39;00m NotFittedError\n\u001b[0;32m--> 590\u001b[0m     \u001b[38;5;28;01mraise\u001b[39;00m NotFittedError(\u001b[38;5;124m'\u001b[39m\u001b[38;5;124mneed to call fit or load_model beforehand\u001b[39m\u001b[38;5;124m'\u001b[39m)\n\u001b[1;32m    591\u001b[0m \u001b[38;5;28;01mreturn\u001b[39;00m \u001b[38;5;28mself\u001b[39m\u001b[38;5;241m.\u001b[39m_Booster\n",
      "\u001b[0;31mNotFittedError\u001b[0m: need to call fit or load_model beforehand"
     ]
    }
   ],
   "source": [
    "xgboost = xgb.XGBClassifier(criterion = \"gini\", max_depth = 20, random_state=37, n_jobs=-1)\n",
    "print(\"Accuracy = {0:.4f}\".format(np.mean(cross_val_score(xgboost, X_train_new, y_train1))))\n",
    "xgboost.fit(X_train_new, y_train1, early_stopping_rounds=40, eval_metric=\"merror\", eval_set=[(X_val_new, y_val1)])\n",
    "pred = xgboost2.predict(X_val_new)\n",
    "\n",
    "accuracy = accuracy_score(y_val1, pred);\n",
    "print ('accuracy:%0.2f%%'%(accuracy*100))\n"
   ]
  },
  {
   "cell_type": "code",
   "execution_count": null,
   "metadata": {},
   "outputs": [],
   "source": [
    "print(\"Accuracy = {0:.4f}\".format(np.mean(cross_val_score(xgboost, X_val_new, y_val1))))\n"
   ]
  },
  {
   "cell_type": "markdown",
   "metadata": {},
   "source": [
    "Best model"
   ]
  },
  {
   "cell_type": "code",
   "execution_count": 18,
   "metadata": {},
   "outputs": [
    {
     "name": "stdout",
     "output_type": "stream",
     "text": [
      "Accuracy = 0.7980\n"
     ]
    }
   ],
   "source": [
    "xgboost2 = xgb.XGBClassifier (missing=np.nan, max_depth=10, n_estimators=350, random_state=37, learning_rate=0.03, nthread=4, subsample=0.95, colsample_bytree=0.85, seed=42)\n",
    "print(\"Accuracy = {0:.4f}\".format(np.mean(cross_val_score(xgboost2, X_val_new, y_val1))))"
   ]
  },
  {
   "cell_type": "markdown",
   "metadata": {},
   "source": [
    "<a id='7.3'></a>\n",
    "## <font color=green> 7.3. Extra Tree Classifier  <font>"
   ]
  },
  {
   "cell_type": "code",
   "execution_count": 19,
   "metadata": {},
   "outputs": [
    {
     "name": "stderr",
     "output_type": "stream",
     "text": [
      "/Users/stephaniegessler/opt/anaconda3/lib/python3.9/site-packages/sklearn/model_selection/_search.py:306: UserWarning:\n",
      "\n",
      "The total space of parameters 2 is smaller than n_iter=10. Running 2 iterations. For exhaustive searches, use GridSearchCV.\n",
      "\n"
     ]
    },
    {
     "name": "stdout",
     "output_type": "stream",
     "text": [
      "The best score:  0.8754\n",
      "The best parameter:  {'n_estimators': 113, 'criterion': 'gini'}\n"
     ]
    },
    {
     "data": {
      "text/html": [
       "<style>#sk-container-id-1 {color: black;background-color: white;}#sk-container-id-1 pre{padding: 0;}#sk-container-id-1 div.sk-toggleable {background-color: white;}#sk-container-id-1 label.sk-toggleable__label {cursor: pointer;display: block;width: 100%;margin-bottom: 0;padding: 0.3em;box-sizing: border-box;text-align: center;}#sk-container-id-1 label.sk-toggleable__label-arrow:before {content: \"▸\";float: left;margin-right: 0.25em;color: #696969;}#sk-container-id-1 label.sk-toggleable__label-arrow:hover:before {color: black;}#sk-container-id-1 div.sk-estimator:hover label.sk-toggleable__label-arrow:before {color: black;}#sk-container-id-1 div.sk-toggleable__content {max-height: 0;max-width: 0;overflow: hidden;text-align: left;background-color: #f0f8ff;}#sk-container-id-1 div.sk-toggleable__content pre {margin: 0.2em;color: black;border-radius: 0.25em;background-color: #f0f8ff;}#sk-container-id-1 input.sk-toggleable__control:checked~div.sk-toggleable__content {max-height: 200px;max-width: 100%;overflow: auto;}#sk-container-id-1 input.sk-toggleable__control:checked~label.sk-toggleable__label-arrow:before {content: \"▾\";}#sk-container-id-1 div.sk-estimator input.sk-toggleable__control:checked~label.sk-toggleable__label {background-color: #d4ebff;}#sk-container-id-1 div.sk-label input.sk-toggleable__control:checked~label.sk-toggleable__label {background-color: #d4ebff;}#sk-container-id-1 input.sk-hidden--visually {border: 0;clip: rect(1px 1px 1px 1px);clip: rect(1px, 1px, 1px, 1px);height: 1px;margin: -1px;overflow: hidden;padding: 0;position: absolute;width: 1px;}#sk-container-id-1 div.sk-estimator {font-family: monospace;background-color: #f0f8ff;border: 1px dotted black;border-radius: 0.25em;box-sizing: border-box;margin-bottom: 0.5em;}#sk-container-id-1 div.sk-estimator:hover {background-color: #d4ebff;}#sk-container-id-1 div.sk-parallel-item::after {content: \"\";width: 100%;border-bottom: 1px solid gray;flex-grow: 1;}#sk-container-id-1 div.sk-label:hover label.sk-toggleable__label {background-color: #d4ebff;}#sk-container-id-1 div.sk-serial::before {content: \"\";position: absolute;border-left: 1px solid gray;box-sizing: border-box;top: 0;bottom: 0;left: 50%;z-index: 0;}#sk-container-id-1 div.sk-serial {display: flex;flex-direction: column;align-items: center;background-color: white;padding-right: 0.2em;padding-left: 0.2em;position: relative;}#sk-container-id-1 div.sk-item {position: relative;z-index: 1;}#sk-container-id-1 div.sk-parallel {display: flex;align-items: stretch;justify-content: center;background-color: white;position: relative;}#sk-container-id-1 div.sk-item::before, #sk-container-id-1 div.sk-parallel-item::before {content: \"\";position: absolute;border-left: 1px solid gray;box-sizing: border-box;top: 0;bottom: 0;left: 50%;z-index: -1;}#sk-container-id-1 div.sk-parallel-item {display: flex;flex-direction: column;z-index: 1;position: relative;background-color: white;}#sk-container-id-1 div.sk-parallel-item:first-child::after {align-self: flex-end;width: 50%;}#sk-container-id-1 div.sk-parallel-item:last-child::after {align-self: flex-start;width: 50%;}#sk-container-id-1 div.sk-parallel-item:only-child::after {width: 0;}#sk-container-id-1 div.sk-dashed-wrapped {border: 1px dashed gray;margin: 0 0.4em 0.5em 0.4em;box-sizing: border-box;padding-bottom: 0.4em;background-color: white;}#sk-container-id-1 div.sk-label label {font-family: monospace;font-weight: bold;display: inline-block;line-height: 1.2em;}#sk-container-id-1 div.sk-label-container {text-align: center;}#sk-container-id-1 div.sk-container {/* jupyter's `normalize.less` sets `[hidden] { display: none; }` but bootstrap.min.css set `[hidden] { display: none !important; }` so we also need the `!important` here to be able to override the default hidden behavior on the sphinx rendered scikit-learn.org. See: https://github.com/scikit-learn/scikit-learn/issues/21755 */display: inline-block !important;position: relative;}#sk-container-id-1 div.sk-text-repr-fallback {display: none;}</style><div id=\"sk-container-id-1\" class=\"sk-top-container\"><div class=\"sk-text-repr-fallback\"><pre>ExtraTreesClassifier(n_estimators=113, random_state=0)</pre><b>In a Jupyter environment, please rerun this cell to show the HTML representation or trust the notebook. <br />On GitHub, the HTML representation is unable to render, please try loading this page with nbviewer.org.</b></div><div class=\"sk-container\" hidden><div class=\"sk-item\"><div class=\"sk-estimator sk-toggleable\"><input class=\"sk-toggleable__control sk-hidden--visually\" id=\"sk-estimator-id-1\" type=\"checkbox\" checked><label for=\"sk-estimator-id-1\" class=\"sk-toggleable__label sk-toggleable__label-arrow\">ExtraTreesClassifier</label><div class=\"sk-toggleable__content\"><pre>ExtraTreesClassifier(n_estimators=113, random_state=0)</pre></div></div></div></div></div>"
      ],
      "text/plain": [
       "ExtraTreesClassifier(n_estimators=113, random_state=0)"
      ]
     },
     "execution_count": 19,
     "metadata": {},
     "output_type": "execute_result"
    }
   ],
   "source": [
    "# Build a forest and compute the feature importances\n",
    "n_estimators = list(range(50, 250,5))\n",
    "n_estimators = [113]\n",
    "criterion=['gini','entropy']\n",
    "#min_samples_leaf = list(range(5, 25))\n",
    "#min_samples_split = list(range(5, 25))\n",
    "#max_depth = list(range(8, 50))\n",
    "max_depth = [22]\n",
    "# create a parameter grid: map the parameter names to the values that should be searched\n",
    "param_grid = dict(n_estimators=n_estimators, criterion=criterion)\n",
    "\n",
    "forest = ExtraTreesClassifier(random_state=0)\n",
    "grid_etc = RandomizedSearchCV(forest, param_grid, cv=5, scoring=\"accuracy\" ,return_train_score=False)\n",
    "grid_etc.fit(X_train_new, y_train_new)\n",
    "print(\"The best score: \",grid_etc.best_score_.round(4))\n",
    "#Parameter setting that gave the best results on the hold out data.\n",
    "print(\"The best parameter: \",grid_etc.best_params_)\n",
    "grid_etc.best_estimator_"
   ]
  },
  {
   "cell_type": "code",
   "execution_count": 20,
   "metadata": {},
   "outputs": [
    {
     "name": "stdout",
     "output_type": "stream",
     "text": [
      "The accuracy score of the ExtraTreesClassifier with the selected features:  0.89\n"
     ]
    }
   ],
   "source": [
    "#Find Feature importance\n",
    "etc_selected = ExtraTreesClassifier(n_estimators=grid_etc.best_params_['n_estimators'],\n",
    "                            criterion=grid_etc.best_params_['criterion'],random_state=0)\n",
    "etc_selected.fit(X_train_new, y_train_new)\n",
    "etc_sel_acc = etc_selected.score(X_val_new,y_val_new)\n",
    "print(\"The accuracy score of the ExtraTreesClassifier with the selected features: \",round(etc_sel_acc,2))"
   ]
  },
  {
   "cell_type": "code",
   "execution_count": 21,
   "metadata": {
    "scrolled": true
   },
   "outputs": [
    {
     "name": "stdout",
     "output_type": "stream",
     "text": [
      "Accuracy = 0.8125\n"
     ]
    }
   ],
   "source": [
    "print(\"Accuracy = {0:.4f}\".format(np.mean(cross_val_score(etc_selected, X_val_new, y_val_new))))"
   ]
  },
  {
   "cell_type": "markdown",
   "metadata": {},
   "source": [
    "<a id='7.4'></a>\n",
    "## <font color=green> 7.4. Random Forest  <font>"
   ]
  },
  {
   "cell_type": "code",
   "execution_count": null,
   "metadata": {},
   "outputs": [],
   "source": [
    "forest = RandomForestClassifier(n_estimators=20)\n",
    "model_forest = forest.fit(X_train_new,y_train_new)"
   ]
  },
  {
   "cell_type": "code",
   "execution_count": null,
   "metadata": {},
   "outputs": [],
   "source": [
    "forest.score(X_val_new,y_val_new)"
   ]
  },
  {
   "cell_type": "code",
   "execution_count": null,
   "metadata": {},
   "outputs": [],
   "source": [
    "# Make predictions for the test set\n",
    "y_pred_test_forest = forest.predict(X_val_new)"
   ]
  },
  {
   "cell_type": "code",
   "execution_count": null,
   "metadata": {},
   "outputs": [],
   "source": [
    "# Get and reshape confusion matrix data\n",
    "matrix = confusion_matrix(y_val_new, y_pred_test_forest)\n",
    "matrix = matrix.astype('float') / matrix.sum(axis=1)[:, np.newaxis]\n",
    "\n",
    "# Build the plot\n",
    "plt.figure(figsize=(16,7))\n",
    "sns.set(font_scale=1.4)\n",
    "sns.heatmap(matrix, annot=True, annot_kws={'size':10},\n",
    "            cmap=plt.cm.Greens, linewidths=0.2)\n",
    "\n",
    "# Add labels to the plot\n",
    "class_names = ['Spruce/Fir', 'Lodgepole Pine', 'Ponderosa Pine', \n",
    "               'Cottonwood/Willow', 'Aspen', 'Douglas-fir',    \n",
    "               'Krummholz']\n",
    "tick_marks = np.arange(len(class_names))\n",
    "tick_marks2 = tick_marks + 0.5\n",
    "plt.xticks(tick_marks, class_names, rotation=25)\n",
    "plt.yticks(tick_marks2, class_names, rotation=0)\n",
    "plt.xlabel('Predicted label')\n",
    "plt.ylabel('True label')\n",
    "plt.title('Confusion Matrix for Random Forest Model')\n",
    "plt.show()"
   ]
  },
  {
   "cell_type": "code",
   "execution_count": null,
   "metadata": {},
   "outputs": [],
   "source": [
    "print(classification_report(y_val_new, y_pred_test_forest))"
   ]
  },
  {
   "cell_type": "code",
   "execution_count": null,
   "metadata": {},
   "outputs": [],
   "source": [
    "forest = RandomForestClassifier(n_estimators=20, random_state=37)\n",
    "print(\"Accuracy = {0:.4f}\".format(np.mean(cross_val_score(forest, X_train_new, y_train_new))))"
   ]
  },
  {
   "cell_type": "markdown",
   "metadata": {},
   "source": [
    "<a id='7.4.1'></a>\n",
    "### <font color=green> 7.4.1 Bagging <font>"
   ]
  },
  {
   "cell_type": "code",
   "execution_count": null,
   "metadata": {},
   "outputs": [],
   "source": [
    "bag_clf = BaggingClassifier(DecisionTreeClassifier(), n_estimators=500, max_samples=100, \n",
    "                               bootstrap=True, n_jobs = 1)\n",
    "bag_clf.fit(X_train_new, y_train_new)\n",
    "y_pred = bag_clf.predict(X_val_new)\n",
    "print(\"Accuracy = {0:.4f}\".format(np.mean(cross_val_score(bag_clf, X_train_new, y_train_new))))"
   ]
  },
  {
   "cell_type": "code",
   "execution_count": null,
   "metadata": {},
   "outputs": [],
   "source": [
    "X = X_train_new\n",
    "y = y_train_new\n",
    "tree_1 = DecisionTreeClassifier(random_state=42)\n",
    "print(\"Accuracy = {0:.4f}\".format(np.mean(cross_val_score(tree_1, X, y))))"
   ]
  },
  {
   "cell_type": "markdown",
   "metadata": {},
   "source": [
    "<a id='7.5'></a>\n",
    "  ## <font color=green> 7.5. KNN  <font>\n",
    "KNN is better on smaller dataset, however we will evaluate the performance of this model "
   ]
  },
  {
   "cell_type": "markdown",
   "metadata": {},
   "source": [
    "To find out the best value for k we will use a for loop, and with the range from 1 to 200 range (1,200,10). I reduced the range to 10 but will use iterations of 1. And it gives me the best K = 1. "
   ]
  },
  {
   "cell_type": "code",
   "execution_count": 26,
   "metadata": {},
   "outputs": [],
   "source": [
    "k_neighbors_list = range (1,100,1)\n",
    "\n",
    "results_list = []\n",
    "\n",
    "for k in k_neighbors_list:\n",
    "    clf = KNeighborsClassifier(n_neighbors=k, p=1) # using manhattan_distance \n",
    "    clf.fit(X_train_new, y_train_new)\n",
    "    y_pred_test = clf.predict(X_val_new)\n",
    "    acc_k = accuracy_score(y_val_new, y_pred_test)\n",
    "    \n",
    "    results_list.append({\n",
    "        \"k\": k,\n",
    "        \"acc\": acc_k\n",
    "    })\n",
    "    \n",
    "results = pd.DataFrame(results_list)"
   ]
  },
  {
   "cell_type": "markdown",
   "metadata": {},
   "source": [
    "p = 1 (Manhatten Distance), the best k = 8 with accuracy= 0.759259\n",
    "p = 2 (Euclidean Distance), the best k = 1 with accuracy = 0.761905"
   ]
  },
  {
   "cell_type": "markdown",
   "metadata": {},
   "source": [
    "Checking the best value for K and accuracy "
   ]
  },
  {
   "cell_type": "code",
   "execution_count": 27,
   "metadata": {},
   "outputs": [
    {
     "data": {
      "text/html": [
       "<div>\n",
       "<style scoped>\n",
       "    .dataframe tbody tr th:only-of-type {\n",
       "        vertical-align: middle;\n",
       "    }\n",
       "\n",
       "    .dataframe tbody tr th {\n",
       "        vertical-align: top;\n",
       "    }\n",
       "\n",
       "    .dataframe thead th {\n",
       "        text-align: right;\n",
       "    }\n",
       "</style>\n",
       "<table border=\"1\" class=\"dataframe\">\n",
       "  <thead>\n",
       "    <tr style=\"text-align: right;\">\n",
       "      <th></th>\n",
       "      <th>k</th>\n",
       "      <th>acc</th>\n",
       "    </tr>\n",
       "  </thead>\n",
       "  <tbody>\n",
       "    <tr>\n",
       "      <th>0</th>\n",
       "      <td>1</td>\n",
       "      <td>0.658069</td>\n",
       "    </tr>\n",
       "    <tr>\n",
       "      <th>2</th>\n",
       "      <td>3</td>\n",
       "      <td>0.636574</td>\n",
       "    </tr>\n",
       "    <tr>\n",
       "      <th>3</th>\n",
       "      <td>4</td>\n",
       "      <td>0.634590</td>\n",
       "    </tr>\n",
       "    <tr>\n",
       "      <th>5</th>\n",
       "      <td>6</td>\n",
       "      <td>0.628307</td>\n",
       "    </tr>\n",
       "    <tr>\n",
       "      <th>4</th>\n",
       "      <td>5</td>\n",
       "      <td>0.627646</td>\n",
       "    </tr>\n",
       "    <tr>\n",
       "      <th>...</th>\n",
       "      <td>...</td>\n",
       "      <td>...</td>\n",
       "    </tr>\n",
       "    <tr>\n",
       "      <th>93</th>\n",
       "      <td>94</td>\n",
       "      <td>0.520833</td>\n",
       "    </tr>\n",
       "    <tr>\n",
       "      <th>96</th>\n",
       "      <td>97</td>\n",
       "      <td>0.520503</td>\n",
       "    </tr>\n",
       "    <tr>\n",
       "      <th>95</th>\n",
       "      <td>96</td>\n",
       "      <td>0.519180</td>\n",
       "    </tr>\n",
       "    <tr>\n",
       "      <th>97</th>\n",
       "      <td>98</td>\n",
       "      <td>0.517196</td>\n",
       "    </tr>\n",
       "    <tr>\n",
       "      <th>98</th>\n",
       "      <td>99</td>\n",
       "      <td>0.515212</td>\n",
       "    </tr>\n",
       "  </tbody>\n",
       "</table>\n",
       "<p>99 rows × 2 columns</p>\n",
       "</div>"
      ],
      "text/plain": [
       "     k       acc\n",
       "0    1  0.658069\n",
       "2    3  0.636574\n",
       "3    4  0.634590\n",
       "5    6  0.628307\n",
       "4    5  0.627646\n",
       "..  ..       ...\n",
       "93  94  0.520833\n",
       "96  97  0.520503\n",
       "95  96  0.519180\n",
       "97  98  0.517196\n",
       "98  99  0.515212\n",
       "\n",
       "[99 rows x 2 columns]"
      ]
     },
     "execution_count": 27,
     "metadata": {},
     "output_type": "execute_result"
    }
   ],
   "source": [
    "test = results.sort_values('acc', ascending = False) \n",
    "test"
   ]
  },
  {
   "cell_type": "code",
   "execution_count": 28,
   "metadata": {},
   "outputs": [
    {
     "data": {
      "text/plain": [
       "Text(0, 0.5, 'Testing Accuracy')"
      ]
     },
     "execution_count": 28,
     "metadata": {},
     "output_type": "execute_result"
    },
    {
     "data": {
      "image/png": "[encoded data removed]",
      "text/plain": [
       "<Figure size 576x396 with 1 Axes>"
      ]
     },
     "metadata": {},
     "output_type": "display_data"
    }
   ],
   "source": [
    "plt.plot(results['k'],results['acc'])\n",
    "plt.xlabel('Valie for k for KNN')\n",
    "plt.ylabel('Testing Accuracy')"
   ]
  },
  {
   "cell_type": "code",
   "execution_count": 25,
   "metadata": {},
   "outputs": [],
   "source": [
    "k_neighbors_list = range (1,40,1)\n",
    "\n",
    "K_scores = []\n",
    "\n",
    "for k in k_neighbors_list:\n",
    "    # Run KNeighborsClassifier with k neighbours \n",
    "    knn = KNeighborsClassifier(n_neighbors=k, p=1) # using manhattan_distance \n",
    "    # Obtain Cross_val_score for KneighborsClassifier with k neighbors \n",
    "    scores = cross_val_score(knn,X_train_new, y_train_new, cv= 5, scoring= \"accuracy\")\n",
    "    # Append mean of scores for K neighbors to k_scores list \n",
    "    K_scores.append({\n",
    "        \"k\": k,\n",
    "        \"acc\": scores.mean\n",
    "    })\n",
    "    \n",
    "results = pd.DataFrame(K_scores)"
   ]
  },
  {
   "cell_type": "code",
   "execution_count": null,
   "metadata": {},
   "outputs": [],
   "source": [
    "#test = results.sort_values(K_scores, ascending = False) \n",
    "#test"
   ]
  },
  {
   "cell_type": "markdown",
   "metadata": {},
   "source": [
    "Using Grridsearch and cross validation we will adapt the model. <br>\n",
    "We first create a KNN classifier instance and then prepare a range of values of hyperparameter K from 1 to 31 that will be used by GridSearchCV to find the best value of K.\n",
    "\n",
    "Furthermore, we set our cross-validation batch sizes cv = 5 and set scoring metrics as accuracy as our preference."
   ]
  },
  {
   "cell_type": "code",
   "execution_count": null,
   "metadata": {},
   "outputs": [],
   "source": [
    "cross_valid_scores = {}\n",
    "parameters = {\n",
    "    \"n_neighbors\": list(range(1,20,1)),\n",
    "    \"leaf_size\":list(range(1,100,20)),\n",
    "    \"metric\":[\"euclidean\",\"manhattan\"]    \n",
    "}\n",
    "\n",
    "model_KNN = KNeighborsClassifier()\n",
    "\n",
    "model_KNN = GridSearchCV(\n",
    "    model_KNN,\n",
    "    parameters,\n",
    "    cv=5,\n",
    "    scoring = \"accuracy\"\n",
    "\n",
    ")\n",
    "KNN_results = model_KNN.fit(X_train_new, y_train_new)"
   ]
  },
  {
   "cell_type": "code",
   "execution_count": null,
   "metadata": {},
   "outputs": [],
   "source": [
    "KNN_results.best_score_\n",
    "KNN_results.best_estimator_\n",
    "KNN_results.best_params_"
   ]
  },
  {
   "cell_type": "code",
   "execution_count": null,
   "metadata": {},
   "outputs": [],
   "source": [
    "accuracy = KNN_results.best_score_ *100\n",
    "print(\"Accuracy for our training dataset with tuning is : {:.2f}%\".format(accuracy) )"
   ]
  },
  {
   "cell_type": "code",
   "execution_count": null,
   "metadata": {},
   "outputs": [],
   "source": [
    "print(\"Accuracy = {0:.4f}\".format(np.mean(cross_val_score(model_KNN, X_train_new, y_train_new))))"
   ]
  },
  {
   "cell_type": "code",
   "execution_count": null,
   "metadata": {},
   "outputs": [],
   "source": [
    "print(\"Accuracy = {0:.4f}\".format(np.mean(cross_val_score(model_KNN, X_val_new, y_val_new))))"
   ]
  },
  {
   "cell_type": "markdown",
   "metadata": {},
   "source": [
    "Using the best model to calculate the mean cross validation score to compare the model later with each other"
   ]
  },
  {
   "cell_type": "code",
   "execution_count": null,
   "metadata": {},
   "outputs": [],
   "source": [
    "knn = KNeighborsClassifier(n_neighbors=1,leaf_size=1,metric='euclidean')\n",
    "\n",
    "scores = cross_val_score(knn, X_train_new, y_train_new, cv = 10, scoring = \"accuracy\")"
   ]
  },
  {
   "cell_type": "code",
   "execution_count": null,
   "metadata": {},
   "outputs": [],
   "source": [
    "print(\"Accuracy = {0:.4f}\\n\".format(accuracy_score(model_KNN.predict(X_val_new), y_val_new)))\n",
    "print(\"Classification Report\")\n",
    "print(classification_report(model_KNN.predict(X_val_new), y_val_new))"
   ]
  },
  {
   "cell_type": "code",
   "execution_count": null,
   "metadata": {},
   "outputs": [],
   "source": [
    "plot_confusion_matrix(model_KNN,X_val_new, y_val_new,cmap=plt.cm.Blues,values_format='d' )"
   ]
  },
  {
   "cell_type": "code",
   "execution_count": null,
   "metadata": {},
   "outputs": [],
   "source": [
    "classifiers_compare = classifiers_compare.append({'Algorithm': \"KNN\", 'Mean CV Score':(scores.mean())},ignore_index=True)"
   ]
  },
  {
   "cell_type": "markdown",
   "metadata": {},
   "source": [
    "kNN is simple to use and can return very accurate and meaningful results. It also has a tendency to be computationally expensive, so it may not be your best choice for larger datasets. "
   ]
  },
  {
   "cell_type": "markdown",
   "metadata": {},
   "source": [
    "<a id='7.6'></a>\n",
    "## <font color=green> 7.6. SVM  <font>\n",
    "The multiclass problem is broken down to multiple binary classification cases, which is also called one-vs-one. In scikit-learn one-vs-one is not default and needs to be selected explicitly (as can be seen further down in the code). One-vs-rest is set as default. It basically divides the data points in class x and rest. Consecutively a certain class is distinguished from all other classes.  The penalty term C is set to 1 for all classifiers. For the multiclass classification, the type one-versus-one is specified, as can be seen in decision_function_shape=’ovo’"
   ]
  },
  {
   "cell_type": "code",
   "execution_count": null,
   "metadata": {},
   "outputs": [],
   "source": [
    "ovr_clf = OneVsRestClassifier(svm.SVC(C=10,kernel='rbf'))\n",
    "ovr_clf.fit(X_train_new, y_train_new)\n",
    "print(\"SVM Accuracy = {:.4f}\".format(np.mean(cross_val_score(ovr_clf, X_train_new, y_train_new))))"
   ]
  },
  {
   "cell_type": "markdown",
   "metadata": {},
   "source": [
    "The Model output is not very good, lets fine tune the SVM parameters to further improve the model performance. \n",
    "_C_ is the balance between margin violations (low C) or better generalization of the models. _Gamma_ acts like a regularization hyperparamter. If the model is overfitting it is advisable to redeuce it.If it is underfitting you should increase it. The best Kernel to use if the dataset is large is _Gaussoan RBF kernel_. Since we already used Polynominal in our dataset we will disregard this option. "
   ]
  },
  {
   "cell_type": "code",
   "execution_count": null,
   "metadata": {},
   "outputs": [],
   "source": [
    "model_to_set = OneVsRestClassifier(SVC(kernel=\"rbf\"))\n",
    "\n",
    "parameters = {\n",
    "    \"estimator__C\": [1,10,100],\n",
    "    \"estimator__gamma\":[0.01,0.0001,0.00001],\n",
    "}\n",
    "\n",
    "estimator = GridSearchCV(model_to_set, param_grid=parameters, cv=5, n_jobs=-1)\n",
    "\n",
    "estimator.fit(X_train_new, y_train_new)\n",
    "\n",
    "print(estimator.best_score_)\n",
    "print (estimator.best_params_)"
   ]
  },
  {
   "cell_type": "code",
   "execution_count": null,
   "metadata": {},
   "outputs": [],
   "source": [
    "print(\"The best parameters are %s with a score of %0.2f\"\n",
    "      % (estimator.best_params_, estimator.best_score_))\n",
    "\n",
    "\n",
    "scores = estimator.cv_results_['mean_test_score'].reshape(len(parameters['estimator__C']), len(parameters['estimator__gamma']))\n",
    "\n",
    "# Draw heatmap of the validation accuracy as a function of gamma and C\n",
    "\n",
    "plt.figure(figsize=(5, 5))\n",
    "plt.subplots_adjust(left=.2, right=0.95, bottom=0.15, top=0.95)\n",
    "plt.imshow(scores, interpolation='nearest', cmap=plt.cm.Blues)\n",
    "plt.xlabel('gamma')\n",
    "plt.ylabel('C')\n",
    "plt.colorbar()\n",
    "plt.xticks(np.arange(len(parameters['estimator__gamma'])), parameters['estimator__gamma'], rotation=45)\n",
    "plt.yticks(np.arange(len(parameters['estimator__C'])), parameters['estimator__C'])\n",
    "plt.title('Validation accuracy')\n",
    "plt.show()"
   ]
  },
  {
   "cell_type": "code",
   "execution_count": null,
   "metadata": {},
   "outputs": [],
   "source": [
    "final_model = estimator.best_estimator_\n",
    "Y_pred = final_model.predict(X_val_new)\n",
    "print(\"Training set score for SVM: %f\" % final_model.score(X_train_new , y_train_new))\n",
    "print(\"Testing  set score for SVM: %f\" % final_model.score(X_val_new  , y_val_new ))"
   ]
  },
  {
   "cell_type": "code",
   "execution_count": null,
   "metadata": {},
   "outputs": [],
   "source": [
    "scores = cross_val_score(final_model, X_train_new, y_train_new, cv = 10, scoring = \"accuracy\")"
   ]
  },
  {
   "cell_type": "code",
   "execution_count": null,
   "metadata": {},
   "outputs": [],
   "source": [
    "print(classification_report(final_model.predict(X_val_new), y_val_new))"
   ]
  },
  {
   "cell_type": "code",
   "execution_count": null,
   "metadata": {},
   "outputs": [],
   "source": [
    "plot_confusion_matrix(final_model,X_val_new, y_val_new,cmap=plt.cm.Blues,values_format='d' )"
   ]
  },
  {
   "cell_type": "code",
   "execution_count": null,
   "metadata": {},
   "outputs": [],
   "source": [
    "classifiers_compare = classifiers_compare.append({'Algorithm': \"SVM\", 'Mean CV Score':(scores.mean())},ignore_index=True)"
   ]
  },
  {
   "cell_type": "markdown",
   "metadata": {},
   "source": [
    "<a id='7.2'></a>\n",
    "## <font color=green> 7.7. Naive Bayes  <font>"
   ]
  },
  {
   "cell_type": "markdown",
   "metadata": {},
   "source": [
    "Since we have a classification problem with multiple discrete values we use the multinominal Naive Bayes method"
   ]
  },
  {
   "cell_type": "code",
   "execution_count": null,
   "metadata": {},
   "outputs": [],
   "source": [
    "#Import Gaussian Naive Bayes model\n",
    "\n",
    "#Import scikit-learn metrics module for accuracy calculation\n",
    "\n",
    "#Create a Gaussian Classifier\n",
    "mnb = BernoulliNB()\n",
    "\n",
    "# Train the model using the training sets\n",
    "mnb.fit(X_train_new,y_train_new)\n",
    "\n",
    "#Predict Output\n",
    "y_pred= mnb.predict(X_val_new)\n",
    "scores = cross_val_score(mnb,X_train_new,y_train_new,cv = 5, scoring = \"accuracy\")\n",
    "# Model Accuracy, how often is the classifier correct?\n",
    "print(\"Mean Accuracy:\",scores.mean())\n",
    "print(\"Accuracy:\",metrics.accuracy_score(y_val_new, y_pred))\n",
    "\n",
    "classifiers_compare = classifiers_compare.append({'Algorithm': \"Naive Bayes\", 'Mean CV Score':(scores.mean())},ignore_index=True)"
   ]
  },
  {
   "cell_type": "markdown",
   "metadata": {},
   "source": [
    "<a id='7.8'></a>\n",
    "## <font color=green> 7.8. Logistic Regression <font>"
   ]
  },
  {
   "cell_type": "code",
   "execution_count": null,
   "metadata": {},
   "outputs": [],
   "source": [
    "df_logist.shape"
   ]
  },
  {
   "cell_type": "code",
   "execution_count": null,
   "metadata": {},
   "outputs": [],
   "source": [
    "y_train_new.shape"
   ]
  },
  {
   "cell_type": "code",
   "execution_count": null,
   "metadata": {},
   "outputs": [],
   "source": [
    "y_train_log = y_train_log.values.ravel()\n",
    "y_val_log = y_val_log.values.ravel()"
   ]
  },
  {
   "cell_type": "code",
   "execution_count": null,
   "metadata": {},
   "outputs": [],
   "source": [
    "#Run Logistic Regression with only the New PCA reduced dataset provided & L1 Regularization\n",
    "C_range=[0.001,0.01,0.02,0.04]\n",
    "scores_logreg=[]\n",
    "for c in C_range:\n",
    "    #Saga is good for larger Datasets \n",
    "    logreg = LogisticRegression(C=c, penalty ='l1', solver='saga', multi_class='multinomial',max_iter=5000)\n",
    "    logreg.fit(X_train_log, y_train_log)\n",
    "    y_pred = logreg.predict(X_val_log)\n",
    "    scores_logreg.append(metrics.accuracy_score(y_val_log,y_pred))\n",
    "\n",
    "    \n",
    "#Plot Logistic Regression with only the data provided\n",
    "plt.plot(C_range,scores_logreg)\n",
    "plt.xlabel(\"Values of Regularization Parameter\")\n",
    "plt.ylabel(\"Testing accuracy with Feature Engineering\")\n",
    "max(scores_logreg)"
   ]
  },
  {
   "cell_type": "markdown",
   "metadata": {},
   "source": [
    "<a id='7.9'></a>\n",
    "## <font color=green> 7.9. Ensemble methods<font>\n",
    "\n",
    "__Voting Classifier__   \n",
    "\n",
    "A very simple way to create an even better classifier is to aggregate the best predictions of each classifier and predict the class that gets the most votes. Normally this method is a better predictor than the single models.  "
   ]
  },
  {
   "cell_type": "code",
   "execution_count": null,
   "metadata": {},
   "outputs": [],
   "source": [
    "eclf = VotingClassifier(estimators=[\n",
    "    ('etc', etc_selected), ('knn',KNN_results),('xgboost',xgboost2)],voting='hard')\n",
    "eclf.fit(X_train_new, y_train1)\n",
    "y_val_pred = eclf.predict(X_val_new)\n",
    "print(\"Accuracy achieved by ensembling\",metrics.accuracy_score(y_val1,y_val_pred))"
   ]
  },
  {
   "cell_type": "code",
   "execution_count": null,
   "metadata": {},
   "outputs": [],
   "source": [
    "classifiers_compare"
   ]
  },
  {
   "cell_type": "markdown",
   "metadata": {},
   "source": [
    "<a id='9'></a>\n",
    "#  <font color=darkgreen>9.Final Submission </font>"
   ]
  },
  {
   "cell_type": "markdown",
   "metadata": {},
   "source": [
    "pred=forest.predict(data_test.drop(labels=['Id','Wilderness','Soil'], axis=1))\n",
    " \n",
    " \n",
    " \n",
    "submission=pd.DataFrame(data=pred,columns=['Cover_Type'])\n",
    "submission\n",
    " \n",
    " \n",
    " \n",
    "submission['Id']=data_test['Id']\n",
    "submission"
   ]
  },
  {
   "cell_type": "code",
   "execution_count": null,
   "metadata": {},
   "outputs": [],
   "source": []
  }
 ],
 "metadata": {
  "kernelspec": {
   "display_name": "Python 3 (ipykernel)",
   "language": "python",
   "name": "python3"
  },
  "language_info": {
   "codemirror_mode": {
    "name": "ipython",
    "version": 3
   },
   "file_extension": ".py",
   "mimetype": "text/x-python",
   "name": "python",
   "nbconvert_exporter": "python",
   "pygments_lexer": "ipython3",
   "version": "3.9.12"
  }
 },
 "nbformat": 4,
 "nbformat_minor": 2
}
