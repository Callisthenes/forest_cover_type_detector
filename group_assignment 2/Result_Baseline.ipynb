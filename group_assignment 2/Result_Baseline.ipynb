{
 "cells": [
  {
   "cell_type": "markdown",
   "id": "8170a39e",
   "metadata": {},
   "source": [
    "<table>\n",
    "  <tr>\n",
    "    <th><b>Algorithms</b></th>\n",
    "    <th><b>Accuracy</b></th>\n",
    "    <th><b>Precision</b></th>\n",
    "    <th><b>Recall</b></th>\n",
    "    <th><b>F1</b></th>\n",
    "  </tr>\n",
    "  <tr>\n",
    "<td>Random Forest  </td>\n",
    "    <td> <b>0.84<b></td>\n",
    "      <td> 0.84</td>\n",
    "      <td> 0.85</td>\n",
    "      <td> 0.84</td>\n",
    "  </tr>\n",
    "  <tr>\n",
    "    <td>Gadient Boosting  </td>\n",
    "    <td><b><i>XX</i></b> \n",
    "    <td> XX</td>\n",
    "    <td> XX</td>\n",
    "    <td> XX</td>\n",
    "  </tr>\n",
    "  <tr>\n",
    "    <td>Decision Trees</td>\n",
    "    <td><b>0.79</b></td>\n",
    "    <td> 0.79</td>\n",
    "    <td> 0.79</td>\n",
    "    <td> 0.79</td>\n",
    "  </tr>\n",
    "  <tr>\n",
    "    <td>K- Nearest Neighbors(KNN)</td>\n",
    "    <td><b>0.77</b> </td>\n",
    "    <td> 0.78</td>\n",
    "    <td> 0.77</td>\n",
    "    <td> 0.77</td>\n",
    "  </tr>\n",
    "  <tr>\n",
    "    <td>Logistic Regression</td>\n",
    "    <td><b>0.71</b> </td>\n",
    "    <td> 0.70</td>\n",
    "    <td> 0.71</td>\n",
    "    <td> 0.70</td>\n",
    "  </tr>\n",
    "  <tr>\n",
    "    <td>SVMS</td>\n",
    "    <td><b><i>XX</i></b></td>\n",
    "    <td> XX</td>\n",
    "    <td> XX</td>\n",
    "    <td> XX</td>\n",
    "  <tr>\n",
    "    <td>Naive Bayes</td>\n",
    "    <td><b>0.48</b> </td>\n",
    "    <td> 0.52</td>\n",
    "    <td> 0.48</td>\n",
    "    <td> 0.40</td>\n",
    "  </tr>     \n",
    "  </tr>\n",
    "</table>"
   ]
  },
  {
   "cell_type": "code",
   "execution_count": null,
   "id": "d1e69e76",
   "metadata": {},
   "outputs": [],
   "source": []
  }
 ],
 "metadata": {
  "kernelspec": {
   "display_name": "Python 3 (ipykernel)",
   "language": "python",
   "name": "python3"
  },
  "language_info": {
   "codemirror_mode": {
    "name": "ipython",
    "version": 3
   },
   "file_extension": ".py",
   "mimetype": "text/x-python",
   "name": "python",
   "nbconvert_exporter": "python",
   "pygments_lexer": "ipython3",
   "version": "3.9.12"
  }
 },
 "nbformat": 4,
 "nbformat_minor": 5
}
